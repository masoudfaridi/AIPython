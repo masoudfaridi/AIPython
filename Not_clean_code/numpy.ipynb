{
 "cells": [
  {
   "cell_type": "code",
   "execution_count": null,
   "id": "b8ebe84e",
   "metadata": {},
   "outputs": [],
   "source": [
    "import numpy as np\n",
    "import pandas as pd\n",
    "import functools as ft\n",
    "import collections as cl\n",
    "import itertools as it\n",
    "import plotnine as pltn\n",
    "import siuba\n",
    "from siuba import _"
   ]
  },
  {
   "cell_type": "code",
   "execution_count": 18,
   "id": "817b37db",
   "metadata": {},
   "outputs": [],
   "source": [
    "import plotnine"
   ]
  },
  {
   "cell_type": "code",
   "execution_count": 8,
   "id": "cdd2cd15",
   "metadata": {},
   "outputs": [],
   "source": [
    "ar1=np.array(range(1,4))\n",
    "ar2=np.array((1,2,3))"
   ]
  },
  {
   "cell_type": "code",
   "execution_count": 9,
   "id": "31987cd3",
   "metadata": {},
   "outputs": [
    {
     "data": {
      "text/plain": [
       "array([2, 4, 6])"
      ]
     },
     "execution_count": 9,
     "metadata": {},
     "output_type": "execute_result"
    }
   ],
   "source": [
    "ar1+ar2"
   ]
  },
  {
   "cell_type": "code",
   "execution_count": 14,
   "id": "b87ad059",
   "metadata": {},
   "outputs": [],
   "source": [
    "cl=it.cycle([True,True,False])"
   ]
  },
  {
   "cell_type": "code",
   "execution_count": 17,
   "id": "1df3f948",
   "metadata": {},
   "outputs": [
    {
     "name": "stdout",
     "output_type": "stream",
     "text": [
      "True\n",
      "True\n",
      "False\n",
      "True\n",
      "True\n",
      "False\n",
      "True\n",
      "True\n",
      "False\n",
      "True\n"
     ]
    }
   ],
   "source": [
    "for i in range(10):\n",
    "    print(next(cl))"
   ]
  },
  {
   "cell_type": "code",
   "execution_count": null,
   "id": "6ddba10f",
   "metadata": {},
   "outputs": [],
   "source": []
  }
 ],
 "metadata": {
  "kernelspec": {
   "display_name": "Python 3 (ipykernel)",
   "language": "python",
   "name": "python3"
  },
  "language_info": {
   "codemirror_mode": {
    "name": "ipython",
    "version": 3
   },
   "file_extension": ".py",
   "mimetype": "text/x-python",
   "name": "python",
   "nbconvert_exporter": "python",
   "pygments_lexer": "ipython3",
   "version": "3.11.5"
  }
 },
 "nbformat": 4,
 "nbformat_minor": 5
}
