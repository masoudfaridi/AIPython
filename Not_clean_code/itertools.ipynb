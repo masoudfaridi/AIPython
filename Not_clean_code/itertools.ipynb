{
 "cells": [
  {
   "cell_type": "code",
   "execution_count": 17,
   "id": "b2dd4906",
   "metadata": {},
   "outputs": [],
   "source": [
    "def f_gen():\n",
    "    yield 1\n",
    "    yield 2\n",
    "    yield 3  "
   ]
  },
  {
   "cell_type": "code",
   "execution_count": null,
   "id": "c5dbebdb",
   "metadata": {},
   "outputs": [],
   "source": [
    "for i in f_gen():\n",
    "    print(i)"
   ]
  },
  {
   "cell_type": "code",
   "execution_count": 19,
   "id": "2ea0bfb9",
   "metadata": {},
   "outputs": [
    {
     "data": {
      "text/plain": [
       "[1, 2, 3]"
      ]
     },
     "execution_count": 19,
     "metadata": {},
     "output_type": "execute_result"
    }
   ],
   "source": [
    "list(f_gen())"
   ]
  },
  {
   "cell_type": "code",
   "execution_count": 20,
   "id": "1fabc188",
   "metadata": {},
   "outputs": [],
   "source": [
    "f_g=f_gen()"
   ]
  },
  {
   "cell_type": "code",
   "execution_count": 21,
   "id": "3ce6f7a2",
   "metadata": {},
   "outputs": [
    {
     "data": {
      "text/plain": [
       "1"
      ]
     },
     "execution_count": 21,
     "metadata": {},
     "output_type": "execute_result"
    }
   ],
   "source": [
    "next(f_g)"
   ]
  },
  {
   "cell_type": "code",
   "execution_count": 22,
   "id": "3e9f5e4b",
   "metadata": {},
   "outputs": [
    {
     "data": {
      "text/plain": [
       "2"
      ]
     },
     "execution_count": 22,
     "metadata": {},
     "output_type": "execute_result"
    }
   ],
   "source": [
    "next(f_g)"
   ]
  },
  {
   "cell_type": "code",
   "execution_count": 23,
   "id": "45ab7946",
   "metadata": {},
   "outputs": [
    {
     "data": {
      "text/plain": [
       "3"
      ]
     },
     "execution_count": 23,
     "metadata": {},
     "output_type": "execute_result"
    }
   ],
   "source": [
    "next(f_g)"
   ]
  },
  {
   "cell_type": "code",
   "execution_count": 24,
   "id": "0519ae03",
   "metadata": {},
   "outputs": [
    {
     "ename": "StopIteration",
     "evalue": "",
     "output_type": "error",
     "traceback": [
      "\u001b[1;31m---------------------------------------------------------------------------\u001b[0m",
      "\u001b[1;31mStopIteration\u001b[0m                             Traceback (most recent call last)",
      "Cell \u001b[1;32mIn[24], line 1\u001b[0m\n\u001b[1;32m----> 1\u001b[0m \u001b[38;5;28mnext\u001b[39m(f_g)\n",
      "\u001b[1;31mStopIteration\u001b[0m: "
     ]
    }
   ],
   "source": [
    "next(f_g)"
   ]
  },
  {
   "cell_type": "code",
   "execution_count": 94,
   "id": "842fcf24",
   "metadata": {},
   "outputs": [
    {
     "data": {
      "text/plain": [
       "[]"
      ]
     },
     "execution_count": 94,
     "metadata": {},
     "output_type": "execute_result"
    }
   ],
   "source": [
    "list(f_g)"
   ]
  },
  {
   "cell_type": "code",
   "execution_count": 25,
   "id": "834946f7",
   "metadata": {},
   "outputs": [
    {
     "data": {
      "text/plain": [
       "<generator object <genexpr> at 0x000001BEE39A35E0>"
      ]
     },
     "execution_count": 25,
     "metadata": {},
     "output_type": "execute_result"
    }
   ],
   "source": [
    "f_g=f_gen()\n",
    "tuple_g=(i for i in f_g)\n",
    "tuple_g"
   ]
  },
  {
   "cell_type": "code",
   "execution_count": 26,
   "id": "5052e46e",
   "metadata": {},
   "outputs": [
    {
     "name": "stdout",
     "output_type": "stream",
     "text": [
      "1\n",
      "2\n",
      "3\n"
     ]
    }
   ],
   "source": [
    "for i in tuple_g:\n",
    "    print(i)"
   ]
  },
  {
   "cell_type": "code",
   "execution_count": 28,
   "id": "539c3873",
   "metadata": {},
   "outputs": [
    {
     "data": {
      "text/plain": [
       "[1, 2, 3]"
      ]
     },
     "execution_count": 28,
     "metadata": {},
     "output_type": "execute_result"
    }
   ],
   "source": [
    "f_g=f_gen()\n",
    "list_g=[i for i in f_g]\n",
    "list_g"
   ]
  },
  {
   "cell_type": "code",
   "execution_count": 29,
   "id": "d1bab94c",
   "metadata": {},
   "outputs": [],
   "source": [
    "#https://docs.python.org/3/library/itertools.html#itertools.count\n",
    "#itertools.count(start=0, step=1)\n",
    "def count(start=0, step=1):\n",
    "    # count(10) → 10 11 12 13 14 ...\n",
    "    # count(2.5, 0.5) → 2.5 3.0 3.5 ...\n",
    "    n = start\n",
    "    while True:\n",
    "        yield n\n",
    "        n += step"
   ]
  },
  {
   "cell_type": "code",
   "execution_count": 31,
   "id": "e4b0738d",
   "metadata": {},
   "outputs": [
    {
     "name": "stdout",
     "output_type": "stream",
     "text": [
      "1\n",
      "2\n",
      "3\n",
      "4\n",
      "5\n"
     ]
    }
   ],
   "source": [
    "cnt=count(1)\n",
    "for i in range(1,6):\n",
    "    print(next(cnt))"
   ]
  },
  {
   "cell_type": "code",
   "execution_count": 36,
   "id": "b489c611",
   "metadata": {},
   "outputs": [
    {
     "name": "stdout",
     "output_type": "stream",
     "text": [
      "1\n",
      "3\n",
      "5\n",
      "7\n"
     ]
    }
   ],
   "source": [
    "cnt=count(1,2)\n",
    "for i in range(1,5):\n",
    "    print(next(cnt))"
   ]
  },
  {
   "cell_type": "code",
   "execution_count": 75,
   "id": "e749de4c",
   "metadata": {},
   "outputs": [],
   "source": [
    "def count2(start=0, step=1):\n",
    "    # count(10) → 10 11 12 13 14 ...\n",
    "    # count(2.5, 0.5) → 2.5 3.0 3.5 ...\n",
    "    n = start\n",
    "    while True:\n",
    "        yield n\n",
    "        print(\"n += step\")\n",
    "        n += step"
   ]
  },
  {
   "cell_type": "code",
   "execution_count": 79,
   "id": "580c6d0e",
   "metadata": {},
   "outputs": [
    {
     "name": "stdout",
     "output_type": "stream",
     "text": [
      "i= 1\n",
      "next(cnt): 1\n",
      "#############\n",
      "i= 2\n",
      "n += step\n",
      "next(cnt): 3\n",
      "#############\n",
      "i= 3\n",
      "n += step\n",
      "next(cnt): 5\n",
      "#############\n",
      "i= 4\n",
      "n += step\n",
      "next(cnt): 7\n",
      "#############\n"
     ]
    }
   ],
   "source": [
    "cnt=count2(1,2)\n",
    "for i in range(1,5):\n",
    "    print(\"i=\",i)\n",
    "    print(\"next(cnt):\",next(cnt))\n",
    "    print(\"#############\")"
   ]
  },
  {
   "cell_type": "code",
   "execution_count": 72,
   "id": "4b32f937",
   "metadata": {},
   "outputs": [],
   "source": [
    "#https://docs.python.org/3/library/itertools.html\n",
    "#itertools.cycle(iterable)\n",
    "def cycle(iterable):\n",
    "    # cycle('ABCD') → A B C D A B C D A B C D ...\n",
    "    saved = []\n",
    "    for element in iterable:\n",
    "        yield element\n",
    "        saved.append(element)\n",
    "    while saved:\n",
    "        for element in saved:\n",
    "              yield element\n",
    "##############################################\n",
    "def cycle2(iterable):\n",
    "    # cycle('ABCD') → A B C D A B C D A B C D ...\n",
    "    while iterable:\n",
    "        print(\"while:\")\n",
    "        for element in iterable:\n",
    "            yield element"
   ]
  },
  {
   "cell_type": "code",
   "execution_count": 73,
   "id": "f015aa7a",
   "metadata": {},
   "outputs": [],
   "source": [
    "c2=cycle2(['a','b','c'])"
   ]
  },
  {
   "cell_type": "code",
   "execution_count": 74,
   "id": "ec84de9e",
   "metadata": {},
   "outputs": [
    {
     "name": "stdout",
     "output_type": "stream",
     "text": [
      "while:\n",
      "a\n",
      "b\n",
      "c\n",
      "while:\n",
      "a\n",
      "b\n",
      "c\n",
      "while:\n",
      "a\n",
      "b\n",
      "c\n"
     ]
    }
   ],
   "source": [
    "for i in range(1,10):\n",
    "    print(next(c2))"
   ]
  },
  {
   "cell_type": "code",
   "execution_count": 80,
   "id": "c0fb0939",
   "metadata": {},
   "outputs": [],
   "source": [
    "#https://docs.python.org/3/library/itertools.html\n",
    "def dropwhile(predicate, iterable):\n",
    "    # dropwhile(lambda x: x<5, [1,4,6,4,1]) → 6 4 1\n",
    "    iterable = iter(iterable)\n",
    "    for x in iterable:\n",
    "        if not predicate(x):\n",
    "            yield x\n",
    "            break\n",
    "    for x in iterable:\n",
    "        yield x"
   ]
  },
  {
   "cell_type": "code",
   "execution_count": 82,
   "id": "0739d7c7",
   "metadata": {},
   "outputs": [
    {
     "data": {
      "text/plain": [
       "[6, 4, 1]"
      ]
     },
     "execution_count": 82,
     "metadata": {},
     "output_type": "execute_result"
    }
   ],
   "source": [
    "list(dropwhile(lambda x: x<5, [1,4,6,4,1]))"
   ]
  },
  {
   "cell_type": "code",
   "execution_count": 92,
   "id": "6a1d30be",
   "metadata": {},
   "outputs": [
    {
     "name": "stdout",
     "output_type": "stream",
     "text": [
      "10\n",
      "11\n",
      "12\n",
      "13\n"
     ]
    }
   ],
   "source": [
    "dp=dropwhile(lambda x: x<10, [1,4,6,4,1,10,11,12,13])\n",
    "for i in range(1,5):\n",
    "    print(next(dp))"
   ]
  },
  {
   "cell_type": "code",
   "execution_count": 304,
   "id": "4c5fe2b2",
   "metadata": {},
   "outputs": [
    {
     "name": "stdout",
     "output_type": "stream",
     "text": [
      "4\n",
      "6\n",
      "4\n",
      "1\n"
     ]
    }
   ],
   "source": [
    "dp=dropwhile(lambda x: x%2, [1,4,6,4,1,10,11,12,13])\n",
    "for i in range(1,5):\n",
    "    print(next(dp))"
   ]
  },
  {
   "cell_type": "code",
   "execution_count": 97,
   "id": "d98fa1a5",
   "metadata": {},
   "outputs": [],
   "source": [
    "#https://docs.python.org/3/library/itertools.html\n",
    "#itertools.filterfalse(predicate, iterable)\n",
    "def filterfalse(predicate, iterable):\n",
    "    #filterfalse(lambda x: x%2, range(10)) \n",
    "    if predicate is None:\n",
    "        predicate = bool\n",
    "    for x in iterable:\n",
    "        if not predicate(x):\n",
    "            yield x"
   ]
  },
  {
   "cell_type": "code",
   "execution_count": 100,
   "id": "edf36178",
   "metadata": {},
   "outputs": [
    {
     "data": {
      "text/plain": [
       "[0, 2, 4, 6, 8]"
      ]
     },
     "execution_count": 100,
     "metadata": {},
     "output_type": "execute_result"
    }
   ],
   "source": [
    "list(filterfalse(lambda x: x%2, range(10)) )"
   ]
  },
  {
   "cell_type": "code",
   "execution_count": null,
   "id": "5045282a",
   "metadata": {},
   "outputs": [],
   "source": [
    "list(filter(lambda x: x%2, range(10)) )"
   ]
  },
  {
   "cell_type": "code",
   "execution_count": 305,
   "id": "27ba36e6",
   "metadata": {},
   "outputs": [
    {
     "data": {
      "text/plain": [
       "[4, 6, 14]"
      ]
     },
     "execution_count": 305,
     "metadata": {},
     "output_type": "execute_result"
    }
   ],
   "source": [
    "list(filterfalse(lambda x: x%2, [1,4,6,14,11]) )"
   ]
  },
  {
   "cell_type": "code",
   "execution_count": 307,
   "id": "0c9d7ac9",
   "metadata": {},
   "outputs": [
    {
     "data": {
      "text/plain": [
       "[1, 11]"
      ]
     },
     "execution_count": 307,
     "metadata": {},
     "output_type": "execute_result"
    }
   ],
   "source": [
    "list(filter(lambda x: x%2, [1,4,6,14,11]) )"
   ]
  },
  {
   "cell_type": "code",
   "execution_count": 101,
   "id": "357b7bfe",
   "metadata": {},
   "outputs": [
    {
     "data": {
      "text/plain": [
       "[1, 3, 5, 7, 9]"
      ]
     },
     "execution_count": 101,
     "metadata": {},
     "output_type": "execute_result"
    }
   ],
   "source": []
  },
  {
   "cell_type": "code",
   "execution_count": null,
   "id": "3470e850",
   "metadata": {},
   "outputs": [],
   "source": []
  },
  {
   "cell_type": "code",
   "execution_count": 124,
   "id": "a9e4a908",
   "metadata": {},
   "outputs": [
    {
     "name": "stdout",
     "output_type": "stream",
     "text": [
      "k: a   ----  g: ['a', 'a']   ---  len(g):\n",
      "k: b   ----  g: ['b', 'b']   ---  len(g):\n",
      "k: c   ----  g: ['c']   ---  len(g):\n",
      "k: d   ----  g: ['d']   ---  len(g):\n"
     ]
    }
   ],
   "source": [
    "# https://docs.python.org/3/library/itertools.html#itertools.count\n",
    "from itertools import groupby\n",
    "data = [\"a\",\"b\",\"a\",\"b\",\"c\",\"d\"]\n",
    "groups = []\n",
    "uniquekeys = []\n",
    "data = sorted(data, key=None)\n",
    "for k, g in groupby(data, None):\n",
    "    print(\"k:\",k,\"  ----  g:\",list(g))\n",
    "    groups.append(list(g))      # Store group iterator as a list\n",
    "    uniquekeys.append(k)"
   ]
  },
  {
   "cell_type": "code",
   "execution_count": 111,
   "id": "7c4bb74c",
   "metadata": {},
   "outputs": [
    {
     "data": {
      "text/plain": [
       "['a', 'b', 'c', 'd']"
      ]
     },
     "execution_count": 111,
     "metadata": {},
     "output_type": "execute_result"
    }
   ],
   "source": [
    "uniquekeys"
   ]
  },
  {
   "cell_type": "code",
   "execution_count": 112,
   "id": "3328aea4",
   "metadata": {},
   "outputs": [
    {
     "data": {
      "text/plain": [
       "[['a', 'a'], ['b', 'b'], ['c'], ['d']]"
      ]
     },
     "execution_count": 112,
     "metadata": {},
     "output_type": "execute_result"
    }
   ],
   "source": [
    "groups"
   ]
  },
  {
   "cell_type": "code",
   "execution_count": 126,
   "id": "4921692b",
   "metadata": {},
   "outputs": [
    {
     "name": "stdout",
     "output_type": "stream",
     "text": [
      "a : [('a', 1), ('a', 2)]\n",
      "b : [('b', 2), ('b', 4)]\n"
     ]
    }
   ],
   "source": [
    "import itertools\n",
    "L = [(\"a\", 1), (\"a\", 2), (\"b\", 2), (\"b\", 4)] \n",
    "  \n",
    "# Key function \n",
    "key_func = lambda x: x[0] \n",
    "  \n",
    "for key, group in itertools.groupby(L, key_func): \n",
    "    print(key + \" :\", list(group)) "
   ]
  },
  {
   "cell_type": "code",
   "execution_count": 128,
   "id": "36916281",
   "metadata": {},
   "outputs": [
    {
     "name": "stdout",
     "output_type": "stream",
     "text": [
      "1 : [('a', 1)]\n",
      "2 : [('a', 2), ('b', 2)]\n",
      "4 : [('b', 4)]\n"
     ]
    }
   ],
   "source": [
    "for key, group in itertools.groupby(L, lambda x: x[1] ): \n",
    "    print(str(key) + \" :\", list(group))"
   ]
  },
  {
   "cell_type": "code",
   "execution_count": 129,
   "id": "ce482644",
   "metadata": {},
   "outputs": [
    {
     "name": "stdout",
     "output_type": "stream",
     "text": [
      "{'Animal': [('Animal', 'cat'), ('Animal', 'dog')]}\n",
      "{'Bird': [('Bird', 'peacock'), ('Bird', 'pigeon')]}\n"
     ]
    }
   ],
   "source": [
    "a_list = [(\"Animal\", \"cat\"),  \n",
    "          (\"Animal\", \"dog\"),  \n",
    "          (\"Bird\", \"peacock\"),  \n",
    "          (\"Bird\", \"pigeon\")] \n",
    "  \n",
    "  \n",
    "an_iterator = itertools.groupby(a_list, lambda x : x[0]) \n",
    "  \n",
    "for key, group in an_iterator: \n",
    "    key_and_group = {key : list(group)} \n",
    "    print(key_and_group) "
   ]
  },
  {
   "cell_type": "code",
   "execution_count": 130,
   "id": "c58a952d",
   "metadata": {},
   "outputs": [],
   "source": [
    "# itertools.islice(iterable, stop)\n",
    "# itertools.islice(iterable, start, stop[, step])\n",
    "def islice(iterable, *args):\n",
    "    # islice('ABCDEFG', 2) → A B\n",
    "    # islice('ABCDEFG', 2, 4) → C D\n",
    "    # islice('ABCDEFG', 2, None) → C D E F G\n",
    "    # islice('ABCDEFG', 0, None, 2) → A C E G\n",
    "    # islice('ABCDEFG', start,stop,step)\n",
    "    s = slice(*args)\n",
    "    start, stop, step = s.start or 0, s.stop or sys.maxsize, s.step or 1\n",
    "    it = iter(range(start, stop, step))\n",
    "    try:\n",
    "        nexti = next(it)\n",
    "    except StopIteration:\n",
    "        # Consume *iterable* up to the *start* position.\n",
    "        for i, element in zip(range(start), iterable):\n",
    "            pass\n",
    "        return\n",
    "    try:\n",
    "        for i, element in enumerate(iterable):\n",
    "            if i == nexti:\n",
    "                yield element\n",
    "                nexti = next(it)\n",
    "    except StopIteration:\n",
    "        # Consume to *stop*.\n",
    "        for i, element in zip(range(i + 1, stop), iterable):\n",
    "            pass"
   ]
  },
  {
   "cell_type": "code",
   "execution_count": 131,
   "id": "bf57ed19",
   "metadata": {},
   "outputs": [],
   "source": [
    "# s = slice(*args)\n",
    "# start, stop, step = s.start or 0, s.stop or sys.maxsize, s.step or 1"
   ]
  },
  {
   "cell_type": "code",
   "execution_count": 136,
   "id": "305f1d65",
   "metadata": {},
   "outputs": [
    {
     "data": {
      "text/plain": [
       "['B', 'E', 'H', 'K', 'N', 'Q', 'T']"
      ]
     },
     "execution_count": 136,
     "metadata": {},
     "output_type": "execute_result"
    }
   ],
   "source": [
    "w_s=itertools.islice(\"ABCDEFGHIJKLMNOPQRSTUVWXYZ\",1,20,3)\n",
    "list(w_s)"
   ]
  },
  {
   "cell_type": "code",
   "execution_count": 137,
   "id": "ccf8c3d4",
   "metadata": {},
   "outputs": [
    {
     "data": {
      "text/plain": [
       "[1, 4, 7, 10, 13, 16, 19]"
      ]
     },
     "execution_count": 137,
     "metadata": {},
     "output_type": "execute_result"
    }
   ],
   "source": [
    "w_s=itertools.islice(range(30),1,20,3)\n",
    "list(w_s)"
   ]
  },
  {
   "cell_type": "code",
   "execution_count": 162,
   "id": "f4603669",
   "metadata": {},
   "outputs": [
    {
     "name": "stdout",
     "output_type": "stream",
     "text": [
      "slice(2, 5, None)\n",
      "(start,stop): ( 2 , 5 )\n"
     ]
    }
   ],
   "source": [
    "def fn(a,*args):\n",
    "    s=slice(*args)\n",
    "    print(s)\n",
    "    \n",
    "    start, stop = s.start , s.stop \n",
    "    print(\"(start,stop):\",\"(\",start,\",\",stop,\")\")\n",
    "\n",
    "fn(1,2,5)\n",
    "    "
   ]
  },
  {
   "cell_type": "code",
   "execution_count": 167,
   "id": "c5f3aee6",
   "metadata": {},
   "outputs": [],
   "source": [
    "def fn(a,*args,**kwargs):\n",
    "    saved_args = locals()\n",
    "    print(type(saved_args))\n",
    "    print(\"saved_args is\", saved_args)\n",
    "    return saved_args"
   ]
  },
  {
   "cell_type": "code",
   "execution_count": 168,
   "id": "a6514a01",
   "metadata": {},
   "outputs": [
    {
     "name": "stdout",
     "output_type": "stream",
     "text": [
      "<class 'dict'>\n",
      "saved_args is {'a': 1, 'args': (2, 3, 4), 'kwargs': {'b': 12, 'd': [10, 20]}}\n"
     ]
    }
   ],
   "source": [
    "saved_args=fn(1,2,3,4,b=12,d=[10,20])"
   ]
  },
  {
   "cell_type": "code",
   "execution_count": 171,
   "id": "56779364",
   "metadata": {},
   "outputs": [
    {
     "data": {
      "text/plain": [
       "{'a': 1, 'args': (2, 3, 4), 'kwargs': {'b': 12, 'd': [10, 20]}}"
      ]
     },
     "execution_count": 171,
     "metadata": {},
     "output_type": "execute_result"
    }
   ],
   "source": [
    "saved_args"
   ]
  },
  {
   "cell_type": "code",
   "execution_count": 172,
   "id": "19fc988f",
   "metadata": {},
   "outputs": [
    {
     "data": {
      "text/plain": [
       "1"
      ]
     },
     "execution_count": 172,
     "metadata": {},
     "output_type": "execute_result"
    }
   ],
   "source": [
    "saved_args['a']"
   ]
  },
  {
   "cell_type": "code",
   "execution_count": 173,
   "id": "248ed18d",
   "metadata": {},
   "outputs": [
    {
     "data": {
      "text/plain": [
       "(2, 3, 4)"
      ]
     },
     "execution_count": 173,
     "metadata": {},
     "output_type": "execute_result"
    }
   ],
   "source": [
    "saved_args['args']"
   ]
  },
  {
   "cell_type": "code",
   "execution_count": 174,
   "id": "4c455062",
   "metadata": {},
   "outputs": [
    {
     "data": {
      "text/plain": [
       "{'b': 12, 'd': [10, 20]}"
      ]
     },
     "execution_count": 174,
     "metadata": {},
     "output_type": "execute_result"
    }
   ],
   "source": [
    "saved_args['kwargs']"
   ]
  },
  {
   "cell_type": "code",
   "execution_count": 175,
   "id": "48438e8f",
   "metadata": {},
   "outputs": [
    {
     "data": {
      "text/plain": [
       "12"
      ]
     },
     "execution_count": 175,
     "metadata": {},
     "output_type": "execute_result"
    }
   ],
   "source": [
    "saved_args['kwargs']['b']"
   ]
  },
  {
   "cell_type": "code",
   "execution_count": 176,
   "id": "31932ca0",
   "metadata": {},
   "outputs": [],
   "source": [
    "# https://docs.python.org/3/library/itertools.html#itertools.count\n",
    "# itertools.pairwise(iterable)\n",
    "def pairwise(iterable):\n",
    "    # pairwise('ABCDEFG') → AB BC CD DE EF FG\n",
    "    iterator = iter(iterable)\n",
    "    a = next(iterator, None)\n",
    "    for b in iterator:\n",
    "        yield a, b\n",
    "        a = b"
   ]
  },
  {
   "cell_type": "code",
   "execution_count": 178,
   "id": "e5466e66",
   "metadata": {},
   "outputs": [
    {
     "data": {
      "text/plain": [
       "[('A', 'B'), ('B', 'C'), ('C', 'D')]"
      ]
     },
     "execution_count": 178,
     "metadata": {},
     "output_type": "execute_result"
    }
   ],
   "source": [
    "list(pairwise((\"A\",\"B\",\"C\",\"D\")))"
   ]
  },
  {
   "cell_type": "code",
   "execution_count": 179,
   "id": "9739fd22",
   "metadata": {},
   "outputs": [
    {
     "data": {
      "text/plain": [
       "[('A', 'B'), ('B', 'C'), ('C', 'D')]"
      ]
     },
     "execution_count": 179,
     "metadata": {},
     "output_type": "execute_result"
    }
   ],
   "source": [
    "list(pairwise((\"ABCD\")))"
   ]
  },
  {
   "cell_type": "code",
   "execution_count": 191,
   "id": "b7694b4a",
   "metadata": {},
   "outputs": [],
   "source": [
    "# https://docs.python.org/3/library/itertools.html#itertools.count\n",
    "# itertools.pairwise(iterable)\n",
    "def pairwise2(iterable):\n",
    "    # pairwise('ABCDEFG') → AB BC CD DE EF FG\n",
    "    iterator = iter(iterable)\n",
    "    while(True):\n",
    "        a = next(iterator, None)\n",
    "        b = next(iterator, None)\n",
    "        if(b):\n",
    "            yield a, b\n",
    "        else:\n",
    "            break"
   ]
  },
  {
   "cell_type": "code",
   "execution_count": 192,
   "id": "482fb53c",
   "metadata": {},
   "outputs": [
    {
     "data": {
      "text/plain": [
       "[('A', 'B'), ('C', 'D'), ('E', 'F')]"
      ]
     },
     "execution_count": 192,
     "metadata": {},
     "output_type": "execute_result"
    }
   ],
   "source": [
    "list(pairwise2(\"ABCDEFG\"))"
   ]
  },
  {
   "cell_type": "code",
   "execution_count": 193,
   "id": "654e9a47",
   "metadata": {},
   "outputs": [
    {
     "data": {
      "text/plain": [
       "[('A', 'B')]"
      ]
     },
     "execution_count": 193,
     "metadata": {},
     "output_type": "execute_result"
    }
   ],
   "source": [
    "list(pairwise2(\"ABC\"))"
   ]
  },
  {
   "cell_type": "code",
   "execution_count": 196,
   "id": "da9b4f98",
   "metadata": {},
   "outputs": [],
   "source": [
    "# https://docs.python.org/3/library/itertools.html#itertools.count\n",
    "# itertools.pairwise(iterable)\n",
    "def pairwise2(iterable):\n",
    "    # pairwise('ABCDEFG') → AB BC CD DE EF FG\n",
    "    iterator = iter(iterable)\n",
    "    while(True):\n",
    "        a = next(iterator, None)\n",
    "        b = next(iterator, None)\n",
    "        if(b):\n",
    "            yield a, b\n",
    "        else:\n",
    "            yield a,None\n",
    "            break"
   ]
  },
  {
   "cell_type": "code",
   "execution_count": 197,
   "id": "5cfa55d7",
   "metadata": {},
   "outputs": [
    {
     "data": {
      "text/plain": [
       "[('A', 'B'), ('C', None)]"
      ]
     },
     "execution_count": 197,
     "metadata": {},
     "output_type": "execute_result"
    }
   ],
   "source": [
    "list(pairwise2(\"ABC\"))"
   ]
  },
  {
   "cell_type": "code",
   "execution_count": 198,
   "id": "2813cb5f",
   "metadata": {},
   "outputs": [],
   "source": [
    "# https://docs.python.org/3/library/itertools.html#itertools.count\n",
    "# itertools.permutations(iterable, r=None)\n",
    "def permutations(iterable, r=None):\n",
    "    # permutations('ABCD', 2) → AB AC AD BA BC BD CA CB CD DA DB DC\n",
    "    # permutations(range(3)) → 012 021 102 120 201 210\n",
    "    pool = tuple(iterable)\n",
    "    n = len(pool)\n",
    "    r = n if r is None else r\n",
    "    if r > n:\n",
    "        return\n",
    "    indices = list(range(n))\n",
    "    cycles = list(range(n, n-r, -1))\n",
    "    yield tuple(pool[i] for i in indices[:r])\n",
    "    while n:\n",
    "        for i in reversed(range(r)):\n",
    "            cycles[i] -= 1\n",
    "            if cycles[i] == 0:\n",
    "                indices[i:] = indices[i+1:] + indices[i:i+1]\n",
    "                cycles[i] = n - i\n",
    "            else:\n",
    "                j = cycles[i]\n",
    "                indices[i], indices[-j] = indices[-j], indices[i]\n",
    "                yield tuple(pool[i] for i in indices[:r])\n",
    "                break\n",
    "        else:\n",
    "            return"
   ]
  },
  {
   "cell_type": "code",
   "execution_count": 308,
   "id": "6b082eb0",
   "metadata": {},
   "outputs": [
    {
     "data": {
      "text/plain": [
       "[('A', 'B'), ('A', 'C'), ('B', 'A'), ('B', 'C'), ('C', 'A'), ('C', 'B')]"
      ]
     },
     "execution_count": 308,
     "metadata": {},
     "output_type": "execute_result"
    }
   ],
   "source": [
    "list(permutations('ABC', 2))"
   ]
  },
  {
   "cell_type": "code",
   "execution_count": 205,
   "id": "799c9e62",
   "metadata": {},
   "outputs": [],
   "source": [
    "# https://docs.python.org/3/library/itertools.html#itertools.count\n",
    "# itertools.permutations(iterable, r=None)\n",
    "def permutations(iterable, r=None):\n",
    "    pool = tuple(iterable)\n",
    "    n = len(pool)\n",
    "    r = n if r is None else r\n",
    "    for indices in itertools.product(range(n), repeat=r):\n",
    "        if len(set(indices)) == r:\n",
    "            yield tuple(pool[i] for i in indices)"
   ]
  },
  {
   "cell_type": "code",
   "execution_count": 206,
   "id": "eb65c6e4",
   "metadata": {},
   "outputs": [
    {
     "data": {
      "text/plain": [
       "[('A', 'B', 'C'),\n",
       " ('A', 'C', 'B'),\n",
       " ('B', 'A', 'C'),\n",
       " ('B', 'C', 'A'),\n",
       " ('C', 'A', 'B'),\n",
       " ('C', 'B', 'A')]"
      ]
     },
     "execution_count": 206,
     "metadata": {},
     "output_type": "execute_result"
    }
   ],
   "source": [
    "list(permutations(list(\"ABC\"), 3))"
   ]
  },
  {
   "cell_type": "code",
   "execution_count": 318,
   "id": "16291c0d",
   "metadata": {},
   "outputs": [],
   "source": [
    "# https://docs.python.org/3/library/itertools.html#itertools.count\n",
    "# itertools.product(*iterables, repeat=1)\n",
    "# itertools.permutations(iterable, r=None)\n",
    "def product(*args, repeat=1):\n",
    "    # product('ABCD', 'xy') → Ax Ay Bx By Cx Cy Dx Dy\n",
    "    # product(range(2), repeat=3) → 000 001 010 011 100 101 110 111\n",
    "    pools = [tuple(pool) for pool in args] * repeat\n",
    "    result = [[]]\n",
    "    for pool in pools:\n",
    "        result = [x+[y] for x in result for y in pool]\n",
    "    for prod in result:\n",
    "        yield tuple(prod)"
   ]
  },
  {
   "cell_type": "code",
   "execution_count": 309,
   "id": "f26bcd2e",
   "metadata": {},
   "outputs": [
    {
     "data": {
      "text/plain": [
       "[('A', 'x'), ('A', 'y'), ('B', 'x'), ('B', 'y'), ('C', 'x'), ('C', 'y')]"
      ]
     },
     "execution_count": 309,
     "metadata": {},
     "output_type": "execute_result"
    }
   ],
   "source": [
    "list(product('ABC', 'xy') )"
   ]
  },
  {
   "cell_type": "code",
   "execution_count": 326,
   "id": "7c9027ba",
   "metadata": {},
   "outputs": [
    {
     "data": {
      "text/plain": [
       "[(1, 'x', 1, 'x'), (1, 'x', 2, 'x'), (2, 'x', 1, 'x'), (2, 'x', 2, 'x')]"
      ]
     },
     "execution_count": 326,
     "metadata": {},
     "output_type": "execute_result"
    }
   ],
   "source": [
    "list(itertools.product([1,2], 'x', repeat=2) )"
   ]
  },
  {
   "cell_type": "code",
   "execution_count": 327,
   "id": "502c778f",
   "metadata": {},
   "outputs": [
    {
     "data": {
      "text/plain": [
       "[(1, 1), (1, 2), (2, 1), (2, 2)]"
      ]
     },
     "execution_count": 327,
     "metadata": {},
     "output_type": "execute_result"
    }
   ],
   "source": [
    "list(itertools.product([1,2], repeat=2) )"
   ]
  },
  {
   "cell_type": "code",
   "execution_count": 247,
   "id": "d28229ca",
   "metadata": {},
   "outputs": [],
   "source": [
    "# https://docs.python.org/3/library/itertools.html#itertools.count\n",
    "# itertools.permutations(iterable, r=None)\n",
    "def repeat(object, times=None):\n",
    "    # repeat(10, 3) → 10 10 10\n",
    "    if times is None:\n",
    "        while True:\n",
    "            yield object\n",
    "    else:\n",
    "        for i in range(times):\n",
    "            yield object"
   ]
  },
  {
   "cell_type": "code",
   "execution_count": 252,
   "id": "c2af2910",
   "metadata": {},
   "outputs": [
    {
     "data": {
      "text/plain": [
       "[(10, 1), (10, 1), (10, 1)]"
      ]
     },
     "execution_count": 252,
     "metadata": {},
     "output_type": "execute_result"
    }
   ],
   "source": [
    "list(repeat((10,1), 3) )"
   ]
  },
  {
   "cell_type": "code",
   "execution_count": 331,
   "id": "2ee80202",
   "metadata": {},
   "outputs": [
    {
     "data": {
      "text/plain": [
       "[0, 1, 4, 9]"
      ]
     },
     "execution_count": 331,
     "metadata": {},
     "output_type": "execute_result"
    }
   ],
   "source": [
    "list(map(pow, range(4),repeat(2,4)))"
   ]
  },
  {
   "cell_type": "code",
   "execution_count": 257,
   "id": "2a7d9f05",
   "metadata": {},
   "outputs": [
    {
     "data": {
      "text/plain": [
       "9"
      ]
     },
     "execution_count": 257,
     "metadata": {},
     "output_type": "execute_result"
    }
   ],
   "source": [
    "pow(3,2)"
   ]
  },
  {
   "cell_type": "code",
   "execution_count": 334,
   "id": "da50ad65",
   "metadata": {},
   "outputs": [
    {
     "data": {
      "text/plain": [
       "[8, 81]"
      ]
     },
     "execution_count": 334,
     "metadata": {},
     "output_type": "execute_result"
    }
   ],
   "source": [
    "list(map(lambda x,y: x**y, [2,3],(3,4)))"
   ]
  },
  {
   "cell_type": "code",
   "execution_count": 268,
   "id": "2f3d7726",
   "metadata": {},
   "outputs": [
    {
     "data": {
      "text/plain": [
       "[0, 1, 4, 9, 16]"
      ]
     },
     "execution_count": 268,
     "metadata": {},
     "output_type": "execute_result"
    }
   ],
   "source": [
    "list(map(lambda x,y: x**y, range(5),repeat(2,5)))"
   ]
  },
  {
   "cell_type": "code",
   "execution_count": 269,
   "id": "cff32e83",
   "metadata": {},
   "outputs": [],
   "source": [
    "# https://docs.python.org/3/library/itertools.html#itertools.count\n",
    "# itertools.takewhile(predicate, iterable)\n",
    "def takewhile(predicate, iterable):\n",
    "    # takewhile(lambda x: x<5, [1,4,6,40,13]) → 1 4\n",
    "    for x in iterable:\n",
    "        if predicate(x):\n",
    "            yield x\n",
    "        else:\n",
    "            break"
   ]
  },
  {
   "cell_type": "code",
   "execution_count": 271,
   "id": "f548d46b",
   "metadata": {},
   "outputs": [
    {
     "data": {
      "text/plain": [
       "[1, 4]"
      ]
     },
     "execution_count": 271,
     "metadata": {},
     "output_type": "execute_result"
    }
   ],
   "source": [
    "list(takewhile(lambda x: x<5, [1,4,6,40,13]))"
   ]
  },
  {
   "cell_type": "code",
   "execution_count": 278,
   "id": "be734b71",
   "metadata": {},
   "outputs": [],
   "source": [
    "# https://docs.python.org/3/library/itertools.html#itertools.count\n",
    "# itertools.tee(iterable, n=2)\n",
    "import collections\n",
    "def tee(iterable, n=2):\n",
    "    it = iter(iterable)\n",
    "    deques = [collections.deque() for i in range(n)]\n",
    "    def gen(mydeque):\n",
    "        while True:\n",
    "            if not mydeque:             # when the local deque is empty\n",
    "                try:\n",
    "                    newval = next(it)   # fetch a new value and\n",
    "                except StopIteration:\n",
    "                    return\n",
    "                for d in deques:        # load it to all the deques\n",
    "                    d.append(newval)\n",
    "            yield mydeque.popleft()\n",
    "    return tuple(gen(d) for d in deques)"
   ]
  },
  {
   "cell_type": "code",
   "execution_count": 285,
   "id": "0af26a88",
   "metadata": {},
   "outputs": [
    {
     "data": {
      "text/plain": [
       "[<generator object tee.<locals>.gen at 0x000001BEEB632A70>,\n",
       " <generator object tee.<locals>.gen at 0x000001BEEB632B60>]"
      ]
     },
     "execution_count": 285,
     "metadata": {},
     "output_type": "execute_result"
    }
   ],
   "source": [
    "aa=tee(iter([1,2,3,4]));list(aa)"
   ]
  },
  {
   "cell_type": "code",
   "execution_count": 295,
   "id": "6837ddc5",
   "metadata": {},
   "outputs": [
    {
     "data": {
      "text/plain": [
       "[<generator object tee.<locals>.gen at 0x000001BE80000C70>,\n",
       " <generator object tee.<locals>.gen at 0x000001BE80000D60>,\n",
       " <generator object tee.<locals>.gen at 0x000001BE80000E50>]"
      ]
     },
     "execution_count": 295,
     "metadata": {},
     "output_type": "execute_result"
    }
   ],
   "source": [
    "aa=tee([(1,2),3,4],n=3);list(aa)"
   ]
  },
  {
   "cell_type": "code",
   "execution_count": 296,
   "id": "b354e946",
   "metadata": {},
   "outputs": [
    {
     "data": {
      "text/plain": [
       "[(1, 2), 3, 4]"
      ]
     },
     "execution_count": 296,
     "metadata": {},
     "output_type": "execute_result"
    }
   ],
   "source": [
    "list(aa[1])"
   ]
  },
  {
   "cell_type": "code",
   "execution_count": 297,
   "id": "a508f085",
   "metadata": {},
   "outputs": [
    {
     "data": {
      "text/plain": [
       "[(1, 2), 3, 4]"
      ]
     },
     "execution_count": 297,
     "metadata": {},
     "output_type": "execute_result"
    }
   ],
   "source": [
    "list(aa[0])"
   ]
  },
  {
   "cell_type": "code",
   "execution_count": 299,
   "id": "45ed7e59",
   "metadata": {},
   "outputs": [
    {
     "data": {
      "text/plain": [
       "[(1, 2), 3, 4]"
      ]
     },
     "execution_count": 299,
     "metadata": {},
     "output_type": "execute_result"
    }
   ],
   "source": [
    "list(aa[2])"
   ]
  },
  {
   "cell_type": "code",
   "execution_count": 300,
   "id": "5c22f5a3",
   "metadata": {},
   "outputs": [],
   "source": [
    "# https://docs.python.org/3/library/itertools.html#itertools.count\n",
    "# itertools.zip_longest(*iterables, fillvalue=None)\n",
    "\n",
    "def zip_longest(*args, fillvalue=None):\n",
    "    # zip_longest('ABCD', 'xy', fillvalue='-') → Ax By C- D-\n",
    "    iterators = [iter(it) for it in args]\n",
    "    num_active = len(iterators)\n",
    "    if not num_active:\n",
    "        return\n",
    "    while True:\n",
    "        values = []\n",
    "        for i, it in enumerate(iterators):\n",
    "            try:\n",
    "                value = next(it)\n",
    "            except StopIteration:\n",
    "                num_active -= 1\n",
    "                if not num_active:\n",
    "                    return\n",
    "                iterators[i] = repeat(fillvalue)\n",
    "                value = fillvalue\n",
    "            values.append(value)\n",
    "        yield tuple(values)"
   ]
  },
  {
   "cell_type": "code",
   "execution_count": 302,
   "id": "6a352af5",
   "metadata": {},
   "outputs": [
    {
     "data": {
      "text/plain": [
       "[('A', 'x'), ('B', 'y'), ('C', '-'), ('D', '-')]"
      ]
     },
     "execution_count": 302,
     "metadata": {},
     "output_type": "execute_result"
    }
   ],
   "source": [
    "list(zip_longest('ABCD', 'xy', fillvalue='-'))"
   ]
  },
  {
   "cell_type": "code",
   "execution_count": 303,
   "id": "6ce417ee",
   "metadata": {},
   "outputs": [
    {
     "data": {
      "text/plain": [
       "[('A', 'x'), ('B', 'y'), ('C', None), ('D', None)]"
      ]
     },
     "execution_count": 303,
     "metadata": {},
     "output_type": "execute_result"
    }
   ],
   "source": [
    "list(zip_longest('ABCD', 'xy'))"
   ]
  },
  {
   "cell_type": "code",
   "execution_count": 335,
   "id": "0f43b986",
   "metadata": {},
   "outputs": [
    {
     "data": {
      "text/plain": [
       "[('A', 'x'), ('B', 'y')]"
      ]
     },
     "execution_count": 335,
     "metadata": {},
     "output_type": "execute_result"
    }
   ],
   "source": [
    "list(zip('ABCD', 'xy'))"
   ]
  },
  {
   "cell_type": "code",
   "execution_count": 355,
   "id": "289603de",
   "metadata": {},
   "outputs": [
    {
     "name": "stdout",
     "output_type": "stream",
     "text": [
      "-1\n",
      "3\n",
      "5\n",
      "6\n",
      "a\n"
     ]
    }
   ],
   "source": [
    "l = [0, -1, \"\", 3, None, 5, 6,\"a\",False]\n",
    "for e in filter(None, l):\n",
    "    print(e)"
   ]
  },
  {
   "cell_type": "code",
   "execution_count": 344,
   "id": "b29529e1",
   "metadata": {},
   "outputs": [
    {
     "data": {
      "text/plain": [
       "[1, 3, 5, 6, 'a']"
      ]
     },
     "execution_count": 344,
     "metadata": {},
     "output_type": "execute_result"
    }
   ],
   "source": [
    "list(filter(None, l))"
   ]
  },
  {
   "cell_type": "code",
   "execution_count": 357,
   "id": "8aa66c21",
   "metadata": {},
   "outputs": [
    {
     "name": "stdout",
     "output_type": "stream",
     "text": [
      "0\n",
      "3\n",
      "5\n",
      "6\n"
     ]
    }
   ],
   "source": [
    "l = [0, -1, \"\", 3, None, 5, 6,\"a\",False]\n",
    "for e in filter(lambda x:str(x).isnumeric(), l):\n",
    "    print(e)"
   ]
  },
  {
   "cell_type": "code",
   "execution_count": 365,
   "id": "38ada872",
   "metadata": {},
   "outputs": [
    {
     "data": {
      "text/plain": [
       "[0, -1, 3, 5, 6, False]"
      ]
     },
     "execution_count": 365,
     "metadata": {},
     "output_type": "execute_result"
    }
   ],
   "source": [
    "list(filter(lambda x: isinstance(x, (int, float)),l))"
   ]
  },
  {
   "cell_type": "code",
   "execution_count": 352,
   "id": "1a1cd18e",
   "metadata": {},
   "outputs": [
    {
     "ename": "AttributeError",
     "evalue": "'int' object has no attribute 'isdigit'",
     "output_type": "error",
     "traceback": [
      "\u001b[1;31m---------------------------------------------------------------------------\u001b[0m",
      "\u001b[1;31mAttributeError\u001b[0m                            Traceback (most recent call last)",
      "Cell \u001b[1;32mIn[352], line 1\u001b[0m\n\u001b[1;32m----> 1\u001b[0m x\u001b[38;5;241m.\u001b[39misdigit()\n",
      "\u001b[1;31mAttributeError\u001b[0m: 'int' object has no attribute 'isdigit'"
     ]
    }
   ],
   "source": [
    "x.isdigit()"
   ]
  },
  {
   "cell_type": "code",
   "execution_count": 359,
   "id": "b2242765",
   "metadata": {},
   "outputs": [],
   "source": [
    "import numpy as np"
   ]
  },
  {
   "cell_type": "code",
   "execution_count": 360,
   "id": "800789c8",
   "metadata": {},
   "outputs": [],
   "source": [
    "a1=np.array([0, -1, \"\", 3, None, 5, 6,\"a\",False])"
   ]
  },
  {
   "cell_type": "code",
   "execution_count": 361,
   "id": "97559849",
   "metadata": {},
   "outputs": [
    {
     "data": {
      "text/plain": [
       "0"
      ]
     },
     "execution_count": 361,
     "metadata": {},
     "output_type": "execute_result"
    }
   ],
   "source": [
    "a1[0]"
   ]
  },
  {
   "cell_type": "code",
   "execution_count": 363,
   "id": "d1432d13",
   "metadata": {},
   "outputs": [
    {
     "data": {
      "text/plain": [
       "False"
      ]
     },
     "execution_count": 363,
     "metadata": {},
     "output_type": "execute_result"
    }
   ],
   "source": [
    "np.isscalar(a1)"
   ]
  },
  {
   "cell_type": "code",
   "execution_count": 377,
   "id": "9166f9f1",
   "metadata": {},
   "outputs": [],
   "source": [
    "import math\n"
   ]
  },
  {
   "cell_type": "code",
   "execution_count": 381,
   "id": "cb2ac235",
   "metadata": {},
   "outputs": [],
   "source": [
    "L = [0, -1, \"\", 3, None, 5, 6, \"a\", False,1.2,3/2]"
   ]
  },
  {
   "cell_type": "code",
   "execution_count": 396,
   "id": "b57eb2de",
   "metadata": {},
   "outputs": [
    {
     "data": {
      "text/plain": [
       "[0, -1, 3, 5, 6, False, 1.2, 1.5, 1.4142135623730951, 8]"
      ]
     },
     "execution_count": 396,
     "metadata": {},
     "output_type": "execute_result"
    }
   ],
   "source": [
    "list(filter(lambda x: isinstance(x,(int,float)),L))"
   ]
  },
  {
   "cell_type": "code",
   "execution_count": 401,
   "id": "0763a795",
   "metadata": {},
   "outputs": [
    {
     "data": {
      "text/plain": [
       "[0, -1, 3, 5, 6, 1.2, 1.5, 1.4142135623730951, 8]"
      ]
     },
     "execution_count": 401,
     "metadata": {},
     "output_type": "execute_result"
    }
   ],
   "source": [
    "list(filter(lambda x: isinstance(x,(int,float))and not isinstance(x,bool),L) )"
   ]
  },
  {
   "cell_type": "code",
   "execution_count": 398,
   "id": "7b56510e",
   "metadata": {},
   "outputs": [
    {
     "ename": "AttributeError",
     "evalue": "'bool' object has no attribute 'isdigit'",
     "output_type": "error",
     "traceback": [
      "\u001b[1;31m---------------------------------------------------------------------------\u001b[0m",
      "\u001b[1;31mAttributeError\u001b[0m                            Traceback (most recent call last)",
      "Cell \u001b[1;32mIn[398], line 1\u001b[0m\n\u001b[1;32m----> 1\u001b[0m \u001b[38;5;28;01mFalse\u001b[39;00m\u001b[38;5;241m.\u001b[39misdigit()\n",
      "\u001b[1;31mAttributeError\u001b[0m: 'bool' object has no attribute 'isdigit'"
     ]
    }
   ],
   "source": [
    "False.isdigit()"
   ]
  },
  {
   "cell_type": "code",
   "execution_count": null,
   "id": "dc6b3b92",
   "metadata": {},
   "outputs": [],
   "source": []
  }
 ],
 "metadata": {
  "kernelspec": {
   "display_name": "Python 3 (ipykernel)",
   "language": "python",
   "name": "python3"
  },
  "language_info": {
   "codemirror_mode": {
    "name": "ipython",
    "version": 3
   },
   "file_extension": ".py",
   "mimetype": "text/x-python",
   "name": "python",
   "nbconvert_exporter": "python",
   "pygments_lexer": "ipython3",
   "version": "3.11.5"
  }
 },
 "nbformat": 4,
 "nbformat_minor": 5
}
