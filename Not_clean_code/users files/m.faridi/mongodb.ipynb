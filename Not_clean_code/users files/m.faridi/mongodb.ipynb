{
 "cells": [
  {
   "cell_type": "code",
   "execution_count": 3,
   "id": "f07bd5d7",
   "metadata": {},
   "outputs": [],
   "source": [
    "import pymongo\n",
    "from pymongo import MongoClient"
   ]
  },
  {
   "cell_type": "code",
   "execution_count": 4,
   "id": "973645fa",
   "metadata": {},
   "outputs": [
    {
     "name": "stdout",
     "output_type": "stream",
     "text": [
      "Connected successfully\n"
     ]
    }
   ],
   "source": [
    "try:\n",
    "    con_md = MongoClient(host=\"localhost\", port=27017)\n",
    "    print(\"Connected successfully\")\n",
    "except ConnectionFailure:\n",
    "    sys.stderr.write(\"Could not connect to MongoDB: %s\" % ConnectionFailure)"
   ]
  },
  {
   "cell_type": "code",
   "execution_count": 5,
   "id": "aa3f3d1d",
   "metadata": {},
   "outputs": [
    {
     "data": {
      "text/plain": [
       "MongoClient(host=['localhost:27017'], document_class=dict, tz_aware=False, connect=True)"
      ]
     },
     "execution_count": 5,
     "metadata": {},
     "output_type": "execute_result"
    }
   ],
   "source": [
    "con_md"
   ]
  },
  {
   "cell_type": "code",
   "execution_count": 6,
   "id": "502abb8f",
   "metadata": {},
   "outputs": [
    {
     "data": {
      "text/plain": [
       "['admin', 'config', 'local', 'new_db', 'school']"
      ]
     },
     "execution_count": 6,
     "metadata": {},
     "output_type": "execute_result"
    }
   ],
   "source": [
    "con_md.list_database_names()"
   ]
  },
  {
   "cell_type": "code",
   "execution_count": 7,
   "id": "a0dcc446",
   "metadata": {},
   "outputs": [],
   "source": [
    "# school\n",
    "school_db = con_md['school']"
   ]
  },
  {
   "cell_type": "code",
   "execution_count": 8,
   "id": "7d55b0a8",
   "metadata": {},
   "outputs": [],
   "source": [
    "students = school_db.get_collection('students')"
   ]
  },
  {
   "cell_type": "code",
   "execution_count": 9,
   "id": "eb76c357",
   "metadata": {},
   "outputs": [
    {
     "data": {
      "text/plain": [
       "Collection(Database(MongoClient(host=['localhost:27017'], document_class=dict, tz_aware=False, connect=True), 'school'), 'students')"
      ]
     },
     "execution_count": 9,
     "metadata": {},
     "output_type": "execute_result"
    }
   ],
   "source": [
    "students"
   ]
  },
  {
   "cell_type": "code",
   "execution_count": 10,
   "id": "12841a1a",
   "metadata": {},
   "outputs": [
    {
     "data": {
      "text/plain": [
       "200"
      ]
     },
     "execution_count": 10,
     "metadata": {},
     "output_type": "execute_result"
    }
   ],
   "source": [
    "students.estimated_document_count()"
   ]
  },
  {
   "cell_type": "code",
   "execution_count": 11,
   "id": "d38220d4",
   "metadata": {},
   "outputs": [
    {
     "data": {
      "text/plain": [
       "{'_id': 0,\n",
       " 'name': 'aimee Zank',\n",
       " 'scores': [{'score': 1.463179736705023, 'type': 'exam'},\n",
       "  {'score': 11.78273309957772, 'type': 'quiz'},\n",
       "  {'score': 35.8740349954354, 'type': 'homework'}]}"
      ]
     },
     "execution_count": 11,
     "metadata": {},
     "output_type": "execute_result"
    }
   ],
   "source": [
    "students.find_one()"
   ]
  },
  {
   "cell_type": "code",
   "execution_count": 45,
   "id": "86481ffc",
   "metadata": {},
   "outputs": [],
   "source": [
    "user_doc = {\n",
    " 'name': 'aimee Zank 4',\n",
    " 'scores': [{'score': 11.4, 'type': 'exam'},\n",
    "  {'score': 1.4, 'type': 'quiz'},\n",
    "  {'score': 35.84, 'type': 'homework'}]}\n",
    "x = students.insert_one(user_doc)"
   ]
  },
  {
   "cell_type": "code",
   "execution_count": 46,
   "id": "459b623d",
   "metadata": {},
   "outputs": [
    {
     "data": {
      "text/plain": [
       "204"
      ]
     },
     "execution_count": 46,
     "metadata": {},
     "output_type": "execute_result"
    }
   ],
   "source": [
    "students.estimated_document_count()"
   ]
  },
  {
   "cell_type": "code",
   "execution_count": 19,
   "id": "cebfc0e9",
   "metadata": {},
   "outputs": [
    {
     "data": {
      "text/plain": [
       "ObjectId('65754be36fd3af5058377599')"
      ]
     },
     "execution_count": 19,
     "metadata": {},
     "output_type": "execute_result"
    }
   ],
   "source": [
    "x.inserted_id"
   ]
  },
  {
   "cell_type": "code",
   "execution_count": 38,
   "id": "f5ed616a",
   "metadata": {},
   "outputs": [
    {
     "name": "stdout",
     "output_type": "stream",
     "text": [
      "{'_id': 0, 'name': 'aimee Zank', 'scores': [{'score': 1.463179736705023, 'type': 'exam'}, {'score': 11.78273309957772, 'type': 'quiz'}, {'score': 35.8740349954354, 'type': 'homework'}]}\n",
      "-----------------\n",
      "{'_id': 114, 'name': 'aimee Zank', 'scores': [{'score': 15.91636686717778, 'type': 'exam'}, {'score': 96.12953798826392, 'type': 'quiz'}, {'score': 18.92628947700149, 'type': 'homework'}]}\n",
      "-----------------\n",
      "{'_id': ObjectId('657549966fd3af5058377597'), 'name': 'aimee Zank 2', 'scores': [{'score': 1.4, 'type': 'exam'}, {'score': 11.7, 'type': 'quiz'}, {'score': 35.8, 'type': 'homework'}]}\n",
      "-----------------\n"
     ]
    }
   ],
   "source": [
    "myquery = {\n",
    " 'name': { \"$regex\": \"^aimee\" } \n",
    "}\n",
    "mydoc = students.find(myquery).limit(3)\n",
    "for x in mydoc:\n",
    "    print(x)\n",
    "    print( '-----------------' )"
   ]
  },
  {
   "cell_type": "code",
   "execution_count": 57,
   "id": "23b59b35",
   "metadata": {},
   "outputs": [
    {
     "name": "stdout",
     "output_type": "stream",
     "text": [
      "{'_id': ObjectId('657549966fd3af5058377597'), 'name': 'aimee Zank 2', 'scores': [{'score': 1.4, 'type': 'exam'}, {'score': 11.7, 'type': 'quiz'}, {'score': 35.8, 'type': 'homework'}]}\n",
      "-----------------\n",
      "{'_id': ObjectId('657560c56fd3af505837759a'), 'name': 'aimee Zank 4', 'scores': [{'score': 11.4, 'type': 'exam'}, {'score': 1.4, 'type': 'quiz'}, {'score': 35.84, 'type': 'homework'}]}\n",
      "-----------------\n"
     ]
    }
   ],
   "source": [
    "myquery = {\n",
    " 'scores.score': 1.4\n",
    "}\n",
    "mydoc = students.find(myquery)\n",
    "\n",
    "for x in mydoc:\n",
    "    print(x)\n",
    "    print( '-----------------' )"
   ]
  },
  {
   "cell_type": "code",
   "execution_count": 56,
   "id": "e3bf29f2",
   "metadata": {},
   "outputs": [
    {
     "name": "stdout",
     "output_type": "stream",
     "text": [
      "{'_id': ObjectId('657549966fd3af5058377597'), 'name': 'aimee Zank 2', 'scores': [{'score': 1.4, 'type': 'exam'}, {'score': 11.7, 'type': 'quiz'}, {'score': 35.8, 'type': 'homework'}]}\n",
      "-----------------\n"
     ]
    }
   ],
   "source": [
    "myquery = {\n",
    " 'scores': {'score': 1.4, 'type': 'exam'}\n",
    "    \n",
    "}\n",
    "\n",
    "mydoc = students.find(myquery)\n",
    "\n",
    "for x in mydoc:\n",
    "    print(x)\n",
    "    print( '-----------------' )\n",
    "\n",
    "    "
   ]
  },
  {
   "cell_type": "code",
   "execution_count": 58,
   "id": "1c5d8e21",
   "metadata": {},
   "outputs": [
    {
     "name": "stdout",
     "output_type": "stream",
     "text": [
      "{'_id': ObjectId('657549966fd3af5058377597'), 'name': 'aimee Zank 2', 'scores': [{'score': 1.4, 'type': 'exam'}, {'score': 11.7, 'type': 'quiz'}, {'score': 35.8, 'type': 'homework'}]}\n",
      "-----------------\n"
     ]
    }
   ],
   "source": [
    "myquery = {\n",
    " 'scores': {'score': 1.4, 'type': 'exam'}\n",
    "    \n",
    "}\n",
    "\n",
    "mydoc = students.find(myquery)\n",
    "\n",
    "for x in mydoc:\n",
    "    print(x)\n",
    "    print( '-----------------' )"
   ]
  },
  {
   "cell_type": "code",
   "execution_count": 70,
   "id": "ce2efa0c",
   "metadata": {},
   "outputs": [
    {
     "name": "stdout",
     "output_type": "stream",
     "text": [
      "{'_id': 0, 'name': 'aimee Zank', 'scores': [{'score': 1.463179736705023, 'type': 'exam'}, {'score': 11.78273309957772, 'type': 'quiz'}, {'score': 35.8740349954354, 'type': 'homework'}]}\n",
      "-----------------\n",
      "{'_id': ObjectId('657549966fd3af5058377597'), 'name': 'aimee Zank 2', 'scores': [{'score': 1.4, 'type': 'exam'}, {'score': 11.7, 'type': 'quiz'}, {'score': 35.8, 'type': 'homework'}]}\n",
      "-----------------\n",
      "{'_id': ObjectId('657560c56fd3af505837759a'), 'name': 'aimee Zank 4', 'scores': [{'score': 11.4, 'type': 'exam'}, {'score': 1.4, 'type': 'quiz'}, {'score': 35.84, 'type': 'homework'}]}\n",
      "-----------------\n"
     ]
    }
   ],
   "source": [
    "myquery = {\n",
    " 'scores.score': {'$in': [1.4 , 1.463179736705023 ]}\n",
    "    \n",
    "}\n",
    "\n",
    "mydoc = students.find(myquery)\n",
    "\n",
    "for x in mydoc:\n",
    "    print(x)\n",
    "    print( '-----------------' )"
   ]
  },
  {
   "cell_type": "code",
   "execution_count": 85,
   "id": "14df2bde",
   "metadata": {},
   "outputs": [
    {
     "name": "stdout",
     "output_type": "stream",
     "text": [
      "{'_id': 0, 'name': 'aimee Zank', 'scores': [{'score': 1.463179736705023, 'type': 'exam'}, {'score': 11.78273309957772, 'type': 'quiz'}, {'score': 35.8740349954354, 'type': 'homework'}]}\n",
      "-----------------\n",
      "{'_id': ObjectId('657549966fd3af5058377597'), 'name': 'aimee Zank 2', 'scores': [{'score': 1.4, 'type': 'exam'}, {'score': 11.7, 'type': 'quiz'}, {'score': 35.8, 'type': 'homework'}]}\n",
      "-----------------\n"
     ]
    }
   ],
   "source": [
    "myquery = {\n",
    " 'scores': {'$in': [{'score': 1.4 , 'type': 'exam'},{'score': 1.463179736705023 , 'type': 'exam'}]}\n",
    "    \n",
    "}\n",
    "\n",
    "mydoc = students.find(myquery)\n",
    "\n",
    "for x in mydoc:\n",
    "    print(x)\n",
    "    print( '-----------------' )"
   ]
  },
  {
   "cell_type": "code",
   "execution_count": 83,
   "id": "03847247",
   "metadata": {},
   "outputs": [
    {
     "name": "stdout",
     "output_type": "stream",
     "text": [
      "{'_id': ObjectId('657549966fd3af5058377597'), 'name': 'aimee Zank 2', 'scores': [{'score': 1.4, 'type': 'exam'}, {'score': 11.7, 'type': 'quiz'}, {'score': 35.8, 'type': 'homework'}]}\n",
      "-----------------\n"
     ]
    }
   ],
   "source": [
    "myquery = {\n",
    " 'scores': {'score': 1.4 , 'type': 'exam'}\n",
    "    \n",
    "}\n",
    "\n",
    "mydoc = students.find(myquery)\n",
    "\n",
    "for x in mydoc:\n",
    "    print(x)\n",
    "    print( '-----------------' )"
   ]
  },
  {
   "cell_type": "code",
   "execution_count": null,
   "id": "74661e32",
   "metadata": {},
   "outputs": [],
   "source": []
  }
 ],
 "metadata": {
  "kernelspec": {
   "display_name": "Python 3 (ipykernel)",
   "language": "python",
   "name": "python3"
  },
  "language_info": {
   "codemirror_mode": {
    "name": "ipython",
    "version": 3
   },
   "file_extension": ".py",
   "mimetype": "text/x-python",
   "name": "python",
   "nbconvert_exporter": "python",
   "pygments_lexer": "ipython3",
   "version": "3.11.5"
  }
 },
 "nbformat": 4,
 "nbformat_minor": 5
}
