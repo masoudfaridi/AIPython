{
 "cells": [
  {
   "cell_type": "code",
   "execution_count": 354,
   "id": "90f862b5",
   "metadata": {},
   "outputs": [],
   "source": [
    "import tensorflow\n",
    "from tensorflow.keras.datasets import mnist\n",
    "from tensorflow.keras.models import Sequential\n",
    "from tensorflow.keras.layers import Dense\n",
    "from tensorflow.keras.utils import to_categorical\n",
    "from tensorflow.keras.layers import Dense, Activation, Dropout"
   ]
  },
  {
   "cell_type": "code",
   "execution_count": 355,
   "id": "a6958134",
   "metadata": {},
   "outputs": [],
   "source": [
    "from ISLP import load_data\n",
    "import numpy as np\n",
    "import siuba\n",
    "from siuba import _, if_else, select, mutate\n",
    "from ISLP.models import (ModelSpec as MS,summarize)\n",
    "from ISLP import confusion_table\n",
    "import pandas as pd"
   ]
  },
  {
   "cell_type": "code",
   "execution_count": 356,
   "id": "6767e0e0",
   "metadata": {},
   "outputs": [],
   "source": [
    "smarket = load_data('Smarket')"
   ]
  },
  {
   "cell_type": "code",
   "execution_count": 357,
   "id": "55a1c522",
   "metadata": {},
   "outputs": [],
   "source": [
    "smarket2=(\n",
    "    smarket >>\n",
    "    #mutate(Direction = if_else(_.Direction == 'Up',1,0)) >>\n",
    "    mutate(train = if_else(_.Year < 2005,1,0) ) >>\n",
    "    select(~_.Year,~_.Today)\n",
    "\n",
    ")\n",
    "train = (smarket2.train == 1)\n",
    "# print(smarket2.head())\n",
    "\n",
    "# print(design)\n",
    "\n",
    "X = (\n",
    "    smarket2 >>\n",
    "    select(~_.train,~_.Direction)\n",
    ")\n",
    "y = smarket2['Direction']  == 'Up'\n",
    "\n",
    "X_train, X_test = X.loc[train], X.loc[~train]\n",
    "Y_train, Y_test = y.loc[train], y.loc[~train]\n",
    "Y_test_raw =Y_test"
   ]
  },
  {
   "cell_type": "code",
   "execution_count": 358,
   "id": "6c623eee",
   "metadata": {},
   "outputs": [
    {
     "data": {
      "text/plain": [
       "Index(['Lag1', 'Lag2'], dtype='object')"
      ]
     },
     "execution_count": 358,
     "metadata": {},
     "output_type": "execute_result"
    }
   ],
   "source": [
    "X_train = (\n",
    "    X_train >>    select(_.Lag1,_.Lag2)\n",
    "\n",
    ")\n",
    "X_test = (\n",
    "    X_test >>    select(_.Lag1,_.Lag2)\n",
    "\n",
    ")\n",
    "X_train.columns"
   ]
  },
  {
   "cell_type": "code",
   "execution_count": 359,
   "id": "847777de",
   "metadata": {},
   "outputs": [
    {
     "data": {
      "text/plain": [
       "998     False\n",
       "999     False\n",
       "1000    False\n",
       "1001     True\n",
       "1002    False\n",
       "        ...  \n",
       "1245     True\n",
       "1246    False\n",
       "1247     True\n",
       "1248    False\n",
       "1249    False\n",
       "Name: Direction, Length: 252, dtype: bool"
      ]
     },
     "execution_count": 359,
     "metadata": {},
     "output_type": "execute_result"
    }
   ],
   "source": [
    "Y_test"
   ]
  },
  {
   "cell_type": "code",
   "execution_count": 360,
   "id": "90e779e6",
   "metadata": {},
   "outputs": [],
   "source": [
    "# X_train\n",
    "feature_vector_length = 2\n",
    "num_classes = 2"
   ]
  },
  {
   "cell_type": "code",
   "execution_count": 361,
   "id": "b016095d",
   "metadata": {},
   "outputs": [
    {
     "name": "stdout",
     "output_type": "stream",
     "text": [
      "Feature shape: (2,)\n"
     ]
    }
   ],
   "source": [
    "Y_train = to_categorical(Y_train, num_classes)\n",
    "Y_test = to_categorical(Y_test, num_classes)\n",
    "\n",
    "# Set the input shape\n",
    "input_shape = (feature_vector_length,)\n",
    "print(f'Feature shape: {input_shape}')\n",
    "\n",
    "# Create the model\n"
   ]
  },
  {
   "cell_type": "code",
   "execution_count": 362,
   "id": "3b4e970e",
   "metadata": {},
   "outputs": [
    {
     "data": {
      "text/plain": [
       "array([[1., 0.],\n",
       "       [1., 0.],\n",
       "       [1., 0.],\n",
       "       [0., 1.],\n",
       "       [1., 0.],\n",
       "       [0., 1.],\n",
       "       [1., 0.],\n",
       "       [0., 1.],\n",
       "       [1., 0.],\n",
       "       [0., 1.],\n",
       "       [0., 1.],\n",
       "       [1., 0.],\n",
       "       [1., 0.],\n",
       "       [1., 0.],\n",
       "       [1., 0.],\n",
       "       [0., 1.],\n",
       "       [0., 1.],\n",
       "       [0., 1.],\n",
       "       [1., 0.],\n",
       "       [0., 1.],\n",
       "       [0., 1.],\n",
       "       [0., 1.],\n",
       "       [1., 0.],\n",
       "       [0., 1.],\n",
       "       [1., 0.],\n",
       "       [0., 1.],\n",
       "       [1., 0.],\n",
       "       [0., 1.],\n",
       "       [0., 1.],\n",
       "       [0., 1.],\n",
       "       [0., 1.],\n",
       "       [0., 1.],\n",
       "       [1., 0.],\n",
       "       [0., 1.],\n",
       "       [1., 0.],\n",
       "       [0., 1.],\n",
       "       [0., 1.],\n",
       "       [0., 1.],\n",
       "       [1., 0.],\n",
       "       [0., 1.],\n",
       "       [1., 0.],\n",
       "       [0., 1.],\n",
       "       [0., 1.],\n",
       "       [0., 1.],\n",
       "       [1., 0.],\n",
       "       [1., 0.],\n",
       "       [0., 1.],\n",
       "       [1., 0.],\n",
       "       [0., 1.],\n",
       "       [1., 0.],\n",
       "       [1., 0.],\n",
       "       [0., 1.],\n",
       "       [1., 0.],\n",
       "       [1., 0.],\n",
       "       [1., 0.],\n",
       "       [0., 1.],\n",
       "       [1., 0.],\n",
       "       [0., 1.],\n",
       "       [1., 0.],\n",
       "       [0., 1.],\n",
       "       [1., 0.],\n",
       "       [1., 0.],\n",
       "       [0., 1.],\n",
       "       [0., 1.],\n",
       "       [0., 1.],\n",
       "       [0., 1.],\n",
       "       [1., 0.],\n",
       "       [0., 1.],\n",
       "       [0., 1.],\n",
       "       [1., 0.],\n",
       "       [1., 0.],\n",
       "       [1., 0.],\n",
       "       [0., 1.],\n",
       "       [0., 1.],\n",
       "       [1., 0.],\n",
       "       [0., 1.],\n",
       "       [1., 0.],\n",
       "       [0., 1.],\n",
       "       [1., 0.],\n",
       "       [0., 1.],\n",
       "       [1., 0.],\n",
       "       [0., 1.],\n",
       "       [0., 1.],\n",
       "       [1., 0.],\n",
       "       [0., 1.],\n",
       "       [1., 0.],\n",
       "       [1., 0.],\n",
       "       [0., 1.],\n",
       "       [1., 0.],\n",
       "       [0., 1.],\n",
       "       [1., 0.],\n",
       "       [1., 0.],\n",
       "       [0., 1.],\n",
       "       [0., 1.],\n",
       "       [0., 1.],\n",
       "       [0., 1.],\n",
       "       [1., 0.],\n",
       "       [0., 1.],\n",
       "       [0., 1.],\n",
       "       [1., 0.],\n",
       "       [0., 1.],\n",
       "       [0., 1.],\n",
       "       [1., 0.],\n",
       "       [0., 1.],\n",
       "       [0., 1.],\n",
       "       [1., 0.],\n",
       "       [0., 1.],\n",
       "       [1., 0.],\n",
       "       [1., 0.],\n",
       "       [0., 1.],\n",
       "       [1., 0.],\n",
       "       [0., 1.],\n",
       "       [0., 1.],\n",
       "       [0., 1.],\n",
       "       [0., 1.],\n",
       "       [0., 1.],\n",
       "       [1., 0.],\n",
       "       [1., 0.],\n",
       "       [0., 1.],\n",
       "       [1., 0.],\n",
       "       [1., 0.],\n",
       "       [1., 0.],\n",
       "       [0., 1.],\n",
       "       [1., 0.],\n",
       "       [1., 0.],\n",
       "       [0., 1.],\n",
       "       [0., 1.],\n",
       "       [1., 0.],\n",
       "       [0., 1.],\n",
       "       [0., 1.],\n",
       "       [0., 1.],\n",
       "       [0., 1.],\n",
       "       [0., 1.],\n",
       "       [0., 1.],\n",
       "       [0., 1.],\n",
       "       [1., 0.],\n",
       "       [0., 1.],\n",
       "       [0., 1.],\n",
       "       [1., 0.],\n",
       "       [0., 1.],\n",
       "       [1., 0.],\n",
       "       [0., 1.],\n",
       "       [0., 1.],\n",
       "       [0., 1.],\n",
       "       [1., 0.],\n",
       "       [0., 1.],\n",
       "       [0., 1.],\n",
       "       [0., 1.],\n",
       "       [1., 0.],\n",
       "       [1., 0.],\n",
       "       [1., 0.],\n",
       "       [0., 1.],\n",
       "       [1., 0.],\n",
       "       [0., 1.],\n",
       "       [1., 0.],\n",
       "       [0., 1.],\n",
       "       [1., 0.],\n",
       "       [0., 1.],\n",
       "       [1., 0.],\n",
       "       [0., 1.],\n",
       "       [0., 1.],\n",
       "       [1., 0.],\n",
       "       [1., 0.],\n",
       "       [0., 1.],\n",
       "       [1., 0.],\n",
       "       [0., 1.],\n",
       "       [1., 0.],\n",
       "       [0., 1.],\n",
       "       [0., 1.],\n",
       "       [1., 0.],\n",
       "       [0., 1.],\n",
       "       [0., 1.],\n",
       "       [1., 0.],\n",
       "       [0., 1.],\n",
       "       [1., 0.],\n",
       "       [1., 0.],\n",
       "       [1., 0.],\n",
       "       [0., 1.],\n",
       "       [0., 1.],\n",
       "       [1., 0.],\n",
       "       [1., 0.],\n",
       "       [1., 0.],\n",
       "       [0., 1.],\n",
       "       [0., 1.],\n",
       "       [0., 1.],\n",
       "       [0., 1.],\n",
       "       [0., 1.],\n",
       "       [0., 1.],\n",
       "       [0., 1.],\n",
       "       [1., 0.],\n",
       "       [1., 0.],\n",
       "       [1., 0.],\n",
       "       [1., 0.],\n",
       "       [0., 1.],\n",
       "       [1., 0.],\n",
       "       [1., 0.],\n",
       "       [1., 0.],\n",
       "       [1., 0.],\n",
       "       [0., 1.],\n",
       "       [0., 1.],\n",
       "       [1., 0.],\n",
       "       [0., 1.],\n",
       "       [1., 0.],\n",
       "       [0., 1.],\n",
       "       [0., 1.],\n",
       "       [1., 0.],\n",
       "       [1., 0.],\n",
       "       [1., 0.],\n",
       "       [0., 1.],\n",
       "       [0., 1.],\n",
       "       [1., 0.],\n",
       "       [0., 1.],\n",
       "       [0., 1.],\n",
       "       [0., 1.],\n",
       "       [0., 1.],\n",
       "       [1., 0.],\n",
       "       [0., 1.],\n",
       "       [0., 1.],\n",
       "       [0., 1.],\n",
       "       [1., 0.],\n",
       "       [1., 0.],\n",
       "       [0., 1.],\n",
       "       [0., 1.],\n",
       "       [0., 1.],\n",
       "       [0., 1.],\n",
       "       [0., 1.],\n",
       "       [0., 1.],\n",
       "       [0., 1.],\n",
       "       [1., 0.],\n",
       "       [0., 1.],\n",
       "       [1., 0.],\n",
       "       [0., 1.],\n",
       "       [0., 1.],\n",
       "       [1., 0.],\n",
       "       [0., 1.],\n",
       "       [1., 0.],\n",
       "       [1., 0.],\n",
       "       [0., 1.],\n",
       "       [0., 1.],\n",
       "       [0., 1.],\n",
       "       [0., 1.],\n",
       "       [1., 0.],\n",
       "       [1., 0.],\n",
       "       [1., 0.],\n",
       "       [1., 0.],\n",
       "       [0., 1.],\n",
       "       [0., 1.],\n",
       "       [0., 1.],\n",
       "       [1., 0.],\n",
       "       [0., 1.],\n",
       "       [1., 0.],\n",
       "       [1., 0.]], dtype=float32)"
      ]
     },
     "execution_count": 362,
     "metadata": {},
     "output_type": "execute_result"
    }
   ],
   "source": [
    "Y_test"
   ]
  },
  {
   "cell_type": "code",
   "execution_count": 363,
   "id": "ff985b68",
   "metadata": {},
   "outputs": [],
   "source": [
    "batch_size = 250\n",
    "hidden_units = 2\n",
    "dropout = 0.45"
   ]
  },
  {
   "cell_type": "code",
   "execution_count": 364,
   "id": "24551670",
   "metadata": {},
   "outputs": [],
   "source": [
    "# best model\n",
    "model = Sequential()\n",
    "model.add(Dense(256, input_shape=input_shape))#, activation='relu'))\n",
    "model.add(Dropout(dropout))\n",
    "model.add(Dense(64))#, activation='relu'))\n",
    "model.add(Dropout(dropout))\n",
    "model.add(Dense(num_classes))\n",
    "#Test results - Loss: 0.6916869282722473 - Accuracy: 0.5357142686843872%"
   ]
  },
  {
   "cell_type": "code",
   "execution_count": 365,
   "id": "e885fc1a",
   "metadata": {},
   "outputs": [],
   "source": [
    "# # best model\n",
    "# model = Sequential()\n",
    "# model.add(Dense(64, input_shape=2, activation='relu'))\n",
    "# model.add(Dense(256, input_shape=input_shape, activation='relu'))\n",
    "# model.add(Dense(64, input_shape=input_shape, activation='relu'))\n",
    "# model.add(Dense(16, activation='relu'))\n",
    "\n",
    "# model.add(Dense(num_classes, activation='softmax'))\n",
    "# #Test results - Loss: 0.7014935612678528 - Accuracy: 0.5595238208770752%"
   ]
  },
  {
   "cell_type": "code",
   "execution_count": 366,
   "id": "f3d3d088",
   "metadata": {},
   "outputs": [
    {
     "name": "stdout",
     "output_type": "stream",
     "text": [
      "Epoch 1/15\n",
      "4/4 [==============================] - 2s 565ms/step - loss: 4.3724 - accuracy: 0.5038 - val_loss: 1.5724 - val_accuracy: 0.4800\n",
      "Epoch 2/15\n",
      "4/4 [==============================] - 0s 13ms/step - loss: 3.4533 - accuracy: 0.5238 - val_loss: 0.8609 - val_accuracy: 0.4950\n",
      "Epoch 3/15\n",
      "4/4 [==============================] - 0s 14ms/step - loss: 2.5454 - accuracy: 0.4674 - val_loss: 0.6982 - val_accuracy: 0.5100\n",
      "Epoch 4/15\n",
      "4/4 [==============================] - 0s 14ms/step - loss: 2.2224 - accuracy: 0.5263 - val_loss: 0.7076 - val_accuracy: 0.5050\n",
      "Epoch 5/15\n",
      "4/4 [==============================] - 0s 12ms/step - loss: 2.0679 - accuracy: 0.4862 - val_loss: 0.6960 - val_accuracy: 0.5650\n",
      "Epoch 6/15\n",
      "4/4 [==============================] - 0s 11ms/step - loss: 1.9373 - accuracy: 0.5025 - val_loss: 0.7784 - val_accuracy: 0.5500\n",
      "Epoch 7/15\n",
      "4/4 [==============================] - 0s 13ms/step - loss: 1.6451 - accuracy: 0.4687 - val_loss: 0.7016 - val_accuracy: 0.5600\n",
      "Epoch 8/15\n",
      "4/4 [==============================] - 0s 13ms/step - loss: 1.3902 - accuracy: 0.5288 - val_loss: 0.7024 - val_accuracy: 0.5150\n",
      "Epoch 9/15\n",
      "4/4 [==============================] - 0s 13ms/step - loss: 1.6886 - accuracy: 0.4987 - val_loss: 0.7133 - val_accuracy: 0.4850\n",
      "Epoch 10/15\n",
      "4/4 [==============================] - 0s 13ms/step - loss: 1.4247 - accuracy: 0.5013 - val_loss: 0.7136 - val_accuracy: 0.5100\n",
      "Epoch 11/15\n",
      "4/4 [==============================] - 0s 12ms/step - loss: 1.4045 - accuracy: 0.5075 - val_loss: 0.7000 - val_accuracy: 0.5250\n",
      "Epoch 12/15\n",
      "4/4 [==============================] - 0s 10ms/step - loss: 1.4988 - accuracy: 0.5238 - val_loss: 0.7158 - val_accuracy: 0.5350\n",
      "Epoch 13/15\n",
      "4/4 [==============================] - 0s 13ms/step - loss: 1.4411 - accuracy: 0.4950 - val_loss: 0.7776 - val_accuracy: 0.5250\n",
      "Epoch 14/15\n",
      "4/4 [==============================] - 0s 14ms/step - loss: 1.4866 - accuracy: 0.5088 - val_loss: 0.6906 - val_accuracy: 0.5400\n",
      "Epoch 15/15\n",
      "4/4 [==============================] - 0s 13ms/step - loss: 1.1695 - accuracy: 0.5201 - val_loss: 0.7020 - val_accuracy: 0.5300\n",
      "8/8 [==============================] - 0s 0s/step - loss: 0.6831 - accuracy: 0.5397\n",
      "Test results - Loss: 0.683149516582489 - Accuracy: 0.5396825671195984%\n"
     ]
    }
   ],
   "source": [
    "model.compile(loss='categorical_crossentropy', optimizer='adam', metrics=['accuracy'])\n",
    "model.fit(X_train, Y_train, epochs=15, batch_size=batch_size, verbose=1, validation_split=0.2)\n",
    "\n",
    "# Test the model after training\n",
    "test_results = model.evaluate(X_test, Y_test, verbose=1)\n",
    "print(f'Test results - Loss: {test_results[0]} - Accuracy: {test_results[1]}%')"
   ]
  },
  {
   "cell_type": "code",
   "execution_count": 367,
   "id": "188b07ae",
   "metadata": {},
   "outputs": [
    {
     "data": {
      "text/plain": [
       "[0.683149516582489, 0.5396825671195984]"
      ]
     },
     "execution_count": 367,
     "metadata": {},
     "output_type": "execute_result"
    }
   ],
   "source": [
    "test_results"
   ]
  },
  {
   "cell_type": "code",
   "execution_count": 368,
   "id": "15cf2532",
   "metadata": {},
   "outputs": [
    {
     "name": "stdout",
     "output_type": "stream",
     "text": [
      "8/8 [==============================] - 0s 3ms/step\n"
     ]
    },
    {
     "data": {
      "text/plain": [
       "array([1, 1, 1, 1, 1, 0, 0, 1, 1, 1, 1, 0, 0, 1, 1, 1, 1, 0, 0, 1, 0, 0,\n",
       "       0, 0, 0, 0, 1, 1, 1, 0, 0, 0, 0, 1, 1, 1, 1, 0, 0, 0, 1, 0, 1, 0,\n",
       "       0, 1, 1, 1, 1, 1, 1, 1, 1, 0, 1, 1, 1, 1, 1, 1, 0, 0, 1, 1, 0, 0,\n",
       "       0, 1, 1, 0, 1, 1, 1, 1, 0, 1, 0, 0, 1, 0, 1, 1, 1, 0, 0, 0, 0, 1,\n",
       "       0, 1, 1, 1, 1, 0, 0, 0, 0, 0, 0, 0, 1, 0, 0, 1, 1, 0, 1, 1, 0, 1,\n",
       "       0, 0, 1, 0, 0, 0, 0, 0, 1, 1, 1, 1, 1, 0, 0, 1, 1, 0, 0, 1, 0, 0,\n",
       "       0, 0, 0, 0, 1, 1, 0, 1, 1, 0, 1, 0, 0, 1, 1, 0, 0, 1, 1, 1, 0, 0,\n",
       "       0, 0, 1, 1, 1, 1, 1, 0, 1, 1, 1, 1, 1, 0, 0, 0, 1, 0, 0, 1, 0, 0,\n",
       "       1, 1, 1, 0, 0, 1, 1, 1, 0, 1, 1, 1, 0, 0, 1, 1, 1, 1, 1, 1, 1, 1,\n",
       "       1, 0, 0, 1, 1, 0, 1, 0, 0, 1, 1, 0, 0, 0, 0, 0, 0, 0, 1, 1, 0, 0,\n",
       "       0, 1, 1, 0, 0, 0, 0, 0, 0, 1, 1, 1, 0, 0, 1, 1, 1, 1, 1, 0, 0, 0,\n",
       "       0, 1, 1, 1, 0, 0, 0, 1, 1, 1], dtype=int64)"
      ]
     },
     "execution_count": 368,
     "metadata": {},
     "output_type": "execute_result"
    }
   ],
   "source": [
    "test_pred_raw = model.predict(X_test)\n",
    "test_pred = np.argmax(test_pred_raw, axis=1)\n",
    "test_pred\n"
   ]
  },
  {
   "cell_type": "code",
   "execution_count": 369,
   "id": "b6823375",
   "metadata": {},
   "outputs": [
    {
     "data": {
      "text/html": [
       "<div>\n",
       "<style scoped>\n",
       "    .dataframe tbody tr th:only-of-type {\n",
       "        vertical-align: middle;\n",
       "    }\n",
       "\n",
       "    .dataframe tbody tr th {\n",
       "        vertical-align: top;\n",
       "    }\n",
       "\n",
       "    .dataframe thead th {\n",
       "        text-align: right;\n",
       "    }\n",
       "</style>\n",
       "<table border=\"1\" class=\"dataframe\">\n",
       "  <thead>\n",
       "    <tr style=\"text-align: right;\">\n",
       "      <th></th>\n",
       "      <th>pred</th>\n",
       "      <th>y</th>\n",
       "    </tr>\n",
       "  </thead>\n",
       "  <tbody>\n",
       "    <tr>\n",
       "      <th>0</th>\n",
       "      <td>1</td>\n",
       "      <td>1</td>\n",
       "    </tr>\n",
       "    <tr>\n",
       "      <th>1</th>\n",
       "      <td>1</td>\n",
       "      <td>1</td>\n",
       "    </tr>\n",
       "    <tr>\n",
       "      <th>2</th>\n",
       "      <td>1</td>\n",
       "      <td>0</td>\n",
       "    </tr>\n",
       "    <tr>\n",
       "      <th>3</th>\n",
       "      <td>1</td>\n",
       "      <td>1</td>\n",
       "    </tr>\n",
       "    <tr>\n",
       "      <th>4</th>\n",
       "      <td>1</td>\n",
       "      <td>1</td>\n",
       "    </tr>\n",
       "  </tbody>\n",
       "</table>\n",
       "</div>"
      ],
      "text/plain": [
       "   pred  y\n",
       "0     1  1\n",
       "1     1  1\n",
       "2     1  0\n",
       "3     1  1\n",
       "4     1  1"
      ]
     },
     "execution_count": 369,
     "metadata": {},
     "output_type": "execute_result"
    }
   ],
   "source": [
    "# print(np.array(Y_test))\n",
    "# print(test_pred)\n",
    "# print(len(np.array(Y_test)))\n",
    "# print(len(test_pred))\n",
    "df1 = pd.DataFrame(\n",
    "   \n",
    "    {'pred':  test_pred}\n",
    "    \n",
    ")\n",
    "\n",
    "df2 = (df1 >>\n",
    "       mutate(y=np.array(y.loc[~train])) >>\n",
    "       mutate(y=if_else(y,1,0))\n",
    ")\n",
    "\n",
    "df2.head()\n"
   ]
  },
  {
   "cell_type": "code",
   "execution_count": 370,
   "id": "a08bddbc",
   "metadata": {},
   "outputs": [
    {
     "name": "stdout",
     "output_type": "stream",
     "text": [
      "Truth       0   1\n",
      "Predicted        \n",
      "0          57  62\n",
      "1          54  79\n"
     ]
    }
   ],
   "source": [
    "ct = confusion_table(test_pred, Y_test_raw)\n",
    "print(ct)"
   ]
  },
  {
   "cell_type": "code",
   "execution_count": 371,
   "id": "38bf5c49",
   "metadata": {},
   "outputs": [
    {
     "data": {
      "text/plain": [
       "pandas.core.frame.DataFrame"
      ]
     },
     "execution_count": 371,
     "metadata": {},
     "output_type": "execute_result"
    }
   ],
   "source": [
    "type(ct)"
   ]
  },
  {
   "cell_type": "code",
   "execution_count": 372,
   "id": "bcf19d22",
   "metadata": {},
   "outputs": [
    {
     "data": {
      "text/html": [
       "<div>\n",
       "<style scoped>\n",
       "    .dataframe tbody tr th:only-of-type {\n",
       "        vertical-align: middle;\n",
       "    }\n",
       "\n",
       "    .dataframe tbody tr th {\n",
       "        vertical-align: top;\n",
       "    }\n",
       "\n",
       "    .dataframe thead th {\n",
       "        text-align: right;\n",
       "    }\n",
       "</style>\n",
       "<table border=\"1\" class=\"dataframe\">\n",
       "  <thead>\n",
       "    <tr style=\"text-align: right;\">\n",
       "      <th></th>\n",
       "      <th>Accuracy</th>\n",
       "      <th>Precision</th>\n",
       "      <th>Recall</th>\n",
       "      <th>F_score</th>\n",
       "    </tr>\n",
       "  </thead>\n",
       "  <tbody>\n",
       "    <tr>\n",
       "      <th>0</th>\n",
       "      <td>0.539683</td>\n",
       "      <td>0.593985</td>\n",
       "      <td>0.560284</td>\n",
       "      <td>0.288321</td>\n",
       "    </tr>\n",
       "  </tbody>\n",
       "</table>\n",
       "</div>"
      ],
      "text/plain": [
       "   Accuracy  Precision    Recall   F_score\n",
       "0  0.539683   0.593985  0.560284  0.288321"
      ]
     },
     "execution_count": 372,
     "metadata": {},
     "output_type": "execute_result"
    }
   ],
   "source": [
    "TN = ct.iloc[0,0]\n",
    "TP = ct.iloc[1,1]\n",
    "FN = ct.iloc[0,1]\n",
    "FP = ct.iloc[1,0]\n",
    "Accuracy = (TP + TN) /(TN+TP+FN+FP)\n",
    "Recall = TP /(TP+FN)\n",
    "Precision = TP/(TP+FP)\n",
    "F_score = Recall*Precision/(Recall +Precision)\n",
    "df_r = pd.DataFrame(\n",
    " {'Accuracy': [Accuracy]\n",
    "  ,  'Precision':[Precision],   'Recall':[Recall],    'F_score':[F_score]\n",
    " }\n",
    ")\n",
    "df_r"
   ]
  },
  {
   "cell_type": "code",
   "execution_count": null,
   "id": "7a731a4b",
   "metadata": {},
   "outputs": [],
   "source": []
  }
 ],
 "metadata": {
  "kernelspec": {
   "display_name": "Python 3 (ipykernel)",
   "language": "python",
   "name": "python3"
  },
  "language_info": {
   "codemirror_mode": {
    "name": "ipython",
    "version": 3
   },
   "file_extension": ".py",
   "mimetype": "text/x-python",
   "name": "python",
   "nbconvert_exporter": "python",
   "pygments_lexer": "ipython3",
   "version": "3.11.5"
  }
 },
 "nbformat": 4,
 "nbformat_minor": 5
}
