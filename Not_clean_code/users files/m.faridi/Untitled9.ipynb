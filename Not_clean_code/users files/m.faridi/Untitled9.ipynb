{
 "cells": [
  {
   "cell_type": "code",
   "execution_count": null,
   "id": "657ab5ed",
   "metadata": {},
   "outputs": [],
   "source": [
    "ch1 =[ 'a', 'e', 'i', 'o','I']"
   ]
  },
  {
   "cell_type": "code",
   "execution_count": null,
   "id": "51d4fb51",
   "metadata": {},
   "outputs": [],
   "source": [
    "import random\n",
    "char_list = ['a','e','i','o','u']\n",
    "random.shuffle(char_list)\n",
    "print(''.join(char_list))"
   ]
  },
  {
   "cell_type": "code",
   "execution_count": null,
   "id": "bbb25870",
   "metadata": {},
   "outputs": [],
   "source": [
    "str1  = '100'\n",
    "len(str1)"
   ]
  },
  {
   "cell_type": "code",
   "execution_count": null,
   "id": "de213673",
   "metadata": {},
   "outputs": [],
   "source": [
    "str1 ='google.com'\n",
    "# {'g': 2, 'o': 3, 'l': 1, 'e': 1, '.': 1, 'c': 1, 'm': 1}"
   ]
  },
  {
   "cell_type": "code",
   "execution_count": null,
   "id": "6fde1fec",
   "metadata": {},
   "outputs": [],
   "source": [
    "str1.count('g')"
   ]
  },
  {
   "cell_type": "code",
   "execution_count": null,
   "id": "81febc87",
   "metadata": {},
   "outputs": [],
   "source": [
    "res = dict()"
   ]
  },
  {
   "cell_type": "code",
   "execution_count": null,
   "id": "bcdbf6b5",
   "metadata": {},
   "outputs": [],
   "source": [
    "set(str1)"
   ]
  },
  {
   "cell_type": "code",
   "execution_count": null,
   "id": "fded38b7",
   "metadata": {},
   "outputs": [],
   "source": [
    "for ch in set(str1):\n",
    "    res[ch] = str1.count(ch)"
   ]
  },
  {
   "cell_type": "code",
   "execution_count": null,
   "id": "4ce46738",
   "metadata": {},
   "outputs": [],
   "source": [
    "res"
   ]
  },
  {
   "cell_type": "code",
   "execution_count": null,
   "id": "9a94f08e",
   "metadata": {},
   "outputs": [],
   "source": [
    "import re"
   ]
  },
  {
   "cell_type": "code",
   "execution_count": null,
   "id": "1fee6a71",
   "metadata": {},
   "outputs": [],
   "source": [
    "str1[:2]+'|'+str1[-2:]"
   ]
  },
  {
   "cell_type": "code",
   "execution_count": null,
   "id": "7d5b8bc2",
   "metadata": {},
   "outputs": [],
   "source": [
    "s1 ='www.google.com'"
   ]
  },
  {
   "cell_type": "code",
   "execution_count": null,
   "id": "6c6af112",
   "metadata": {},
   "outputs": [],
   "source": [
    "s1[0]+s1[1:].replace(s1[0],'$')"
   ]
  },
  {
   "cell_type": "code",
   "execution_count": null,
   "id": "dd077dad",
   "metadata": {},
   "outputs": [],
   "source": [
    "print(re.search(r\"\\d{3}\",\"hello1234\")) "
   ]
  },
  {
   "cell_type": "code",
   "execution_count": null,
   "id": "46306209",
   "metadata": {},
   "outputs": [],
   "source": [
    "result = re.search(r\"\\d{3}\",\"hello1234\")"
   ]
  },
  {
   "cell_type": "code",
   "execution_count": null,
   "id": "ada03a7d",
   "metadata": {},
   "outputs": [],
   "source": [
    "result.group()"
   ]
  },
  {
   "cell_type": "code",
   "execution_count": null,
   "id": "8287ebd8",
   "metadata": {},
   "outputs": [],
   "source": [
    "reg = re.compile(r\"(.{2})(.*)(.{2})\")"
   ]
  },
  {
   "cell_type": "code",
   "execution_count": null,
   "id": "03376fc2",
   "metadata": {},
   "outputs": [],
   "source": [
    "grps = reg.search(s1).groups()\n",
    "grps[0]+grps[2]"
   ]
  },
  {
   "cell_type": "code",
   "execution_count": null,
   "id": "90de4019",
   "metadata": {},
   "outputs": [],
   "source": [
    "res = re.search(r\"(.{2})(.*)(.{2})\", s1)"
   ]
  },
  {
   "cell_type": "code",
   "execution_count": null,
   "id": "dd9e9e95",
   "metadata": {},
   "outputs": [],
   "source": [
    "res.groups()"
   ]
  },
  {
   "cell_type": "code",
   "execution_count": null,
   "id": "366f45cd",
   "metadata": {},
   "outputs": [],
   "source": [
    "s2 = 'red, white, black, red, green, black'"
   ]
  },
  {
   "cell_type": "code",
   "execution_count": null,
   "id": "d003d2d2",
   "metadata": {},
   "outputs": [],
   "source": [
    "s2.split(', ')"
   ]
  },
  {
   "cell_type": "code",
   "execution_count": null,
   "id": "ca751821",
   "metadata": {},
   "outputs": [],
   "source": [
    "def add(a,b):\n",
    "    return a+b"
   ]
  },
  {
   "cell_type": "code",
   "execution_count": null,
   "id": "a88fc258",
   "metadata": {},
   "outputs": [],
   "source": [
    "def counter(fn):\n",
    "    cnt = 0\n",
    "    def inner(*args, **kwargs):\n",
    "        nonlocal cnt\n",
    "        cnt = cnt + 1\n",
    "        print(f\"funtion was called:{cnt} times\")\n",
    "        return fn(*args,**kwargs)\n",
    "    return inner        "
   ]
  },
  {
   "cell_type": "code",
   "execution_count": null,
   "id": "a22dbbb6",
   "metadata": {},
   "outputs": [],
   "source": [
    "@counter\n",
    "def add(a,b):\n",
    "    return a+b"
   ]
  },
  {
   "cell_type": "code",
   "execution_count": null,
   "id": "ea961a6e",
   "metadata": {},
   "outputs": [],
   "source": [
    "add(11,2)"
   ]
  },
  {
   "cell_type": "code",
   "execution_count": null,
   "id": "82e99903",
   "metadata": {},
   "outputs": [],
   "source": [
    "def mem(fn):\n",
    "    cache = dict()\n",
    "    \n",
    "    def inner(*args,**kwargs):\n",
    "        all_arge = args.__str__() + kwargs.__str__()\n",
    "        #print(all_arge)\n",
    "        if all_arge not in cache:\n",
    "            cache[all_arge] = fn(*args,**kwargs)\n",
    "        return cache[all_arge]\n",
    "    return inner        "
   ]
  },
  {
   "cell_type": "code",
   "execution_count": null,
   "id": "c1036588",
   "metadata": {},
   "outputs": [],
   "source": [
    "@mem\n",
    "def add(a,b):\n",
    "    print(f'calcullating add({a},{b})')\n",
    "    return a+b\n"
   ]
  },
  {
   "cell_type": "code",
   "execution_count": null,
   "id": "66f37bd6",
   "metadata": {},
   "outputs": [],
   "source": [
    "add(11,b=2)"
   ]
  },
  {
   "cell_type": "code",
   "execution_count": null,
   "id": "ba865f20",
   "metadata": {},
   "outputs": [],
   "source": [
    "add(11,b=20)"
   ]
  },
  {
   "cell_type": "code",
   "execution_count": null,
   "id": "54117c52",
   "metadata": {},
   "outputs": [],
   "source": [
    "from collections import namedtuple"
   ]
  },
  {
   "cell_type": "code",
   "execution_count": 20,
   "id": "aad46eb4",
   "metadata": {},
   "outputs": [],
   "source": [
    "class geo:\n",
    "    \n",
    "    def __init__(self, x,y):\n",
    "        self._x =None\n",
    "        self._y = None\n",
    "        self.x = x\n",
    "        self.y = y\n",
    "        \n",
    "    def __eq__(self, other):\n",
    "        return (self.x==other.x) and (self.y == other.y)\n",
    "    \n",
    "    def __repr__(self):\n",
    "        return f\"geo(x={self.x},y={self.y})\"\n",
    "    \n",
    "    @property\n",
    "    def x(self):\n",
    "        return self._x\n",
    "    \n",
    "    @x.setter\n",
    "    def x(self,x):\n",
    "        if x <=0 :\n",
    "            raise ValueError(\"x must be a positive number\")\n",
    "        self._x = x\n",
    "    \n",
    "    @property\n",
    "    def y(self):\n",
    "        return self._y\n",
    "    \n",
    "    @y.setter\n",
    "    def y(self,y):\n",
    "        if y <=0 :\n",
    "            raise ValueError(\"y must be a positive number\")\n",
    "        self._y = y\n",
    "    \n",
    "    "
   ]
  },
  {
   "cell_type": "code",
   "execution_count": 21,
   "id": "4e8008fc",
   "metadata": {},
   "outputs": [],
   "source": [
    "g1 = geo(1,2)\n",
    "g2 = geo(1,2)"
   ]
  },
  {
   "cell_type": "code",
   "execution_count": 22,
   "id": "1c7cd050",
   "metadata": {},
   "outputs": [
    {
     "data": {
      "text/plain": [
       "True"
      ]
     },
     "execution_count": 22,
     "metadata": {},
     "output_type": "execute_result"
    }
   ],
   "source": [
    "g1 == g2"
   ]
  },
  {
   "cell_type": "code",
   "execution_count": 23,
   "id": "5a3b49b8",
   "metadata": {},
   "outputs": [],
   "source": [
    "g1 = geo(1,2)"
   ]
  },
  {
   "cell_type": "code",
   "execution_count": 24,
   "id": "4829488b",
   "metadata": {},
   "outputs": [
    {
     "data": {
      "text/plain": [
       "geo(x=1,y=2)"
      ]
     },
     "execution_count": 24,
     "metadata": {},
     "output_type": "execute_result"
    }
   ],
   "source": [
    "g1"
   ]
  },
  {
   "cell_type": "code",
   "execution_count": 30,
   "id": "ede49174",
   "metadata": {},
   "outputs": [],
   "source": [
    "g1 = geo(11,2)"
   ]
  },
  {
   "cell_type": "code",
   "execution_count": 27,
   "id": "76478cbe",
   "metadata": {},
   "outputs": [],
   "source": [
    "g1 = geo(11,22)"
   ]
  },
  {
   "cell_type": "code",
   "execution_count": 28,
   "id": "582b2289",
   "metadata": {},
   "outputs": [
    {
     "data": {
      "text/plain": [
       "'geo(x=11,y=22)'"
      ]
     },
     "execution_count": 28,
     "metadata": {},
     "output_type": "execute_result"
    }
   ],
   "source": [
    "g1.__str__()"
   ]
  },
  {
   "cell_type": "code",
   "execution_count": 31,
   "id": "96345fb6",
   "metadata": {},
   "outputs": [
    {
     "data": {
      "text/plain": [
       "'geo(x=11,y=2)'"
      ]
     },
     "execution_count": 31,
     "metadata": {},
     "output_type": "execute_result"
    }
   ],
   "source": [
    "str(g1)"
   ]
  },
  {
   "cell_type": "code",
   "execution_count": 32,
   "id": "82a4fc5d",
   "metadata": {},
   "outputs": [],
   "source": [
    "from collections import namedtuple"
   ]
  },
  {
   "cell_type": "code",
   "execution_count": 33,
   "id": "534e9431",
   "metadata": {},
   "outputs": [],
   "source": [
    "geo = namedtuple('geo',['x','y'])"
   ]
  },
  {
   "cell_type": "code",
   "execution_count": 39,
   "id": "a29b14c9",
   "metadata": {},
   "outputs": [],
   "source": [
    "g1 = geo(1,2)\n",
    "g2 = geo(1,2)"
   ]
  },
  {
   "cell_type": "code",
   "execution_count": 42,
   "id": "eff7ea40",
   "metadata": {},
   "outputs": [
    {
     "data": {
      "text/plain": [
       "(1, 2, 1, 2)"
      ]
     },
     "execution_count": 42,
     "metadata": {},
     "output_type": "execute_result"
    }
   ],
   "source": [
    "g1 + g2"
   ]
  },
  {
   "cell_type": "code",
   "execution_count": 52,
   "id": "0046c3d3",
   "metadata": {},
   "outputs": [],
   "source": [
    "class tgeo(geo):\n",
    "    def __add__(self, other):\n",
    "        return geo(self.x+other.x, self.y+other.y) \n",
    "    def __mul__(self, other):\n",
    "        return geo(self.x*other.x, self.y*other.y) "
   ]
  },
  {
   "cell_type": "code",
   "execution_count": 53,
   "id": "ba9824e3",
   "metadata": {},
   "outputs": [
    {
     "data": {
      "text/plain": [
       "geo(x=4, y=5)"
      ]
     },
     "execution_count": 53,
     "metadata": {},
     "output_type": "execute_result"
    }
   ],
   "source": [
    "tg1 =  tgeo(1,2)\n",
    "tg2 =  tgeo(3,3)\n",
    "tg1 + tg2"
   ]
  },
  {
   "cell_type": "code",
   "execution_count": 54,
   "id": "479e1318",
   "metadata": {},
   "outputs": [
    {
     "data": {
      "text/plain": [
       "geo(x=3, y=6)"
      ]
     },
     "execution_count": 54,
     "metadata": {},
     "output_type": "execute_result"
    }
   ],
   "source": [
    "tg1 * tg2"
   ]
  },
  {
   "cell_type": "code",
   "execution_count": null,
   "id": "5c2f89b9",
   "metadata": {},
   "outputs": [],
   "source": []
  },
  {
   "cell_type": "code",
   "execution_count": null,
   "id": "551c5280",
   "metadata": {},
   "outputs": [],
   "source": []
  },
  {
   "cell_type": "code",
   "execution_count": 107,
   "id": "60b16ae9",
   "metadata": {},
   "outputs": [],
   "source": [
    "class Rectangle():\n",
    "    \n",
    "    def __init__(self, x,y):\n",
    "        self._x = None\n",
    "        self._y = None\n",
    "        self.x = x\n",
    "        self.y =y \n",
    "    \n",
    "    def __repr__(self):\n",
    "        return f\"Rectangle(x={self.x},y={self.y})\"\n",
    "    \n",
    "    def __add__(self,other):\n",
    "        return Rectangle(self.x+other.x,self.y+other.y)\n",
    "    \n",
    "    @property\n",
    "    def x(self):\n",
    "        return self._x \n",
    "    \n",
    "    @x.setter\n",
    "    def x(self,x):\n",
    "        if x<=0:\n",
    "            raise ValueError(\"x must be positive\")\n",
    "        self._x = x\n",
    "        \n",
    "    def __eq__(self,other):\n",
    "        return (self.x == other.x) and (self.y == other.y)\n",
    "    \n",
    "    def __set_x__(self, x):\n",
    "        print(\"__set_x__\")\n",
    "        self._x = x"
   ]
  },
  {
   "cell_type": "code",
   "execution_count": 108,
   "id": "71dc3fd4",
   "metadata": {},
   "outputs": [
    {
     "data": {
      "text/plain": [
       "False"
      ]
     },
     "execution_count": 108,
     "metadata": {},
     "output_type": "execute_result"
    }
   ],
   "source": [
    "r1 = Rectangle(1,20)\n",
    "r2 = Rectangle(1,200)\n",
    "r1 == r2"
   ]
  },
  {
   "cell_type": "code",
   "execution_count": 109,
   "id": "d065ec29",
   "metadata": {},
   "outputs": [
    {
     "data": {
      "text/plain": [
       "Rectangle(x=1,y=20)"
      ]
     },
     "execution_count": 109,
     "metadata": {},
     "output_type": "execute_result"
    }
   ],
   "source": [
    "r1 = Rectangle(1,20)\n",
    "r2 = Rectangle(10,2)\n",
    "r1"
   ]
  },
  {
   "cell_type": "code",
   "execution_count": 110,
   "id": "27e1718b",
   "metadata": {},
   "outputs": [
    {
     "data": {
      "text/plain": [
       "Rectangle(x=11,y=22)"
      ]
     },
     "execution_count": 110,
     "metadata": {},
     "output_type": "execute_result"
    }
   ],
   "source": [
    "r1 + r2"
   ]
  },
  {
   "cell_type": "code",
   "execution_count": 111,
   "id": "06aa697a",
   "metadata": {},
   "outputs": [
    {
     "ename": "ValueError",
     "evalue": "x must be positive",
     "output_type": "error",
     "traceback": [
      "\u001b[1;31m---------------------------------------------------------------------------\u001b[0m",
      "\u001b[1;31mValueError\u001b[0m                                Traceback (most recent call last)",
      "Cell \u001b[1;32mIn[111], line 1\u001b[0m\n\u001b[1;32m----> 1\u001b[0m r1 \u001b[38;5;241m=\u001b[39m Rectangle(\u001b[38;5;241m-\u001b[39m\u001b[38;5;241m1\u001b[39m,\u001b[38;5;241m20\u001b[39m)\n\u001b[0;32m      2\u001b[0m r1\u001b[38;5;241m.\u001b[39mx\n",
      "Cell \u001b[1;32mIn[107], line 6\u001b[0m, in \u001b[0;36mRectangle.__init__\u001b[1;34m(self, x, y)\u001b[0m\n\u001b[0;32m      4\u001b[0m \u001b[38;5;28mself\u001b[39m\u001b[38;5;241m.\u001b[39m_x \u001b[38;5;241m=\u001b[39m \u001b[38;5;28;01mNone\u001b[39;00m\n\u001b[0;32m      5\u001b[0m \u001b[38;5;28mself\u001b[39m\u001b[38;5;241m.\u001b[39m_y \u001b[38;5;241m=\u001b[39m \u001b[38;5;28;01mNone\u001b[39;00m\n\u001b[1;32m----> 6\u001b[0m \u001b[38;5;28mself\u001b[39m\u001b[38;5;241m.\u001b[39mx \u001b[38;5;241m=\u001b[39m x\n\u001b[0;32m      7\u001b[0m \u001b[38;5;28mself\u001b[39m\u001b[38;5;241m.\u001b[39my \u001b[38;5;241m=\u001b[39my\n",
      "Cell \u001b[1;32mIn[107], line 22\u001b[0m, in \u001b[0;36mRectangle.x\u001b[1;34m(self, x)\u001b[0m\n\u001b[0;32m     19\u001b[0m \u001b[38;5;129m@x\u001b[39m\u001b[38;5;241m.\u001b[39msetter\n\u001b[0;32m     20\u001b[0m \u001b[38;5;28;01mdef\u001b[39;00m \u001b[38;5;21mx\u001b[39m(\u001b[38;5;28mself\u001b[39m,x):\n\u001b[0;32m     21\u001b[0m     \u001b[38;5;28;01mif\u001b[39;00m x\u001b[38;5;241m<\u001b[39m\u001b[38;5;241m=\u001b[39m\u001b[38;5;241m0\u001b[39m:\n\u001b[1;32m---> 22\u001b[0m         \u001b[38;5;28;01mraise\u001b[39;00m \u001b[38;5;167;01mValueError\u001b[39;00m(\u001b[38;5;124m\"\u001b[39m\u001b[38;5;124mx must be positive\u001b[39m\u001b[38;5;124m\"\u001b[39m)\n\u001b[0;32m     23\u001b[0m     \u001b[38;5;28mself\u001b[39m\u001b[38;5;241m.\u001b[39m_x \u001b[38;5;241m=\u001b[39m x\n",
      "\u001b[1;31mValueError\u001b[0m: x must be positive"
     ]
    }
   ],
   "source": [
    "r1 = Rectangle(-1,20)\n",
    "r1.x"
   ]
  },
  {
   "cell_type": "code",
   "execution_count": 112,
   "id": "b667a06d",
   "metadata": {},
   "outputs": [],
   "source": [
    "r1 = Rectangle(10,20)"
   ]
  },
  {
   "cell_type": "code",
   "execution_count": 113,
   "id": "d3d32089",
   "metadata": {},
   "outputs": [],
   "source": [
    "r1._x =-5"
   ]
  },
  {
   "cell_type": "code",
   "execution_count": 114,
   "id": "88f5f0c3",
   "metadata": {},
   "outputs": [],
   "source": [
    "r1.x =8"
   ]
  },
  {
   "cell_type": "code",
   "execution_count": null,
   "id": "2d3f37e9",
   "metadata": {},
   "outputs": [],
   "source": []
  },
  {
   "cell_type": "code",
   "execution_count": null,
   "id": "71fe1b38",
   "metadata": {},
   "outputs": [],
   "source": []
  },
  {
   "cell_type": "code",
   "execution_count": null,
   "id": "2b97c97c",
   "metadata": {},
   "outputs": [],
   "source": []
  },
  {
   "cell_type": "code",
   "execution_count": 127,
   "id": "7c058959",
   "metadata": {},
   "outputs": [],
   "source": [
    "def mem(fn):\n",
    "    cache = dict()\n",
    "    def inner(*args,**kwargs):\n",
    "        nonlocal cache\n",
    "        all_args = args.__str__() + kwargs.__str__()\n",
    "        if all_args not in cache:\n",
    "            cache[all_args] = fn(*args,**kwargs)\n",
    "        return cache[all_args]\n",
    "    return inner"
   ]
  },
  {
   "cell_type": "code",
   "execution_count": 128,
   "id": "50a06a71",
   "metadata": {},
   "outputs": [],
   "source": [
    "@mem\n",
    "def add(a,b):\n",
    "    print(f'calculating add({a},{b})')\n",
    "    return a+b"
   ]
  },
  {
   "cell_type": "code",
   "execution_count": 129,
   "id": "0dd28715",
   "metadata": {},
   "outputs": [
    {
     "name": "stdout",
     "output_type": "stream",
     "text": [
      "calculating add(1,2)\n"
     ]
    },
    {
     "data": {
      "text/plain": [
       "3"
      ]
     },
     "execution_count": 129,
     "metadata": {},
     "output_type": "execute_result"
    }
   ],
   "source": [
    "add(1,2)"
   ]
  },
  {
   "cell_type": "code",
   "execution_count": 130,
   "id": "96a83ab3",
   "metadata": {},
   "outputs": [
    {
     "data": {
      "text/plain": [
       "3"
      ]
     },
     "execution_count": 130,
     "metadata": {},
     "output_type": "execute_result"
    }
   ],
   "source": [
    "add(1,2)"
   ]
  },
  {
   "cell_type": "code",
   "execution_count": 131,
   "id": "246fc1bd",
   "metadata": {},
   "outputs": [
    {
     "name": "stdout",
     "output_type": "stream",
     "text": [
      "calculating add(2,4)\n"
     ]
    },
    {
     "data": {
      "text/plain": [
       "6"
      ]
     },
     "execution_count": 131,
     "metadata": {},
     "output_type": "execute_result"
    }
   ],
   "source": [
    "add(2,b=4)"
   ]
  },
  {
   "cell_type": "code",
   "execution_count": 132,
   "id": "678cb825",
   "metadata": {},
   "outputs": [
    {
     "data": {
      "text/plain": [
       "6"
      ]
     },
     "execution_count": 132,
     "metadata": {},
     "output_type": "execute_result"
    }
   ],
   "source": [
    "add(2,b=4)"
   ]
  },
  {
   "cell_type": "code",
   "execution_count": 133,
   "id": "9846a8a2",
   "metadata": {},
   "outputs": [
    {
     "name": "stdout",
     "output_type": "stream",
     "text": [
      "calculating add(2,4)\n"
     ]
    },
    {
     "data": {
      "text/plain": [
       "6"
      ]
     },
     "execution_count": 133,
     "metadata": {},
     "output_type": "execute_result"
    }
   ],
   "source": [
    "add(a=2,b=4)"
   ]
  },
  {
   "cell_type": "code",
   "execution_count": 134,
   "id": "bf958f3b",
   "metadata": {},
   "outputs": [
    {
     "data": {
      "text/plain": [
       "6"
      ]
     },
     "execution_count": 134,
     "metadata": {},
     "output_type": "execute_result"
    }
   ],
   "source": [
    "add(a=2,b=4)"
   ]
  },
  {
   "cell_type": "code",
   "execution_count": 135,
   "id": "2f175d7b",
   "metadata": {},
   "outputs": [
    {
     "data": {
      "text/plain": [
       "3"
      ]
     },
     "execution_count": 135,
     "metadata": {},
     "output_type": "execute_result"
    }
   ],
   "source": [
    "add(1,2)"
   ]
  },
  {
   "cell_type": "code",
   "execution_count": 156,
   "id": "25abc548",
   "metadata": {},
   "outputs": [],
   "source": [
    "class geo():\n",
    "    def __init__(self,x,y):\n",
    "        self._x = None\n",
    "        self._y = None\n",
    "        self.x = x\n",
    "        self.y = y\n",
    "    def __repr__(self):\n",
    "        return f\"geo(x={self.x},y={self.y})\"\n",
    "    \n",
    "    def __eq__(self,other):\n",
    "        return (self.x,self.y) == (other.x,other.y)\n",
    "    @property\n",
    "    def x(self):\n",
    "        return self._x\n",
    "    @x.setter\n",
    "    def x(self,x):\n",
    "        if x<0:\n",
    "            raise ValueError(\"x must be positive\")\n",
    "        self._x = x\n",
    "        "
   ]
  },
  {
   "cell_type": "code",
   "execution_count": 157,
   "id": "5367f45b",
   "metadata": {},
   "outputs": [],
   "source": [
    "g1 = geo(1,2)"
   ]
  },
  {
   "cell_type": "code",
   "execution_count": 158,
   "id": "1c4efb88",
   "metadata": {},
   "outputs": [
    {
     "data": {
      "text/plain": [
       "geo(x=1,y=2)"
      ]
     },
     "execution_count": 158,
     "metadata": {},
     "output_type": "execute_result"
    }
   ],
   "source": [
    "g1"
   ]
  },
  {
   "cell_type": "code",
   "execution_count": 159,
   "id": "55aa95cd",
   "metadata": {},
   "outputs": [],
   "source": [
    "g2 = geo(1,5)"
   ]
  },
  {
   "cell_type": "code",
   "execution_count": 160,
   "id": "507f47b5",
   "metadata": {},
   "outputs": [
    {
     "data": {
      "text/plain": [
       "False"
      ]
     },
     "execution_count": 160,
     "metadata": {},
     "output_type": "execute_result"
    }
   ],
   "source": [
    "g1 ==  g2"
   ]
  },
  {
   "cell_type": "code",
   "execution_count": 161,
   "id": "7da0656c",
   "metadata": {},
   "outputs": [
    {
     "ename": "ValueError",
     "evalue": "x must be positive",
     "output_type": "error",
     "traceback": [
      "\u001b[1;31m---------------------------------------------------------------------------\u001b[0m",
      "\u001b[1;31mValueError\u001b[0m                                Traceback (most recent call last)",
      "Cell \u001b[1;32mIn[161], line 1\u001b[0m\n\u001b[1;32m----> 1\u001b[0m g3 \u001b[38;5;241m=\u001b[39m geo(\u001b[38;5;241m-\u001b[39m\u001b[38;5;241m9\u001b[39m,\u001b[38;5;241m1\u001b[39m)\n",
      "Cell \u001b[1;32mIn[156], line 5\u001b[0m, in \u001b[0;36mgeo.__init__\u001b[1;34m(self, x, y)\u001b[0m\n\u001b[0;32m      3\u001b[0m \u001b[38;5;28mself\u001b[39m\u001b[38;5;241m.\u001b[39m_x \u001b[38;5;241m=\u001b[39m \u001b[38;5;28;01mNone\u001b[39;00m\n\u001b[0;32m      4\u001b[0m \u001b[38;5;28mself\u001b[39m\u001b[38;5;241m.\u001b[39m_y \u001b[38;5;241m=\u001b[39m \u001b[38;5;28;01mNone\u001b[39;00m\n\u001b[1;32m----> 5\u001b[0m \u001b[38;5;28mself\u001b[39m\u001b[38;5;241m.\u001b[39mx \u001b[38;5;241m=\u001b[39m x\n\u001b[0;32m      6\u001b[0m \u001b[38;5;28mself\u001b[39m\u001b[38;5;241m.\u001b[39my \u001b[38;5;241m=\u001b[39m y\n",
      "Cell \u001b[1;32mIn[156], line 18\u001b[0m, in \u001b[0;36mgeo.x\u001b[1;34m(self, x)\u001b[0m\n\u001b[0;32m     15\u001b[0m \u001b[38;5;129m@x\u001b[39m\u001b[38;5;241m.\u001b[39msetter\n\u001b[0;32m     16\u001b[0m \u001b[38;5;28;01mdef\u001b[39;00m \u001b[38;5;21mx\u001b[39m(\u001b[38;5;28mself\u001b[39m,x):\n\u001b[0;32m     17\u001b[0m     \u001b[38;5;28;01mif\u001b[39;00m x\u001b[38;5;241m<\u001b[39m\u001b[38;5;241m0\u001b[39m:\n\u001b[1;32m---> 18\u001b[0m         \u001b[38;5;28;01mraise\u001b[39;00m \u001b[38;5;167;01mValueError\u001b[39;00m(\u001b[38;5;124m\"\u001b[39m\u001b[38;5;124mx must be positive\u001b[39m\u001b[38;5;124m\"\u001b[39m)\n\u001b[0;32m     19\u001b[0m     \u001b[38;5;28mself\u001b[39m\u001b[38;5;241m.\u001b[39m_x \u001b[38;5;241m=\u001b[39m x\n",
      "\u001b[1;31mValueError\u001b[0m: x must be positive"
     ]
    }
   ],
   "source": [
    "g3 = geo(-9,1)"
   ]
  },
  {
   "cell_type": "code",
   "execution_count": null,
   "id": "18d271e8",
   "metadata": {},
   "outputs": [],
   "source": []
  }
 ],
 "metadata": {
  "kernelspec": {
   "display_name": "Python 3 (ipykernel)",
   "language": "python",
   "name": "python3"
  },
  "language_info": {
   "codemirror_mode": {
    "name": "ipython",
    "version": 3
   },
   "file_extension": ".py",
   "mimetype": "text/x-python",
   "name": "python",
   "nbconvert_exporter": "python",
   "pygments_lexer": "ipython3",
   "version": "3.11.5"
  }
 },
 "nbformat": 4,
 "nbformat_minor": 5
}
