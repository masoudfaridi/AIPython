{
 "cells": [
  {
   "cell_type": "markdown",
   "id": "89975079",
   "metadata": {},
   "source": [
    "class Tag:    \n",
    "    def __init__(self,tag):\n",
    "        self.tag = tag\n",
    "    \n",
    "    def __enter__(self):\n",
    "        print(f'<{self.tag}>',end='')\n",
    "        \n",
    "    def __exit__(self,a,b,c):\n",
    "        print(f'</{self.tag}>',end='')"
   ]
  },
  {
   "cell_type": "code",
   "execution_count": 4,
   "id": "9da9ca58",
   "metadata": {},
   "outputs": [],
   "source": [
    "class Tag:    \n",
    "    def __init__(self,tag):\n",
    "        self.tag = tag\n",
    "    \n",
    "    def __enter__(self):\n",
    "        print(f'<{self.tag}>',end='')\n",
    "        \n",
    "    def __exit__(self,exc_type, exc_val, exc_tb):\n",
    "        print(f'</{self.tag}>',end='')"
   ]
  },
  {
   "cell_type": "code",
   "execution_count": 5,
   "id": "e4b9ae00",
   "metadata": {},
   "outputs": [
    {
     "name": "stdout",
     "output_type": "stream",
     "text": [
      "<p>Hi!</p>"
     ]
    }
   ],
   "source": [
    "with Tag('p'):\n",
    "    print('Hi!',end='')"
   ]
  },
  {
   "cell_type": "code",
   "execution_count": 16,
   "id": "a678644a",
   "metadata": {},
   "outputs": [],
   "source": [
    "from time import perf_counter, sleep\n",
    "class Timer:\n",
    "    def __init__(self):\n",
    "        self.elapsed = 0\n",
    "        self.start = 0\n",
    "    def __enter__(self):\n",
    "        self.start = perf_counter()        \n",
    "        return self\n",
    "    def __exit__(self, exc_type, exc_val, exc_tb):\n",
    "        self.end = perf_counter()\n",
    "        self.elapsed = self.end - self.start\n",
    "        return False"
   ]
  },
  {
   "cell_type": "code",
   "execution_count": 17,
   "id": "e3d6d251",
   "metadata": {},
   "outputs": [],
   "source": [
    "with Timer() as timer:\n",
    "    sleep(3)"
   ]
  },
  {
   "cell_type": "code",
   "execution_count": 19,
   "id": "cfd21233",
   "metadata": {},
   "outputs": [
    {
     "name": "stdout",
     "output_type": "stream",
     "text": [
      "Start:539265.7096989, End: 539268.7106122 , Elapsed: 3.0009132999693975\n"
     ]
    }
   ],
   "source": [
    "print(f'Start:{timer.start}, End: {timer.end} , Elapsed: {timer.elapsed}')"
   ]
  },
  {
   "cell_type": "code",
   "execution_count": 28,
   "id": "57669760",
   "metadata": {},
   "outputs": [],
   "source": [
    "from time import  sleep\n",
    "import datetime\n",
    "class Timer:\n",
    "    def __init__(self):\n",
    "        self.elapsed = 0\n",
    "        self.start = 0\n",
    "    def __enter__(self):\n",
    "        self.start = datetime.datetime.now()      \n",
    "        return self\n",
    "    def __exit__(self, exc_type, exc_val, exc_tb):\n",
    "        self.end = datetime.datetime.now()\n",
    "        self.elapsed = self.end - self.start    "
   ]
  },
  {
   "cell_type": "code",
   "execution_count": 29,
   "id": "d5863ee1",
   "metadata": {},
   "outputs": [],
   "source": [
    "with Timer() as timer:\n",
    "    sleep(3)"
   ]
  },
  {
   "cell_type": "code",
   "execution_count": 30,
   "id": "303bcd53",
   "metadata": {},
   "outputs": [
    {
     "name": "stdout",
     "output_type": "stream",
     "text": [
      "Start:2024-01-27 15:29:52.766674, End: 2024-01-27 15:29:55.767259 , Elapsed: 0:00:03.000585\n"
     ]
    }
   ],
   "source": [
    "print(f'Start:{timer.start}, End: {timer.end} , Elapsed: {timer.elapsed}')"
   ]
  },
  {
   "cell_type": "code",
   "execution_count": 39,
   "id": "c2dd18bf",
   "metadata": {},
   "outputs": [],
   "source": [
    "from time import  sleep\n",
    "import datetime\n",
    "class Timer:\n",
    "    def __init__(self):\n",
    "        self.elapsed = 0\n",
    "        self.start = 0\n",
    "    def __enter__(self):\n",
    "        self.start = datetime.datetime.now()      \n",
    "        return self\n",
    "    def __exit__(self, exc_type, exc_val, exc_tb):\n",
    "        self.end = datetime.datetime.now()\n",
    "        self.elapsed = self.end - self.start"
   ]
  },
  {
   "cell_type": "code",
   "execution_count": 40,
   "id": "c44fdf23",
   "metadata": {},
   "outputs": [],
   "source": [
    "with Timer() as timer:\n",
    "    sleep(3)"
   ]
  },
  {
   "cell_type": "code",
   "execution_count": 41,
   "id": "258c7c0b",
   "metadata": {},
   "outputs": [
    {
     "name": "stdout",
     "output_type": "stream",
     "text": [
      "Start:2024-01-27 15:54:36.111754, End: 2024-01-27 15:54:39.111986 , Elapsed: 0:00:03.000232\n"
     ]
    }
   ],
   "source": [
    "print(f'Start:{timer.start}, End: {timer.end} , Elapsed: {timer.elapsed}')"
   ]
  },
  {
   "cell_type": "code",
   "execution_count": 42,
   "id": "e70f388f",
   "metadata": {},
   "outputs": [
    {
     "ename": "ZeroDivisionError",
     "evalue": "division by zero",
     "output_type": "error",
     "traceback": [
      "\u001b[1;31m---------------------------------------------------------------------------\u001b[0m",
      "\u001b[1;31mZeroDivisionError\u001b[0m                         Traceback (most recent call last)",
      "Cell \u001b[1;32mIn[42], line 1\u001b[0m\n\u001b[1;32m----> 1\u001b[0m \u001b[38;5;28mprint\u001b[39m(\u001b[38;5;241m1\u001b[39m\u001b[38;5;241m/\u001b[39m\u001b[38;5;241m0\u001b[39m)\n",
      "\u001b[1;31mZeroDivisionError\u001b[0m: division by zero"
     ]
    }
   ],
   "source": [
    "print(1/0)"
   ]
  },
  {
   "cell_type": "code",
   "execution_count": 47,
   "id": "71642503",
   "metadata": {},
   "outputs": [],
   "source": [
    "class CM:\n",
    "    def __init__(self, raise_ValueError):\n",
    "        self.raise_ValueError = raise_ValueError\n",
    "    def __enter__(self):\n",
    "        return self\n",
    "    def __exit__(self, exc_type, exc_obj, exc_tb):\n",
    "        return self.raise_ValueError"
   ]
  },
  {
   "cell_type": "code",
   "execution_count": 54,
   "id": "dcaacfb2",
   "metadata": {},
   "outputs": [],
   "source": [
    "with CM(True):  \n",
    "    raise ValueError"
   ]
  },
  {
   "cell_type": "code",
   "execution_count": 55,
   "id": "572f6291",
   "metadata": {},
   "outputs": [],
   "source": [
    "with CM(True):  \n",
    "    print(1/0)"
   ]
  },
  {
   "cell_type": "code",
   "execution_count": 56,
   "id": "59a7a0e8",
   "metadata": {},
   "outputs": [
    {
     "ename": "ValueError",
     "evalue": "",
     "output_type": "error",
     "traceback": [
      "\u001b[1;31m---------------------------------------------------------------------------\u001b[0m",
      "\u001b[1;31mValueError\u001b[0m                                Traceback (most recent call last)",
      "Cell \u001b[1;32mIn[56], line 2\u001b[0m\n\u001b[0;32m      1\u001b[0m \u001b[38;5;28;01mwith\u001b[39;00m CM(\u001b[38;5;28;01mFalse\u001b[39;00m):  \u001b[38;5;66;03m# let exception pass through\u001b[39;00m\n\u001b[1;32m----> 2\u001b[0m     \u001b[38;5;28;01mraise\u001b[39;00m \u001b[38;5;167;01mValueError\u001b[39;00m\n",
      "\u001b[1;31mValueError\u001b[0m: "
     ]
    }
   ],
   "source": [
    "with CM(False):  # let exception pass through\n",
    "    raise ValueError"
   ]
  },
  {
   "cell_type": "code",
   "execution_count": 57,
   "id": "b3e0c306",
   "metadata": {},
   "outputs": [
    {
     "ename": "ZeroDivisionError",
     "evalue": "division by zero",
     "output_type": "error",
     "traceback": [
      "\u001b[1;31m---------------------------------------------------------------------------\u001b[0m",
      "\u001b[1;31mZeroDivisionError\u001b[0m                         Traceback (most recent call last)",
      "Cell \u001b[1;32mIn[57], line 2\u001b[0m\n\u001b[0;32m      1\u001b[0m \u001b[38;5;28;01mwith\u001b[39;00m CM(\u001b[38;5;28;01mFalse\u001b[39;00m):  \u001b[38;5;66;03m# let exception pass through\u001b[39;00m\n\u001b[1;32m----> 2\u001b[0m     \u001b[38;5;28mprint\u001b[39m(\u001b[38;5;241m1\u001b[39m\u001b[38;5;241m/\u001b[39m\u001b[38;5;241m0\u001b[39m)\n",
      "\u001b[1;31mZeroDivisionError\u001b[0m: division by zero"
     ]
    }
   ],
   "source": [
    "with CM(False):  # let exception pass through\n",
    "    print(1/0)"
   ]
  },
  {
   "cell_type": "code",
   "execution_count": null,
   "id": "1e7ea64f",
   "metadata": {},
   "outputs": [],
   "source": []
  }
 ],
 "metadata": {
  "kernelspec": {
   "display_name": "Python 3 (ipykernel)",
   "language": "python",
   "name": "python3"
  },
  "language_info": {
   "codemirror_mode": {
    "name": "ipython",
    "version": 3
   },
   "file_extension": ".py",
   "mimetype": "text/x-python",
   "name": "python",
   "nbconvert_exporter": "python",
   "pygments_lexer": "ipython3",
   "version": "3.11.5"
  }
 },
 "nbformat": 4,
 "nbformat_minor": 5
}
