{
 "cells": [
  {
   "cell_type": "code",
   "execution_count": 5,
   "id": "1996c8cc",
   "metadata": {},
   "outputs": [],
   "source": [
    "x = [8, 2, 3, 0, 7]"
   ]
  },
  {
   "cell_type": "code",
   "execution_count": 6,
   "id": "7bc97078",
   "metadata": {},
   "outputs": [],
   "source": [
    "from functools import reduce\n",
    "import math"
   ]
  },
  {
   "cell_type": "code",
   "execution_count": 9,
   "id": "2ec5253e",
   "metadata": {},
   "outputs": [
    {
     "data": {
      "text/plain": [
       "0"
      ]
     },
     "execution_count": 9,
     "metadata": {},
     "output_type": "execute_result"
    }
   ],
   "source": [
    "reduce(lambda x,y: x*y ,x)"
   ]
  },
  {
   "cell_type": "code",
   "execution_count": 13,
   "id": "c2ee0185",
   "metadata": {},
   "outputs": [
    {
     "data": {
      "text/plain": [
       "[64, 4, 9, 0, 49]"
      ]
     },
     "execution_count": 13,
     "metadata": {},
     "output_type": "execute_result"
    }
   ],
   "source": [
    "list(map(lambda x :x**2,x))"
   ]
  },
  {
   "cell_type": "code",
   "execution_count": 19,
   "id": "29026951",
   "metadata": {},
   "outputs": [
    {
     "data": {
      "text/plain": [
       "[(1, 3), (2, 4)]"
      ]
     },
     "execution_count": 19,
     "metadata": {},
     "output_type": "execute_result"
    }
   ],
   "source": [
    "list(zip((1,2),(3,4)))"
   ]
  },
  {
   "cell_type": "code",
   "execution_count": 16,
   "id": "6596e3b7",
   "metadata": {},
   "outputs": [
    {
     "data": {
      "text/plain": [
       "zip"
      ]
     },
     "execution_count": 16,
     "metadata": {},
     "output_type": "execute_result"
    }
   ],
   "source": [
    "zip"
   ]
  },
  {
   "cell_type": "code",
   "execution_count": 21,
   "id": "46950146",
   "metadata": {},
   "outputs": [
    {
     "data": {
      "text/plain": [
       "[1, 10]"
      ]
     },
     "execution_count": 21,
     "metadata": {},
     "output_type": "execute_result"
    }
   ],
   "source": [
    "list(map(lambda x,y: x+2*y,(1,2),(0,4)))"
   ]
  },
  {
   "cell_type": "code",
   "execution_count": 22,
   "id": "5467d754",
   "metadata": {},
   "outputs": [
    {
     "data": {
      "text/plain": [
       "[1, 10]"
      ]
     },
     "execution_count": 22,
     "metadata": {},
     "output_type": "execute_result"
    }
   ],
   "source": [
    "list(map(lambda x,y: x+2*y,(1,2),(0,4)))"
   ]
  },
  {
   "cell_type": "code",
   "execution_count": 24,
   "id": "0ddfdb83",
   "metadata": {},
   "outputs": [],
   "source": [
    "def outerFunction(text):\n",
    " \n",
    "    def innerFunction():\n",
    "        print(text)\n",
    " \n",
    "    innerFunction()\n",
    " \n",
    " \n",
    "if __name__ == 'a__main__':\n",
    "    outerFunction('Hey!')"
   ]
  },
  {
   "cell_type": "code",
   "execution_count": 25,
   "id": "770264d9",
   "metadata": {},
   "outputs": [
    {
     "name": "stdout",
     "output_type": "stream",
     "text": [
      "Hey!\n"
     ]
    }
   ],
   "source": [
    "\n",
    "\n",
    "# Python program to illustrate \n",
    "# closures \n",
    "def outerFunction(text): \n",
    " \n",
    "    def innerFunction(): \n",
    "        print(text) \n",
    " \n",
    "    # Note we are returning function\n",
    "    # WITHOUT parenthesis\n",
    "    return innerFunction  \n",
    " \n",
    "if __name__ == '__main__': \n",
    "    myFunction = outerFunction('Hey!') \n",
    "    myFunction()"
   ]
  },
  {
   "cell_type": "code",
   "execution_count": 37,
   "id": "463b20e9",
   "metadata": {},
   "outputs": [
    {
     "name": "stdout",
     "output_type": "stream",
     "text": [
      "                     |  latitude | longitude\n",
      "Mexico City     (MX) |   19.4333 |  -99.1333\n",
      "New York-Newark (US) |   40.8086 |  -74.0204\n",
      "São Paulo       (BR) |  -23.5478 |  -46.6358\n"
     ]
    }
   ],
   "source": [
    "metro_areas = [\n",
    "    ('Tokyo', 'JP', 36.933, (35.689722, 139.691667)),\n",
    "    ('Delhi NCR', 'IN', 21.935, (28.613889, 77.208889)),\n",
    "    ('Mexico City', 'MX', 20.142, (19.433333, -99.133333)),\n",
    "    ('New York-Newark', 'US', 20.104, (40.808611, -74.020386)),\n",
    "    ('São Paulo', 'BR', 19.649, (-23.547778, -46.635833)),\n",
    "]\n",
    "\n",
    "\n",
    "print(f'{\"\":20} | {\"latitude\":>9} | {\"longitude\":>9}')\n",
    "for record in metro_areas:\n",
    "#     print(record)\n",
    "#     print(\"---------------------------------\")\n",
    "    match record:  # <1>\n",
    "        case [name, country, _, (lat, lon)] if lon <= 0:  # <2>\n",
    "            print(f'{name:16}({country:2}) | {lat:9.4f} | {lon:9.4f}')"
   ]
  },
  {
   "cell_type": "code",
   "execution_count": 27,
   "id": "1dde88b6",
   "metadata": {},
   "outputs": [
    {
     "name": "stdout",
     "output_type": "stream",
     "text": [
      "                |  latitude | longitude\n",
      "Mexico City     |   19.4333 |  -99.1333\n",
      "New York-Newark |   40.8086 |  -74.0204\n",
      "São Paulo       |  -23.5478 |  -46.6358\n"
     ]
    }
   ],
   "source": [
    "main()"
   ]
  },
  {
   "cell_type": "code",
   "execution_count": 51,
   "id": "2ceda7e9",
   "metadata": {},
   "outputs": [
    {
     "name": "stdout",
     "output_type": "stream",
     "text": [
      "    | Name       | Family\n",
      "1   | masoud     | faridi\n",
      "1   | mohamad    | ahmadi\n"
     ]
    }
   ],
   "source": [
    "name_1 ,family_1 = \"masoud\" , \"faridi\"\n",
    "name_2 ,family_2 = \"mohamad\" , \"ahmadi\"\n",
    "print(f'{\"\":3} | {\"Name\":10} | {\"Family\":10}')\n",
    "print(f'{\"1\":3} | {name_1:10} | {family_1:10}')\n",
    "print(f'{\"1\":3} | {name_2:10} | {family_2:10}')"
   ]
  },
  {
   "cell_type": "code",
   "execution_count": null,
   "id": "3c2cbe4e",
   "metadata": {},
   "outputs": [],
   "source": []
  }
 ],
 "metadata": {
  "kernelspec": {
   "display_name": "Python 3 (ipykernel)",
   "language": "python",
   "name": "python3"
  },
  "language_info": {
   "codemirror_mode": {
    "name": "ipython",
    "version": 3
   },
   "file_extension": ".py",
   "mimetype": "text/x-python",
   "name": "python",
   "nbconvert_exporter": "python",
   "pygments_lexer": "ipython3",
   "version": "3.11.5"
  }
 },
 "nbformat": 4,
 "nbformat_minor": 5
}
