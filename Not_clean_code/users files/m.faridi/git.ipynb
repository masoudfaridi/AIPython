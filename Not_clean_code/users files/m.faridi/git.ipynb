{
 "cells": [
  {
   "cell_type": "markdown",
   "id": "4bfbe244",
   "metadata": {},
   "source": [
    "# 01 Getting Started"
   ]
  },
  {
   "cell_type": "markdown",
   "id": "d91ffde8",
   "metadata": {},
   "source": [
    "## View all Settings"
   ]
  },
  {
   "cell_type": "markdown",
   "id": "eaf16622",
   "metadata": {},
   "source": [
    "You can view all of your settings and where they are coming from using:"
   ]
  },
  {
   "cell_type": "raw",
   "id": "3326d4bf",
   "metadata": {},
   "source": [
    "\n",
    "\\$ git config --list --show-origin\n"
   ]
  },
  {
   "cell_type": "markdown",
   "id": "12f278d6",
   "metadata": {},
   "source": [
    "## Your Identity"
   ]
  },
  {
   "cell_type": "markdown",
   "id": "5f609623",
   "metadata": {},
   "source": [
    "The first thing you should do when you install Git is to set your user name and email address. This\n",
    "is important because every Git commit uses this information, and it’s immutably baked into the\n",
    "commits you start creating:"
   ]
  },
  {
   "cell_type": "raw",
   "id": "306baf0d",
   "metadata": {},
   "source": [
    "\n",
    "\\$ git config --global user.name \"John Doe\"\n",
    "\n",
    "\\$ git config --global user.email \"johndoe@example.com\"\n"
   ]
  },
  {
   "cell_type": "markdown",
   "id": "bc8f97ed",
   "metadata": {},
   "source": [
    "Again, you need to do this only once if you pass the --global option, because then Git will always\n",
    "use that information for anything you do on that system. If you want to override this with a\n",
    "different name or email address for specific projects, you can run the command without the\n",
    "--global option when you’re in that project."
   ]
  },
  {
   "cell_type": "markdown",
   "id": "e8f446fa",
   "metadata": {},
   "source": [
    "## Your default branch name"
   ]
  },
  {
   "cell_type": "raw",
   "id": "b99dbb82",
   "metadata": {},
   "source": [
    "\n",
    "\\$ git config --global init.defaultBranch main\n"
   ]
  },
  {
   "cell_type": "markdown",
   "id": "5dcea738",
   "metadata": {},
   "source": [
    "## Checking Your Settings"
   ]
  },
  {
   "cell_type": "raw",
   "id": "644749cd",
   "metadata": {},
   "source": [
    "\n",
    "\\$ git config --list\n",
    "\n",
    "user.name=John Doe\n",
    "\n",
    "user.email=johndoe@example.com\n",
    "\n",
    "color.status=auto\n",
    "\n",
    "color.branch=auto\n",
    "\n",
    "color.interactive=auto\n",
    "\n",
    "color.diff=auto\n"
   ]
  },
  {
   "cell_type": "raw",
   "id": "2e5be694",
   "metadata": {},
   "source": [
    "\n",
    "\\$ git config user.name\n",
    "\n",
    "John Doe\n"
   ]
  },
  {
   "cell_type": "markdown",
   "id": "3bb3d60f",
   "metadata": {},
   "source": [
    "## Getting Help"
   ]
  },
  {
   "cell_type": "raw",
   "id": "b5a8d288",
   "metadata": {},
   "source": [
    "\n",
    "\\$ git help <verb>\n",
    "\n",
    "\\$ git <verb> --help\n",
    "\n",
    "\\$ git <verb> -h\n",
    "\n",
    "\\$ man git-<verb>\n"
   ]
  },
  {
   "cell_type": "markdown",
   "id": "6afb2df6",
   "metadata": {},
   "source": [
    "# 02 Git Basics"
   ]
  },
  {
   "cell_type": "markdown",
   "id": "d30d9951",
   "metadata": {},
   "source": [
    "## Initializing a Repository in an Existing Directory"
   ]
  },
  {
   "cell_type": "raw",
   "id": "e00bf297",
   "metadata": {},
   "source": [
    "\n",
    "\\$ git init\n"
   ]
  },
  {
   "cell_type": "markdown",
   "id": "03ebb6ef",
   "metadata": {},
   "source": [
    "If you want to start version-controlling existing files (as opposed to an empty directory), you should\n",
    "probably begin tracking those files and do an initial commit. You can accomplish that with a few\n",
    "<span style=\"color:red\">git add</span> commands that specify the files you want to track, followed by a <span style=\"color:red\">git commit</span>:"
   ]
  },
  {
   "cell_type": "raw",
   "id": "7e6b3d3e",
   "metadata": {},
   "source": [
    "\n",
    "\\$ git add *.c\n",
    "\n",
    "\\$ git add LICENSE\n",
    "\n",
    "\\$ git commit -m 'Initial project version'\n"
   ]
  },
  {
   "cell_type": "markdown",
   "id": "9682b6ae",
   "metadata": {},
   "source": []
  },
  {
   "cell_type": "markdown",
   "id": "b1c23314",
   "metadata": {},
   "source": []
  },
  {
   "cell_type": "markdown",
   "id": "8324a15e",
   "metadata": {},
   "source": []
  },
  {
   "cell_type": "markdown",
   "id": "691bc9c0",
   "metadata": {},
   "source": [
    "<span style=\"color:red\">\n",
    "</span>"
   ]
  },
  {
   "cell_type": "markdown",
   "id": "5a387c4f",
   "metadata": {},
   "source": []
  },
  {
   "cell_type": "markdown",
   "id": "25c00f25",
   "metadata": {},
   "source": []
  },
  {
   "cell_type": "markdown",
   "id": "74b20359",
   "metadata": {},
   "source": []
  },
  {
   "cell_type": "markdown",
   "id": "350d8906",
   "metadata": {},
   "source": []
  },
  {
   "cell_type": "markdown",
   "id": "a9d8e07a",
   "metadata": {},
   "source": []
  },
  {
   "cell_type": "markdown",
   "id": "98603fa9",
   "metadata": {},
   "source": []
  },
  {
   "cell_type": "markdown",
   "id": "89e52220",
   "metadata": {},
   "source": []
  },
  {
   "cell_type": "markdown",
   "id": "bbd670b9",
   "metadata": {},
   "source": []
  },
  {
   "cell_type": "markdown",
   "id": "0cbc4c38",
   "metadata": {},
   "source": []
  }
 ],
 "metadata": {
  "kernelspec": {
   "display_name": "Python 3 (ipykernel)",
   "language": "python",
   "name": "python3"
  },
  "language_info": {
   "codemirror_mode": {
    "name": "ipython",
    "version": 3
   },
   "file_extension": ".py",
   "mimetype": "text/x-python",
   "name": "python",
   "nbconvert_exporter": "python",
   "pygments_lexer": "ipython3",
   "version": "3.11.5"
  }
 },
 "nbformat": 4,
 "nbformat_minor": 5
}
