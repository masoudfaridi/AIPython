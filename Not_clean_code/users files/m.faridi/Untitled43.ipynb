{
 "cells": [
  {
   "cell_type": "code",
   "execution_count": 29,
   "id": "c7a925af",
   "metadata": {},
   "outputs": [],
   "source": [
    "class user():\n",
    "    \n",
    "    def __init__(self,name,user,email):\n",
    "        self.name=name    \n",
    "        self.email=email\n",
    "        self.user=user"
   ]
  },
  {
   "cell_type": "code",
   "execution_count": 30,
   "id": "f2b4b0ab",
   "metadata": {},
   "outputs": [
    {
     "data": {
      "text/plain": [
       "'name1'"
      ]
     },
     "execution_count": 30,
     "metadata": {},
     "output_type": "execute_result"
    }
   ],
   "source": [
    "ur = user('name1','user1','ma@gmail.com')\n",
    "ur.name"
   ]
  },
  {
   "cell_type": "code",
   "execution_count": 31,
   "id": "2462e959",
   "metadata": {},
   "outputs": [
    {
     "data": {
      "text/plain": [
       "__main__.user"
      ]
     },
     "execution_count": 31,
     "metadata": {},
     "output_type": "execute_result"
    }
   ],
   "source": [
    "type(ur)"
   ]
  },
  {
   "cell_type": "code",
   "execution_count": 32,
   "id": "70fd1af2",
   "metadata": {},
   "outputs": [],
   "source": [
    "from rest_framework import serializers"
   ]
  },
  {
   "cell_type": "code",
   "execution_count": 33,
   "id": "d6b14d9b",
   "metadata": {},
   "outputs": [],
   "source": [
    "class userserializers(serializers.Serializer):    \n",
    "    name=serializers.CharField(max_length=50)\n",
    "    user=serializers.CharField(max_length=50)\n",
    "    email=serializers.EmailField()    "
   ]
  },
  {
   "cell_type": "code",
   "execution_count": 34,
   "id": "2f6ae61a",
   "metadata": {},
   "outputs": [
    {
     "data": {
      "text/plain": [
       "{'name': 'name1', 'user': 'user1', 'email': 'ma@gmail.com'}"
      ]
     },
     "execution_count": 34,
     "metadata": {},
     "output_type": "execute_result"
    }
   ],
   "source": [
    "serializer = userserializers(ur)\n",
    "serializer.data"
   ]
  },
  {
   "cell_type": "code",
   "execution_count": 35,
   "id": "c8ae9f0f",
   "metadata": {},
   "outputs": [],
   "source": [
    "data=serializer.data"
   ]
  },
  {
   "cell_type": "code",
   "execution_count": 36,
   "id": "e24b399b",
   "metadata": {},
   "outputs": [
    {
     "data": {
      "text/plain": [
       "True"
      ]
     },
     "execution_count": 36,
     "metadata": {},
     "output_type": "execute_result"
    }
   ],
   "source": [
    "#serializer = userserializers(data={'name': 'name1', 'user': 'user1', 'email': 'ma@gmail.com'})\n",
    "serializer = userserializers(data=data)\n",
    "serializer.is_valid()"
   ]
  },
  {
   "cell_type": "code",
   "execution_count": 37,
   "id": "06fda95f",
   "metadata": {},
   "outputs": [
    {
     "data": {
      "text/plain": [
       "OrderedDict([('name', 'name1'), ('user', 'user1'), ('email', 'ma@gmail.com')])"
      ]
     },
     "execution_count": 37,
     "metadata": {},
     "output_type": "execute_result"
    }
   ],
   "source": [
    "serializer.validated_data"
   ]
  },
  {
   "cell_type": "code",
   "execution_count": 39,
   "id": "49662033",
   "metadata": {},
   "outputs": [],
   "source": [
    "ur2=user(**serializer.validated_data)"
   ]
  },
  {
   "cell_type": "code",
   "execution_count": 41,
   "id": "3d3d12ba",
   "metadata": {},
   "outputs": [
    {
     "data": {
      "text/plain": [
       "'name1'"
      ]
     },
     "execution_count": 41,
     "metadata": {},
     "output_type": "execute_result"
    }
   ],
   "source": [
    "ur2.name"
   ]
  },
  {
   "cell_type": "code",
   "execution_count": 43,
   "id": "a49d83cb",
   "metadata": {},
   "outputs": [
    {
     "ename": "NotImplementedError",
     "evalue": "`create()` must be implemented.",
     "output_type": "error",
     "traceback": [
      "\u001b[1;31m---------------------------------------------------------------------------\u001b[0m",
      "\u001b[1;31mNotImplementedError\u001b[0m                       Traceback (most recent call last)",
      "Cell \u001b[1;32mIn[43], line 1\u001b[0m\n\u001b[1;32m----> 1\u001b[0m ur3 \u001b[38;5;241m=\u001b[39mserializer\u001b[38;5;241m.\u001b[39msave()\n",
      "File \u001b[1;32mC:\\ProgramData\\anaconda3\\Lib\\site-packages\\rest_framework\\serializers.py:212\u001b[0m, in \u001b[0;36mBaseSerializer.save\u001b[1;34m(self, **kwargs)\u001b[0m\n\u001b[0;32m    208\u001b[0m     \u001b[38;5;28;01massert\u001b[39;00m \u001b[38;5;28mself\u001b[39m\u001b[38;5;241m.\u001b[39minstance \u001b[38;5;129;01mis\u001b[39;00m \u001b[38;5;129;01mnot\u001b[39;00m \u001b[38;5;28;01mNone\u001b[39;00m, (\n\u001b[0;32m    209\u001b[0m         \u001b[38;5;124m'\u001b[39m\u001b[38;5;124m`update()` did not return an object instance.\u001b[39m\u001b[38;5;124m'\u001b[39m\n\u001b[0;32m    210\u001b[0m     )\n\u001b[0;32m    211\u001b[0m \u001b[38;5;28;01melse\u001b[39;00m:\n\u001b[1;32m--> 212\u001b[0m     \u001b[38;5;28mself\u001b[39m\u001b[38;5;241m.\u001b[39minstance \u001b[38;5;241m=\u001b[39m \u001b[38;5;28mself\u001b[39m\u001b[38;5;241m.\u001b[39mcreate(validated_data)\n\u001b[0;32m    213\u001b[0m     \u001b[38;5;28;01massert\u001b[39;00m \u001b[38;5;28mself\u001b[39m\u001b[38;5;241m.\u001b[39minstance \u001b[38;5;129;01mis\u001b[39;00m \u001b[38;5;129;01mnot\u001b[39;00m \u001b[38;5;28;01mNone\u001b[39;00m, (\n\u001b[0;32m    214\u001b[0m         \u001b[38;5;124m'\u001b[39m\u001b[38;5;124m`create()` did not return an object instance.\u001b[39m\u001b[38;5;124m'\u001b[39m\n\u001b[0;32m    215\u001b[0m     )\n\u001b[0;32m    217\u001b[0m \u001b[38;5;28;01mreturn\u001b[39;00m \u001b[38;5;28mself\u001b[39m\u001b[38;5;241m.\u001b[39minstance\n",
      "File \u001b[1;32mC:\\ProgramData\\anaconda3\\Lib\\site-packages\\rest_framework\\serializers.py:177\u001b[0m, in \u001b[0;36mBaseSerializer.create\u001b[1;34m(self, validated_data)\u001b[0m\n\u001b[0;32m    176\u001b[0m \u001b[38;5;28;01mdef\u001b[39;00m \u001b[38;5;21mcreate\u001b[39m(\u001b[38;5;28mself\u001b[39m, validated_data):\n\u001b[1;32m--> 177\u001b[0m     \u001b[38;5;28;01mraise\u001b[39;00m \u001b[38;5;167;01mNotImplementedError\u001b[39;00m(\u001b[38;5;124m'\u001b[39m\u001b[38;5;124m`create()` must be implemented.\u001b[39m\u001b[38;5;124m'\u001b[39m)\n",
      "\u001b[1;31mNotImplementedError\u001b[0m: `create()` must be implemented."
     ]
    }
   ],
   "source": [
    "ur3 =serializer.save()"
   ]
  },
  {
   "cell_type": "code",
   "execution_count": 44,
   "id": "5c7b8d57",
   "metadata": {},
   "outputs": [],
   "source": [
    "class userserializers(serializers.Serializer):    \n",
    "    name=serializers.CharField(max_length=50)\n",
    "    user=serializers.CharField(max_length=50)\n",
    "    email=serializers.EmailField()  \n",
    "    def create(self,validated_data):\n",
    "        return user(**validated_data)"
   ]
  },
  {
   "cell_type": "code",
   "execution_count": 48,
   "id": "7e7bb67c",
   "metadata": {},
   "outputs": [],
   "source": [
    "serializer = userserializers(ur)\n",
    "data=serializer.data\n",
    "serializer = userserializers(data=data)"
   ]
  },
  {
   "cell_type": "code",
   "execution_count": 49,
   "id": "5cd75777",
   "metadata": {},
   "outputs": [
    {
     "data": {
      "text/plain": [
       "True"
      ]
     },
     "execution_count": 49,
     "metadata": {},
     "output_type": "execute_result"
    }
   ],
   "source": [
    "serializer.is_valid()"
   ]
  },
  {
   "cell_type": "code",
   "execution_count": 50,
   "id": "b6b9e719",
   "metadata": {},
   "outputs": [],
   "source": [
    "ur3 =serializer.save()"
   ]
  },
  {
   "cell_type": "code",
   "execution_count": 52,
   "id": "91ab6718",
   "metadata": {},
   "outputs": [
    {
     "data": {
      "text/plain": [
       "'name1'"
      ]
     },
     "execution_count": 52,
     "metadata": {},
     "output_type": "execute_result"
    }
   ],
   "source": [
    "ur3.name"
   ]
  },
  {
   "cell_type": "code",
   "execution_count": 53,
   "id": "b6a012cc",
   "metadata": {},
   "outputs": [
    {
     "data": {
      "text/plain": [
       "{'name': 'name1', 'user': 'user1', 'email': 'ma@gmail.com'}"
      ]
     },
     "execution_count": 53,
     "metadata": {},
     "output_type": "execute_result"
    }
   ],
   "source": [
    "data"
   ]
  },
  {
   "cell_type": "code",
   "execution_count": 61,
   "id": "5f6a0c56",
   "metadata": {},
   "outputs": [
    {
     "data": {
      "text/plain": [
       "rest_framework.utils.serializer_helpers.ReturnDict"
      ]
     },
     "execution_count": 61,
     "metadata": {},
     "output_type": "execute_result"
    }
   ],
   "source": [
    "type(data)"
   ]
  },
  {
   "cell_type": "code",
   "execution_count": 75,
   "id": "021b9f0d",
   "metadata": {},
   "outputs": [],
   "source": [
    "data2={'name': 'name1_update', 'user': 'user1_update'}"
   ]
  },
  {
   "cell_type": "code",
   "execution_count": 76,
   "id": "513768a3",
   "metadata": {},
   "outputs": [
    {
     "ename": "ImproperlyConfigured",
     "evalue": "Requested setting USE_I18N, but settings are not configured. You must either define the environment variable DJANGO_SETTINGS_MODULE or call settings.configure() before accessing settings.",
     "output_type": "error",
     "traceback": [
      "\u001b[1;31m---------------------------------------------------------------------------\u001b[0m",
      "\u001b[1;31mImproperlyConfigured\u001b[0m                      Traceback (most recent call last)",
      "Cell \u001b[1;32mIn[76], line 2\u001b[0m\n\u001b[0;32m      1\u001b[0m serializer \u001b[38;5;241m=\u001b[39m userserializers(ur,data\u001b[38;5;241m=\u001b[39mdata2)\n\u001b[1;32m----> 2\u001b[0m serializer\u001b[38;5;241m.\u001b[39mis_valid()\n",
      "File \u001b[1;32mC:\\ProgramData\\anaconda3\\Lib\\site-packages\\rest_framework\\serializers.py:227\u001b[0m, in \u001b[0;36mBaseSerializer.is_valid\u001b[1;34m(self, raise_exception)\u001b[0m\n\u001b[0;32m    225\u001b[0m \u001b[38;5;28;01mif\u001b[39;00m \u001b[38;5;129;01mnot\u001b[39;00m \u001b[38;5;28mhasattr\u001b[39m(\u001b[38;5;28mself\u001b[39m, \u001b[38;5;124m'\u001b[39m\u001b[38;5;124m_validated_data\u001b[39m\u001b[38;5;124m'\u001b[39m):\n\u001b[0;32m    226\u001b[0m     \u001b[38;5;28;01mtry\u001b[39;00m:\n\u001b[1;32m--> 227\u001b[0m         \u001b[38;5;28mself\u001b[39m\u001b[38;5;241m.\u001b[39m_validated_data \u001b[38;5;241m=\u001b[39m \u001b[38;5;28mself\u001b[39m\u001b[38;5;241m.\u001b[39mrun_validation(\u001b[38;5;28mself\u001b[39m\u001b[38;5;241m.\u001b[39minitial_data)\n\u001b[0;32m    228\u001b[0m     \u001b[38;5;28;01mexcept\u001b[39;00m ValidationError \u001b[38;5;28;01mas\u001b[39;00m exc:\n\u001b[0;32m    229\u001b[0m         \u001b[38;5;28mself\u001b[39m\u001b[38;5;241m.\u001b[39m_validated_data \u001b[38;5;241m=\u001b[39m {}\n",
      "File \u001b[1;32mC:\\ProgramData\\anaconda3\\Lib\\site-packages\\rest_framework\\serializers.py:426\u001b[0m, in \u001b[0;36mSerializer.run_validation\u001b[1;34m(self, data)\u001b[0m\n\u001b[0;32m    423\u001b[0m \u001b[38;5;28;01mif\u001b[39;00m is_empty_value:\n\u001b[0;32m    424\u001b[0m     \u001b[38;5;28;01mreturn\u001b[39;00m data\n\u001b[1;32m--> 426\u001b[0m value \u001b[38;5;241m=\u001b[39m \u001b[38;5;28mself\u001b[39m\u001b[38;5;241m.\u001b[39mto_internal_value(data)\n\u001b[0;32m    427\u001b[0m \u001b[38;5;28;01mtry\u001b[39;00m:\n\u001b[0;32m    428\u001b[0m     \u001b[38;5;28mself\u001b[39m\u001b[38;5;241m.\u001b[39mrun_validators(value)\n",
      "File \u001b[1;32mC:\\ProgramData\\anaconda3\\Lib\\site-packages\\rest_framework\\serializers.py:483\u001b[0m, in \u001b[0;36mSerializer.to_internal_value\u001b[1;34m(self, data)\u001b[0m\n\u001b[0;32m    481\u001b[0m primitive_value \u001b[38;5;241m=\u001b[39m field\u001b[38;5;241m.\u001b[39mget_value(data)\n\u001b[0;32m    482\u001b[0m \u001b[38;5;28;01mtry\u001b[39;00m:\n\u001b[1;32m--> 483\u001b[0m     validated_value \u001b[38;5;241m=\u001b[39m field\u001b[38;5;241m.\u001b[39mrun_validation(primitive_value)\n\u001b[0;32m    484\u001b[0m     \u001b[38;5;28;01mif\u001b[39;00m validate_method \u001b[38;5;129;01mis\u001b[39;00m \u001b[38;5;129;01mnot\u001b[39;00m \u001b[38;5;28;01mNone\u001b[39;00m:\n\u001b[0;32m    485\u001b[0m         validated_value \u001b[38;5;241m=\u001b[39m validate_method(validated_value)\n",
      "File \u001b[1;32mC:\\ProgramData\\anaconda3\\Lib\\site-packages\\rest_framework\\fields.py:751\u001b[0m, in \u001b[0;36mCharField.run_validation\u001b[1;34m(self, data)\u001b[0m\n\u001b[0;32m    749\u001b[0m         \u001b[38;5;28mself\u001b[39m\u001b[38;5;241m.\u001b[39mfail(\u001b[38;5;124m'\u001b[39m\u001b[38;5;124mblank\u001b[39m\u001b[38;5;124m'\u001b[39m)\n\u001b[0;32m    750\u001b[0m     \u001b[38;5;28;01mreturn\u001b[39;00m \u001b[38;5;124m'\u001b[39m\u001b[38;5;124m'\u001b[39m\n\u001b[1;32m--> 751\u001b[0m \u001b[38;5;28;01mreturn\u001b[39;00m \u001b[38;5;28msuper\u001b[39m()\u001b[38;5;241m.\u001b[39mrun_validation(data)\n",
      "File \u001b[1;32mC:\\ProgramData\\anaconda3\\Lib\\site-packages\\rest_framework\\fields.py:544\u001b[0m, in \u001b[0;36mField.run_validation\u001b[1;34m(self, data)\u001b[0m\n\u001b[0;32m    534\u001b[0m \u001b[38;5;28;01mdef\u001b[39;00m \u001b[38;5;21mrun_validation\u001b[39m(\u001b[38;5;28mself\u001b[39m, data\u001b[38;5;241m=\u001b[39mempty):\n\u001b[0;32m    535\u001b[0m \u001b[38;5;250m    \u001b[39m\u001b[38;5;124;03m\"\"\"\u001b[39;00m\n\u001b[0;32m    536\u001b[0m \u001b[38;5;124;03m    Validate a simple representation and return the internal value.\u001b[39;00m\n\u001b[0;32m    537\u001b[0m \n\u001b[1;32m   (...)\u001b[0m\n\u001b[0;32m    542\u001b[0m \u001b[38;5;124;03m    validated data.\u001b[39;00m\n\u001b[0;32m    543\u001b[0m \u001b[38;5;124;03m    \"\"\"\u001b[39;00m\n\u001b[1;32m--> 544\u001b[0m     (is_empty_value, data) \u001b[38;5;241m=\u001b[39m \u001b[38;5;28mself\u001b[39m\u001b[38;5;241m.\u001b[39mvalidate_empty_values(data)\n\u001b[0;32m    545\u001b[0m     \u001b[38;5;28;01mif\u001b[39;00m is_empty_value:\n\u001b[0;32m    546\u001b[0m         \u001b[38;5;28;01mreturn\u001b[39;00m data\n",
      "File \u001b[1;32mC:\\ProgramData\\anaconda3\\Lib\\site-packages\\rest_framework\\fields.py:519\u001b[0m, in \u001b[0;36mField.validate_empty_values\u001b[1;34m(self, data)\u001b[0m\n\u001b[0;32m    517\u001b[0m         \u001b[38;5;28;01mraise\u001b[39;00m SkipField()\n\u001b[0;32m    518\u001b[0m     \u001b[38;5;28;01mif\u001b[39;00m \u001b[38;5;28mself\u001b[39m\u001b[38;5;241m.\u001b[39mrequired:\n\u001b[1;32m--> 519\u001b[0m         \u001b[38;5;28mself\u001b[39m\u001b[38;5;241m.\u001b[39mfail(\u001b[38;5;124m'\u001b[39m\u001b[38;5;124mrequired\u001b[39m\u001b[38;5;124m'\u001b[39m)\n\u001b[0;32m    520\u001b[0m     \u001b[38;5;28;01mreturn\u001b[39;00m (\u001b[38;5;28;01mTrue\u001b[39;00m, \u001b[38;5;28mself\u001b[39m\u001b[38;5;241m.\u001b[39mget_default())\n\u001b[0;32m    522\u001b[0m \u001b[38;5;28;01mif\u001b[39;00m data \u001b[38;5;129;01mis\u001b[39;00m \u001b[38;5;28;01mNone\u001b[39;00m:\n",
      "File \u001b[1;32mC:\\ProgramData\\anaconda3\\Lib\\site-packages\\rest_framework\\fields.py:609\u001b[0m, in \u001b[0;36mField.fail\u001b[1;34m(self, key, **kwargs)\u001b[0m\n\u001b[0;32m    607\u001b[0m     msg \u001b[38;5;241m=\u001b[39m MISSING_ERROR_MESSAGE\u001b[38;5;241m.\u001b[39mformat(class_name\u001b[38;5;241m=\u001b[39mclass_name, key\u001b[38;5;241m=\u001b[39mkey)\n\u001b[0;32m    608\u001b[0m     \u001b[38;5;28;01mraise\u001b[39;00m \u001b[38;5;167;01mAssertionError\u001b[39;00m(msg)\n\u001b[1;32m--> 609\u001b[0m message_string \u001b[38;5;241m=\u001b[39m msg\u001b[38;5;241m.\u001b[39mformat(\u001b[38;5;241m*\u001b[39m\u001b[38;5;241m*\u001b[39mkwargs)\n\u001b[0;32m    610\u001b[0m \u001b[38;5;28;01mraise\u001b[39;00m ValidationError(message_string, code\u001b[38;5;241m=\u001b[39mkey)\n",
      "File \u001b[1;32mC:\\ProgramData\\anaconda3\\Lib\\site-packages\\django\\utils\\functional.py:187\u001b[0m, in \u001b[0;36mlazy.<locals>.__wrapper__\u001b[1;34m(self, __method_name, *args, **kw)\u001b[0m\n\u001b[0;32m    184\u001b[0m \u001b[38;5;28;01mdef\u001b[39;00m \u001b[38;5;21m__wrapper__\u001b[39m(\u001b[38;5;28mself\u001b[39m, \u001b[38;5;241m*\u001b[39margs, __method_name\u001b[38;5;241m=\u001b[39mmethod_name, \u001b[38;5;241m*\u001b[39m\u001b[38;5;241m*\u001b[39mkw):\n\u001b[0;32m    185\u001b[0m     \u001b[38;5;66;03m# Automatically triggers the evaluation of a lazy value and\u001b[39;00m\n\u001b[0;32m    186\u001b[0m     \u001b[38;5;66;03m# applies the given method of the result type.\u001b[39;00m\n\u001b[1;32m--> 187\u001b[0m     result \u001b[38;5;241m=\u001b[39m func(\u001b[38;5;241m*\u001b[39m\u001b[38;5;28mself\u001b[39m\u001b[38;5;241m.\u001b[39m_args, \u001b[38;5;241m*\u001b[39m\u001b[38;5;241m*\u001b[39m\u001b[38;5;28mself\u001b[39m\u001b[38;5;241m.\u001b[39m_kw)\n\u001b[0;32m    188\u001b[0m     \u001b[38;5;28;01mreturn\u001b[39;00m \u001b[38;5;28mgetattr\u001b[39m(result, __method_name)(\u001b[38;5;241m*\u001b[39margs, \u001b[38;5;241m*\u001b[39m\u001b[38;5;241m*\u001b[39mkw)\n",
      "File \u001b[1;32mC:\\ProgramData\\anaconda3\\Lib\\site-packages\\django\\utils\\translation\\__init__.py:96\u001b[0m, in \u001b[0;36mgettext\u001b[1;34m(message)\u001b[0m\n\u001b[0;32m     95\u001b[0m \u001b[38;5;28;01mdef\u001b[39;00m \u001b[38;5;21mgettext\u001b[39m(message):\n\u001b[1;32m---> 96\u001b[0m     \u001b[38;5;28;01mreturn\u001b[39;00m _trans\u001b[38;5;241m.\u001b[39mgettext(message)\n",
      "File \u001b[1;32mC:\\ProgramData\\anaconda3\\Lib\\site-packages\\django\\utils\\translation\\__init__.py:66\u001b[0m, in \u001b[0;36mTrans.__getattr__\u001b[1;34m(self, real_name)\u001b[0m\n\u001b[0;32m     63\u001b[0m \u001b[38;5;28;01mdef\u001b[39;00m \u001b[38;5;21m__getattr__\u001b[39m(\u001b[38;5;28mself\u001b[39m, real_name):\n\u001b[0;32m     64\u001b[0m     \u001b[38;5;28;01mfrom\u001b[39;00m \u001b[38;5;21;01mdjango\u001b[39;00m\u001b[38;5;21;01m.\u001b[39;00m\u001b[38;5;21;01mconf\u001b[39;00m \u001b[38;5;28;01mimport\u001b[39;00m settings\n\u001b[1;32m---> 66\u001b[0m     \u001b[38;5;28;01mif\u001b[39;00m settings\u001b[38;5;241m.\u001b[39mUSE_I18N:\n\u001b[0;32m     67\u001b[0m         \u001b[38;5;28;01mfrom\u001b[39;00m \u001b[38;5;21;01mdjango\u001b[39;00m\u001b[38;5;21;01m.\u001b[39;00m\u001b[38;5;21;01mutils\u001b[39;00m\u001b[38;5;21;01m.\u001b[39;00m\u001b[38;5;21;01mtranslation\u001b[39;00m \u001b[38;5;28;01mimport\u001b[39;00m trans_real \u001b[38;5;28;01mas\u001b[39;00m trans\n\u001b[0;32m     68\u001b[0m         \u001b[38;5;28;01mfrom\u001b[39;00m \u001b[38;5;21;01mdjango\u001b[39;00m\u001b[38;5;21;01m.\u001b[39;00m\u001b[38;5;21;01mutils\u001b[39;00m\u001b[38;5;21;01m.\u001b[39;00m\u001b[38;5;21;01mtranslation\u001b[39;00m\u001b[38;5;21;01m.\u001b[39;00m\u001b[38;5;21;01mreloader\u001b[39;00m \u001b[38;5;28;01mimport\u001b[39;00m (\n\u001b[0;32m     69\u001b[0m             translation_file_changed,\n\u001b[0;32m     70\u001b[0m             watch_for_translation_changes,\n\u001b[0;32m     71\u001b[0m         )\n",
      "File \u001b[1;32mC:\\ProgramData\\anaconda3\\Lib\\site-packages\\django\\conf\\__init__.py:89\u001b[0m, in \u001b[0;36mLazySettings.__getattr__\u001b[1;34m(self, name)\u001b[0m\n\u001b[0;32m     87\u001b[0m \u001b[38;5;250m\u001b[39m\u001b[38;5;124;03m\"\"\"Return the value of a setting and cache it in self.__dict__.\"\"\"\u001b[39;00m\n\u001b[0;32m     88\u001b[0m \u001b[38;5;28;01mif\u001b[39;00m (_wrapped \u001b[38;5;241m:=\u001b[39m \u001b[38;5;28mself\u001b[39m\u001b[38;5;241m.\u001b[39m_wrapped) \u001b[38;5;129;01mis\u001b[39;00m empty:\n\u001b[1;32m---> 89\u001b[0m     \u001b[38;5;28mself\u001b[39m\u001b[38;5;241m.\u001b[39m_setup(name)\n\u001b[0;32m     90\u001b[0m     _wrapped \u001b[38;5;241m=\u001b[39m \u001b[38;5;28mself\u001b[39m\u001b[38;5;241m.\u001b[39m_wrapped\n\u001b[0;32m     91\u001b[0m val \u001b[38;5;241m=\u001b[39m \u001b[38;5;28mgetattr\u001b[39m(_wrapped, name)\n",
      "File \u001b[1;32mC:\\ProgramData\\anaconda3\\Lib\\site-packages\\django\\conf\\__init__.py:69\u001b[0m, in \u001b[0;36mLazySettings._setup\u001b[1;34m(self, name)\u001b[0m\n\u001b[0;32m     67\u001b[0m \u001b[38;5;28;01mif\u001b[39;00m \u001b[38;5;129;01mnot\u001b[39;00m settings_module:\n\u001b[0;32m     68\u001b[0m     desc \u001b[38;5;241m=\u001b[39m (\u001b[38;5;124m\"\u001b[39m\u001b[38;5;124msetting \u001b[39m\u001b[38;5;132;01m%s\u001b[39;00m\u001b[38;5;124m\"\u001b[39m \u001b[38;5;241m%\u001b[39m name) \u001b[38;5;28;01mif\u001b[39;00m name \u001b[38;5;28;01melse\u001b[39;00m \u001b[38;5;124m\"\u001b[39m\u001b[38;5;124msettings\u001b[39m\u001b[38;5;124m\"\u001b[39m\n\u001b[1;32m---> 69\u001b[0m     \u001b[38;5;28;01mraise\u001b[39;00m ImproperlyConfigured(\n\u001b[0;32m     70\u001b[0m         \u001b[38;5;124m\"\u001b[39m\u001b[38;5;124mRequested \u001b[39m\u001b[38;5;132;01m%s\u001b[39;00m\u001b[38;5;124m, but settings are not configured. \u001b[39m\u001b[38;5;124m\"\u001b[39m\n\u001b[0;32m     71\u001b[0m         \u001b[38;5;124m\"\u001b[39m\u001b[38;5;124mYou must either define the environment variable \u001b[39m\u001b[38;5;132;01m%s\u001b[39;00m\u001b[38;5;124m \u001b[39m\u001b[38;5;124m\"\u001b[39m\n\u001b[0;32m     72\u001b[0m         \u001b[38;5;124m\"\u001b[39m\u001b[38;5;124mor call settings.configure() before accessing settings.\u001b[39m\u001b[38;5;124m\"\u001b[39m\n\u001b[0;32m     73\u001b[0m         \u001b[38;5;241m%\u001b[39m (desc, ENVIRONMENT_VARIABLE)\n\u001b[0;32m     74\u001b[0m     )\n\u001b[0;32m     76\u001b[0m \u001b[38;5;28mself\u001b[39m\u001b[38;5;241m.\u001b[39m_wrapped \u001b[38;5;241m=\u001b[39m Settings(settings_module)\n",
      "\u001b[1;31mImproperlyConfigured\u001b[0m: Requested setting USE_I18N, but settings are not configured. You must either define the environment variable DJANGO_SETTINGS_MODULE or call settings.configure() before accessing settings."
     ]
    }
   ],
   "source": [
    "serializer = userserializers(ur,data=data2)\n",
    "serializer.is_valid()"
   ]
  },
  {
   "cell_type": "code",
   "execution_count": 117,
   "id": "06c837ec",
   "metadata": {},
   "outputs": [
    {
     "data": {
      "text/plain": [
       "{}"
      ]
     },
     "execution_count": 117,
     "metadata": {},
     "output_type": "execute_result"
    }
   ],
   "source": [
    "serializer.errors"
   ]
  },
  {
   "cell_type": "code",
   "execution_count": null,
   "id": "38bfeb96",
   "metadata": {},
   "outputs": [],
   "source": [
    "ur4=serializer.save()"
   ]
  },
  {
   "cell_type": "code",
   "execution_count": 111,
   "id": "945619f8",
   "metadata": {},
   "outputs": [],
   "source": [
    "class userserializers(serializers.Serializer):    \n",
    "    name=serializers.CharField(max_length=50)\n",
    "    user=serializers.CharField(max_length=50)\n",
    "    email=serializers.EmailField()  \n",
    "    def create(self,validated_data):\n",
    "        return user(**validated_data)\n",
    "    def update(self,instance,validated_data):\n",
    "        instance.name=validated_data.get('name',instance.name)\n",
    "        instance.user=validated_data.get('user',instance.user)\n",
    "        instance.email=validated_data.get('email',instance.email)\n",
    "        instance.save()\n",
    "        return instance"
   ]
  },
  {
   "cell_type": "code",
   "execution_count": 112,
   "id": "e2f6b7e4",
   "metadata": {},
   "outputs": [],
   "source": [
    "data2={'name': 'name1_update', 'user': 'user1_update'}"
   ]
  },
  {
   "cell_type": "code",
   "execution_count": 113,
   "id": "1e318c7f",
   "metadata": {},
   "outputs": [],
   "source": [
    "serializer = userserializers(ur2,data=data)"
   ]
  },
  {
   "cell_type": "code",
   "execution_count": 114,
   "id": "46d85c22",
   "metadata": {},
   "outputs": [
    {
     "data": {
      "text/plain": [
       "True"
      ]
     },
     "execution_count": 114,
     "metadata": {},
     "output_type": "execute_result"
    }
   ],
   "source": [
    "serializer.is_valid()"
   ]
  },
  {
   "cell_type": "code",
   "execution_count": 116,
   "id": "1f7ce386",
   "metadata": {},
   "outputs": [
    {
     "ename": "AttributeError",
     "evalue": "'user' object has no attribute 'save'",
     "output_type": "error",
     "traceback": [
      "\u001b[1;31m---------------------------------------------------------------------------\u001b[0m",
      "\u001b[1;31mAttributeError\u001b[0m                            Traceback (most recent call last)",
      "Cell \u001b[1;32mIn[116], line 1\u001b[0m\n\u001b[1;32m----> 1\u001b[0m ur5\u001b[38;5;241m=\u001b[39mserializer\u001b[38;5;241m.\u001b[39msave()\n",
      "File \u001b[1;32mC:\\ProgramData\\anaconda3\\Lib\\site-packages\\rest_framework\\serializers.py:207\u001b[0m, in \u001b[0;36mBaseSerializer.save\u001b[1;34m(self, **kwargs)\u001b[0m\n\u001b[0;32m    204\u001b[0m validated_data \u001b[38;5;241m=\u001b[39m {\u001b[38;5;241m*\u001b[39m\u001b[38;5;241m*\u001b[39m\u001b[38;5;28mself\u001b[39m\u001b[38;5;241m.\u001b[39mvalidated_data, \u001b[38;5;241m*\u001b[39m\u001b[38;5;241m*\u001b[39mkwargs}\n\u001b[0;32m    206\u001b[0m \u001b[38;5;28;01mif\u001b[39;00m \u001b[38;5;28mself\u001b[39m\u001b[38;5;241m.\u001b[39minstance \u001b[38;5;129;01mis\u001b[39;00m \u001b[38;5;129;01mnot\u001b[39;00m \u001b[38;5;28;01mNone\u001b[39;00m:\n\u001b[1;32m--> 207\u001b[0m     \u001b[38;5;28mself\u001b[39m\u001b[38;5;241m.\u001b[39minstance \u001b[38;5;241m=\u001b[39m \u001b[38;5;28mself\u001b[39m\u001b[38;5;241m.\u001b[39mupdate(\u001b[38;5;28mself\u001b[39m\u001b[38;5;241m.\u001b[39minstance, validated_data)\n\u001b[0;32m    208\u001b[0m     \u001b[38;5;28;01massert\u001b[39;00m \u001b[38;5;28mself\u001b[39m\u001b[38;5;241m.\u001b[39minstance \u001b[38;5;129;01mis\u001b[39;00m \u001b[38;5;129;01mnot\u001b[39;00m \u001b[38;5;28;01mNone\u001b[39;00m, (\n\u001b[0;32m    209\u001b[0m         \u001b[38;5;124m'\u001b[39m\u001b[38;5;124m`update()` did not return an object instance.\u001b[39m\u001b[38;5;124m'\u001b[39m\n\u001b[0;32m    210\u001b[0m     )\n\u001b[0;32m    211\u001b[0m \u001b[38;5;28;01melse\u001b[39;00m:\n",
      "Cell \u001b[1;32mIn[111], line 11\u001b[0m, in \u001b[0;36muserserializers.update\u001b[1;34m(self, instance, validated_data)\u001b[0m\n\u001b[0;32m      9\u001b[0m instance\u001b[38;5;241m.\u001b[39muser\u001b[38;5;241m=\u001b[39mvalidated_data\u001b[38;5;241m.\u001b[39mget(\u001b[38;5;124m'\u001b[39m\u001b[38;5;124muser\u001b[39m\u001b[38;5;124m'\u001b[39m,instance\u001b[38;5;241m.\u001b[39muser)\n\u001b[0;32m     10\u001b[0m instance\u001b[38;5;241m.\u001b[39memail\u001b[38;5;241m=\u001b[39mvalidated_data\u001b[38;5;241m.\u001b[39mget(\u001b[38;5;124m'\u001b[39m\u001b[38;5;124memail\u001b[39m\u001b[38;5;124m'\u001b[39m,instance\u001b[38;5;241m.\u001b[39memail)\n\u001b[1;32m---> 11\u001b[0m instance\u001b[38;5;241m.\u001b[39msave()\n\u001b[0;32m     12\u001b[0m \u001b[38;5;28;01mreturn\u001b[39;00m instance\n",
      "\u001b[1;31mAttributeError\u001b[0m: 'user' object has no attribute 'save'"
     ]
    }
   ],
   "source": [
    "ur5=serializer.save()"
   ]
  },
  {
   "cell_type": "code",
   "execution_count": null,
   "id": "6e467bdb",
   "metadata": {},
   "outputs": [],
   "source": []
  }
 ],
 "metadata": {
  "kernelspec": {
   "display_name": "Python 3 (ipykernel)",
   "language": "python",
   "name": "python3"
  },
  "language_info": {
   "codemirror_mode": {
    "name": "ipython",
    "version": 3
   },
   "file_extension": ".py",
   "mimetype": "text/x-python",
   "name": "python",
   "nbconvert_exporter": "python",
   "pygments_lexer": "ipython3",
   "version": "3.11.5"
  }
 },
 "nbformat": 4,
 "nbformat_minor": 5
}
