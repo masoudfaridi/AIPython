{
 "cells": [
  {
   "cell_type": "code",
   "execution_count": 1,
   "id": "d8ddcf3c",
   "metadata": {},
   "outputs": [],
   "source": [
    "from datetime import datetime\n",
    "user_doc = {\n",
    "    \"username\" : \"janedoe\",\n",
    "    \"firstname\" : \"Jane\",\n",
    "    \"surname\" : \"Doe\",\n",
    "    \"dateofbirth\" : datetime(1974, 4, 12),\n",
    "    \"email\" : \"janedoe74@example.com\",\n",
    "    \"score\" : 0\n",
    "}"
   ]
  },
  {
   "cell_type": "code",
   "execution_count": 2,
   "id": "a758c645",
   "metadata": {},
   "outputs": [
    {
     "data": {
      "text/plain": [
       "{'username': 'janedoe',\n",
       " 'firstname': 'Jane',\n",
       " 'surname': 'Doe',\n",
       " 'dateofbirth': datetime.datetime(1974, 4, 12, 0, 0),\n",
       " 'email': 'janedoe74@example.com',\n",
       " 'score': 0}"
      ]
     },
     "execution_count": 2,
     "metadata": {},
     "output_type": "execute_result"
    }
   ],
   "source": [
    "user_doc"
   ]
  },
  {
   "cell_type": "code",
   "execution_count": 7,
   "id": "4860c314",
   "metadata": {},
   "outputs": [],
   "source": [
    "import pymongo\n",
    "from pymongo import MongoClient"
   ]
  },
  {
   "cell_type": "code",
   "execution_count": null,
   "id": "f3d7d6d8",
   "metadata": {},
   "outputs": [],
   "source": []
  },
  {
   "cell_type": "code",
   "execution_count": 13,
   "id": "5dac1464",
   "metadata": {},
   "outputs": [
    {
     "name": "stdout",
     "output_type": "stream",
     "text": [
      "Connected successfully\n"
     ]
    }
   ],
   "source": [
    "try:\n",
    "    con_md = MongoClient(host=\"localhost\", port=27017)\n",
    "    print(\"Connected successfully\")\n",
    "except ConnectionFailure:\n",
    "    sys.stderr.write(\"Could not connect to MongoDB: %s\" % ConnectionFailure)"
   ]
  },
  {
   "cell_type": "code",
   "execution_count": 14,
   "id": "1d4a0d2f",
   "metadata": {},
   "outputs": [
    {
     "data": {
      "text/plain": [
       "MongoClient(host=['localhost:27017'], document_class=dict, tz_aware=False, connect=True)"
      ]
     },
     "execution_count": 14,
     "metadata": {},
     "output_type": "execute_result"
    }
   ],
   "source": [
    "con_md"
   ]
  },
  {
   "cell_type": "code",
   "execution_count": 36,
   "id": "2fc046cd",
   "metadata": {},
   "outputs": [
    {
     "data": {
      "text/plain": [
       "['admin', 'config', 'local', 'school']"
      ]
     },
     "execution_count": 36,
     "metadata": {},
     "output_type": "execute_result"
    }
   ],
   "source": [
    "con_md.list_database_names()"
   ]
  },
  {
   "cell_type": "code",
   "execution_count": 37,
   "id": "0d78a2d0",
   "metadata": {},
   "outputs": [],
   "source": [
    "new_db = con_md['new_db']"
   ]
  },
  {
   "cell_type": "code",
   "execution_count": 38,
   "id": "85ba655c",
   "metadata": {},
   "outputs": [
    {
     "data": {
      "text/plain": [
       "['admin', 'config', 'local', 'school']"
      ]
     },
     "execution_count": 38,
     "metadata": {},
     "output_type": "execute_result"
    }
   ],
   "source": [
    "con_md.list_database_names()"
   ]
  },
  {
   "cell_type": "code",
   "execution_count": 41,
   "id": "339ec754",
   "metadata": {},
   "outputs": [
    {
     "data": {
      "text/plain": [
       "[]"
      ]
     },
     "execution_count": 41,
     "metadata": {},
     "output_type": "execute_result"
    }
   ],
   "source": [
    "new_db.list_collection_names()"
   ]
  },
  {
   "cell_type": "code",
   "execution_count": 42,
   "id": "210420a7",
   "metadata": {},
   "outputs": [],
   "source": [
    "col_1 = new_db['collection_1']"
   ]
  },
  {
   "cell_type": "code",
   "execution_count": 43,
   "id": "ab3ef7ba",
   "metadata": {},
   "outputs": [],
   "source": [
    "mydict = { \"name\": \"John\", \"address\": \"Highway 37\" }\n",
    "x = col_1.insert_one(mydict)"
   ]
  },
  {
   "cell_type": "code",
   "execution_count": 47,
   "id": "71f83dad",
   "metadata": {},
   "outputs": [
    {
     "data": {
      "text/plain": [
       "ObjectId('6575479841a325b5cebc493a')"
      ]
     },
     "execution_count": 47,
     "metadata": {},
     "output_type": "execute_result"
    }
   ],
   "source": [
    "x.inserted_id"
   ]
  },
  {
   "cell_type": "code",
   "execution_count": 50,
   "id": "67ab6561",
   "metadata": {},
   "outputs": [
    {
     "data": {
      "text/plain": [
       "1"
      ]
     },
     "execution_count": 50,
     "metadata": {},
     "output_type": "execute_result"
    }
   ],
   "source": [
    "col_1.estimated_document_count()"
   ]
  },
  {
   "cell_type": "code",
   "execution_count": 53,
   "id": "d698010c",
   "metadata": {},
   "outputs": [
    {
     "name": "stdout",
     "output_type": "stream",
     "text": [
      "{'_id': ObjectId('6575479841a325b5cebc493a'), 'name': 'John', 'address': 'Highway 37'}\n"
     ]
    }
   ],
   "source": [
    "for i in col_1.find():\n",
    "    print(i)"
   ]
  },
  {
   "cell_type": "code",
   "execution_count": 54,
   "id": "64a67426",
   "metadata": {},
   "outputs": [
    {
     "data": {
      "text/plain": [
       "ObjectId('65754fd241a325b5cebc493b')"
      ]
     },
     "execution_count": 54,
     "metadata": {},
     "output_type": "execute_result"
    }
   ],
   "source": [
    "mydict = { \"name\": \"Maike\", \"address\": \"Holl 31\" }\n",
    "x = col_1.insert_one(mydict)\n",
    "x.inserted_id"
   ]
  },
  {
   "cell_type": "code",
   "execution_count": 55,
   "id": "c76be461",
   "metadata": {},
   "outputs": [
    {
     "name": "stdout",
     "output_type": "stream",
     "text": [
      "{'_id': ObjectId('6575479841a325b5cebc493a'), 'name': 'John', 'address': 'Highway 37'}\n",
      "{'_id': ObjectId('65754fd241a325b5cebc493b'), 'name': 'Maike', 'address': 'Holl 31'}\n"
     ]
    }
   ],
   "source": [
    "for i in col_1.find():\n",
    "    print(i)"
   ]
  },
  {
   "cell_type": "code",
   "execution_count": 57,
   "id": "ce2411a5",
   "metadata": {},
   "outputs": [
    {
     "name": "stdout",
     "output_type": "stream",
     "text": [
      "{'_id': ObjectId('65754fd241a325b5cebc493b'), 'name': 'Maike', 'address': 'Holl 31'}\n"
     ]
    }
   ],
   "source": [
    "myquery = { \"name\": \"Maike\" }\n",
    "\n",
    "mydoc = col_1.find(myquery)\n",
    "\n",
    "for x in mydoc:\n",
    "  print(x)\n"
   ]
  },
  {
   "cell_type": "code",
   "execution_count": 73,
   "id": "b67fd8a2",
   "metadata": {},
   "outputs": [
    {
     "name": "stdout",
     "output_type": "stream",
     "text": [
      "{'_id': ObjectId('65754fd241a325b5cebc493b'), 'name': 'Maike', 'address': 'Holl 31'}\n"
     ]
    }
   ],
   "source": [
    "myquery = { \"name\": { \"$regex\": \"^M\" } }\n",
    "\n",
    "mydoc = col_1.find(myquery)\n",
    "\n",
    "for x in mydoc:\n",
    "  print(x)"
   ]
  },
  {
   "cell_type": "code",
   "execution_count": 74,
   "id": "5d46efaf",
   "metadata": {},
   "outputs": [
    {
     "name": "stderr",
     "output_type": "stream",
     "text": [
      "C:\\Users\\m.faridi\\AppData\\Local\\Temp\\ipykernel_22808\\2136299650.py:1: DeprecationWarning: count is deprecated. Use Collection.count_documents instead.\n",
      "  mydoc.count()\n"
     ]
    },
    {
     "data": {
      "text/plain": [
       "1"
      ]
     },
     "execution_count": 74,
     "metadata": {},
     "output_type": "execute_result"
    }
   ],
   "source": [
    "mydoc.count()"
   ]
  },
  {
   "cell_type": "code",
   "execution_count": 75,
   "id": "11aac4b8",
   "metadata": {},
   "outputs": [
    {
     "data": {
      "text/plain": [
       "ObjectId('657551a141a325b5cebc493c')"
      ]
     },
     "execution_count": 75,
     "metadata": {},
     "output_type": "execute_result"
    }
   ],
   "source": [
    "mydict = { \"name\": \"minnie\", \"address\": \"St 31\" }\n",
    "x = col_1.insert_one(mydict)\n",
    "x.inserted_id"
   ]
  },
  {
   "cell_type": "code",
   "execution_count": 77,
   "id": "647c117d",
   "metadata": {},
   "outputs": [
    {
     "name": "stdout",
     "output_type": "stream",
     "text": [
      "1 documents updated.\n"
     ]
    }
   ],
   "source": [
    "myquery = { \"address\": { \"$regex\": \"^S\" } }\n",
    "newvalues = { \"$set\": { \"name\": \"Minnie\" } }\n",
    "\n",
    "x = col_1.update_many(myquery, newvalues)\n",
    "\n",
    "print(x.modified_count, \"documents updated.\")"
   ]
  },
  {
   "cell_type": "code",
   "execution_count": null,
   "id": "a60f9d34",
   "metadata": {},
   "outputs": [],
   "source": []
  },
  {
   "cell_type": "code",
   "execution_count": null,
   "id": "856f0e2c",
   "metadata": {},
   "outputs": [],
   "source": []
  },
  {
   "cell_type": "code",
   "execution_count": null,
   "id": "f3293b65",
   "metadata": {},
   "outputs": [],
   "source": []
  }
 ],
 "metadata": {
  "kernelspec": {
   "display_name": "Python 3 (ipykernel)",
   "language": "python",
   "name": "python3"
  },
  "language_info": {
   "codemirror_mode": {
    "name": "ipython",
    "version": 3
   },
   "file_extension": ".py",
   "mimetype": "text/x-python",
   "name": "python",
   "nbconvert_exporter": "python",
   "pygments_lexer": "ipython3",
   "version": "3.11.5"
  }
 },
 "nbformat": 4,
 "nbformat_minor": 5
}
