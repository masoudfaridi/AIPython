{
 "cells": [
  {
   "cell_type": "code",
   "execution_count": 1,
   "id": "582217f9",
   "metadata": {},
   "outputs": [
    {
     "data": {
      "text/plain": [
       "'spades diamonds clubs hearts'"
      ]
     },
     "execution_count": 1,
     "metadata": {},
     "output_type": "execute_result"
    }
   ],
   "source": [
    "'spades diamonds clubs hearts'"
   ]
  },
  {
   "cell_type": "code",
   "execution_count": 2,
   "id": "b144835c",
   "metadata": {},
   "outputs": [],
   "source": [
    "from collections import namedtuple"
   ]
  },
  {
   "cell_type": "code",
   "execution_count": 31,
   "id": "4517d783",
   "metadata": {},
   "outputs": [
    {
     "data": {
      "text/plain": [
       "Card(rank='2', suit='diamonds')"
      ]
     },
     "execution_count": 31,
     "metadata": {},
     "output_type": "execute_result"
    }
   ],
   "source": [
    "Card = namedtuple('Card',['rank','suit'])\n",
    "ranks = [str(i) for i in range(2,11)]+list('JQKA')\n",
    "suits = 'spades diamonds clubs hearts'.split()\n",
    "cards = [Card(rank, suit) for rank in ranks for suit in suits]\n",
    "cards[1]"
   ]
  },
  {
   "cell_type": "code",
   "execution_count": 48,
   "id": "94ef88b2",
   "metadata": {},
   "outputs": [],
   "source": [
    "class FrenchDeck:\n",
    "    Card = namedtuple('Card',['rank','suit'])\n",
    "    ranks = [str(i) for i in range(2,11)]+list('JQKA')\n",
    "    suits = 'spades diamonds clubs hearts'.split()\n",
    "    def __init__(self):\n",
    "        self._cards = [Card(rank, suit) for rank in ranks for suit in suits]\n",
    "        \n",
    "    def __len__(self):\n",
    "        return len(self._cards)\n",
    "    \n",
    "    def __getitem__(self,position):\n",
    "        return self._cards[position]\n",
    "        "
   ]
  },
  {
   "cell_type": "code",
   "execution_count": 49,
   "id": "2c7f26da",
   "metadata": {},
   "outputs": [],
   "source": [
    "FD = FrenchDeck()"
   ]
  },
  {
   "cell_type": "code",
   "execution_count": 50,
   "id": "501abe7e",
   "metadata": {},
   "outputs": [
    {
     "data": {
      "text/plain": [
       "52"
      ]
     },
     "execution_count": 50,
     "metadata": {},
     "output_type": "execute_result"
    }
   ],
   "source": [
    "FD.__len__()"
   ]
  },
  {
   "cell_type": "code",
   "execution_count": 51,
   "id": "ecd618fc",
   "metadata": {},
   "outputs": [
    {
     "data": {
      "text/plain": [
       "Card(rank='2', suit='spades')"
      ]
     },
     "execution_count": 51,
     "metadata": {},
     "output_type": "execute_result"
    }
   ],
   "source": [
    "FD._cards[0]"
   ]
  },
  {
   "cell_type": "code",
   "execution_count": 52,
   "id": "3c8cfd2d",
   "metadata": {},
   "outputs": [
    {
     "data": {
      "text/plain": [
       "Card(rank='2', suit='spades')"
      ]
     },
     "execution_count": 52,
     "metadata": {},
     "output_type": "execute_result"
    }
   ],
   "source": [
    "FD[0]"
   ]
  },
  {
   "cell_type": "code",
   "execution_count": null,
   "id": "d7013f39",
   "metadata": {},
   "outputs": [],
   "source": []
  }
 ],
 "metadata": {
  "kernelspec": {
   "display_name": "Python 3 (ipykernel)",
   "language": "python",
   "name": "python3"
  },
  "language_info": {
   "codemirror_mode": {
    "name": "ipython",
    "version": 3
   },
   "file_extension": ".py",
   "mimetype": "text/x-python",
   "name": "python",
   "nbconvert_exporter": "python",
   "pygments_lexer": "ipython3",
   "version": "3.11.5"
  }
 },
 "nbformat": 4,
 "nbformat_minor": 5
}
