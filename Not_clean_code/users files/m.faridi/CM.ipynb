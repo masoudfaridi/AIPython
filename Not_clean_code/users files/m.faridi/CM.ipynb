{
 "cells": [
  {
   "cell_type": "code",
   "execution_count": 30,
   "id": "73ee210d",
   "metadata": {},
   "outputs": [
    {
     "name": "stdout",
     "output_type": "stream",
     "text": [
      "except\n",
      "finnaly\n"
     ]
    }
   ],
   "source": [
    "a=1;b=0\n",
    "try:\n",
    "    print(a/b)\n",
    "except ZeroDivisionError:\n",
    "    print('except')\n",
    "finally:\n",
    "    print(\"finnaly\")"
   ]
  },
  {
   "cell_type": "code",
   "execution_count": 42,
   "id": "e98b13b6",
   "metadata": {},
   "outputs": [],
   "source": [
    "class ctx_d:\n",
    "    def __init__(self,stop,return_value):\n",
    "        self.stop=stop\n",
    "        self.return_value=return_value\n",
    "    def __enter__(self):\n",
    "        print('enter')\n",
    "        return self\n",
    "    def __exit__(self,exc_type,exc_val,exc_tb):\n",
    "        print('finally')\n",
    "#         print(exc_type)\n",
    "#         print('---------')\n",
    "#         print(exc_val,exc_tb)\n",
    "#         print('---------')\n",
    "#         print(exc_tb)\n",
    "        if exc_type==ZeroDivisionError:\n",
    "#             print('-------------------------')\n",
    "#             print('-----ZeroDivisionError----------')\n",
    "            return self.stop\n",
    "        \n",
    "    "
   ]
  },
  {
   "cell_type": "code",
   "execution_count": 43,
   "id": "fd523656",
   "metadata": {},
   "outputs": [
    {
     "name": "stdout",
     "output_type": "stream",
     "text": [
      "enter\n",
      "finally\n"
     ]
    },
    {
     "ename": "ZeroDivisionError",
     "evalue": "division by zero",
     "output_type": "error",
     "traceback": [
      "\u001b[1;31m---------------------------------------------------------------------------\u001b[0m",
      "\u001b[1;31mZeroDivisionError\u001b[0m                         Traceback (most recent call last)",
      "Cell \u001b[1;32mIn[43], line 2\u001b[0m\n\u001b[0;32m      1\u001b[0m \u001b[38;5;28;01mwith\u001b[39;00m ctx_d(\u001b[38;5;28;01mFalse\u001b[39;00m,\u001b[38;5;241m1\u001b[39m) \u001b[38;5;28;01mas\u001b[39;00m zd:\n\u001b[1;32m----> 2\u001b[0m     \u001b[38;5;28mprint\u001b[39m(a\u001b[38;5;241m/\u001b[39mb)\n",
      "\u001b[1;31mZeroDivisionError\u001b[0m: division by zero"
     ]
    }
   ],
   "source": [
    "with ctx_d(False,1) as zd:\n",
    "    print(a/b)\n",
    "    "
   ]
  },
  {
   "cell_type": "code",
   "execution_count": 59,
   "id": "adf703ff",
   "metadata": {},
   "outputs": [],
   "source": [
    "class ctx_d:\n",
    "    def __init__(self,not_stop,return_value):\n",
    "        self.not_stop=not_stop\n",
    "        self.return_value=return_value\n",
    "    def __enter__(self):\n",
    "        print('enter')\n",
    "        return self\n",
    "    def __exit__(self,exc_type,exc_val,exc_tb):\n",
    "        print('finally')\n",
    "        if exc_type==ZeroDivisionError:\n",
    "            pass\n",
    "            print('except:',exc_type)\n",
    "        return self.not_stop"
   ]
  },
  {
   "cell_type": "code",
   "execution_count": 60,
   "id": "d7487215",
   "metadata": {},
   "outputs": [
    {
     "name": "stdout",
     "output_type": "stream",
     "text": [
      "enter\n",
      "finally\n",
      "except: <class 'ZeroDivisionError'>\n"
     ]
    }
   ],
   "source": [
    "with ctx_d(True,1) as zd:\n",
    "    print(a/b)"
   ]
  },
  {
   "cell_type": "code",
   "execution_count": 61,
   "id": "193cd069",
   "metadata": {},
   "outputs": [
    {
     "name": "stdout",
     "output_type": "stream",
     "text": [
      "except\n",
      "finnaly\n"
     ]
    }
   ],
   "source": [
    "a=1;b=0\n",
    "try:\n",
    "    print(a/b)\n",
    "except ZeroDivisionError:\n",
    "    print('except')\n",
    "finally:\n",
    "    print(\"finnaly\")"
   ]
  },
  {
   "cell_type": "code",
   "execution_count": null,
   "id": "73fa429e",
   "metadata": {},
   "outputs": [],
   "source": []
  }
 ],
 "metadata": {
  "kernelspec": {
   "display_name": "Python 3 (ipykernel)",
   "language": "python",
   "name": "python3"
  },
  "language_info": {
   "codemirror_mode": {
    "name": "ipython",
    "version": 3
   },
   "file_extension": ".py",
   "mimetype": "text/x-python",
   "name": "python",
   "nbconvert_exporter": "python",
   "pygments_lexer": "ipython3",
   "version": "3.11.5"
  }
 },
 "nbformat": 4,
 "nbformat_minor": 5
}
