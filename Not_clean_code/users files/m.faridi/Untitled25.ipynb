{
 "cells": [
  {
   "cell_type": "code",
   "execution_count": 35,
   "id": "879aca39",
   "metadata": {
    "kernel": "Python 3 (ipykernel)"
   },
   "outputs": [],
   "source": [
    "class geo():\n",
    "    \n",
    "    def __init__(self,x,y):\n",
    "        self._x = None\n",
    "        self._y = None\n",
    "        self.x = x\n",
    "        self.y = y\n",
    "    \n",
    "    def __repr__(self):\n",
    "        return f\"geo(x={self.x},y={self.y})\"\n",
    "    \n",
    "    def __eq__(self, other):\n",
    "        return (self.x,self.y) == (other.x,other.y)\n",
    "    \n",
    "    @property\n",
    "    def x(self):\n",
    "        return self._x\n",
    "    \n",
    "    @x.setter\n",
    "    def x(self,x):\n",
    "        if x <0:\n",
    "            raise ValueError(\"x must be positive\")\n",
    "        self._x = x"
   ]
  },
  {
   "cell_type": "code",
   "execution_count": 36,
   "id": "c7236b7c",
   "metadata": {
    "kernel": "Python 3 (ipykernel)"
   },
   "outputs": [],
   "source": [
    "g1 = geo(1,2)\n",
    "g2 = geo(1,2)\n",
    "g3 = geo(1,3)"
   ]
  },
  {
   "cell_type": "code",
   "execution_count": 37,
   "id": "ab050361",
   "metadata": {
    "kernel": "Python 3 (ipykernel)"
   },
   "outputs": [
    {
     "data": {
      "text/plain": [
       "geo(x=1,y=2)"
      ]
     },
     "execution_count": 37,
     "metadata": {},
     "output_type": "execute_result"
    }
   ],
   "source": [
    "g1"
   ]
  },
  {
   "cell_type": "code",
   "execution_count": 38,
   "id": "9c9ac9b6",
   "metadata": {
    "kernel": "Python 3 (ipykernel)"
   },
   "outputs": [
    {
     "data": {
      "text/plain": [
       "True"
      ]
     },
     "execution_count": 38,
     "metadata": {},
     "output_type": "execute_result"
    }
   ],
   "source": [
    "g1 == g2"
   ]
  },
  {
   "cell_type": "code",
   "execution_count": 39,
   "id": "d12829b3",
   "metadata": {
    "kernel": "Python 3 (ipykernel)"
   },
   "outputs": [
    {
     "data": {
      "text/plain": [
       "False"
      ]
     },
     "execution_count": 39,
     "metadata": {},
     "output_type": "execute_result"
    }
   ],
   "source": [
    "g1 == g3"
   ]
  },
  {
   "cell_type": "code",
   "execution_count": 41,
   "id": "b6433e4b",
   "metadata": {
    "kernel": "Python 3 (ipykernel)"
   },
   "outputs": [],
   "source": [
    "g4 = geo(9,1)"
   ]
  },
  {
   "cell_type": "code",
   "execution_count": 72,
   "id": "d3e32612",
   "metadata": {
    "kernel": "Python 3 (ipykernel)"
   },
   "outputs": [],
   "source": [
    "def timed(fn):\n",
    "    from time import perf_counter\n",
    "    from functools import wraps\n",
    "    @wraps(fn)\n",
    "    def inner(*args, **kwargs):\n",
    "        start = perf_counter()\n",
    "        result = fn(*args, **kwargs)\n",
    "        end = perf_counter()\n",
    "        elapsed = end - start\n",
    "        args_ = [str(a) for a in args]\n",
    "        kwargs_ = ['{0}={1}'.format(k, v) for (k, v) in kwargs.items()]\n",
    "        all_args = args_ + kwargs_\n",
    "        args_str = ','.join(all_args)\n",
    "        print('{0}({1}) took {2:.6f}s to run.'.format(fn.__name__,\n",
    "        args_str,\n",
    "        elapsed))\n",
    "        return result\n",
    "    return inner"
   ]
  },
  {
   "cell_type": "code",
   "execution_count": 60,
   "id": "2c16bc73",
   "metadata": {
    "kernel": "Python 3 (ipykernel)"
   },
   "outputs": [],
   "source": [
    "def counter(fn):\n",
    "    cnt = 0\n",
    "    cache = dict()    \n",
    "    def inner(*args,**kwargs):\n",
    "        nonlocal cnt, cache\n",
    "        cnt = cnt + 1\n",
    "        print(f\"function {fn.__name__} was called {cnt} times\")\n",
    "        all_args = args.__str__()+kwargs.__str__()\n",
    "        if all_args not in cache:            \n",
    "            cache[all_args] = fn(*args,**kwargs)\n",
    "        return cache[all_args]\n",
    "    return inner"
   ]
  },
  {
   "cell_type": "code",
   "execution_count": 74,
   "id": "54d62ed2",
   "metadata": {
    "kernel": "Python 3 (ipykernel)"
   },
   "outputs": [],
   "source": [
    "@counter\n",
    "@timed\n",
    "def add(a,b):\n",
    "    print(f\"calculating: add(a={a},b={b}))\")\n",
    "    return a+b"
   ]
  },
  {
   "cell_type": "code",
   "execution_count": 77,
   "id": "72049d70",
   "metadata": {
    "kernel": "Python 3 (ipykernel)"
   },
   "outputs": [
    {
     "name": "stdout",
     "output_type": "stream",
     "text": [
      "function add was called 3 times\n"
     ]
    },
    {
     "data": {
      "text/plain": [
       "3"
      ]
     },
     "execution_count": 77,
     "metadata": {},
     "output_type": "execute_result"
    }
   ],
   "source": [
    "add(1,2)"
   ]
  },
  {
   "cell_type": "code",
   "execution_count": 63,
   "id": "6309af3c",
   "metadata": {
    "kernel": "Python 3 (ipykernel)"
   },
   "outputs": [
    {
     "name": "stdout",
     "output_type": "stream",
     "text": [
      "function add was called 2 times\n",
      "calculating: add(a=1,b=2))\n"
     ]
    },
    {
     "data": {
      "text/plain": [
       "3"
      ]
     },
     "execution_count": 63,
     "metadata": {},
     "output_type": "execute_result"
    }
   ],
   "source": [
    "add(1,b=2)"
   ]
  },
  {
   "cell_type": "code",
   "execution_count": 64,
   "id": "45e719ef",
   "metadata": {
    "kernel": "Python 3 (ipykernel)"
   },
   "outputs": [
    {
     "name": "stdout",
     "output_type": "stream",
     "text": [
      "function add was called 3 times\n"
     ]
    },
    {
     "data": {
      "text/plain": [
       "3"
      ]
     },
     "execution_count": 64,
     "metadata": {},
     "output_type": "execute_result"
    }
   ],
   "source": [
    "add(1,b=2)"
   ]
  },
  {
   "cell_type": "code",
   "execution_count": 103,
   "id": "a4af574d",
   "metadata": {
    "kernel": "Python 3 (ipykernel)"
   },
   "outputs": [],
   "source": [
    "def singledispatch(fn):\n",
    "    registry = dict()\n",
    "    registry[object] = fn\n",
    "    registry[int] = lambda arg: \"int\"\n",
    "    registry[float] = lambda arg: \"float\"\n",
    "    def inner(arg):\n",
    "        fn = registry.get(type(arg), registry[object])\n",
    "        return fn(arg)\n",
    "    return inner"
   ]
  },
  {
   "cell_type": "code",
   "execution_count": 106,
   "id": "f1e8c63d",
   "metadata": {
    "kernel": "Python 3 (ipykernel)"
   },
   "outputs": [
    {
     "data": {
      "text/plain": [
       "'int'"
      ]
     },
     "execution_count": 106,
     "metadata": {},
     "output_type": "execute_result"
    }
   ],
   "source": [
    "@singledispatch\n",
    "def htmlize(a):\n",
    "    #return escape(str(a))\n",
    "    return str(a) + \"re\"\n",
    "\n",
    "htmlize(10)"
   ]
  },
  {
   "cell_type": "code",
   "execution_count": 92,
   "id": "b37e2c7f",
   "metadata": {
    "kernel": "Python 3 (ipykernel)"
   },
   "outputs": [
    {
     "data": {
      "text/plain": [
       "'10.03'"
      ]
     },
     "execution_count": 92,
     "metadata": {},
     "output_type": "execute_result"
    }
   ],
   "source": [
    "@singledispatch\n",
    "def htmlize(a):\n",
    "    return escape(str(a))\n",
    "    \n",
    "\n",
    "htmlize(10.025)"
   ]
  },
  {
   "cell_type": "code",
   "execution_count": 168,
   "id": "7b7da893",
   "metadata": {
    "kernel": "Python 3 (ipykernel)"
   },
   "outputs": [],
   "source": [
    "def singledispatch(fn):\n",
    "    registery = dict()\n",
    "    registery[object] = fn\n",
    "    registery[int] = lambda x: 'int'\n",
    "    def inner(arg):\n",
    "        nonlocal registery\n",
    "        #return registery[object](*args,**kwargs)\n",
    "        fn = registery.get(type(arg), registery[object])\n",
    "        return fn(arg)\n",
    "    \n",
    "    return inner"
   ]
  },
  {
   "cell_type": "code",
   "execution_count": 174,
   "id": "717911fa",
   "metadata": {
    "kernel": "Python 3 (ipykernel)"
   },
   "outputs": [],
   "source": [
    "@singledispatch\n",
    "def add(a):\n",
    "    print(f\"calculating: add(a={a})\")\n",
    "    return a+100"
   ]
  },
  {
   "cell_type": "code",
   "execution_count": 176,
   "id": "d95c5d0a",
   "metadata": {
    "kernel": "Python 3 (ipykernel)"
   },
   "outputs": [
    {
     "name": "stdout",
     "output_type": "stream",
     "text": [
      "calculating: add(a=1.1)\n"
     ]
    },
    {
     "data": {
      "text/plain": [
       "101.1"
      ]
     },
     "execution_count": 176,
     "metadata": {},
     "output_type": "execute_result"
    }
   ],
   "source": [
    "add(1.1)"
   ]
  },
  {
   "cell_type": "code",
   "execution_count": 122,
   "id": "6afc468e",
   "metadata": {
    "kernel": "Python 3 (ipykernel)"
   },
   "outputs": [],
   "source": [
    "def add(a):\n",
    "    return a"
   ]
  },
  {
   "cell_type": "code",
   "execution_count": 123,
   "id": "d1d349e2",
   "metadata": {
    "kernel": "Python 3 (ipykernel)"
   },
   "outputs": [],
   "source": [
    "registry = dict()\n",
    "registry[object] = add"
   ]
  },
  {
   "cell_type": "code",
   "execution_count": 128,
   "id": "c559e82f",
   "metadata": {
    "kernel": "Python 3 (ipykernel)"
   },
   "outputs": [
    {
     "data": {
      "text/plain": [
       "'float'"
      ]
     },
     "execution_count": 128,
     "metadata": {},
     "output_type": "execute_result"
    }
   ],
   "source": [
    "registry[int] = lambda x: 'int'\n",
    "registry[float] = lambda x: 'float'\n",
    "gn = registry.get(float, registry[object])\n",
    "gn(0.02)"
   ]
  },
  {
   "cell_type": "code",
   "execution_count": null,
   "id": "a7bf5b96",
   "metadata": {
    "kernel": "Python 3 (ipykernel)"
   },
   "outputs": [],
   "source": [
    "registry[int] = lambda arg: '{0}(<i>{1}</i)'.format(arg, str(hex(arg)))\n",
    "registry[float] = lambda arg: '{0:.2f}'.format(round(arg, 2))\n",
    "gn = registry.get(type(arg), registry[object])"
   ]
  },
  {
   "cell_type": "code",
   "execution_count": 129,
   "id": "16c9aa0e",
   "metadata": {
    "kernel": "Python 3 (ipykernel)"
   },
   "outputs": [
    {
     "ename": "NameError",
     "evalue": "name 'arg' is not defined",
     "output_type": "error",
     "traceback": [
      "\u001b[1;31m---------------------------------------------------------------------------\u001b[0m",
      "\u001b[1;31mNameError\u001b[0m                                 Traceback (most recent call last)",
      "Cell \u001b[1;32mIn[115], line 3\u001b[0m\n\u001b[0;32m      1\u001b[0m registry[\u001b[38;5;28mint\u001b[39m] \u001b[38;5;241m=\u001b[39m \u001b[38;5;28;01mlambda\u001b[39;00m arg: \u001b[38;5;124m'\u001b[39m\u001b[38;5;132;01m{0}\u001b[39;00m\u001b[38;5;124m(<i>\u001b[39m\u001b[38;5;132;01m{1}\u001b[39;00m\u001b[38;5;124m</i)\u001b[39m\u001b[38;5;124m'\u001b[39m\u001b[38;5;241m.\u001b[39mformat(arg, \u001b[38;5;28mstr\u001b[39m(\u001b[38;5;28mhex\u001b[39m(arg)))\n\u001b[0;32m      2\u001b[0m registry[\u001b[38;5;28mfloat\u001b[39m] \u001b[38;5;241m=\u001b[39m \u001b[38;5;28;01mlambda\u001b[39;00m arg: \u001b[38;5;124m'\u001b[39m\u001b[38;5;132;01m{0:.2f}\u001b[39;00m\u001b[38;5;124m'\u001b[39m\u001b[38;5;241m.\u001b[39mformat(\u001b[38;5;28mround\u001b[39m(arg, \u001b[38;5;241m2\u001b[39m))\n\u001b[1;32m----> 3\u001b[0m gn \u001b[38;5;241m=\u001b[39m registry\u001b[38;5;241m.\u001b[39mget(\u001b[38;5;28mtype\u001b[39m(\u001b[43marg\u001b[49m), registry[\u001b[38;5;28mobject\u001b[39m])\n",
      "\u001b[1;31mNameError\u001b[0m: name 'arg' is not defined"
     ]
    }
   ],
   "source": [
    "registry[int] = lambda arg: '{0}(<i>{1}</i)'.format(arg, str(hex(arg)))\n",
    "registry[float] = lambda arg: '{0:.2f}'.format(round(arg, 2))\n",
    "gn = registry.get(type(arg), registry[object])"
   ]
  },
  {
   "cell_type": "code",
   "execution_count": 132,
   "id": "73a44002",
   "metadata": {
    "kernel": "Python 3 (ipykernel)"
   },
   "outputs": [
    {
     "ename": "ModuleNotFoundError",
     "evalue": "No module named 'math2'",
     "output_type": "error",
     "traceback": [
      "\u001b[1;31m---------------------------------------------------------------------------\u001b[0m",
      "\u001b[1;31mModuleNotFoundError\u001b[0m                       Traceback (most recent call last)",
      "Cell \u001b[1;32mIn[118], line 1\u001b[0m\n\u001b[1;32m----> 1\u001b[0m \u001b[43madd\u001b[49m\u001b[43m(\u001b[49m\u001b[38;5;241;43m1\u001b[39;49m\u001b[43m)\u001b[49m\n",
      "Cell \u001b[1;32mIn[116], line 2\u001b[0m, in \u001b[0;36madd\u001b[1;34m(a)\u001b[0m\n\u001b[0;32m      1\u001b[0m \u001b[38;5;28;01mdef\u001b[39;00m \u001b[38;5;21madd\u001b[39m(a):\n\u001b[1;32m----> 2\u001b[0m     \u001b[38;5;28;01mimport\u001b[39;00m \u001b[38;5;21;01mmath2\u001b[39;00m\n\u001b[0;32m      3\u001b[0m     \u001b[38;5;28;01mreturn\u001b[39;00m a\n",
      "\u001b[1;31mModuleNotFoundError\u001b[0m: No module named 'math2'"
     ]
    }
   ],
   "source": [
    "add(1)"
   ]
  },
  {
   "cell_type": "code",
   "execution_count": 140,
   "id": "f5133def",
   "metadata": {
    "kernel": "Python 3 (ipykernel)"
   },
   "outputs": [
    {
     "data": {
      "text/plain": [
       "[65, 66, 67]"
      ]
     },
     "execution_count": 140,
     "metadata": {},
     "output_type": "execute_result"
    }
   ],
   "source": [
    "str1=\"ABC\"\n",
    "codes = [ord(chr1) for chr1 in str1]\n",
    "codes"
   ]
  },
  {
   "cell_type": "code",
   "execution_count": 142,
   "id": "9c465f64",
   "metadata": {
    "kernel": "Python 3 (ipykernel)"
   },
   "outputs": [
    {
     "data": {
      "text/plain": [
       "[65, 66, 67]"
      ]
     },
     "execution_count": 142,
     "metadata": {},
     "output_type": "execute_result"
    }
   ],
   "source": [
    "list(map(ord, str1))"
   ]
  },
  {
   "cell_type": "code",
   "execution_count": 145,
   "id": "91c7aaeb",
   "metadata": {
    "kernel": "Python 3 (ipykernel)"
   },
   "outputs": [
    {
     "data": {
      "text/plain": [
       "['1', '2', '3']"
      ]
     },
     "execution_count": 145,
     "metadata": {},
     "output_type": "execute_result"
    }
   ],
   "source": [
    "l1 = list(map(str,[1,2,3]))\n",
    "l1"
   ]
  },
  {
   "cell_type": "code",
   "execution_count": 279,
   "id": "979cd4a0",
   "metadata": {
    "kernel": "Python 3 (ipykernel)"
   },
   "outputs": [],
   "source": [
    "def doubleDispach(fn):\n",
    "    print('doubleDispach')\n",
    "    registery = dict()\n",
    "    registery[(object,object)] =  lambda x,y: 'object-object'\n",
    "    registery[(int,int)] =  lambda x,y: 'int-int'    \n",
    "    registery[(int,float)] =  lambda x,y: 'int-float'\n",
    "    registery[(float,int)] =  lambda x,y: 'float-int'\n",
    "    registery[(float,float)] =  lambda x,y: 'float-float'\n",
    "    #print(('int','int'))\n",
    "    def inner(a,b):\n",
    "        nonlocal registery\n",
    "        print(a,b)\n",
    "        fn = registery.get((type(a),type(b)))(a,b)\n",
    "        return fn\n",
    "    return inner"
   ]
  },
  {
   "cell_type": "code",
   "execution_count": 280,
   "id": "55ebbbd6",
   "metadata": {
    "kernel": "Python 3 (ipykernel)"
   },
   "outputs": [
    {
     "name": "stdout",
     "output_type": "stream",
     "text": [
      "doubleDispach\n"
     ]
    }
   ],
   "source": [
    "@doubleDispach\n",
    "def add1(a,b):\n",
    "    print('add')\n",
    "    return a+b"
   ]
  },
  {
   "cell_type": "code",
   "execution_count": 281,
   "id": "db8961c0",
   "metadata": {
    "kernel": "Python 3 (ipykernel)"
   },
   "outputs": [
    {
     "name": "stdout",
     "output_type": "stream",
     "text": [
      "1 1.2\n"
     ]
    },
    {
     "data": {
      "text/plain": [
       "'int-float'"
      ]
     },
     "execution_count": 281,
     "metadata": {},
     "output_type": "execute_result"
    }
   ],
   "source": [
    "add1(1,1.2)"
   ]
  },
  {
   "cell_type": "code",
   "execution_count": 271,
   "id": "151ef4b0",
   "metadata": {
    "kernel": "Python 3 (ipykernel)"
   },
   "outputs": [],
   "source": [
    "registery = dict()\n",
    "registery[(object,object)] =  lambda x: list('object','object')\n",
    "registery[(int,int)] =  lambda x: list('object','int')    \n",
    "registery[(int,float)] =  lambda x: list('int','float')\n",
    "registery[(float,int)] =  lambda x: list('float','int')\n",
    "registery[(float,float)] =  lambda x: list('float','float')"
   ]
  },
  {
   "cell_type": "code",
   "execution_count": 255,
   "id": "ae04f0ea",
   "metadata": {
    "kernel": "Python 3 (ipykernel)"
   },
   "outputs": [
    {
     "data": {
      "text/plain": [
       "<function __main__.<lambda>(x)>"
      ]
     },
     "execution_count": 255,
     "metadata": {},
     "output_type": "execute_result"
    }
   ],
   "source": [
    "registery.get((int,int))"
   ]
  },
  {
   "cell_type": "code",
   "execution_count": 282,
   "id": "0ee7fd27",
   "metadata": {
    "kernel": "Python 3 (ipykernel)"
   },
   "outputs": [
    {
     "data": {
      "text/plain": [
       "2"
      ]
     },
     "execution_count": 282,
     "metadata": {},
     "output_type": "execute_result"
    }
   ],
   "source": [
    "def fx(x):\n",
    "    return x \n",
    "fx(2)"
   ]
  },
  {
   "cell_type": "code",
   "execution_count": 284,
   "id": "c4a59e8b",
   "metadata": {
    "kernel": "Python 3 (ipykernel)"
   },
   "outputs": [],
   "source": [
    "def singledispatch(fn):\n",
    "    registery = dict()\n",
    "    registery[object] = fn\n",
    "    registery[int] = lambda x: 'int'\n",
    "    registery[float] = lambda x: 'float'\n",
    "    def inner(arg):\n",
    "        fx = registery.get(type(arg),registery[object])\n",
    "        return fx(arg)\n",
    "    return inner\n",
    "    "
   ]
  },
  {
   "cell_type": "code",
   "execution_count": 285,
   "id": "5618827d",
   "metadata": {
    "kernel": "Python 3 (ipykernel)"
   },
   "outputs": [
    {
     "data": {
      "text/plain": [
       "'int'"
      ]
     },
     "execution_count": 285,
     "metadata": {},
     "output_type": "execute_result"
    }
   ],
   "source": [
    "@singledispatch\n",
    "def fx(x):\n",
    "    return x \n",
    "fx(2)"
   ]
  },
  {
   "cell_type": "code",
   "execution_count": 286,
   "id": "393c0cb2",
   "metadata": {
    "kernel": "Python 3 (ipykernel)"
   },
   "outputs": [
    {
     "data": {
      "text/plain": [
       "'float'"
      ]
     },
     "execution_count": 286,
     "metadata": {},
     "output_type": "execute_result"
    }
   ],
   "source": [
    "fx(2.1)"
   ]
  },
  {
   "cell_type": "code",
   "execution_count": 287,
   "id": "f2ae771a",
   "metadata": {
    "kernel": "Python 3 (ipykernel)"
   },
   "outputs": [
    {
     "data": {
      "text/plain": [
       "'2.1'"
      ]
     },
     "execution_count": 287,
     "metadata": {},
     "output_type": "execute_result"
    }
   ],
   "source": [
    "fx('2.1')"
   ]
  },
  {
   "cell_type": "code",
   "execution_count": 326,
   "id": "8c93fa97",
   "metadata": {
    "kernel": "Python 3 (ipykernel)"
   },
   "outputs": [
    {
     "name": "stdout",
     "output_type": "stream",
     "text": [
      "2346427375088\n"
     ]
    }
   ],
   "source": [
    "a = 100001\n",
    "print(id(a))"
   ]
  },
  {
   "cell_type": "code",
   "execution_count": 330,
   "id": "10853262",
   "metadata": {
    "kernel": "Python 3 (ipykernel)"
   },
   "outputs": [],
   "source": [
    "a += 10"
   ]
  },
  {
   "cell_type": "code",
   "execution_count": 331,
   "id": "77f7e7b1",
   "metadata": {
    "kernel": "Python 3 (ipykernel)"
   },
   "outputs": [
    {
     "data": {
      "text/plain": [
       "2346427376592"
      ]
     },
     "execution_count": 331,
     "metadata": {},
     "output_type": "execute_result"
    }
   ],
   "source": [
    "id(a)"
   ]
  },
  {
   "cell_type": "code",
   "execution_count": 332,
   "id": "14bc1353",
   "metadata": {
    "kernel": "Python 3 (ipykernel)"
   },
   "outputs": [
    {
     "data": {
      "text/plain": [
       "100012"
      ]
     },
     "execution_count": 332,
     "metadata": {},
     "output_type": "execute_result"
    }
   ],
   "source": [
    "a"
   ]
  },
  {
   "cell_type": "code",
   "execution_count": null,
   "id": "63a335fb",
   "metadata": {
    "kernel": "Python 3 (ipykernel)"
   },
   "outputs": [],
   "source": []
  }
 ],
 "metadata": {
  "kernelspec": {
   "display_name": "SoS",
   "language": "sos",
   "name": "sos"
  },
  "language_info": {
   "codemirror_mode": "sos",
   "file_extension": ".sos",
   "mimetype": "text/x-sos",
   "name": "sos",
   "nbconvert_exporter": "sos_notebook.converter.SoS_Exporter",
   "pygments_lexer": "sos"
  },
  "sos": {
   "kernels": [
    [
     "Python 3 (ipykernel)",
     "python3",
     "python3",
     "",
     {
      "name": "ipython",
      "version": 3
     }
    ],
    [
     "R",
     "ir",
     "R",
     "#DCDCDA",
     "r"
    ],
    [
     "SoS",
     "sos",
     "",
     "",
     "sos"
    ]
   ],
   "panel": {
    "displayed": true,
    "height": 0
   },
   "version": "0.24.4"
  }
 },
 "nbformat": 4,
 "nbformat_minor": 5
}
