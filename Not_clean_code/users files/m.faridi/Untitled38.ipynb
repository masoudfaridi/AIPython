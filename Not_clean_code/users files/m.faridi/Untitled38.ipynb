{
 "cells": [
  {
   "cell_type": "code",
   "execution_count": 1,
   "id": "17ca60e9",
   "metadata": {},
   "outputs": [],
   "source": [
    "d = {'def': 300, 'abc': 200, 'ghi': 100}"
   ]
  },
  {
   "cell_type": "code",
   "execution_count": 2,
   "id": "cb94db36",
   "metadata": {},
   "outputs": [
    {
     "data": {
      "text/plain": [
       "['abc', 'def', 'ghi']"
      ]
     },
     "execution_count": 2,
     "metadata": {},
     "output_type": "execute_result"
    }
   ],
   "source": [
    "sorted(d)"
   ]
  },
  {
   "cell_type": "code",
   "execution_count": 5,
   "id": "e819c3d2",
   "metadata": {},
   "outputs": [
    {
     "data": {
      "text/plain": [
       "200"
      ]
     },
     "execution_count": 5,
     "metadata": {},
     "output_type": "execute_result"
    }
   ],
   "source": [
    "d['abc']"
   ]
  },
  {
   "cell_type": "code",
   "execution_count": 6,
   "id": "fd8d750d",
   "metadata": {},
   "outputs": [
    {
     "data": {
      "text/plain": [
       "['ghi', 'abc', 'def']"
      ]
     },
     "execution_count": 6,
     "metadata": {},
     "output_type": "execute_result"
    }
   ],
   "source": [
    "sorted(d, key= lambda k: d[k])"
   ]
  },
  {
   "cell_type": "code",
   "execution_count": 7,
   "id": "f39553e4",
   "metadata": {},
   "outputs": [
    {
     "data": {
      "text/plain": [
       "{'def': 300, 'abc': 200, 'ghi': 100}"
      ]
     },
     "execution_count": 7,
     "metadata": {},
     "output_type": "execute_result"
    }
   ],
   "source": [
    "d"
   ]
  },
  {
   "cell_type": "code",
   "execution_count": 8,
   "id": "9bb57877",
   "metadata": {},
   "outputs": [
    {
     "data": {
      "text/plain": [
       "['ghi', 'abc', 'def']"
      ]
     },
     "execution_count": 8,
     "metadata": {},
     "output_type": "execute_result"
    }
   ],
   "source": [
    "sorted(d, key= lambda k: d.get(k))"
   ]
  },
  {
   "cell_type": "code",
   "execution_count": 16,
   "id": "8d301f03",
   "metadata": {},
   "outputs": [],
   "source": [
    "l = [3+3j, 1+1j, 0]"
   ]
  },
  {
   "cell_type": "code",
   "execution_count": 18,
   "id": "6596cd55",
   "metadata": {},
   "outputs": [],
   "source": [
    "def dist(x):\n",
    "    return x.real**2+ x.imag**2"
   ]
  },
  {
   "cell_type": "code",
   "execution_count": 21,
   "id": "d0bb714d",
   "metadata": {},
   "outputs": [
    {
     "data": {
      "text/plain": [
       "[0, (1+1j), (3+3j)]"
      ]
     },
     "execution_count": 21,
     "metadata": {},
     "output_type": "execute_result"
    }
   ],
   "source": [
    "sorted(l, key=lambda x: x.real**2+ x.imag**2)"
   ]
  },
  {
   "cell_type": "code",
   "execution_count": null,
   "id": "b59d7013",
   "metadata": {},
   "outputs": [],
   "source": []
  }
 ],
 "metadata": {
  "kernelspec": {
   "display_name": "Python 3 (ipykernel)",
   "language": "python",
   "name": "python3"
  },
  "language_info": {
   "codemirror_mode": {
    "name": "ipython",
    "version": 3
   },
   "file_extension": ".py",
   "mimetype": "text/x-python",
   "name": "python",
   "nbconvert_exporter": "python",
   "pygments_lexer": "ipython3",
   "version": "3.11.5"
  }
 },
 "nbformat": 4,
 "nbformat_minor": 5
}
