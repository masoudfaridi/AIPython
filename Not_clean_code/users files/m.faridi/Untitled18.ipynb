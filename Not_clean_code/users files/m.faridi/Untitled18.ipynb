{
 "cells": [
  {
   "cell_type": "code",
   "execution_count": 13,
   "id": "2564c066",
   "metadata": {},
   "outputs": [],
   "source": [
    "from sklearn.linear_model import LogisticRegression\n",
    "from sklearn.model_selection import train_test_split\n",
    "from sklearn.metrics import accuracy_score\n",
    "import numpy as np\n",
    "import pandas as pd\n",
    "from matplotlib.pyplot import subplots\n",
    "import statsmodels.api as sm\n",
    "from ISLP import load_data\n",
    "from ISLP.models import (ModelSpec as MS,summarize)\n",
    "from ISLP import confusion_table\n",
    "from ISLP.models import contrast\n",
    "from sklearn.discriminant_analysis import (LinearDiscriminantAnalysis as LDA,QuadraticDiscriminantAnalysis as QDA)\n",
    "from sklearn.naive_bayes import GaussianNB\n",
    "from sklearn.neighbors import KNeighborsClassifier\n",
    "from sklearn.preprocessing import StandardScaler\n",
    "import siuba\n",
    "from siuba import _, if_else, select, mutate"
   ]
  },
  {
   "cell_type": "code",
   "execution_count": 14,
   "id": "289dd434",
   "metadata": {},
   "outputs": [],
   "source": [
    "smarket = load_data('Smarket')"
   ]
  },
  {
   "cell_type": "code",
   "execution_count": 15,
   "id": "3a273f2c",
   "metadata": {},
   "outputs": [],
   "source": [
    "smarket2=(\n",
    "    smarket >>\n",
    "    #mutate(Direction = if_else(_.Direction == 'Up',1,0)) >>\n",
    "    mutate(train = if_else(_.Year < 2005,1,0) ) >>\n",
    "    select(~_.Year,~_.Today)\n",
    "\n",
    ")\n",
    "# print(smarket2.head())\n",
    "design = MS(smarket2 >> select(~_.Direction))\n",
    "# print(design)\n",
    "\n",
    "X = design.fit_transform(smarket2)\n",
    "y = smarket2['Direction']  == 'Up'\n",
    "train = (smarket2.train == 1)\n",
    "X_train, X_test = X.loc[train], X.loc[~train]\n",
    "y_train, y_test = y.loc[train], y.loc[~train]"
   ]
  },
  {
   "cell_type": "code",
   "execution_count": 8,
   "id": "38114358",
   "metadata": {},
   "outputs": [
    {
     "name": "stdout",
     "output_type": "stream",
     "text": [
      "Accuracy: 0.48412698412698413\n",
      "      y_test  y_pred\n",
      "998    False    True\n",
      "999    False    True\n",
      "1000   False    True\n",
      "1001    True    True\n",
      "1002   False   False\n",
      "...      ...     ...\n",
      "1245    True   False\n",
      "1246   False    True\n",
      "1247    True    True\n",
      "1248   False    True\n",
      "1249   False    True\n",
      "\n",
      "[252 rows x 2 columns]\n"
     ]
    }
   ],
   "source": [
    "\n",
    "\n",
    "# Create a logistic regression model\n",
    "model = LogisticRegression()\n",
    "\n",
    "# Fit the model on the training data\n",
    "model.fit(X_train, y_train)\n",
    "\n",
    "# Make predictions on the test data\n",
    "y_pred = model.predict(X_test)\n",
    "\n",
    "# Evaluate the model's accuracy\n",
    "accuracy = accuracy_score(y_test, y_pred)\n",
    "print(\"Accuracy:\", accuracy)\n",
    "print(pd.DataFrame({'y_test': y_test, 'y_pred':y_pred}))"
   ]
  },
  {
   "cell_type": "code",
   "execution_count": 16,
   "id": "11d22d6b",
   "metadata": {},
   "outputs": [],
   "source": [
    "glm_train = sm.GLM(y_train,X_train,family=sm.families.Binomial())"
   ]
  },
  {
   "cell_type": "code",
   "execution_count": 62,
   "id": "6190441f",
   "metadata": {},
   "outputs": [],
   "source": [
    "probs = results.predict(exog=X_test)\n",
    "probs= np.array(probs)\n",
    "r1=pd.DataFrame({'prb':probs})\n",
    "r1 = (\n",
    "    r1\n",
    "\n",
    "    >>  mutate(prd = if_else(_.prb>=0.5, True,False))\n",
    "    >> mutate(real_value = np.array(y_test))\n",
    ")\n"
   ]
  },
  {
   "cell_type": "code",
   "execution_count": 63,
   "id": "a0510188",
   "metadata": {},
   "outputs": [
    {
     "data": {
      "text/plain": [
       "0.4365079365079365"
      ]
     },
     "execution_count": 63,
     "metadata": {},
     "output_type": "execute_result"
    }
   ],
   "source": [
    "accuracy = accuracy_score(r1.prd, r1.real_value)\n",
    "accuracy"
   ]
  },
  {
   "cell_type": "code",
   "execution_count": 64,
   "id": "d545b2fa",
   "metadata": {},
   "outputs": [
    {
     "name": "stdout",
     "output_type": "stream",
     "text": [
      "Truth      False  True \n",
      "Predicted              \n",
      "False        110    141\n",
      "True           1      0\n"
     ]
    }
   ],
   "source": [
    "ct = confusion_table(r1.prd, r1.real_value)\n",
    "print(ct)"
   ]
  },
  {
   "cell_type": "code",
   "execution_count": null,
   "id": "c063efb5",
   "metadata": {},
   "outputs": [],
   "source": []
  }
 ],
 "metadata": {
  "kernelspec": {
   "display_name": "Python 3 (ipykernel)",
   "language": "python",
   "name": "python3"
  },
  "language_info": {
   "codemirror_mode": {
    "name": "ipython",
    "version": 3
   },
   "file_extension": ".py",
   "mimetype": "text/x-python",
   "name": "python",
   "nbconvert_exporter": "python",
   "pygments_lexer": "ipython3",
   "version": "3.10.9"
  }
 },
 "nbformat": 4,
 "nbformat_minor": 5
}
