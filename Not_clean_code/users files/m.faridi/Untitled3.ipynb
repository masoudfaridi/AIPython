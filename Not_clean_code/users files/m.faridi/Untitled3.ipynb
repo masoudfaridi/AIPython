{
 "cells": [
  {
   "cell_type": "code",
   "execution_count": 158,
   "id": "bc3ce3e6",
   "metadata": {},
   "outputs": [],
   "source": [
    "import datetime as dt\n",
    "import re "
   ]
  },
  {
   "cell_type": "code",
   "execution_count": 168,
   "id": "09133129",
   "metadata": {},
   "outputs": [],
   "source": [
    "t1 = dt.datetime.now()"
   ]
  },
  {
   "cell_type": "code",
   "execution_count": 169,
   "id": "38b351be",
   "metadata": {},
   "outputs": [
    {
     "data": {
      "text/plain": [
       "'2023-10-18 10:51:43.941490'"
      ]
     },
     "execution_count": 169,
     "metadata": {},
     "output_type": "execute_result"
    }
   ],
   "source": [
    "str(t1)"
   ]
  },
  {
   "cell_type": "code",
   "execution_count": 178,
   "id": "3c0a5045",
   "metadata": {},
   "outputs": [],
   "source": [
    "# method 1 using regex\n",
    "#mch = re.match('(\\d{2})-(\\d{2})-(\\d{2}) (\\d{2}):(\\d{2}):(\\d{2})',str(t1))\n",
    "mch = re.match(\"(\\d*)-(\\d*)-(\\d*) (\\d*):(\\d*):(\\d{2})\",str(t1))"
   ]
  },
  {
   "cell_type": "code",
   "execution_count": 179,
   "id": "e6f8685f",
   "metadata": {},
   "outputs": [
    {
     "data": {
      "text/plain": [
       "'2023-10-18 10:51:43'"
      ]
     },
     "execution_count": 179,
     "metadata": {},
     "output_type": "execute_result"
    }
   ],
   "source": [
    "mch.group()"
   ]
  },
  {
   "cell_type": "code",
   "execution_count": 180,
   "id": "bc74b8e7",
   "metadata": {},
   "outputs": [
    {
     "data": {
      "text/plain": [
       "('2023', '10', '18', '10', '51', '43')"
      ]
     },
     "execution_count": 180,
     "metadata": {},
     "output_type": "execute_result"
    }
   ],
   "source": [
    "mch.groups()"
   ]
  },
  {
   "cell_type": "code",
   "execution_count": 186,
   "id": "9b6b315a",
   "metadata": {},
   "outputs": [
    {
     "data": {
      "text/plain": [
       "'23yyy-10-18 10:51:43'"
      ]
     },
     "execution_count": 186,
     "metadata": {},
     "output_type": "execute_result"
    }
   ],
   "source": [
    "# method 1 using datatime format\n",
    "t1.strftime(\"%y-%m-%d %H:%M:%S\")"
   ]
  },
  {
   "cell_type": "code",
   "execution_count": 195,
   "id": "17a709bb",
   "metadata": {},
   "outputs": [],
   "source": [
    "import string\n",
    "fname = 'masoud faridi'"
   ]
  },
  {
   "cell_type": "code",
   "execution_count": 196,
   "id": "8d96a542",
   "metadata": {},
   "outputs": [],
   "source": [
    "lstr = list(fname)"
   ]
  },
  {
   "cell_type": "code",
   "execution_count": 197,
   "id": "85572ab6",
   "metadata": {},
   "outputs": [],
   "source": [
    "lstr.reverse()"
   ]
  },
  {
   "cell_type": "code",
   "execution_count": 198,
   "id": "156ccdc6",
   "metadata": {},
   "outputs": [
    {
     "data": {
      "text/plain": [
       "['i', 'd', 'i', 'r', 'a', 'f', ' ', 'd', 'u', 'o', 's', 'a', 'm']"
      ]
     },
     "execution_count": 198,
     "metadata": {},
     "output_type": "execute_result"
    }
   ],
   "source": [
    "lstr"
   ]
  },
  {
   "cell_type": "code",
   "execution_count": 199,
   "id": "b523976c",
   "metadata": {},
   "outputs": [
    {
     "data": {
      "text/plain": [
       "['3', '5', '7', '23']"
      ]
     },
     "execution_count": 199,
     "metadata": {},
     "output_type": "execute_result"
    }
   ],
   "source": [
    "lnum = '3, 5, 7, 23'\n",
    "lnum.split(', ')"
   ]
  },
  {
   "cell_type": "code",
   "execution_count": 200,
   "id": "40ab7007",
   "metadata": {},
   "outputs": [],
   "source": [
    "color_list = [\"Red\",\"Green\",\"White\" ,\"Black\"]"
   ]
  },
  {
   "cell_type": "code",
   "execution_count": 201,
   "id": "dfb968c1",
   "metadata": {},
   "outputs": [
    {
     "data": {
      "text/plain": [
       "'Black'"
      ]
     },
     "execution_count": 201,
     "metadata": {},
     "output_type": "execute_result"
    }
   ],
   "source": [
    "color_list[-1]"
   ]
  },
  {
   "cell_type": "code",
   "execution_count": 208,
   "id": "69e1101b",
   "metadata": {},
   "outputs": [
    {
     "name": "stdout",
     "output_type": "stream",
     "text": [
      "The examination will start from : 11 / 12 / 2014\n"
     ]
    }
   ],
   "source": [
    "exam_st_date = (11,12,2014)\n",
    "print( \"The examination will start from : %i / %i / %i\"%exam_st_date)"
   ]
  },
  {
   "cell_type": "code",
   "execution_count": 209,
   "id": "4c9061b6",
   "metadata": {},
   "outputs": [
    {
     "data": {
      "text/plain": [
       "615"
      ]
     },
     "execution_count": 209,
     "metadata": {},
     "output_type": "execute_result"
    }
   ],
   "source": [
    "int1 = 5\n",
    "3*int1 + 2*10*int1 +1*100*int1"
   ]
  },
  {
   "cell_type": "code",
   "execution_count": 211,
   "id": "a006e941",
   "metadata": {},
   "outputs": [
    {
     "data": {
      "text/plain": [
       "'55'"
      ]
     },
     "execution_count": 211,
     "metadata": {},
     "output_type": "execute_result"
    }
   ],
   "source": [
    "\"%i%i\"%(5,5)"
   ]
  },
  {
   "cell_type": "code",
   "execution_count": 213,
   "id": "695007f6",
   "metadata": {},
   "outputs": [],
   "source": [
    "import calendar as cal"
   ]
  },
  {
   "cell_type": "code",
   "execution_count": 218,
   "id": "ea048f92",
   "metadata": {},
   "outputs": [
    {
     "name": "stdout",
     "output_type": "stream",
     "text": [
      "    August 2023\n",
      "Mo Tu We Th Fr Sa Su\n",
      "    1  2  3  4  5  6\n",
      " 7  8  9 10 11 12 13\n",
      "14 15 16 17 18 19 20\n",
      "21 22 23 24 25 26 27\n",
      "28 29 30 31\n",
      "\n"
     ]
    }
   ],
   "source": [
    "print(cal.month(2023,8))"
   ]
  },
  {
   "cell_type": "code",
   "execution_count": 224,
   "id": "53b73007",
   "metadata": {},
   "outputs": [
    {
     "ename": "TypeError",
     "evalue": "'_localized_month' object is not callable",
     "output_type": "error",
     "traceback": [
      "\u001b[1;31m---------------------------------------------------------------------------\u001b[0m",
      "\u001b[1;31mTypeError\u001b[0m                                 Traceback (most recent call last)",
      "Cell \u001b[1;32mIn[224], line 1\u001b[0m\n\u001b[1;32m----> 1\u001b[0m \u001b[38;5;28mprint\u001b[39m(\u001b[43mcal\u001b[49m\u001b[38;5;241;43m.\u001b[39;49m\u001b[43mmonth_abbr\u001b[49m\u001b[43m(\u001b[49m\u001b[38;5;124;43m'\u001b[39;49m\u001b[38;5;124;43m1\u001b[39;49m\u001b[38;5;124;43m'\u001b[39;49m\u001b[43m)\u001b[49m)\n",
      "\u001b[1;31mTypeError\u001b[0m: '_localized_month' object is not callable"
     ]
    }
   ],
   "source": [
    "print(cal.month_abbr('1'))"
   ]
  },
  {
   "cell_type": "code",
   "execution_count": 236,
   "id": "dd7c86df",
   "metadata": {},
   "outputs": [
    {
     "data": {
      "text/plain": [
       "'9 days, 0:00:00'"
      ]
     },
     "execution_count": 236,
     "metadata": {},
     "output_type": "execute_result"
    }
   ],
   "source": [
    "f_date = dt.date(2014, 7, 2)\n",
    "l_date = dt.date(2014, 7, 11)\n",
    "delta = l_date - f_date\n",
    "str(delta)"
   ]
  },
  {
   "cell_type": "code",
   "execution_count": 233,
   "id": "2b996787",
   "metadata": {},
   "outputs": [
    {
     "data": {
      "text/plain": [
       "datetime.timedelta"
      ]
     },
     "execution_count": 233,
     "metadata": {},
     "output_type": "execute_result"
    }
   ],
   "source": [
    "type(delta)"
   ]
  },
  {
   "cell_type": "code",
   "execution_count": 237,
   "id": "e84ed674",
   "metadata": {},
   "outputs": [
    {
     "data": {
      "text/plain": [
       "9"
      ]
     },
     "execution_count": 237,
     "metadata": {},
     "output_type": "execute_result"
    }
   ],
   "source": [
    "delta.days"
   ]
  },
  {
   "cell_type": "code",
   "execution_count": 238,
   "id": "d8fa3983",
   "metadata": {},
   "outputs": [],
   "source": [
    "ls9 = [2,4,5,7,9,0,2,3,6,5,2,2]"
   ]
  },
  {
   "cell_type": "code",
   "execution_count": 242,
   "id": "68b55e24",
   "metadata": {},
   "outputs": [
    {
     "data": {
      "text/plain": [
       "0"
      ]
     },
     "execution_count": 242,
     "metadata": {},
     "output_type": "execute_result"
    }
   ],
   "source": [
    "ls9.count(-2)"
   ]
  },
  {
   "cell_type": "code",
   "execution_count": 245,
   "id": "0b44629b",
   "metadata": {},
   "outputs": [],
   "source": [
    "def in_ls(ls9,int1):\n",
    "    return ls9.count(int1)>0"
   ]
  },
  {
   "cell_type": "code",
   "execution_count": 247,
   "id": "4234767c",
   "metadata": {},
   "outputs": [
    {
     "data": {
      "text/plain": [
       "False"
      ]
     },
     "execution_count": 247,
     "metadata": {},
     "output_type": "execute_result"
    }
   ],
   "source": [
    "in_ls(ls9,-2)"
   ]
  },
  {
   "cell_type": "code",
   "execution_count": 252,
   "id": "247c35b1",
   "metadata": {},
   "outputs": [
    {
     "data": {
      "text/plain": [
       "'245790236522'"
      ]
     },
     "execution_count": 252,
     "metadata": {},
     "output_type": "execute_result"
    }
   ],
   "source": [
    "''.join([str(item) for item in ls9])"
   ]
  },
  {
   "cell_type": "code",
   "execution_count": 253,
   "id": "603af63b",
   "metadata": {},
   "outputs": [],
   "source": [
    "numbers = [    \n",
    "    386, 462, 47, 418, 907, 344, 236, 375, 823, 566, 597, 978, 328, 615, 953, 345, \n",
    "    399, 162, 758, 219, 918, 237, 412, 566, 826, 248, 866, 950, 626, 949, 687, 217, \n",
    "    815, 67, 104, 58, 512, 24, 892, 894, 767, 553, 81, 379, 843, 831, 445, 742, 717, \n",
    "    958,743, 527\n",
    "    ]"
   ]
  },
  {
   "cell_type": "code",
   "execution_count": 259,
   "id": "7abbf7ae",
   "metadata": {},
   "outputs": [
    {
     "name": "stdout",
     "output_type": "stream",
     "text": [
      "412\n",
      "566\n",
      "826\n",
      "248\n",
      "866\n",
      "950\n",
      "626\n",
      "104\n",
      "58\n",
      "512\n",
      "24\n",
      "892\n",
      "894\n",
      "742\n",
      "958\n"
     ]
    }
   ],
   "source": [
    "idx = numbers.index(237)\n",
    "for i in range(idx+1,len(numbers)):\n",
    "    if numbers[i] % 2 ==0:\n",
    "        print(numbers[i])"
   ]
  },
  {
   "cell_type": "code",
   "execution_count": 260,
   "id": "3106cc8c",
   "metadata": {},
   "outputs": [],
   "source": [
    "color_list_1 = set([\"White\", \"Black\", \"Red\"])\n",
    "color_list_2 = set([\"Red\", \"Green\"])"
   ]
  },
  {
   "cell_type": "code",
   "execution_count": 262,
   "id": "7871dfa2",
   "metadata": {},
   "outputs": [
    {
     "name": "stdout",
     "output_type": "stream",
     "text": [
      "Black\n",
      "White\n"
     ]
    }
   ],
   "source": [
    "for item in color_list_1:\n",
    "    if item not in color_list_2:\n",
    "        print(item)"
   ]
  },
  {
   "cell_type": "code",
   "execution_count": 263,
   "id": "2fcdf2ee",
   "metadata": {},
   "outputs": [
    {
     "data": {
      "text/plain": [
       "{'Black', 'White'}"
      ]
     },
     "execution_count": 263,
     "metadata": {},
     "output_type": "execute_result"
    }
   ],
   "source": [
    "color_list_1.difference(color_list_2)"
   ]
  },
  {
   "cell_type": "code",
   "execution_count": 264,
   "id": "0e8f6535",
   "metadata": {},
   "outputs": [
    {
     "data": {
      "text/plain": [
       "{'Green'}"
      ]
     },
     "execution_count": 264,
     "metadata": {},
     "output_type": "execute_result"
    }
   ],
   "source": [
    "color_list_2.difference(color_list_1)"
   ]
  },
  {
   "cell_type": "code",
   "execution_count": 265,
   "id": "b435fe99",
   "metadata": {},
   "outputs": [
    {
     "data": {
      "text/plain": [
       "{'Red'}"
      ]
     },
     "execution_count": 265,
     "metadata": {},
     "output_type": "execute_result"
    }
   ],
   "source": [
    "color_list_1.intersection(color_list_2)"
   ]
  },
  {
   "cell_type": "code",
   "execution_count": 266,
   "id": "09d61c92",
   "metadata": {},
   "outputs": [
    {
     "data": {
      "text/plain": [
       "{'Black', 'Green', 'Red', 'White'}"
      ]
     },
     "execution_count": 266,
     "metadata": {},
     "output_type": "execute_result"
    }
   ],
   "source": [
    "color_list_1.union(color_list_2)"
   ]
  },
  {
   "cell_type": "code",
   "execution_count": 268,
   "id": "ca789832",
   "metadata": {},
   "outputs": [
    {
     "data": {
      "text/plain": [
       "[2, 4, 5, 7, 9, 0, 2, 3, 6, 5, 2, 2]"
      ]
     },
     "execution_count": 268,
     "metadata": {},
     "output_type": "execute_result"
    }
   ],
   "source": [
    "ls9"
   ]
  },
  {
   "cell_type": "code",
   "execution_count": 272,
   "id": "45d12f91",
   "metadata": {},
   "outputs": [
    {
     "name": "stdout",
     "output_type": "stream",
     "text": [
      "36\n"
     ]
    }
   ],
   "source": [
    "a=18;b=12\n",
    "for i in range(2,b+1):\n",
    "    if i*a % b ==0:\n",
    "        print(i*a)\n",
    "        break;"
   ]
  },
  {
   "cell_type": "code",
   "execution_count": 273,
   "id": "416dcdfa",
   "metadata": {},
   "outputs": [
    {
     "data": {
      "text/plain": [
       "True"
      ]
     },
     "execution_count": 273,
     "metadata": {},
     "output_type": "execute_result"
    }
   ],
   "source": [
    "isinstance(a,int)"
   ]
  },
  {
   "cell_type": "code",
   "execution_count": 282,
   "id": "629145ad",
   "metadata": {},
   "outputs": [],
   "source": [
    "x=[3,4]\n",
    "y=[0,0]\n",
    "import math"
   ]
  },
  {
   "cell_type": "code",
   "execution_count": 285,
   "id": "d8b96169",
   "metadata": {},
   "outputs": [
    {
     "data": {
      "text/plain": [
       "5.0"
      ]
     },
     "execution_count": 285,
     "metadata": {},
     "output_type": "execute_result"
    }
   ],
   "source": [
    "l1 = list(map(lambda x,y: (x-y)**2,x,y))\n",
    "sum(l1)**0.5"
   ]
  },
  {
   "cell_type": "code",
   "execution_count": 290,
   "id": "4c0184f9",
   "metadata": {},
   "outputs": [],
   "source": [
    "import os\n",
    "from os import path"
   ]
  },
  {
   "cell_type": "code",
   "execution_count": 295,
   "id": "a9f522ff",
   "metadata": {},
   "outputs": [
    {
     "data": {
      "text/plain": [
       "True"
      ]
     },
     "execution_count": 295,
     "metadata": {},
     "output_type": "execute_result"
    }
   ],
   "source": [
    "path.isfile(\"C:\\\\Users\\\\m.faridi\\\\chap3.ipynb\")"
   ]
  },
  {
   "cell_type": "code",
   "execution_count": 297,
   "id": "37d388d1",
   "metadata": {},
   "outputs": [
    {
     "name": "stdout",
     "output_type": "stream",
     "text": [
      "8\n",
      "64\n"
     ]
    }
   ],
   "source": [
    "# For 32 bit it will return 32 and for 64 bit it will return 64\n",
    "import struct\n",
    "print(struct.calcsize(\"P\"))\n",
    "print(struct.calcsize(\"P\") * 8)\n"
   ]
  },
  {
   "cell_type": "code",
   "execution_count": 308,
   "id": "d517b030",
   "metadata": {},
   "outputs": [
    {
     "name": "stdout",
     "output_type": "stream",
     "text": [
      "Name of the operating system: nt\n",
      "\n",
      "Name of the OS system: Windows\n",
      "\n",
      "Version of the operating system: 10\n"
     ]
    }
   ],
   "source": [
    "import platform\n",
    "import os\n",
    "print(\"Name of the operating system:\",os.name)\n",
    "print(\"\\nName of the OS system:\",platform.system())\n",
    "print(\"\\nVersion of the operating system:\",platform.release())"
   ]
  },
  {
   "cell_type": "code",
   "execution_count": 309,
   "id": "3f2b6a5a",
   "metadata": {},
   "outputs": [],
   "source": [
    "import site"
   ]
  },
  {
   "cell_type": "code",
   "execution_count": 310,
   "id": "411f6d87",
   "metadata": {},
   "outputs": [
    {
     "data": {
      "text/plain": [
       "['C:\\\\ProgramData\\\\anaconda3',\n",
       " 'C:\\\\ProgramData\\\\anaconda3\\\\lib\\\\site-packages']"
      ]
     },
     "execution_count": 310,
     "metadata": {},
     "output_type": "execute_result"
    }
   ],
   "source": [
    "site.getsitepackages()"
   ]
  },
  {
   "cell_type": "code",
   "execution_count": 328,
   "id": "41872705",
   "metadata": {},
   "outputs": [
    {
     "name": "stdout",
     "output_type": "stream",
     "text": [
      "1\n"
     ]
    }
   ],
   "source": [
    "import os\n",
    "print(os.system('ls -l'))"
   ]
  },
  {
   "cell_type": "code",
   "execution_count": 327,
   "id": "098a2ad8",
   "metadata": {},
   "outputs": [
    {
     "name": "stdout",
     "output_type": "stream",
     "text": [
      "4\n"
     ]
    }
   ],
   "source": [
    "import psutil\n",
    "print(psutil.cpu_count())"
   ]
  },
  {
   "cell_type": "code",
   "execution_count": 333,
   "id": "39de25f3",
   "metadata": {},
   "outputs": [],
   "source": [
    "str1 = \"192.168\""
   ]
  },
  {
   "cell_type": "code",
   "execution_count": 334,
   "id": "084b9876",
   "metadata": {},
   "outputs": [
    {
     "data": {
      "text/plain": [
       "str"
      ]
     },
     "execution_count": 334,
     "metadata": {},
     "output_type": "execute_result"
    }
   ],
   "source": [
    "type(str1)"
   ]
  },
  {
   "cell_type": "code",
   "execution_count": 337,
   "id": "1bbe5b80",
   "metadata": {},
   "outputs": [
    {
     "data": {
      "text/plain": [
       "192.168"
      ]
     },
     "execution_count": 337,
     "metadata": {},
     "output_type": "execute_result"
    }
   ],
   "source": [
    "float(str1)"
   ]
  },
  {
   "cell_type": "code",
   "execution_count": 423,
   "id": "a39230dd",
   "metadata": {},
   "outputs": [],
   "source": [
    "str2 = \"test 124 extract 12.98 number\""
   ]
  },
  {
   "cell_type": "code",
   "execution_count": 384,
   "id": "86449086",
   "metadata": {},
   "outputs": [],
   "source": [
    "import re"
   ]
  },
  {
   "cell_type": "code",
   "execution_count": 387,
   "id": "04380de8",
   "metadata": {},
   "outputs": [
    {
     "name": "stdout",
     "output_type": "stream",
     "text": [
      "<re.Match object; span=(0, 0), match=''>\n"
     ]
    }
   ],
   "source": [
    "mch1 = re.match(\"([0-9]*)\",str2)\n",
    "print(mch1)"
   ]
  },
  {
   "cell_type": "code",
   "execution_count": 388,
   "id": "3a69aaa4",
   "metadata": {},
   "outputs": [
    {
     "data": {
      "text/plain": [
       "''"
      ]
     },
     "execution_count": 388,
     "metadata": {},
     "output_type": "execute_result"
    }
   ],
   "source": [
    "mch1.group()"
   ]
  },
  {
   "cell_type": "code",
   "execution_count": 389,
   "id": "60ed9138",
   "metadata": {},
   "outputs": [
    {
     "data": {
      "text/plain": [
       "('',)"
      ]
     },
     "execution_count": 389,
     "metadata": {},
     "output_type": "execute_result"
    }
   ],
   "source": [
    "mch1.groups()"
   ]
  },
  {
   "cell_type": "code",
   "execution_count": 428,
   "id": "7484c841",
   "metadata": {},
   "outputs": [],
   "source": [
    "mch2 = re.findall(\"([0-9.]*)\",str2)"
   ]
  },
  {
   "cell_type": "code",
   "execution_count": 429,
   "id": "32040f09",
   "metadata": {},
   "outputs": [
    {
     "name": "stdout",
     "output_type": "stream",
     "text": [
      "['', '', '', '', '', '124', '', '', '', '', '', '', '', '', '', '12.98', '', '', '', '', '', '', '', '']\n"
     ]
    }
   ],
   "source": [
    "print(mch2)"
   ]
  },
  {
   "cell_type": "code",
   "execution_count": 440,
   "id": "f3fef203",
   "metadata": {},
   "outputs": [],
   "source": [
    "#str_list = filter(None, mch2)\n",
    "str_list = filter(len, mch2)"
   ]
  },
  {
   "cell_type": "code",
   "execution_count": 441,
   "id": "e74bbd61",
   "metadata": {},
   "outputs": [
    {
     "data": {
      "text/plain": [
       "['124', '12.98']"
      ]
     },
     "execution_count": 441,
     "metadata": {},
     "output_type": "execute_result"
    }
   ],
   "source": [
    "list(str_list)"
   ]
  },
  {
   "cell_type": "code",
   "execution_count": 449,
   "id": "c4fba5b1",
   "metadata": {},
   "outputs": [
    {
     "data": {
      "text/plain": [
       "['124', '12.98', '.23']"
      ]
     },
     "execution_count": 449,
     "metadata": {},
     "output_type": "execute_result"
    }
   ],
   "source": [
    "mch2 = re.findall(r'[0-9.]+',str2)\n",
    "mch2"
   ]
  },
  {
   "cell_type": "code",
   "execution_count": 448,
   "id": "762aacc0",
   "metadata": {},
   "outputs": [],
   "source": [
    "str2 = \"test 124 extract 12.98 number  .23\""
   ]
  },
  {
   "cell_type": "code",
   "execution_count": 450,
   "id": "23639c1f",
   "metadata": {},
   "outputs": [
    {
     "data": {
      "text/plain": [
       "['124', '12.98', '.23']"
      ]
     },
     "execution_count": 450,
     "metadata": {},
     "output_type": "execute_result"
    }
   ],
   "source": [
    "mch2 = re.findall('[0-9.]+',str2)\n",
    "mch2"
   ]
  },
  {
   "cell_type": "code",
   "execution_count": 453,
   "id": "6b07944d",
   "metadata": {},
   "outputs": [
    {
     "data": {
      "text/plain": [
       "['124', '12.98', '.23']"
      ]
     },
     "execution_count": 453,
     "metadata": {},
     "output_type": "execute_result"
    }
   ],
   "source": [
    "mch2 = re.findall('[0-9.]+',str2)\n",
    "mch2"
   ]
  },
  {
   "cell_type": "code",
   "execution_count": 455,
   "id": "94e5b85c",
   "metadata": {},
   "outputs": [
    {
     "data": {
      "text/plain": [
       "['124', '12.98', '.23']"
      ]
     },
     "execution_count": 455,
     "metadata": {},
     "output_type": "execute_result"
    }
   ],
   "source": [
    "mch2 = re.findall('.*?([0-9.]+).*?',str2)\n",
    "mch2"
   ]
  },
  {
   "cell_type": "code",
   "execution_count": 464,
   "id": "0ac7378b",
   "metadata": {},
   "outputs": [
    {
     "data": {
      "text/plain": [
       "<re.Match object; span=(0, 8), match='test 124'>"
      ]
     },
     "execution_count": 464,
     "metadata": {},
     "output_type": "execute_result"
    }
   ],
   "source": [
    "mch2 = re.match('.*?([0-9.]+).*?',str2)\n",
    "mch2"
   ]
  },
  {
   "cell_type": "code",
   "execution_count": 465,
   "id": "3970c208",
   "metadata": {},
   "outputs": [
    {
     "data": {
      "text/plain": [
       "'test 124'"
      ]
     },
     "execution_count": 465,
     "metadata": {},
     "output_type": "execute_result"
    }
   ],
   "source": [
    "mch2.group()"
   ]
  },
  {
   "cell_type": "code",
   "execution_count": 466,
   "id": "15c0e136",
   "metadata": {},
   "outputs": [
    {
     "data": {
      "text/plain": [
       "('124',)"
      ]
     },
     "execution_count": 466,
     "metadata": {},
     "output_type": "execute_result"
    }
   ],
   "source": [
    "mch2.groups()"
   ]
  },
  {
   "cell_type": "code",
   "execution_count": 490,
   "id": "6e3da416",
   "metadata": {},
   "outputs": [
    {
     "data": {
      "text/plain": [
       "<re.Match object; span=(0, 34), match='test 124 extract 12.98 number  .23'>"
      ]
     },
     "execution_count": 490,
     "metadata": {},
     "output_type": "execute_result"
    }
   ],
   "source": [
    "mch2 = re.fullmatch('.*?([0-9.]+).*?',str2)\n",
    "mch2\n",
    "print(mch2.group(),'-------',mch2.groups())"
   ]
  },
  {
   "cell_type": "code",
   "execution_count": 494,
   "id": "202aaa6d",
   "metadata": {},
   "outputs": [
    {
     "name": "stdout",
     "output_type": "stream",
     "text": [
      "test 124 extract 12.98 number  .23 ------- ('124', '12.98')\n"
     ]
    }
   ],
   "source": [
    "mch2 = re.fullmatch('.*?([0-9.]+).*?([0-9.]+).*?',str2)\n",
    "mch2\n",
    "print(mch2.group(),'-------',mch2.groups())"
   ]
  },
  {
   "cell_type": "code",
   "execution_count": 485,
   "id": "a53e56b0",
   "metadata": {},
   "outputs": [
    {
     "data": {
      "text/plain": [
       "<re.Match object; span=(0, 34), match='test 124 extract 12.98 number  .23'>"
      ]
     },
     "execution_count": 485,
     "metadata": {},
     "output_type": "execute_result"
    }
   ],
   "source": [
    "mch2 = re.fullmatch('.*?([0-9.]+).*?([0-9.]+).*?([0-9.]+).*?',str2)\n",
    "mch2"
   ]
  },
  {
   "cell_type": "code",
   "execution_count": 486,
   "id": "b213692f",
   "metadata": {},
   "outputs": [
    {
     "data": {
      "text/plain": [
       "<re.Match object; span=(0, 34), match='test 124 extract 12.98 number  .23'>"
      ]
     },
     "execution_count": 486,
     "metadata": {},
     "output_type": "execute_result"
    }
   ],
   "source": [
    "mch2"
   ]
  },
  {
   "cell_type": "code",
   "execution_count": 487,
   "id": "49eeaf20",
   "metadata": {},
   "outputs": [
    {
     "data": {
      "text/plain": [
       "'test 124 extract 12.98 number  .23'"
      ]
     },
     "execution_count": 487,
     "metadata": {},
     "output_type": "execute_result"
    }
   ],
   "source": [
    "mch2.group()"
   ]
  },
  {
   "cell_type": "code",
   "execution_count": 488,
   "id": "bdbb1346",
   "metadata": {},
   "outputs": [
    {
     "data": {
      "text/plain": [
       "('124', '12.98', '.23')"
      ]
     },
     "execution_count": 488,
     "metadata": {},
     "output_type": "execute_result"
    }
   ],
   "source": [
    "mch2.groups()"
   ]
  },
  {
   "cell_type": "code",
   "execution_count": 496,
   "id": "14645a06",
   "metadata": {},
   "outputs": [
    {
     "data": {
      "text/plain": [
       "['42', '32', '1', '30']"
      ]
     },
     "execution_count": 496,
     "metadata": {},
     "output_type": "execute_result"
    }
   ],
   "source": [
    "re.findall(r'\\d+', \"hello 42 I'm a 32 string 1.30\")"
   ]
  },
  {
   "cell_type": "code",
   "execution_count": null,
   "id": "7134ab1f",
   "metadata": {},
   "outputs": [],
   "source": []
  }
 ],
 "metadata": {
  "kernelspec": {
   "display_name": "Python 3 (ipykernel)",
   "language": "python",
   "name": "python3"
  },
  "language_info": {
   "codemirror_mode": {
    "name": "ipython",
    "version": 3
   },
   "file_extension": ".py",
   "mimetype": "text/x-python",
   "name": "python",
   "nbconvert_exporter": "python",
   "pygments_lexer": "ipython3",
   "version": "3.10.9"
  }
 },
 "nbformat": 4,
 "nbformat_minor": 5
}
