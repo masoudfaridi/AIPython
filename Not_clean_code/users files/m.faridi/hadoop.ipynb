{
 "cells": [
  {
   "cell_type": "code",
   "execution_count": 3,
   "id": "1f87dabf",
   "metadata": {},
   "outputs": [],
   "source": [
    "n = \"this 25 is .68  a 12.3    0.59 test 246.2458\"\n",
    "import re"
   ]
  },
  {
   "cell_type": "code",
   "execution_count": 4,
   "id": "8da80d8f",
   "metadata": {},
   "outputs": [
    {
     "data": {
      "text/plain": [
       "['25', '.68', '12.3', '0.59', '246.2458']"
      ]
     },
     "execution_count": 4,
     "metadata": {},
     "output_type": "execute_result"
    }
   ],
   "source": [
    "re.findall('[0-9.]+', n)"
   ]
  },
  {
   "cell_type": "code",
   "execution_count": 5,
   "id": "ed49eb32",
   "metadata": {},
   "outputs": [],
   "source": [
    "import os"
   ]
  },
  {
   "cell_type": "code",
   "execution_count": 7,
   "id": "0e6ae134",
   "metadata": {},
   "outputs": [],
   "source": [
    "from os import listdir\n",
    "from os.path import isfile, join"
   ]
  },
  {
   "cell_type": "code",
   "execution_count": 15,
   "id": "64c30a4d",
   "metadata": {},
   "outputs": [
    {
     "name": "stdout",
     "output_type": "stream",
     "text": [
      "1\n"
     ]
    }
   ],
   "source": [
    "# get wd\n",
    "print(os.system(\"pwk\"))"
   ]
  },
  {
   "cell_type": "code",
   "execution_count": 32,
   "id": "06937894",
   "metadata": {},
   "outputs": [
    {
     "name": "stdout",
     "output_type": "stream",
     "text": [
      "C:\\Masoud\\bash\n",
      "C:\\Masoud\\dbplyr.R\n",
      "C:\\Masoud\\django\n",
      "C:\\Masoud\\docker\n",
      "C:\\Masoud\\engine\n",
      "C:\\Masoud\\Fastapi\n",
      "C:\\Masoud\\ggplot_multi_plots.py\n",
      "C:\\Masoud\\GIS-main\n",
      "C:\\Masoud\\installed_packges_R-main\n",
      "C:\\Masoud\\IP_CONFIG.PNG\n",
      "C:\\Masoud\\latex_file_jango\n",
      "C:\\Masoud\\Math.Form.Res.10.rar\n",
      "C:\\Masoud\\menv\n",
      "C:\\Masoud\\NajiVTDA_1.0.0.1.tar.gz\n",
      "C:\\Masoud\\oracle\n",
      "C:\\Masoud\\packages\n",
      "C:\\Masoud\\Python 3 Deep Dive [Udemy]\n",
      "C:\\Masoud\\SK\n",
      "C:\\Masoud\\software\n",
      "C:\\Masoud\\spark\n",
      "C:\\Masoud\\statistical learning\n",
      "C:\\Masoud\\Udemy - Build a Backend REST API with Python & Django - Beginner 2021-12\n",
      "C:\\Masoud\\Udemy - Build REST APIs with Django REST Framework and Python 2021-4\n"
     ]
    }
   ],
   "source": [
    "for f in listdir('C:\\\\Masoud'):\n",
    "    #print(f)\n",
    "    print('C:\\\\Masoud\\\\'+f)\n",
    "    \n",
    "    \n",
    "    #if isfile('c:/masoud/'.join(f))\n",
    "    \n",
    "    #print(type(f))\n",
    "    #print(f)"
   ]
  },
  {
   "cell_type": "code",
   "execution_count": 34,
   "id": "4e7a1c3e",
   "metadata": {},
   "outputs": [
    {
     "name": "stdout",
     "output_type": "stream",
     "text": [
      "['dbplyr.R', 'ggplot_multi_plots.py', 'IP_CONFIG.PNG', 'Math.Form.Res.10.rar', 'NajiVTDA_1.0.0.1.tar.gz']\n"
     ]
    }
   ],
   "source": [
    "files_list = [f for f in listdir('C:\\\\Masoud\\\\') if isfile(join('C:\\\\Masoud\\\\', f))]\n",
    "print(files_list);"
   ]
  },
  {
   "cell_type": "code",
   "execution_count": 41,
   "id": "195773a1",
   "metadata": {},
   "outputs": [],
   "source": [
    "import numpy as np\n",
    "x = [1,2,-1,2,-4,-6,1,1]"
   ]
  },
  {
   "cell_type": "code",
   "execution_count": 42,
   "id": "3ba53cea",
   "metadata": {},
   "outputs": [],
   "source": [
    "x = np.array(x)"
   ]
  },
  {
   "cell_type": "code",
   "execution_count": 43,
   "id": "b01282d2",
   "metadata": {},
   "outputs": [
    {
     "data": {
      "text/plain": [
       "array([ True,  True, False,  True, False, False,  True,  True])"
      ]
     },
     "execution_count": 43,
     "metadata": {},
     "output_type": "execute_result"
    }
   ],
   "source": [
    "x>0"
   ]
  },
  {
   "cell_type": "code",
   "execution_count": 47,
   "id": "80c36a14",
   "metadata": {},
   "outputs": [],
   "source": [
    "x = x[x>0]"
   ]
  },
  {
   "cell_type": "code",
   "execution_count": 49,
   "id": "f82227cb",
   "metadata": {},
   "outputs": [
    {
     "data": {
      "text/plain": [
       "5"
      ]
     },
     "execution_count": 49,
     "metadata": {},
     "output_type": "execute_result"
    }
   ],
   "source": [
    "m=3\n",
    "sum(x[:m])"
   ]
  },
  {
   "cell_type": "code",
   "execution_count": 62,
   "id": "61cbbd49",
   "metadata": {},
   "outputs": [],
   "source": [
    "x =15432"
   ]
  },
  {
   "cell_type": "code",
   "execution_count": 63,
   "id": "83875dc0",
   "metadata": {},
   "outputs": [
    {
     "name": "stdout",
     "output_type": "stream",
     "text": [
      "15\n"
     ]
    }
   ],
   "source": [
    "print(15)"
   ]
  },
  {
   "cell_type": "code",
   "execution_count": 64,
   "id": "f15da948",
   "metadata": {},
   "outputs": [
    {
     "data": {
      "text/plain": [
       "15"
      ]
     },
     "execution_count": 64,
     "metadata": {},
     "output_type": "execute_result"
    }
   ],
   "source": [
    "sum(np.array([int(item) for item in str(x)]))"
   ]
  },
  {
   "cell_type": "code",
   "execution_count": 65,
   "id": "3344ff04",
   "metadata": {},
   "outputs": [],
   "source": [
    "x = (3,4)\n",
    "y = (0,0)"
   ]
  },
  {
   "cell_type": "code",
   "execution_count": 67,
   "id": "c36f5504",
   "metadata": {},
   "outputs": [],
   "source": [
    "import numpy as np"
   ]
  },
  {
   "cell_type": "code",
   "execution_count": 68,
   "id": "7f3f8fca",
   "metadata": {},
   "outputs": [
    {
     "data": {
      "text/plain": [
       "25"
      ]
     },
     "execution_count": 68,
     "metadata": {},
     "output_type": "execute_result"
    }
   ],
   "source": [
    "sum((np.array(x) - np.array(y))**2)"
   ]
  },
  {
   "cell_type": "code",
   "execution_count": 74,
   "id": "b45fa23b",
   "metadata": {},
   "outputs": [
    {
     "data": {
      "text/plain": [
       "25"
      ]
     },
     "execution_count": 74,
     "metadata": {},
     "output_type": "execute_result"
    }
   ],
   "source": [
    "sum(list(map(lambda x,y: (x-y)**2, x,y)))"
   ]
  },
  {
   "cell_type": "code",
   "execution_count": 75,
   "id": "87813748",
   "metadata": {},
   "outputs": [],
   "source": [
    "num = [2, 3, 4, 5]\n",
    "num = np.array(num)"
   ]
  },
  {
   "cell_type": "code",
   "execution_count": 76,
   "id": "e8fedf07",
   "metadata": {},
   "outputs": [
    {
     "data": {
      "text/plain": [
       "array([False, False,  True,  True])"
      ]
     },
     "execution_count": 76,
     "metadata": {},
     "output_type": "execute_result"
    }
   ],
   "source": [
    "num > 3"
   ]
  },
  {
   "cell_type": "code",
   "execution_count": 78,
   "id": "31586eab",
   "metadata": {},
   "outputs": [
    {
     "data": {
      "text/plain": [
       "True"
      ]
     },
     "execution_count": 78,
     "metadata": {},
     "output_type": "execute_result"
    }
   ],
   "source": [
    "all(num > 1)"
   ]
  },
  {
   "cell_type": "code",
   "execution_count": 79,
   "id": "d4f790f9",
   "metadata": {},
   "outputs": [],
   "source": [
    "x = 30\n",
    "y = 20"
   ]
  },
  {
   "cell_type": "code",
   "execution_count": 82,
   "id": "a4e41f98",
   "metadata": {},
   "outputs": [
    {
     "data": {
      "text/plain": [
       "'30 + 20 = 50'"
      ]
     },
     "execution_count": 82,
     "metadata": {},
     "output_type": "execute_result"
    }
   ],
   "source": [
    "f'{x} + {y} = {x+y}'"
   ]
  },
  {
   "cell_type": "code",
   "execution_count": 83,
   "id": "476c8b67",
   "metadata": {},
   "outputs": [],
   "source": [
    "x,y = y,x"
   ]
  },
  {
   "cell_type": "code",
   "execution_count": 84,
   "id": "e2f7233f",
   "metadata": {},
   "outputs": [
    {
     "data": {
      "text/plain": [
       "'20 + 30 = 50'"
      ]
     },
     "execution_count": 84,
     "metadata": {},
     "output_type": "execute_result"
    }
   ],
   "source": [
    "f'{x} + {y} = {x+y}'"
   ]
  },
  {
   "cell_type": "code",
   "execution_count": 85,
   "id": "9b104080",
   "metadata": {},
   "outputs": [],
   "source": [
    "(x,y) = (y,x)"
   ]
  },
  {
   "cell_type": "code",
   "execution_count": 86,
   "id": "f4bd2b2e",
   "metadata": {},
   "outputs": [
    {
     "data": {
      "text/plain": [
       "'30 + 20 = 50'"
      ]
     },
     "execution_count": 86,
     "metadata": {},
     "output_type": "execute_result"
    }
   ],
   "source": [
    "f'{x} + {y} = {x+y}'"
   ]
  },
  {
   "cell_type": "code",
   "execution_count": 93,
   "id": "a9bfa7be",
   "metadata": {},
   "outputs": [],
   "source": [
    "x = '123'\n",
    "x= '1.2'\n",
    "#x='test 123'"
   ]
  },
  {
   "cell_type": "code",
   "execution_count": 94,
   "id": "93365684",
   "metadata": {},
   "outputs": [
    {
     "data": {
      "text/plain": [
       "False"
      ]
     },
     "execution_count": 94,
     "metadata": {},
     "output_type": "execute_result"
    }
   ],
   "source": [
    "x.isnumeric()"
   ]
  },
  {
   "cell_type": "code",
   "execution_count": 99,
   "id": "a7d84293",
   "metadata": {},
   "outputs": [
    {
     "name": "stdout",
     "output_type": "stream",
     "text": [
      "1.2\n"
     ]
    },
    {
     "data": {
      "text/plain": [
       "False"
      ]
     },
     "execution_count": 99,
     "metadata": {},
     "output_type": "execute_result"
    }
   ],
   "source": [
    "print(x)\n",
    "x.isdecimal()"
   ]
  },
  {
   "cell_type": "code",
   "execution_count": 100,
   "id": "14b62928",
   "metadata": {},
   "outputs": [
    {
     "data": {
      "text/plain": [
       "False"
      ]
     },
     "execution_count": 100,
     "metadata": {},
     "output_type": "execute_result"
    }
   ],
   "source": [
    "x.isdigit()"
   ]
  },
  {
   "cell_type": "code",
   "execution_count": 101,
   "id": "aab819ba",
   "metadata": {},
   "outputs": [],
   "source": [
    "import re"
   ]
  },
  {
   "cell_type": "code",
   "execution_count": 104,
   "id": "0f52fbef",
   "metadata": {},
   "outputs": [
    {
     "ename": "ValueError",
     "evalue": "could not convert string to float: 'test 123'",
     "output_type": "error",
     "traceback": [
      "\u001b[1;31m---------------------------------------------------------------------------\u001b[0m",
      "\u001b[1;31mValueError\u001b[0m                                Traceback (most recent call last)",
      "Cell \u001b[1;32mIn[104], line 1\u001b[0m\n\u001b[1;32m----> 1\u001b[0m \u001b[38;5;28;43mfloat\u001b[39;49m\u001b[43m(\u001b[49m\u001b[38;5;124;43m'\u001b[39;49m\u001b[38;5;124;43mtest 123\u001b[39;49m\u001b[38;5;124;43m'\u001b[39;49m\u001b[43m)\u001b[49m\n",
      "\u001b[1;31mValueError\u001b[0m: could not convert string to float: 'test 123'"
     ]
    }
   ],
   "source": [
    "float('test 123')"
   ]
  },
  {
   "cell_type": "code",
   "execution_count": 108,
   "id": "3d2de2e8",
   "metadata": {},
   "outputs": [],
   "source": [
    "x = '123'\n",
    "x= '1.2'\n",
    "x='test 123'\n",
    "try:\n",
    "    x_f = float(x)\n",
    "except:\n",
    "    x_f = None\n"
   ]
  },
  {
   "cell_type": "code",
   "execution_count": 112,
   "id": "f1b09bf3",
   "metadata": {},
   "outputs": [
    {
     "data": {
      "text/plain": [
       "True"
      ]
     },
     "execution_count": 112,
     "metadata": {},
     "output_type": "execute_result"
    }
   ],
   "source": [
    "x_f == None"
   ]
  },
  {
   "cell_type": "code",
   "execution_count": 110,
   "id": "d53a52b6",
   "metadata": {},
   "outputs": [
    {
     "data": {
      "text/plain": [
       "'test 123'"
      ]
     },
     "execution_count": 110,
     "metadata": {},
     "output_type": "execute_result"
    }
   ],
   "source": [
    "x"
   ]
  },
  {
   "cell_type": "code",
   "execution_count": 114,
   "id": "24f975d0",
   "metadata": {},
   "outputs": [
    {
     "name": "stdout",
     "output_type": "stream",
     "text": [
      "['ArithmeticError', 'AssertionError', 'AttributeError', 'BaseException', 'BlockingIOError', 'BrokenPipeError', 'BufferError', 'BytesWarning', 'ChildProcessError', 'ConnectionAbortedError', 'ConnectionError', 'ConnectionRefusedError', 'ConnectionResetError', 'DeprecationWarning', 'EOFError', 'Ellipsis', 'EncodingWarning', 'EnvironmentError', 'Exception', 'False', 'FileExistsError', 'FileNotFoundError', 'FloatingPointError', 'FutureWarning', 'GeneratorExit', 'IOError', 'ImportError', 'ImportWarning', 'In', 'IndentationError', 'IndexError', 'InterruptedError', 'IsADirectoryError', 'KeyError', 'KeyboardInterrupt', 'LookupError', 'MemoryError', 'ModuleNotFoundError', 'NameError', 'None', 'NotADirectoryError', 'NotImplemented', 'NotImplementedError', 'OSError', 'Out', 'OverflowError', 'PendingDeprecationWarning', 'PermissionError', 'ProcessLookupError', 'RecursionError', 'ReferenceError', 'ResourceWarning', 'RuntimeError', 'RuntimeWarning', 'StopAsyncIteration', 'StopIteration', 'SyntaxError', 'SyntaxWarning', 'SystemError', 'SystemExit', 'TabError', 'TimeoutError', 'True', 'TypeError', 'UnboundLocalError', 'UnicodeDecodeError', 'UnicodeEncodeError', 'UnicodeError', 'UnicodeTranslateError', 'UnicodeWarning', 'UserWarning', 'ValueError', 'Warning', 'WindowsError', 'ZeroDivisionError', '_100', '_103', '_106', '_107', '_110', '_112', '_35', '_4', '_40', '_43', '_44', '_45', '_46', '_48', '_49', '_51', '_54', '_57', '_61', '_64', '_68', '_70', '_71', '_72', '_73', '_74', '_76', '_77', '_78', '_82', '_84', '_86', '_88', '_90', '_92', '_94', '_95', '_97', '_99', '__', '__IPYTHON__', '___', '__build_class__', '__builtin__', '__builtins__', '__debug__', '__doc__', '__import__', '__loader__', '__name__', '__package__', '__spec__', '_dh', '_i', '_i1', '_i10', '_i100', '_i101', '_i102', '_i103', '_i104', '_i105', '_i106', '_i107', '_i108', '_i109', '_i11', '_i110', '_i111', '_i112', '_i113', '_i114', '_i12', '_i13', '_i14', '_i15', '_i16', '_i17', '_i18', '_i19', '_i2', '_i20', '_i21', '_i22', '_i23', '_i24', '_i25', '_i26', '_i27', '_i28', '_i29', '_i3', '_i30', '_i31', '_i32', '_i33', '_i34', '_i35', '_i36', '_i37', '_i38', '_i39', '_i4', '_i40', '_i41', '_i42', '_i43', '_i44', '_i45', '_i46', '_i47', '_i48', '_i49', '_i5', '_i50', '_i51', '_i52', '_i53', '_i54', '_i55', '_i56', '_i57', '_i58', '_i59', '_i6', '_i60', '_i61', '_i62', '_i63', '_i64', '_i65', '_i66', '_i67', '_i68', '_i69', '_i7', '_i70', '_i71', '_i72', '_i73', '_i74', '_i75', '_i76', '_i77', '_i78', '_i79', '_i8', '_i80', '_i81', '_i82', '_i83', '_i84', '_i85', '_i86', '_i87', '_i88', '_i89', '_i9', '_i90', '_i91', '_i92', '_i93', '_i94', '_i95', '_i96', '_i97', '_i98', '_i99', '_ih', '_ii', '_iii', '_oh', 'abs', 'aiter', 'all', 'anext', 'any', 'ascii', 'bin', 'bool', 'breakpoint', 'bytearray', 'bytes', 'callable', 'chr', 'classmethod', 'compile', 'complex', 'copyright', 'credits', 'delattr', 'dict', 'dir', 'display', 'divmod', 'enumerate', 'eval', 'exec', 'execfile', 'exit', 'f', 'files_list', 'filter', 'float', 'format', 'frozenset', 'get_ipython', 'getattr', 'globals', 'hasattr', 'hash', 'help', 'hex', 'id', 'input', 'int', 'isfile', 'isinstance', 'issubclass', 'iter', 'join', 'len', 'license', 'list', 'listdir', 'locals', 'm', 'map', 'max', 'memoryview', 'min', 'n', 'next', 'np', 'num', 'object', 'oct', 'open', 'ord', 'os', 'pow', 'print', 'property', 'quit', 'range', 're', 'repr', 'reversed', 'round', 'runfile', 's_var_names', 'set', 'setattr', 'slice', 'sorted', 'staticmethod', 'str', 'sum', 'super', 'tuple', 'type', 'vars', 'x', 'x_d', 'x_f', 'x_s', 'y', 'zip']\n"
     ]
    }
   ],
   "source": [
    "s_var_names = sorted((set(globals().keys()) | set(__builtins__.__dict__.keys())) - set('_ names i'.split()))\n",
    "print(s_var_names)\n",
    "#print( '\\n'.join(' '.join(s_var_names[i:i+8]) for i in range(0, len(s_var_names), 8)) )\n",
    "#print()"
   ]
  },
  {
   "cell_type": "code",
   "execution_count": 143,
   "id": "bd0e37ab",
   "metadata": {},
   "outputs": [],
   "source": [
    "import re"
   ]
  },
  {
   "cell_type": "code",
   "execution_count": 144,
   "id": "f3950e8f",
   "metadata": {},
   "outputs": [],
   "source": [
    "txt = 'C:\\A\\B\\C\\Masoud\\dbplyr.R'"
   ]
  },
  {
   "cell_type": "code",
   "execution_count": 172,
   "id": "f924244a",
   "metadata": {},
   "outputs": [],
   "source": [
    "rm1 = re.match(\".+\\\\.*\\..*\",txt)\n",
    "rm1 = re.match(\"(.*\\\\\\\\)(.*)\",txt)"
   ]
  },
  {
   "cell_type": "code",
   "execution_count": 173,
   "id": "67ebee03",
   "metadata": {},
   "outputs": [
    {
     "data": {
      "text/plain": [
       "'C:\\\\A\\\\B\\\\C\\\\Masoud\\\\dbplyr.R'"
      ]
     },
     "execution_count": 173,
     "metadata": {},
     "output_type": "execute_result"
    }
   ],
   "source": [
    "rm1.group()"
   ]
  },
  {
   "cell_type": "code",
   "execution_count": 174,
   "id": "6f58c201",
   "metadata": {},
   "outputs": [
    {
     "data": {
      "text/plain": [
       "('C:\\\\A\\\\B\\\\C\\\\Masoud\\\\', 'dbplyr.R')"
      ]
     },
     "execution_count": 174,
     "metadata": {},
     "output_type": "execute_result"
    }
   ],
   "source": [
    "rm1.groups()"
   ]
  },
  {
   "cell_type": "code",
   "execution_count": 175,
   "id": "43c8fee6",
   "metadata": {},
   "outputs": [],
   "source": [
    "n=20\n",
    "d = {\"x\":200}"
   ]
  },
  {
   "cell_type": "code",
   "execution_count": 176,
   "id": "48f6e506",
   "metadata": {},
   "outputs": [],
   "source": [
    "n=None"
   ]
  },
  {
   "cell_type": "code",
   "execution_count": 177,
   "id": "c53f2d63",
   "metadata": {},
   "outputs": [],
   "source": [
    "n"
   ]
  },
  {
   "cell_type": "code",
   "execution_count": 178,
   "id": "994d8da3",
   "metadata": {},
   "outputs": [
    {
     "data": {
      "text/plain": [
       "{'x': 200}"
      ]
     },
     "execution_count": 178,
     "metadata": {},
     "output_type": "execute_result"
    }
   ],
   "source": [
    "d"
   ]
  },
  {
   "cell_type": "code",
   "execution_count": 179,
   "id": "7f095eb0",
   "metadata": {},
   "outputs": [],
   "source": [
    "d=None"
   ]
  },
  {
   "cell_type": "code",
   "execution_count": 180,
   "id": "37030636",
   "metadata": {},
   "outputs": [],
   "source": [
    "d"
   ]
  },
  {
   "cell_type": "code",
   "execution_count": 185,
   "id": "75a422ae",
   "metadata": {},
   "outputs": [],
   "source": [
    "x= [1,2,3,4,8,7,1]\n",
    "x = np.array(x)"
   ]
  },
  {
   "cell_type": "code",
   "execution_count": 187,
   "id": "2b750ac6",
   "metadata": {},
   "outputs": [
    {
     "data": {
      "text/plain": [
       "6"
      ]
     },
     "execution_count": 187,
     "metadata": {},
     "output_type": "execute_result"
    }
   ],
   "source": [
    "len(np.unique(x))"
   ]
  },
  {
   "cell_type": "code",
   "execution_count": 188,
   "id": "c81b22b7",
   "metadata": {},
   "outputs": [],
   "source": [
    "def is_unique(x):\n",
    "    return len(np.unique(x)) == len(x)"
   ]
  },
  {
   "cell_type": "code",
   "execution_count": 189,
   "id": "5f408d10",
   "metadata": {},
   "outputs": [
    {
     "data": {
      "text/plain": [
       "False"
      ]
     },
     "execution_count": 189,
     "metadata": {},
     "output_type": "execute_result"
    }
   ],
   "source": [
    "is_unique(x)"
   ]
  },
  {
   "cell_type": "code",
   "execution_count": 191,
   "id": "d376a4c2",
   "metadata": {},
   "outputs": [
    {
     "data": {
      "text/plain": [
       "False"
      ]
     },
     "execution_count": 191,
     "metadata": {},
     "output_type": "execute_result"
    }
   ],
   "source": [
    "is_unique([1,2,1])"
   ]
  },
  {
   "cell_type": "code",
   "execution_count": 193,
   "id": "ae034153",
   "metadata": {},
   "outputs": [],
   "source": [
    "chrs = ['a', 'e', 'i', 'o', 'I']"
   ]
  },
  {
   "cell_type": "code",
   "execution_count": 194,
   "id": "fd9c9389",
   "metadata": {},
   "outputs": [
    {
     "data": {
      "text/plain": [
       "['a', 'e', 'i', 'o', 'I']"
      ]
     },
     "execution_count": 194,
     "metadata": {},
     "output_type": "execute_result"
    }
   ],
   "source": [
    "chrs"
   ]
  },
  {
   "cell_type": "code",
   "execution_count": 195,
   "id": "ef899545",
   "metadata": {},
   "outputs": [
    {
     "name": "stdout",
     "output_type": "stream",
     "text": [
      "oieau\n"
     ]
    }
   ],
   "source": [
    "import random\n",
    "char_list = ['a','e','i','o','u']\n",
    "random.shuffle(char_list)\n",
    "print(''.join(char_list))\n"
   ]
  },
  {
   "cell_type": "code",
   "execution_count": 215,
   "id": "a499a0e4",
   "metadata": {},
   "outputs": [],
   "source": [
    "all_w = []\n",
    "for i in range(12000):\n",
    "    #print(i)\n",
    "    char_list = ['a','e','i','o','u']\n",
    "    random.shuffle(char_list)\n",
    "    all_w.append(''.join(char_list))\n",
    "    "
   ]
  },
  {
   "cell_type": "code",
   "execution_count": 216,
   "id": "75db6264",
   "metadata": {},
   "outputs": [
    {
     "data": {
      "text/plain": [
       "12000"
      ]
     },
     "execution_count": 216,
     "metadata": {},
     "output_type": "execute_result"
    }
   ],
   "source": [
    "len(all_w)"
   ]
  },
  {
   "cell_type": "code",
   "execution_count": 217,
   "id": "ca8bde86",
   "metadata": {},
   "outputs": [
    {
     "data": {
      "text/plain": [
       "120"
      ]
     },
     "execution_count": 217,
     "metadata": {},
     "output_type": "execute_result"
    }
   ],
   "source": [
    "len(np.unique(all_w))"
   ]
  },
  {
   "cell_type": "code",
   "execution_count": 218,
   "id": "94697cf2",
   "metadata": {},
   "outputs": [],
   "source": [
    "import itertools"
   ]
  },
  {
   "cell_type": "code",
   "execution_count": 243,
   "id": "6d523c28",
   "metadata": {},
   "outputs": [
    {
     "name": "stdout",
     "output_type": "stream",
     "text": [
      "a\n",
      "b\n",
      "c\n"
     ]
    }
   ],
   "source": [
    "from itertools import permutations\n",
    "print('\\n'.join(map(''.join, list(permutations(\"abc\", 1)))))"
   ]
  },
  {
   "cell_type": "code",
   "execution_count": 246,
   "id": "21824904",
   "metadata": {},
   "outputs": [
    {
     "data": {
      "text/plain": [
       "[('a', 'b', 'c'),\n",
       " ('a', 'c', 'b'),\n",
       " ('b', 'a', 'c'),\n",
       " ('b', 'c', 'a'),\n",
       " ('c', 'a', 'b'),\n",
       " ('c', 'b', 'a')]"
      ]
     },
     "execution_count": 246,
     "metadata": {},
     "output_type": "execute_result"
    }
   ],
   "source": [
    "list(permutations(\"abc\", 3))"
   ]
  },
  {
   "cell_type": "code",
   "execution_count": 238,
   "id": "c5117960",
   "metadata": {},
   "outputs": [
    {
     "data": {
      "text/plain": [
       "25"
      ]
     },
     "execution_count": 238,
     "metadata": {},
     "output_type": "execute_result"
    }
   ],
   "source": [
    "len(ls1)"
   ]
  },
  {
   "cell_type": "code",
   "execution_count": 247,
   "id": "0d83a5ab",
   "metadata": {},
   "outputs": [
    {
     "data": {
      "text/plain": [
       "[('a', 'b', 'c'),\n",
       " ('a', 'c', 'b'),\n",
       " ('b', 'a', 'c'),\n",
       " ('b', 'c', 'a'),\n",
       " ('c', 'a', 'b'),\n",
       " ('c', 'b', 'a')]"
      ]
     },
     "execution_count": 247,
     "metadata": {},
     "output_type": "execute_result"
    }
   ],
   "source": [
    "list(permutations(['a','b','c'], 3))"
   ]
  },
  {
   "cell_type": "code",
   "execution_count": 253,
   "id": "b671aec0",
   "metadata": {},
   "outputs": [
    {
     "data": {
      "text/plain": [
       "[('a', 'b', 'c'),\n",
       " ('a', 'c', 'b'),\n",
       " ('b', 'a', 'c'),\n",
       " ('b', 'c', 'a'),\n",
       " ('c', 'a', 'b'),\n",
       " ('c', 'b', 'a')]"
      ]
     },
     "execution_count": 253,
     "metadata": {},
     "output_type": "execute_result"
    }
   ],
   "source": [
    "list(permutations('abc', 3))"
   ]
  },
  {
   "cell_type": "code",
   "execution_count": 259,
   "id": "795ddb0c",
   "metadata": {},
   "outputs": [
    {
     "data": {
      "text/plain": [
       "[('a', 'b'), ('a', 'c'), ('b', 'a'), ('b', 'c'), ('c', 'a'), ('c', 'b')]"
      ]
     },
     "execution_count": 259,
     "metadata": {},
     "output_type": "execute_result"
    }
   ],
   "source": [
    "list(permutations('abc', 2))"
   ]
  },
  {
   "cell_type": "code",
   "execution_count": 258,
   "id": "d15aecef",
   "metadata": {},
   "outputs": [
    {
     "data": {
      "text/plain": [
       "{('a', 'a'),\n",
       " ('a', 'b'),\n",
       " ('a', 'c'),\n",
       " ('b', 'a'),\n",
       " ('b', 'c'),\n",
       " ('c', 'a'),\n",
       " ('c', 'b')}"
      ]
     },
     "execution_count": 258,
     "metadata": {},
     "output_type": "execute_result"
    }
   ],
   "source": [
    "set(list(permutations('abca', 2)))"
   ]
  },
  {
   "cell_type": "code",
   "execution_count": 260,
   "id": "1a783b18",
   "metadata": {},
   "outputs": [],
   "source": [
    "from itertools import product"
   ]
  },
  {
   "cell_type": "code",
   "execution_count": 270,
   "id": "da56e9f0",
   "metadata": {},
   "outputs": [
    {
     "data": {
      "text/plain": [
       "{('a', 'a'),\n",
       " ('a', 'b'),\n",
       " ('a', 'c'),\n",
       " ('b', 'a'),\n",
       " ('b', 'b'),\n",
       " ('b', 'c'),\n",
       " ('c', 'a'),\n",
       " ('c', 'b'),\n",
       " ('c', 'c')}"
      ]
     },
     "execution_count": 270,
     "metadata": {},
     "output_type": "execute_result"
    }
   ],
   "source": [
    "set(list(product('abc',repeat=2)))"
   ]
  },
  {
   "cell_type": "code",
   "execution_count": null,
   "id": "f499e5c7",
   "metadata": {},
   "outputs": [],
   "source": [
    "np.unique(list(product('abc',repeat=2)))"
   ]
  },
  {
   "cell_type": "code",
   "execution_count": 277,
   "id": "08871e7e",
   "metadata": {},
   "outputs": [],
   "source": [
    "x,y =2,9"
   ]
  },
  {
   "cell_type": "code",
   "execution_count": 279,
   "id": "af3787db",
   "metadata": {},
   "outputs": [
    {
     "data": {
      "text/plain": [
       "11"
      ]
     },
     "execution_count": 279,
     "metadata": {},
     "output_type": "execute_result"
    }
   ],
   "source": [
    "sum([x,y])"
   ]
  },
  {
   "cell_type": "code",
   "execution_count": 314,
   "id": "13d340eb",
   "metadata": {},
   "outputs": [],
   "source": [
    "a = 4\n",
    "b = -3"
   ]
  },
  {
   "cell_type": "code",
   "execution_count": 315,
   "id": "ac09e308",
   "metadata": {},
   "outputs": [
    {
     "data": {
      "text/plain": [
       "'data: 4,     a:-7       b=8'"
      ]
     },
     "execution_count": 315,
     "metadata": {},
     "output_type": "execute_result"
    }
   ],
   "source": [
    "data = a & b\n",
    "a = a ^ b\n",
    "b = data << 1\n",
    "f'data: {data},     a:{a}       b={b}'"
   ]
  },
  {
   "cell_type": "code",
   "execution_count": 316,
   "id": "00023bd5",
   "metadata": {},
   "outputs": [
    {
     "data": {
      "text/plain": [
       "'data: 8,     a:-15       b=16'"
      ]
     },
     "execution_count": 316,
     "metadata": {},
     "output_type": "execute_result"
    }
   ],
   "source": [
    "data = a & b\n",
    "a = a ^ b\n",
    "b = data << 1\n",
    "f'data: {data},     a:{a}       b={b}'"
   ]
  },
  {
   "cell_type": "code",
   "execution_count": 317,
   "id": "46858419",
   "metadata": {},
   "outputs": [
    {
     "data": {
      "text/plain": [
       "'data: 16,     a:-31       b=32'"
      ]
     },
     "execution_count": 317,
     "metadata": {},
     "output_type": "execute_result"
    }
   ],
   "source": [
    "data = a & b\n",
    "a = a ^ b\n",
    "b = data << 1\n",
    "f'data: {data},     a:{a}       b={b}'"
   ]
  },
  {
   "cell_type": "code",
   "execution_count": 318,
   "id": "d51f5393",
   "metadata": {},
   "outputs": [
    {
     "data": {
      "text/plain": [
       "'data: 32,     a:-63       b=64'"
      ]
     },
     "execution_count": 318,
     "metadata": {},
     "output_type": "execute_result"
    }
   ],
   "source": [
    "data = a & b\n",
    "a = a ^ b\n",
    "b = data << 1\n",
    "f'data: {data},     a:{a}       b={b}'"
   ]
  },
  {
   "cell_type": "code",
   "execution_count": 353,
   "id": "37eaeaf2",
   "metadata": {},
   "outputs": [
    {
     "name": "stdout",
     "output_type": "stream",
     "text": [
      "1\n",
      "6\n",
      "22\n"
     ]
    }
   ],
   "source": [
    "def factendzero(n):\n",
    "  x = n // 5\n",
    "  y = x \n",
    "  while x > 0:\n",
    "    x /= 5\n",
    "    y += int(x)\n",
    "  return y\n",
    "       \n",
    "print(factendzero(5))\n",
    "print(factendzero(25))\n",
    "print(factendzero(99))"
   ]
  }
 ],
 "metadata": {
  "kernelspec": {
   "display_name": "Python 3 (ipykernel)",
   "language": "python",
   "name": "python3"
  },
  "language_info": {
   "codemirror_mode": {
    "name": "ipython",
    "version": 3
   },
   "file_extension": ".py",
   "mimetype": "text/x-python",
   "name": "python",
   "nbconvert_exporter": "python",
   "pygments_lexer": "ipython3",
   "version": "3.11.5"
  }
 },
 "nbformat": 4,
 "nbformat_minor": 5
}
