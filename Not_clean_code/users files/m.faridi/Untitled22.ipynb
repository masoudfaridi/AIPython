{
 "cells": [
  {
   "cell_type": "code",
   "execution_count": 22,
   "id": "54de8ca8",
   "metadata": {},
   "outputs": [],
   "source": [
    "import numpy as np\n",
    "import pandas as pd\n",
    "from matplotlib.pyplot import subplots\n",
    "import statsmodels.api as sm\n",
    "from ISLP import load_data\n",
    "from ISLP.models import (ModelSpec as MS,\n",
    "summarize)"
   ]
  },
  {
   "cell_type": "code",
   "execution_count": 23,
   "id": "3187841b",
   "metadata": {},
   "outputs": [],
   "source": [
    "from ISLP import confusion_table\n",
    "from ISLP.models import contrast\n",
    "from sklearn.discriminant_analysis import \\\n",
    "(LinearDiscriminantAnalysis as LDA,\n",
    "QuadraticDiscriminantAnalysis as QDA)\n",
    "from sklearn.naive_bayes import GaussianNB\n",
    "from sklearn.neighbors import KNeighborsClassifier\n",
    "from sklearn.preprocessing import StandardScaler"
   ]
  },
  {
   "cell_type": "code",
   "execution_count": 24,
   "id": "55fb86e7",
   "metadata": {},
   "outputs": [],
   "source": [
    "from sklearn.model_selection import train_test_split\n",
    "from sklearn.linear_model import LogisticRegression"
   ]
  },
  {
   "cell_type": "code",
   "execution_count": 25,
   "id": "eee67db3",
   "metadata": {},
   "outputs": [
    {
     "data": {
      "text/plain": [
       "(252, 9)"
      ]
     },
     "execution_count": 25,
     "metadata": {},
     "output_type": "execute_result"
    }
   ],
   "source": [
    "Smarket = load_data('Smarket')\n",
    "train = (Smarket.Year < 2005)\n",
    "Smarket_train = Smarket.loc[train]\n",
    "Smarket_test = Smarket.loc[~train]\n",
    "Smarket_test.shape"
   ]
  },
  {
   "cell_type": "code",
   "execution_count": 28,
   "id": "6e685f1d",
   "metadata": {},
   "outputs": [
    {
     "name": "stdout",
     "output_type": "stream",
     "text": [
      "998     0.528220\n",
      "999     0.515669\n",
      "1000    0.522652\n",
      "1001    0.513854\n",
      "1002    0.498334\n",
      "          ...   \n",
      "1245    0.483637\n",
      "1246    0.506048\n",
      "1247    0.516658\n",
      "1248    0.516124\n",
      "1249    0.508072\n",
      "Length: 252, dtype: float64\n"
     ]
    }
   ],
   "source": [
    "X_train, X_test = X.loc[train], X.loc[~train]\n",
    "y_train, y_test = y.loc[train], y.loc[~train]\n",
    "glm_train = sm.GLM(y_train,\n",
    "X_train,\n",
    "family=sm.families.Binomial())\n",
    "results = glm_train.fit()\n",
    "probs = results.predict(exog=X_test)\n",
    "print(probs)"
   ]
  },
  {
   "cell_type": "code",
   "execution_count": 33,
   "id": "0b2e4a53",
   "metadata": {},
   "outputs": [],
   "source": [
    "labels = np.array(['Down']*len(probs))\n",
    "labels[probs >0.5] = \"Up\""
   ]
  },
  {
   "cell_type": "code",
   "execution_count": 34,
   "id": "7350876e",
   "metadata": {},
   "outputs": [],
   "source": [
    "D = Smarket.Direction\n",
    "L_train, L_test = D.loc[train], D.loc[~train]"
   ]
  },
  {
   "cell_type": "code",
   "execution_count": 41,
   "id": "24beeb7a",
   "metadata": {},
   "outputs": [
    {
     "name": "stdout",
     "output_type": "stream",
     "text": [
      "Truth      Down  Up\n",
      "Predicted          \n",
      "Down         77  97\n",
      "Up           34  44\n"
     ]
    }
   ],
   "source": [
    "\n",
    "ct =confusion_table(labels, L_test)\n",
    "print(ct)"
   ]
  },
  {
   "cell_type": "code",
   "execution_count": 56,
   "id": "d5e186fe",
   "metadata": {
    "scrolled": true
   },
   "outputs": [
    {
     "data": {
      "text/html": [
       "<div>\n",
       "<style scoped>\n",
       "    .dataframe tbody tr th:only-of-type {\n",
       "        vertical-align: middle;\n",
       "    }\n",
       "\n",
       "    .dataframe tbody tr th {\n",
       "        vertical-align: top;\n",
       "    }\n",
       "\n",
       "    .dataframe thead th {\n",
       "        text-align: right;\n",
       "    }\n",
       "</style>\n",
       "<table border=\"1\" class=\"dataframe\">\n",
       "  <thead>\n",
       "    <tr style=\"text-align: right;\">\n",
       "      <th></th>\n",
       "      <th>Accuracy</th>\n",
       "      <th>Precision</th>\n",
       "      <th>Recall</th>\n",
       "      <th>F_score</th>\n",
       "    </tr>\n",
       "  </thead>\n",
       "  <tbody>\n",
       "    <tr>\n",
       "      <th>0</th>\n",
       "      <td>0.480159</td>\n",
       "      <td>0.564103</td>\n",
       "      <td>0.312057</td>\n",
       "      <td>0.200913</td>\n",
       "    </tr>\n",
       "  </tbody>\n",
       "</table>\n",
       "</div>"
      ],
      "text/plain": [
       "   Accuracy  Precision    Recall   F_score\n",
       "0  0.480159   0.564103  0.312057  0.200913"
      ]
     },
     "execution_count": 56,
     "metadata": {},
     "output_type": "execute_result"
    }
   ],
   "source": [
    "TN = ct.iloc[0,0]\n",
    "TP = ct.iloc[1,1]\n",
    "FN = ct.iloc[0,1]\n",
    "FP = ct.iloc[1,0]\n",
    "Accuracy = (TP + TN) /(TN+TP+FN+FP)\n",
    "Recall = TP /(TP+FN)\n",
    "Precision = TP/(TP+FP)\n",
    "F_score = Recall*Precision/(Recall +Precision)\n",
    "df_r = pd.DataFrame(\n",
    " {'Accuracy': [Accuracy]\n",
    "  ,  'Precision':[Precision],   'Recall':[Recall],    'F_score':[F_score]\n",
    " }\n",
    ")\n",
    "df_r"
   ]
  }
 ],
 "metadata": {
  "kernelspec": {
   "display_name": "Python 3 (ipykernel)",
   "language": "python",
   "name": "python3"
  },
  "language_info": {
   "codemirror_mode": {
    "name": "ipython",
    "version": 3
   },
   "file_extension": ".py",
   "mimetype": "text/x-python",
   "name": "python",
   "nbconvert_exporter": "python",
   "pygments_lexer": "ipython3",
   "version": "3.10.9"
  }
 },
 "nbformat": 4,
 "nbformat_minor": 5
}
