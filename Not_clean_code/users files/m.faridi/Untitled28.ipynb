{
 "cells": [
  {
   "cell_type": "markdown",
   "id": "44051743",
   "metadata": {},
   "source": [
    "# app/models.py"
   ]
  },
  {
   "cell_type": "code",
   "execution_count": 10,
   "id": "6024edde",
   "metadata": {},
   "outputs": [],
   "source": [
    "# from rest_framework import serializers\n",
    "# class MovieSerializers(serializers.Serializer):\n",
    "#     id = serializers.IntegerField(read_only=True)\n",
    "#     name = serializers.CharField(max_length=50)\n",
    "#     description = serializers.CharField(max_length=200)\n",
    "#     active = serializers.BooleanField(default=True)"
   ]
  },
  {
   "cell_type": "markdown",
   "id": "d37c22bf",
   "metadata": {},
   "source": [
    "# app/admins.py"
   ]
  },
  {
   "cell_type": "code",
   "execution_count": null,
   "id": "c46c8367",
   "metadata": {},
   "outputs": [],
   "source": [
    "# from django.contrib import admin\n",
    "# from app_01.models import Movie\n",
    "\n",
    "# # Register your models here.\n",
    "# admin.site.register(Movie)"
   ]
  },
  {
   "cell_type": "markdown",
   "id": "13143cdd",
   "metadata": {},
   "source": [
    "# app/views.py"
   ]
  },
  {
   "cell_type": "code",
   "execution_count": null,
   "id": "8754770b",
   "metadata": {},
   "outputs": [],
   "source": [
    "# from .models import Movie\n",
    "# from .serializers import MovieSerializers\n",
    "# from rest_framework.response import Response\n",
    "\n",
    "\n",
    "# from rest_framework import status\n",
    "# from rest_framework.views import APIView\n",
    "# # Create your views here.\n",
    "# class movie_list(APIView):\n",
    "#     serializer_class = MovieSerializers\n",
    "#     def get(self, request, format=None):\n",
    "#         print('================')\n",
    "#         print(\"movie_list\")\n",
    "#         print('method:', request.method)\n",
    "#         print('================')\n",
    "#         movies = Movie.objects.all()\n",
    "#         serializer = self.serializer_class(movies, many=True)\n",
    "#         return Response(serializer.data)\n",
    "#         # without using serializer\n",
    "#         # data = {\n",
    "#         #     'movies': list(movies.values())\n",
    "#         #     }\n",
    "#         # return JsonResponse(data)\n",
    "#     def post(self, request, format=None):\n",
    "#         serializer = self.serializer_class(data=request.data)\n",
    "#         if serializer.is_valid():\n",
    "#             serializer.save()\n",
    "#             return Response(serializer.data)\n",
    "#         else:\n",
    "#             return Response(serializer.errors, status=status.HTTP_400_BAD_REQUEST)       \n",
    "\n",
    "\n",
    "# class movie_details(APIView):\n",
    "#     serializer_class = MovieSerializers\n",
    "#     def get(self, request, pk):\n",
    "#         try:\n",
    "#             movie = Movie.objects.get(pk=pk)\n",
    "#         except Movie.DoesNotExist:\n",
    "#             return Response({'Error': 'Does Not Exist'}, status=status.HTTP_404_NOT_FOUND)\n",
    "#         serializer = self.serializer_class(movie)\n",
    "#         return Response(serializer.data)\n",
    "#         # data = {\n",
    "#         #     'name': movie.name,\n",
    "#         #     'description': movie.description,\n",
    "#         #     'active': movie.active\n",
    "#         #     }\n",
    "#         # return JsonResponse(data)\n",
    "#     def put(self, request, pk):\n",
    "#         movie = Movie.objects.get(pk=pk)\n",
    "#         serializer = self.serializer_class(movie, data=request.data, partial=True)\n",
    "#         if serializer.is_valid():\n",
    "#             serializer.save()\n",
    "#             return Response(serializer.data)\n",
    "#         else:\n",
    "#             return Response(serializer.errors)\n",
    "#     def delete(self, request, pk):\n",
    "#         movie = Movie.objects.get(pk=pk)\n",
    "#         movie.delete()\n",
    "#         return Response(status=status.HTTP_204_NO_CONTENT)"
   ]
  },
  {
   "cell_type": "markdown",
   "id": "65c222c3",
   "metadata": {},
   "source": [
    "# project/urls.py"
   ]
  },
  {
   "cell_type": "code",
   "execution_count": null,
   "id": "51b408eb",
   "metadata": {},
   "outputs": [],
   "source": [
    "# from django.contrib import admin\n",
    "# from django.urls import path\n",
    "# from django.urls import include\n",
    "\n",
    "# urlpatterns = [\n",
    "#     path(\"admin/\", admin.site.urls),\n",
    "#     path(\"app_01/\",include(\"app_01.urls\")),\n",
    "    \n",
    "# ]"
   ]
  },
  {
   "cell_type": "markdown",
   "id": "62fa3fa6",
   "metadata": {},
   "source": [
    "# app/urls.py"
   ]
  },
  {
   "cell_type": "code",
   "execution_count": 11,
   "id": "500abe3b",
   "metadata": {},
   "outputs": [],
   "source": [
    "# from django.urls import path\n",
    "# from .views import movie_list, movie_details\n",
    "\n",
    "# urlpatterns = [\n",
    "#     path(\"list/\", movie_list.as_view()),\n",
    "#     path(\"<int:pk>\", movie_details.as_view()),\n",
    "# ]"
   ]
  },
  {
   "cell_type": "markdown",
   "id": "38c7cab1",
   "metadata": {},
   "source": [
    "# app/serializers.py"
   ]
  },
  {
   "cell_type": "code",
   "execution_count": null,
   "id": "1da2763d",
   "metadata": {},
   "outputs": [],
   "source": [
    "# from rest_framework import serializers\n",
    "\n",
    "# class MovieSerializers(serializers.Serializer):\n",
    "#     id = serializers.IntegerField(read_only=True)\n",
    "#     name = serializers.CharField(max_length=50)\n",
    "#     description = serializers.CharField(max_length=200)\n",
    "#     active = serializers.BooleanField(default=True)"
   ]
  },
  {
   "cell_type": "code",
   "execution_count": null,
   "id": "49b95792",
   "metadata": {},
   "outputs": [],
   "source": []
  }
 ],
 "metadata": {
  "kernelspec": {
   "display_name": "Python 3 (ipykernel)",
   "language": "python",
   "name": "python3"
  },
  "language_info": {
   "codemirror_mode": {
    "name": "ipython",
    "version": 3
   },
   "file_extension": ".py",
   "mimetype": "text/x-python",
   "name": "python",
   "nbconvert_exporter": "python",
   "pygments_lexer": "ipython3",
   "version": "3.11.5"
  }
 },
 "nbformat": 4,
 "nbformat_minor": 5
}
