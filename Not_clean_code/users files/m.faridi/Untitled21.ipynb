{
 "cells": [
  {
   "cell_type": "code",
   "execution_count": 130,
   "id": "a7abfef6",
   "metadata": {},
   "outputs": [],
   "source": [
    "import tensorflow\n",
    "from tensorflow.keras.datasets import mnist\n",
    "from tensorflow.keras.models import Sequential\n",
    "from tensorflow.keras.layers import Dense\n",
    "from tensorflow.keras.utils import to_categorical\n",
    "from tensorflow.keras.layers import Dense, Activation, Dropout"
   ]
  },
  {
   "cell_type": "code",
   "execution_count": 141,
   "id": "9140ce41",
   "metadata": {},
   "outputs": [],
   "source": [
    "from ISLP import load_data\n",
    "import numpy as np\n",
    "import siuba\n",
    "from siuba import _, if_else, select, mutate\n",
    "from ISLP.models import (ModelSpec as MS,summarize)\n",
    "from ISLP import confusion_table\n",
    "import pandas as pd"
   ]
  },
  {
   "cell_type": "code",
   "execution_count": 132,
   "id": "40a1588f",
   "metadata": {},
   "outputs": [],
   "source": [
    "smarket = load_data('Smarket')"
   ]
  },
  {
   "cell_type": "code",
   "execution_count": 139,
   "id": "bd16d811",
   "metadata": {},
   "outputs": [],
   "source": [
    "smarket2=(\n",
    "    smarket >>\n",
    "    #mutate(Direction = if_else(_.Direction == 'Up',1,0)) >>\n",
    "    mutate(train = if_else(_.Year < 2005,1,0) ) >>\n",
    "    select(~_.Year,~_.Today)\n",
    "\n",
    ")\n",
    "train = (smarket2.train == 1)\n",
    "# print(smarket2.head())\n",
    "\n",
    "# print(design)\n",
    "\n",
    "X = (\n",
    "    smarket2 >>\n",
    "    select(~_.train,~_.Direction)\n",
    ")\n",
    "y = smarket2['Direction']  == 'Up'\n",
    "\n",
    "X_train, X_test = X.loc[train], X.loc[~train]\n",
    "Y_train, Y_test = y.loc[train], y.loc[~train]\n",
    "Y_test_raw =Y_test"
   ]
  },
  {
   "cell_type": "code",
   "execution_count": 135,
   "id": "f40a8f8c",
   "metadata": {},
   "outputs": [
    {
     "data": {
      "text/plain": [
       "998     False\n",
       "999     False\n",
       "1000    False\n",
       "1001     True\n",
       "1002    False\n",
       "        ...  \n",
       "1245     True\n",
       "1246    False\n",
       "1247     True\n",
       "1248    False\n",
       "1249    False\n",
       "Name: Direction, Length: 252, dtype: bool"
      ]
     },
     "execution_count": 135,
     "metadata": {},
     "output_type": "execute_result"
    }
   ],
   "source": [
    "Y_test"
   ]
  },
  {
   "cell_type": "code",
   "execution_count": 136,
   "id": "b1982637",
   "metadata": {},
   "outputs": [],
   "source": [
    "# X_train\n",
    "feature_vector_length = 6\n",
    "num_classes = 2"
   ]
  },
  {
   "cell_type": "code",
   "execution_count": null,
   "id": "e9cde382",
   "metadata": {},
   "outputs": [],
   "source": []
  },
  {
   "cell_type": "code",
   "execution_count": 137,
   "id": "8b5ab0e4",
   "metadata": {},
   "outputs": [
    {
     "name": "stdout",
     "output_type": "stream",
     "text": [
      "Feature shape: (6,)\n"
     ]
    }
   ],
   "source": [
    "Y_train = to_categorical(Y_train, num_classes)\n",
    "Y_test = to_categorical(Y_test, num_classes)\n",
    "\n",
    "# Set the input shape\n",
    "input_shape = (feature_vector_length,)\n",
    "print(f'Feature shape: {input_shape}')\n",
    "\n",
    "# Create the model\n"
   ]
  },
  {
   "cell_type": "code",
   "execution_count": 138,
   "id": "ab8a8f5b",
   "metadata": {},
   "outputs": [
    {
     "data": {
      "text/plain": [
       "array([[1., 0.],\n",
       "       [1., 0.],\n",
       "       [1., 0.],\n",
       "       [0., 1.],\n",
       "       [1., 0.],\n",
       "       [0., 1.],\n",
       "       [1., 0.],\n",
       "       [0., 1.],\n",
       "       [1., 0.],\n",
       "       [0., 1.],\n",
       "       [0., 1.],\n",
       "       [1., 0.],\n",
       "       [1., 0.],\n",
       "       [1., 0.],\n",
       "       [1., 0.],\n",
       "       [0., 1.],\n",
       "       [0., 1.],\n",
       "       [0., 1.],\n",
       "       [1., 0.],\n",
       "       [0., 1.],\n",
       "       [0., 1.],\n",
       "       [0., 1.],\n",
       "       [1., 0.],\n",
       "       [0., 1.],\n",
       "       [1., 0.],\n",
       "       [0., 1.],\n",
       "       [1., 0.],\n",
       "       [0., 1.],\n",
       "       [0., 1.],\n",
       "       [0., 1.],\n",
       "       [0., 1.],\n",
       "       [0., 1.],\n",
       "       [1., 0.],\n",
       "       [0., 1.],\n",
       "       [1., 0.],\n",
       "       [0., 1.],\n",
       "       [0., 1.],\n",
       "       [0., 1.],\n",
       "       [1., 0.],\n",
       "       [0., 1.],\n",
       "       [1., 0.],\n",
       "       [0., 1.],\n",
       "       [0., 1.],\n",
       "       [0., 1.],\n",
       "       [1., 0.],\n",
       "       [1., 0.],\n",
       "       [0., 1.],\n",
       "       [1., 0.],\n",
       "       [0., 1.],\n",
       "       [1., 0.],\n",
       "       [1., 0.],\n",
       "       [0., 1.],\n",
       "       [1., 0.],\n",
       "       [1., 0.],\n",
       "       [1., 0.],\n",
       "       [0., 1.],\n",
       "       [1., 0.],\n",
       "       [0., 1.],\n",
       "       [1., 0.],\n",
       "       [0., 1.],\n",
       "       [1., 0.],\n",
       "       [1., 0.],\n",
       "       [0., 1.],\n",
       "       [0., 1.],\n",
       "       [0., 1.],\n",
       "       [0., 1.],\n",
       "       [1., 0.],\n",
       "       [0., 1.],\n",
       "       [0., 1.],\n",
       "       [1., 0.],\n",
       "       [1., 0.],\n",
       "       [1., 0.],\n",
       "       [0., 1.],\n",
       "       [0., 1.],\n",
       "       [1., 0.],\n",
       "       [0., 1.],\n",
       "       [1., 0.],\n",
       "       [0., 1.],\n",
       "       [1., 0.],\n",
       "       [0., 1.],\n",
       "       [1., 0.],\n",
       "       [0., 1.],\n",
       "       [0., 1.],\n",
       "       [1., 0.],\n",
       "       [0., 1.],\n",
       "       [1., 0.],\n",
       "       [1., 0.],\n",
       "       [0., 1.],\n",
       "       [1., 0.],\n",
       "       [0., 1.],\n",
       "       [1., 0.],\n",
       "       [1., 0.],\n",
       "       [0., 1.],\n",
       "       [0., 1.],\n",
       "       [0., 1.],\n",
       "       [0., 1.],\n",
       "       [1., 0.],\n",
       "       [0., 1.],\n",
       "       [0., 1.],\n",
       "       [1., 0.],\n",
       "       [0., 1.],\n",
       "       [0., 1.],\n",
       "       [1., 0.],\n",
       "       [0., 1.],\n",
       "       [0., 1.],\n",
       "       [1., 0.],\n",
       "       [0., 1.],\n",
       "       [1., 0.],\n",
       "       [1., 0.],\n",
       "       [0., 1.],\n",
       "       [1., 0.],\n",
       "       [0., 1.],\n",
       "       [0., 1.],\n",
       "       [0., 1.],\n",
       "       [0., 1.],\n",
       "       [0., 1.],\n",
       "       [1., 0.],\n",
       "       [1., 0.],\n",
       "       [0., 1.],\n",
       "       [1., 0.],\n",
       "       [1., 0.],\n",
       "       [1., 0.],\n",
       "       [0., 1.],\n",
       "       [1., 0.],\n",
       "       [1., 0.],\n",
       "       [0., 1.],\n",
       "       [0., 1.],\n",
       "       [1., 0.],\n",
       "       [0., 1.],\n",
       "       [0., 1.],\n",
       "       [0., 1.],\n",
       "       [0., 1.],\n",
       "       [0., 1.],\n",
       "       [0., 1.],\n",
       "       [0., 1.],\n",
       "       [1., 0.],\n",
       "       [0., 1.],\n",
       "       [0., 1.],\n",
       "       [1., 0.],\n",
       "       [0., 1.],\n",
       "       [1., 0.],\n",
       "       [0., 1.],\n",
       "       [0., 1.],\n",
       "       [0., 1.],\n",
       "       [1., 0.],\n",
       "       [0., 1.],\n",
       "       [0., 1.],\n",
       "       [0., 1.],\n",
       "       [1., 0.],\n",
       "       [1., 0.],\n",
       "       [1., 0.],\n",
       "       [0., 1.],\n",
       "       [1., 0.],\n",
       "       [0., 1.],\n",
       "       [1., 0.],\n",
       "       [0., 1.],\n",
       "       [1., 0.],\n",
       "       [0., 1.],\n",
       "       [1., 0.],\n",
       "       [0., 1.],\n",
       "       [0., 1.],\n",
       "       [1., 0.],\n",
       "       [1., 0.],\n",
       "       [0., 1.],\n",
       "       [1., 0.],\n",
       "       [0., 1.],\n",
       "       [1., 0.],\n",
       "       [0., 1.],\n",
       "       [0., 1.],\n",
       "       [1., 0.],\n",
       "       [0., 1.],\n",
       "       [0., 1.],\n",
       "       [1., 0.],\n",
       "       [0., 1.],\n",
       "       [1., 0.],\n",
       "       [1., 0.],\n",
       "       [1., 0.],\n",
       "       [0., 1.],\n",
       "       [0., 1.],\n",
       "       [1., 0.],\n",
       "       [1., 0.],\n",
       "       [1., 0.],\n",
       "       [0., 1.],\n",
       "       [0., 1.],\n",
       "       [0., 1.],\n",
       "       [0., 1.],\n",
       "       [0., 1.],\n",
       "       [0., 1.],\n",
       "       [0., 1.],\n",
       "       [1., 0.],\n",
       "       [1., 0.],\n",
       "       [1., 0.],\n",
       "       [1., 0.],\n",
       "       [0., 1.],\n",
       "       [1., 0.],\n",
       "       [1., 0.],\n",
       "       [1., 0.],\n",
       "       [1., 0.],\n",
       "       [0., 1.],\n",
       "       [0., 1.],\n",
       "       [1., 0.],\n",
       "       [0., 1.],\n",
       "       [1., 0.],\n",
       "       [0., 1.],\n",
       "       [0., 1.],\n",
       "       [1., 0.],\n",
       "       [1., 0.],\n",
       "       [1., 0.],\n",
       "       [0., 1.],\n",
       "       [0., 1.],\n",
       "       [1., 0.],\n",
       "       [0., 1.],\n",
       "       [0., 1.],\n",
       "       [0., 1.],\n",
       "       [0., 1.],\n",
       "       [1., 0.],\n",
       "       [0., 1.],\n",
       "       [0., 1.],\n",
       "       [0., 1.],\n",
       "       [1., 0.],\n",
       "       [1., 0.],\n",
       "       [0., 1.],\n",
       "       [0., 1.],\n",
       "       [0., 1.],\n",
       "       [0., 1.],\n",
       "       [0., 1.],\n",
       "       [0., 1.],\n",
       "       [0., 1.],\n",
       "       [1., 0.],\n",
       "       [0., 1.],\n",
       "       [1., 0.],\n",
       "       [0., 1.],\n",
       "       [0., 1.],\n",
       "       [1., 0.],\n",
       "       [0., 1.],\n",
       "       [1., 0.],\n",
       "       [1., 0.],\n",
       "       [0., 1.],\n",
       "       [0., 1.],\n",
       "       [0., 1.],\n",
       "       [0., 1.],\n",
       "       [1., 0.],\n",
       "       [1., 0.],\n",
       "       [1., 0.],\n",
       "       [1., 0.],\n",
       "       [0., 1.],\n",
       "       [0., 1.],\n",
       "       [0., 1.],\n",
       "       [1., 0.],\n",
       "       [0., 1.],\n",
       "       [1., 0.],\n",
       "       [1., 0.]], dtype=float32)"
      ]
     },
     "execution_count": 138,
     "metadata": {},
     "output_type": "execute_result"
    }
   ],
   "source": [
    "Y_test"
   ]
  },
  {
   "cell_type": "code",
   "execution_count": 32,
   "id": "263d76bf",
   "metadata": {},
   "outputs": [],
   "source": [
    "batch_size = 250\n",
    "hidden_units = 2\n",
    "dropout = 0.45"
   ]
  },
  {
   "cell_type": "code",
   "execution_count": 93,
   "id": "6ed5f2e0",
   "metadata": {},
   "outputs": [],
   "source": [
    "# best model\n",
    "model = Sequential()\n",
    "model.add(Dense(256, input_shape=input_shape, activation='relu'))\n",
    "model.add(Dropout(dropout))\n",
    "model.add(Dense(64, activation='relu'))\n",
    "model.add(Dropout(dropout))\n",
    "model.add(Dense(num_classes, activation='softmax'))\n",
    "#Test results - Loss: 0.6916869282722473 - Accuracy: 0.5357142686843872%"
   ]
  },
  {
   "cell_type": "code",
   "execution_count": 110,
   "id": "ce61a281",
   "metadata": {},
   "outputs": [],
   "source": [
    "# best model\n",
    "model = Sequential()\n",
    "model.add(Dense(64, input_shape=input_shape, activation='relu'))\n",
    "model.add(Dense(256, input_shape=input_shape, activation='relu'))\n",
    "model.add(Dense(64, input_shape=input_shape, activation='relu'))\n",
    "model.add(Dense(16, activation='relu'))\n",
    "\n",
    "model.add(Dense(num_classes, activation='softmax'))\n",
    "#Test results - Loss: 0.7014935612678528 - Accuracy: 0.5595238208770752%"
   ]
  },
  {
   "cell_type": "code",
   "execution_count": 111,
   "id": "525a309a",
   "metadata": {},
   "outputs": [
    {
     "name": "stdout",
     "output_type": "stream",
     "text": [
      "Epoch 1/15\n",
      "13/13 [==============================] - 1s 21ms/step - loss: 0.6966 - accuracy: 0.4837 - val_loss: 0.6935 - val_accuracy: 0.5250\n",
      "Epoch 2/15\n",
      "13/13 [==============================] - 0s 5ms/step - loss: 0.6838 - accuracy: 0.5677 - val_loss: 0.6995 - val_accuracy: 0.4650\n",
      "Epoch 3/15\n",
      "13/13 [==============================] - 0s 4ms/step - loss: 0.6784 - accuracy: 0.5702 - val_loss: 0.7002 - val_accuracy: 0.4800\n",
      "Epoch 4/15\n",
      "13/13 [==============================] - 0s 5ms/step - loss: 0.6741 - accuracy: 0.5865 - val_loss: 0.7031 - val_accuracy: 0.4800\n",
      "Epoch 5/15\n",
      "13/13 [==============================] - 0s 4ms/step - loss: 0.6646 - accuracy: 0.5990 - val_loss: 0.7031 - val_accuracy: 0.5050\n",
      "Epoch 6/15\n",
      "13/13 [==============================] - 0s 6ms/step - loss: 0.6635 - accuracy: 0.5915 - val_loss: 0.7088 - val_accuracy: 0.4600\n",
      "Epoch 7/15\n",
      "13/13 [==============================] - 0s 6ms/step - loss: 0.6533 - accuracy: 0.6090 - val_loss: 0.7071 - val_accuracy: 0.4750\n",
      "Epoch 8/15\n",
      "13/13 [==============================] - 0s 6ms/step - loss: 0.6504 - accuracy: 0.6065 - val_loss: 0.7163 - val_accuracy: 0.4700\n",
      "Epoch 9/15\n",
      "13/13 [==============================] - 0s 5ms/step - loss: 0.6456 - accuracy: 0.6140 - val_loss: 0.7061 - val_accuracy: 0.4850\n",
      "Epoch 10/15\n",
      "13/13 [==============================] - 0s 6ms/step - loss: 0.6358 - accuracy: 0.6316 - val_loss: 0.7199 - val_accuracy: 0.4900\n",
      "Epoch 11/15\n",
      "13/13 [==============================] - 0s 4ms/step - loss: 0.6271 - accuracy: 0.6491 - val_loss: 0.7122 - val_accuracy: 0.4650\n",
      "Epoch 12/15\n",
      "13/13 [==============================] - 0s 4ms/step - loss: 0.6269 - accuracy: 0.6404 - val_loss: 0.7096 - val_accuracy: 0.5300\n",
      "Epoch 13/15\n",
      "13/13 [==============================] - 0s 4ms/step - loss: 0.6234 - accuracy: 0.6491 - val_loss: 0.7451 - val_accuracy: 0.4750\n",
      "Epoch 14/15\n",
      "13/13 [==============================] - 0s 4ms/step - loss: 0.6059 - accuracy: 0.6642 - val_loss: 0.7127 - val_accuracy: 0.5350\n",
      "Epoch 15/15\n",
      "13/13 [==============================] - 0s 4ms/step - loss: 0.6045 - accuracy: 0.6679 - val_loss: 0.7283 - val_accuracy: 0.4550\n",
      "8/8 [==============================] - 0s 2ms/step - loss: 0.7078 - accuracy: 0.5397\n",
      "Test results - Loss: 0.7078242301940918 - Accuracy: 0.5396825671195984%\n"
     ]
    }
   ],
   "source": [
    "model.compile(loss='categorical_crossentropy', optimizer='adam', metrics=['accuracy'])\n",
    "model.fit(X_train, Y_train, epochs=15, batch_size=batch_size, verbose=1, validation_split=0.2)\n",
    "\n",
    "# Test the model after training\n",
    "test_results = model.evaluate(X_test, Y_test, verbose=1)\n",
    "print(f'Test results - Loss: {test_results[0]} - Accuracy: {test_results[1]}%')"
   ]
  },
  {
   "cell_type": "code",
   "execution_count": 112,
   "id": "6d3ead96",
   "metadata": {},
   "outputs": [
    {
     "data": {
      "text/plain": [
       "[0.7078242301940918, 0.5396825671195984]"
      ]
     },
     "execution_count": 112,
     "metadata": {},
     "output_type": "execute_result"
    }
   ],
   "source": [
    "test_results"
   ]
  },
  {
   "cell_type": "code",
   "execution_count": 146,
   "id": "7661b06a",
   "metadata": {},
   "outputs": [
    {
     "name": "stdout",
     "output_type": "stream",
     "text": [
      "8/8 [==============================] - 0s 1ms/step\n"
     ]
    },
    {
     "data": {
      "text/plain": [
       "array([1, 1, 1, 0, 0, 1, 0, 1, 0, 1, 1, 1, 0, 0, 0, 1, 1, 1, 1, 1, 0, 0,\n",
       "       1, 1, 0, 0, 1, 1, 0, 0, 1, 0, 1, 1, 0, 1, 0, 1, 1, 0, 0, 0, 1, 1,\n",
       "       0, 1, 1, 0, 1, 1, 0, 1, 1, 0, 1, 1, 0, 0, 1, 1, 0, 0, 1, 0, 0, 1,\n",
       "       1, 1, 1, 0, 1, 1, 1, 0, 1, 0, 1, 0, 1, 0, 0, 0, 0, 0, 1, 1, 0, 1,\n",
       "       0, 1, 0, 0, 1, 1, 0, 0, 1, 1, 0, 1, 1, 0, 0, 1, 1, 0, 1, 1, 0, 1,\n",
       "       1, 1, 1, 0, 0, 1, 0, 1, 1, 0, 1, 1, 0, 0, 1, 0, 0, 0, 1, 0, 0, 0,\n",
       "       0, 1, 0, 1, 1, 0, 0, 1, 0, 1, 1, 1, 0, 1, 0, 0, 0, 1, 1, 0, 0, 1,\n",
       "       0, 0, 1, 1, 0, 0, 1, 1, 1, 1, 0, 1, 0, 1, 0, 0, 1, 1, 0, 1, 0, 0,\n",
       "       1, 0, 0, 0, 1, 1, 0, 0, 1, 1, 1, 0, 0, 1, 1, 1, 1, 0, 0, 1, 0, 0,\n",
       "       0, 1, 1, 1, 0, 1, 1, 1, 0, 0, 0, 0, 0, 0, 0, 0, 1, 0, 1, 0, 0, 0,\n",
       "       1, 1, 0, 0, 0, 1, 0, 0, 1, 1, 0, 1, 0, 1, 1, 0, 1, 1, 1, 1, 1, 1,\n",
       "       1, 1, 1, 0, 1, 1, 1, 1, 0, 0], dtype=int64)"
      ]
     },
     "execution_count": 146,
     "metadata": {},
     "output_type": "execute_result"
    }
   ],
   "source": [
    "test_pred_raw = model.predict(X_test)\n",
    "test_pred = np.argmax(test_pred_raw, axis=1)\n",
    "test_pred\n"
   ]
  },
  {
   "cell_type": "code",
   "execution_count": 170,
   "id": "ad973be8",
   "metadata": {},
   "outputs": [
    {
     "data": {
      "text/html": [
       "<div>\n",
       "<style scoped>\n",
       "    .dataframe tbody tr th:only-of-type {\n",
       "        vertical-align: middle;\n",
       "    }\n",
       "\n",
       "    .dataframe tbody tr th {\n",
       "        vertical-align: top;\n",
       "    }\n",
       "\n",
       "    .dataframe thead th {\n",
       "        text-align: right;\n",
       "    }\n",
       "</style>\n",
       "<table border=\"1\" class=\"dataframe\">\n",
       "  <thead>\n",
       "    <tr style=\"text-align: right;\">\n",
       "      <th></th>\n",
       "      <th>pred</th>\n",
       "      <th>y</th>\n",
       "    </tr>\n",
       "  </thead>\n",
       "  <tbody>\n",
       "    <tr>\n",
       "      <th>0</th>\n",
       "      <td>1</td>\n",
       "      <td>1</td>\n",
       "    </tr>\n",
       "    <tr>\n",
       "      <th>1</th>\n",
       "      <td>1</td>\n",
       "      <td>1</td>\n",
       "    </tr>\n",
       "    <tr>\n",
       "      <th>2</th>\n",
       "      <td>1</td>\n",
       "      <td>0</td>\n",
       "    </tr>\n",
       "    <tr>\n",
       "      <th>3</th>\n",
       "      <td>0</td>\n",
       "      <td>1</td>\n",
       "    </tr>\n",
       "    <tr>\n",
       "      <th>4</th>\n",
       "      <td>0</td>\n",
       "      <td>1</td>\n",
       "    </tr>\n",
       "  </tbody>\n",
       "</table>\n",
       "</div>"
      ],
      "text/plain": [
       "   pred  y\n",
       "0     1  1\n",
       "1     1  1\n",
       "2     1  0\n",
       "3     0  1\n",
       "4     0  1"
      ]
     },
     "execution_count": 170,
     "metadata": {},
     "output_type": "execute_result"
    }
   ],
   "source": [
    "# print(np.array(Y_test))\n",
    "# print(test_pred)\n",
    "# print(len(np.array(Y_test)))\n",
    "# print(len(test_pred))\n",
    "df1 = pd.DataFrame(\n",
    "   \n",
    "    {'pred':  test_pred}\n",
    "    \n",
    ")\n",
    "\n",
    "df2 = (df1 >>\n",
    "       mutate(y=np.array(Y_test)) >>\n",
    "       mutate(y=if_else(y,1,0))\n",
    ")\n",
    "\n",
    "df2.head()\n"
   ]
  },
  {
   "cell_type": "code",
   "execution_count": 194,
   "id": "9e40223d",
   "metadata": {},
   "outputs": [
    {
     "name": "stdout",
     "output_type": "stream",
     "text": [
      "Truth       0   1\n",
      "Predicted        \n",
      "0          57  62\n",
      "1          54  79\n"
     ]
    }
   ],
   "source": [
    "ct = confusion_table(test_pred, Y_test_raw)\n",
    "print(ct)"
   ]
  },
  {
   "cell_type": "code",
   "execution_count": 195,
   "id": "5649470e",
   "metadata": {},
   "outputs": [
    {
     "data": {
      "text/plain": [
       "pandas.core.frame.DataFrame"
      ]
     },
     "execution_count": 195,
     "metadata": {},
     "output_type": "execute_result"
    }
   ],
   "source": [
    "type(ct)"
   ]
  },
  {
   "cell_type": "code",
   "execution_count": 197,
   "id": "68884a07",
   "metadata": {},
   "outputs": [
    {
     "data": {
      "text/html": [
       "<div>\n",
       "<style scoped>\n",
       "    .dataframe tbody tr th:only-of-type {\n",
       "        vertical-align: middle;\n",
       "    }\n",
       "\n",
       "    .dataframe tbody tr th {\n",
       "        vertical-align: top;\n",
       "    }\n",
       "\n",
       "    .dataframe thead th {\n",
       "        text-align: right;\n",
       "    }\n",
       "</style>\n",
       "<table border=\"1\" class=\"dataframe\">\n",
       "  <thead>\n",
       "    <tr style=\"text-align: right;\">\n",
       "      <th></th>\n",
       "      <th>Accuracy</th>\n",
       "      <th>Precision</th>\n",
       "      <th>Recall</th>\n",
       "      <th>F_score</th>\n",
       "    </tr>\n",
       "  </thead>\n",
       "  <tbody>\n",
       "    <tr>\n",
       "      <th>0</th>\n",
       "      <td>0.539683</td>\n",
       "      <td>0.593985</td>\n",
       "      <td>0.560284</td>\n",
       "      <td>0.288321</td>\n",
       "    </tr>\n",
       "  </tbody>\n",
       "</table>\n",
       "</div>"
      ],
      "text/plain": [
       "   Accuracy  Precision    Recall   F_score\n",
       "0  0.539683   0.593985  0.560284  0.288321"
      ]
     },
     "execution_count": 197,
     "metadata": {},
     "output_type": "execute_result"
    }
   ],
   "source": [
    "TN = ct.iloc[0,0]\n",
    "TP = ct.iloc[1,1]\n",
    "FN = ct.iloc[0,1]\n",
    "FP = ct.iloc[1,0]\n",
    "Accuracy = (TP + TN) /(TN+TP+FN+FP)\n",
    "Recall = TP /(TP+FN)\n",
    "Precision = TP/(TP+FP)\n",
    "F_score = Recall*Precision/(Recall +Precision)\n",
    "df_r = pd.DataFrame(\n",
    " {'Accuracy': [Accuracy]\n",
    "  ,  'Precision':[Precision],   'Recall':[Recall],    'F_score':[F_score]\n",
    " }\n",
    ")\n",
    "df_r"
   ]
  },
  {
   "cell_type": "code",
   "execution_count": null,
   "id": "4478d073",
   "metadata": {},
   "outputs": [],
   "source": []
  }
 ],
 "metadata": {
  "kernelspec": {
   "display_name": "Python 3 (ipykernel)",
   "language": "python",
   "name": "python3"
  },
  "language_info": {
   "codemirror_mode": {
    "name": "ipython",
    "version": 3
   },
   "file_extension": ".py",
   "mimetype": "text/x-python",
   "name": "python",
   "nbconvert_exporter": "python",
   "pygments_lexer": "ipython3",
   "version": "3.10.9"
  }
 },
 "nbformat": 4,
 "nbformat_minor": 5
}
