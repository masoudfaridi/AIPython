{
 "cells": [
  {
   "cell_type": "code",
   "execution_count": 1,
   "id": "38fc91e6",
   "metadata": {
    "kernel": "SoS"
   },
   "outputs": [],
   "source": [
    "import pandas as pd"
   ]
  },
  {
   "cell_type": "code",
   "execution_count": 2,
   "id": "b97cfba1",
   "metadata": {
    "kernel": "R"
   },
   "outputs": [
    {
     "name": "stderr",
     "output_type": "stream",
     "text": [
      "C:\\ProgramData\\anaconda3\\lib\\site-packages\\sos_notebook\\kernel.py:1169: RuntimeWarning: coroutine 'ZMQSocketChannel.msg_ready' was never awaited\n",
      "  while self.KC.shell_channel.msg_ready():\n",
      "RuntimeWarning: Enable tracemalloc to get the object allocation traceback\n",
      "C:\\ProgramData\\anaconda3\\lib\\site-packages\\sos_notebook\\kernel.py:1170: RuntimeWarning: coroutine 'ZMQSocketChannel.get_msg' was never awaited\n",
      "  self.KC.shell_channel.get_msg()\n",
      "RuntimeWarning: Enable tracemalloc to get the object allocation traceback\n",
      "KeyboardInterrupt. This will only be captured if the subkernel failed to process the signal.\n"
     ]
    }
   ],
   "source": [
    "x<-1"
   ]
  },
  {
   "cell_type": "code",
   "execution_count": null,
   "id": "10abdc28",
   "metadata": {
    "kernel": "R"
   },
   "outputs": [],
   "source": []
  }
 ],
 "metadata": {
  "kernelspec": {
   "display_name": "SoS",
   "language": "sos",
   "name": "sos"
  },
  "language_info": {
   "codemirror_mode": "sos",
   "file_extension": ".sos",
   "mimetype": "text/x-sos",
   "name": "sos",
   "nbconvert_exporter": "sos_notebook.converter.SoS_Exporter",
   "pygments_lexer": "sos"
  },
  "sos": {
   "kernels": [
    [
     "R",
     "ir",
     "R",
     "",
     ""
    ],
    [
     "SoS",
     "sos",
     "",
     "",
     "sos"
    ]
   ],
   "panel": {
    "displayed": true,
    "height": 0
   },
   "version": "0.24.3"
  }
 },
 "nbformat": 4,
 "nbformat_minor": 5
}
