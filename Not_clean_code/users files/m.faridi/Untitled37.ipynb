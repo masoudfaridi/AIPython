{
 "cells": [
  {
   "cell_type": "code",
   "execution_count": 40,
   "id": "effc295b",
   "metadata": {},
   "outputs": [],
   "source": [
    "class FileHandler:\n",
    "    def __init__(self, file_path, mode):\n",
    "        self.file_path = file_path\n",
    "        self.mode = mode\n",
    "        self.file = None\n",
    "    def __enter__(self):\n",
    "        try:\n",
    "            self.file = open(self.file_path, self.mode)\n",
    "            return self.file\n",
    "        except (FileNotFoundError, PermissionError) as e:\n",
    "            print(f'Error exception: {e}')\n",
    "            return None\n",
    "    def __exit__(self, exc_type, exc_value, exc_tb):\n",
    "        if self.file:\n",
    "            self.file.close()\n",
    "        if exc_type is None:\n",
    "            print('exited normally')\n",
    "        else:\n",
    "            print('exception type: ' + str(exc_type))\n",
    "            print(f'exception value:{str(exc_value)}')\n",
    "            print(\"exception traceback:{}\".format(str(exc_tb)))\n",
    "            return True"
   ]
  },
  {
   "cell_type": "code",
   "execution_count": 41,
   "id": "16ca2f2b",
   "metadata": {},
   "outputs": [],
   "source": [
    "class FileHandler:\n",
    "    def __init__(self, file_path, mode):\n",
    "        self.file_path = file_path\n",
    "        self.mode = mode\n",
    "        self.file = None\n",
    "\n",
    "    def __enter__(self):\n",
    "        try:\n",
    "            self.file = open(self.file_path, self.mode)\n",
    "            return self.file\n",
    "        except (FileNotFoundError, PermissionError) as e:\n",
    "            print(f'Error!: {e}')\n",
    "            return None\n",
    "\n",
    "    def __exit__(self, exc_type, exc_value, exc_tb):\n",
    "        if self.file:\n",
    "            self.file.close()\n",
    "        if exc_type is None:\n",
    "            print('exited normally')\n",
    "        else:\n",
    "            print('exception type: ' + str(exc_type))\n",
    "            print(f'exception value:{str(exc_value)}')\n",
    "            return True"
   ]
  },
  {
   "cell_type": "code",
   "execution_count": 44,
   "id": "be34c362",
   "metadata": {},
   "outputs": [
    {
     "name": "stdout",
     "output_type": "stream",
     "text": [
      "The content of the File_1\n",
      "exited normally\n"
     ]
    }
   ],
   "source": [
    "file_path = \"File_1.txt\"\n",
    "with FileHandler(file_path, 'r') as file:\n",
    "    content = file.read()\n",
    "    print(content)"
   ]
  },
  {
   "cell_type": "code",
   "execution_count": 45,
   "id": "51d6cd53",
   "metadata": {},
   "outputs": [
    {
     "name": "stdout",
     "output_type": "stream",
     "text": [
      "Error!: [Errno 2] No such file or directory: 'File_2.txt'\n",
      "exception type: <class 'AttributeError'>\n",
      "exception value:'NoneType' object has no attribute 'read'\n"
     ]
    }
   ],
   "source": [
    "file_path = \"File_2.txt\"\n",
    "with FileHandler(file_path, 'r') as file:\n",
    "    content = file.read()\n",
    "    print(content)"
   ]
  },
  {
   "cell_type": "code",
   "execution_count": 29,
   "id": "315cb7b0",
   "metadata": {},
   "outputs": [
    {
     "data": {
      "text/plain": [
       "'File_1.txt'"
      ]
     },
     "execution_count": 29,
     "metadata": {},
     "output_type": "execute_result"
    }
   ],
   "source": [
    "file.name"
   ]
  },
  {
   "cell_type": "code",
   "execution_count": 30,
   "id": "5a83f45a",
   "metadata": {},
   "outputs": [
    {
     "data": {
      "text/plain": [
       "[]"
      ]
     },
     "execution_count": 30,
     "metadata": {},
     "output_type": "execute_result"
    }
   ],
   "source": [
    "file.readlines()"
   ]
  },
  {
   "cell_type": "code",
   "execution_count": null,
   "id": "172ec6cc",
   "metadata": {},
   "outputs": [],
   "source": []
  }
 ],
 "metadata": {
  "kernelspec": {
   "display_name": "Python 3 (ipykernel)",
   "language": "python",
   "name": "python3"
  },
  "language_info": {
   "codemirror_mode": {
    "name": "ipython",
    "version": 3
   },
   "file_extension": ".py",
   "mimetype": "text/x-python",
   "name": "python",
   "nbconvert_exporter": "python",
   "pygments_lexer": "ipython3",
   "version": "3.11.5"
  }
 },
 "nbformat": 4,
 "nbformat_minor": 5
}
