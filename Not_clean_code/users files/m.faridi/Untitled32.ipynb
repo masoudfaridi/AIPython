{
 "cells": [
  {
   "cell_type": "code",
   "execution_count": 2,
   "id": "e7e6e7a9",
   "metadata": {},
   "outputs": [],
   "source": [
    "from functools import reduce"
   ]
  },
  {
   "cell_type": "code",
   "execution_count": 10,
   "id": "9f06e1b5",
   "metadata": {},
   "outputs": [],
   "source": [
    "l = [1,2,3,4]"
   ]
  },
  {
   "cell_type": "code",
   "execution_count": 11,
   "id": "5982993d",
   "metadata": {},
   "outputs": [
    {
     "data": {
      "text/plain": [
       "1"
      ]
     },
     "execution_count": 11,
     "metadata": {},
     "output_type": "execute_result"
    }
   ],
   "source": [
    "reduce(lambda a, b: a if a < b else b, l)"
   ]
  },
  {
   "cell_type": "code",
   "execution_count": 12,
   "id": "eaab836e",
   "metadata": {},
   "outputs": [
    {
     "data": {
      "text/plain": [
       "24"
      ]
     },
     "execution_count": 12,
     "metadata": {},
     "output_type": "execute_result"
    }
   ],
   "source": [
    "reduce(lambda a, b: a*b, l)"
   ]
  },
  {
   "cell_type": "code",
   "execution_count": 18,
   "id": "6ff4dbb8",
   "metadata": {},
   "outputs": [
    {
     "data": {
      "text/plain": [
       "'lambda(lambda(lambda(1,2),3),4)'"
      ]
     },
     "execution_count": 18,
     "metadata": {},
     "output_type": "execute_result"
    }
   ],
   "source": [
    "reduce(lambda a, b: f\"lambda({a},{b})\", l)"
   ]
  },
  {
   "cell_type": "code",
   "execution_count": 54,
   "id": "09c98362",
   "metadata": {},
   "outputs": [],
   "source": [
    "def dc(fn):\n",
    "    counter = 0\n",
    "    def inner(*args):\n",
    "        nonlocal counter\n",
    "        counter = counter+1\n",
    "        print(f'  step: {counter}----> {fn.__name__}{args}  ')\n",
    "        return fn(*args)\n",
    "    return inner"
   ]
  },
  {
   "cell_type": "code",
   "execution_count": 57,
   "id": "40e8d7ea",
   "metadata": {},
   "outputs": [],
   "source": [
    "def add(a,b):\n",
    "    return f' add({a},{b}) '\n",
    "add = dc(add)"
   ]
  },
  {
   "cell_type": "code",
   "execution_count": 58,
   "id": "0e4ac95b",
   "metadata": {},
   "outputs": [
    {
     "name": "stdout",
     "output_type": "stream",
     "text": [
      "  step: 1----> add(1, 2)  \n",
      "  step: 2----> add(' add(1,2) ', 3)  \n",
      "  step: 3----> add(' add( add(1,2) ,3) ', 4)  \n"
     ]
    },
    {
     "data": {
      "text/plain": [
       "' add( add( add(1,2) ,3) ,4) '"
      ]
     },
     "execution_count": 58,
     "metadata": {},
     "output_type": "execute_result"
    }
   ],
   "source": [
    "reduce(add, l)"
   ]
  },
  {
   "cell_type": "code",
   "execution_count": null,
   "id": "f3e5f6d6",
   "metadata": {},
   "outputs": [],
   "source": []
  },
  {
   "cell_type": "code",
   "execution_count": null,
   "id": "253faad7",
   "metadata": {},
   "outputs": [],
   "source": []
  },
  {
   "cell_type": "code",
   "execution_count": null,
   "id": "51024ccd",
   "metadata": {},
   "outputs": [],
   "source": []
  },
  {
   "cell_type": "code",
   "execution_count": null,
   "id": "2d60bb93",
   "metadata": {},
   "outputs": [],
   "source": []
  },
  {
   "cell_type": "code",
   "execution_count": null,
   "id": "cb83a533",
   "metadata": {},
   "outputs": [],
   "source": []
  },
  {
   "cell_type": "code",
   "execution_count": null,
   "id": "9ebd9f26",
   "metadata": {},
   "outputs": [],
   "source": []
  },
  {
   "cell_type": "code",
   "execution_count": 59,
   "id": "48a698a8",
   "metadata": {},
   "outputs": [],
   "source": [
    "l=[1,2,3,4]"
   ]
  },
  {
   "cell_type": "code",
   "execution_count": 60,
   "id": "e0b4300f",
   "metadata": {},
   "outputs": [
    {
     "data": {
      "text/plain": [
       "10"
      ]
     },
     "execution_count": 60,
     "metadata": {},
     "output_type": "execute_result"
    }
   ],
   "source": [
    "reduce(lambda a,b: a+b,l)"
   ]
  },
  {
   "cell_type": "code",
   "execution_count": 77,
   "id": "42173657",
   "metadata": {},
   "outputs": [],
   "source": [
    "def dc(fn):\n",
    "    counter = 0\n",
    "    def inner(*args):\n",
    "        nonlocal counter\n",
    "        counter = counter + 1\n",
    "        print(f'step {counter} -----> {fn.__name__} {args} ----> {fn(*args)}')\n",
    "        return fn(*args)\n",
    "    return inner"
   ]
  },
  {
   "cell_type": "code",
   "execution_count": 78,
   "id": "d31bd04e",
   "metadata": {},
   "outputs": [],
   "source": [
    "def add(a,b):\n",
    "    return a+b"
   ]
  },
  {
   "cell_type": "code",
   "execution_count": 79,
   "id": "eba11920",
   "metadata": {},
   "outputs": [],
   "source": [
    "add = dc(add)"
   ]
  },
  {
   "cell_type": "code",
   "execution_count": 80,
   "id": "0d33dd70",
   "metadata": {},
   "outputs": [
    {
     "name": "stdout",
     "output_type": "stream",
     "text": [
      "step 1 -----> add (1, 2) ----> 3\n",
      "step 2 -----> add (3, 3) ----> 6\n",
      "step 3 -----> add (6, 4) ----> 10\n"
     ]
    },
    {
     "data": {
      "text/plain": [
       "10"
      ]
     },
     "execution_count": 80,
     "metadata": {},
     "output_type": "execute_result"
    }
   ],
   "source": [
    "reduce(add,l)"
   ]
  },
  {
   "cell_type": "code",
   "execution_count": 81,
   "id": "43fb70a7",
   "metadata": {},
   "outputs": [],
   "source": [
    "def dw(n):\n",
    "    if n==1:\n",
    "        return 'shanbeh'\n",
    "    elif n==2:\n",
    "        return 'yek shanbeh'\n",
    "    else:\n",
    "        return 'invalid input'    "
   ]
  },
  {
   "cell_type": "code",
   "execution_count": 84,
   "id": "cb071402",
   "metadata": {},
   "outputs": [
    {
     "data": {
      "text/plain": [
       "'yek shanbeh'"
      ]
     },
     "execution_count": 84,
     "metadata": {},
     "output_type": "execute_result"
    }
   ],
   "source": [
    "dw(2)"
   ]
  },
  {
   "cell_type": "code",
   "execution_count": 85,
   "id": "81450cd4",
   "metadata": {},
   "outputs": [],
   "source": [
    "dw_d = dict({\n",
    "    1: 'shanbeh'\n",
    "    ,\n",
    "    2: 'yekshanbeh'\n",
    "})"
   ]
  },
  {
   "cell_type": "code",
   "execution_count": 89,
   "id": "52d2035e",
   "metadata": {},
   "outputs": [
    {
     "ename": "KeyError",
     "evalue": "3",
     "output_type": "error",
     "traceback": [
      "\u001b[1;31m---------------------------------------------------------------------------\u001b[0m",
      "\u001b[1;31mKeyError\u001b[0m                                  Traceback (most recent call last)",
      "Cell \u001b[1;32mIn[89], line 1\u001b[0m\n\u001b[1;32m----> 1\u001b[0m dw_d[\u001b[38;5;241m3\u001b[39m]\n",
      "\u001b[1;31mKeyError\u001b[0m: 3"
     ]
    }
   ],
   "source": [
    "dw_d[3]"
   ]
  },
  {
   "cell_type": "code",
   "execution_count": 96,
   "id": "2fee5d83",
   "metadata": {},
   "outputs": [
    {
     "name": "stdout",
     "output_type": "stream",
     "text": [
      "Monday\n"
     ]
    }
   ],
   "source": [
    "dow_dict = {\n",
    "1: lambda: print('Monday'),\n",
    "2: lambda: print('Tuesday'),\n",
    "3: lambda: print('Wednesday'),\n",
    "4: lambda: print('Thursday'),\n",
    "5: lambda: print('Friday'),\n",
    "6: lambda: print('Saturday'),\n",
    "7: lambda: print('Sunday'),\n",
    "'default': lambda: print('Invalid day of week')\n",
    "}\n",
    "dow_dict[1]()"
   ]
  },
  {
   "cell_type": "code",
   "execution_count": 97,
   "id": "705b7a4d",
   "metadata": {},
   "outputs": [
    {
     "name": "stdout",
     "output_type": "stream",
     "text": [
      "What's the programming language you want to learn? 1\n",
      "The language doesn't matter, what matters is solving problems.\n"
     ]
    }
   ],
   "source": [
    "lang = input(\"What's the programming language you want to learn? \")\n",
    "\n",
    "match lang:\n",
    "    case \"JavaScript\":\n",
    "        print(\"You can become a web developer.\")\n",
    "\n",
    "    case \"Python\":\n",
    "        print(\"You can become a Data Scientist\")\n",
    "\n",
    "    case \"PHP\":\n",
    "        print(\"You can become a backend developer\")\n",
    "    \n",
    "    case \"Solidity\":\n",
    "        print(\"You can become a Blockchain developer\")\n",
    "\n",
    "    case \"Java\":\n",
    "        print(\"You can become a mobile app developer\")\n",
    "    case _:\n",
    "        print(\"The language doesn't matter, what matters is solving problems.\")"
   ]
  },
  {
   "cell_type": "code",
   "execution_count": 100,
   "id": "b82acc47",
   "metadata": {},
   "outputs": [
    {
     "name": "stdout",
     "output_type": "stream",
     "text": [
      "What's the programming language you want to learn? 1\n",
      "The language doesn't matter, what matters is solving problems.\n"
     ]
    }
   ],
   "source": [
    "lang = input(\"What's the programming language you want to learn? \")\n",
    "\n",
    "match lang:\n",
    "    case \"JavaScript\":\n",
    "        print(\"You can become a web developer.\")\n",
    "\n",
    "    case \"Python\":\n",
    "        print(\"You can become a Data Scientist\")\n",
    "\n",
    "    case \"PHP\":\n",
    "        print(\"You can become a backend developer\")\n",
    "    \n",
    "    case \"Solidity\":\n",
    "        print(\"You can become a Blockchain developer\")\n",
    "\n",
    "    case \"Java\":\n",
    "        print(\"You can become a mobile app developer\")\n",
    "    case _:\n",
    "        print(\"The language doesn't matter, what matters is solving problems.\")"
   ]
  },
  {
   "cell_type": "code",
   "execution_count": null,
   "id": "21418c7d",
   "metadata": {},
   "outputs": [],
   "source": []
  }
 ],
 "metadata": {
  "kernelspec": {
   "display_name": "Python 3 (ipykernel)",
   "language": "python",
   "name": "python3"
  },
  "language_info": {
   "codemirror_mode": {
    "name": "ipython",
    "version": 3
   },
   "file_extension": ".py",
   "mimetype": "text/x-python",
   "name": "python",
   "nbconvert_exporter": "python",
   "pygments_lexer": "ipython3",
   "version": "3.11.5"
  }
 },
 "nbformat": 4,
 "nbformat_minor": 5
}
