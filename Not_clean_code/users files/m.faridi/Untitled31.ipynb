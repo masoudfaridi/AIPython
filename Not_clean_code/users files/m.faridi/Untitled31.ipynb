{
 "cells": [
  {
   "cell_type": "code",
   "execution_count": 1,
   "id": "1d45d4cc",
   "metadata": {},
   "outputs": [],
   "source": [
    "from datetime import datetime\n",
    "user_doc = {\n",
    "    \"username\" : \"janedoe\",\n",
    "    \"firstname\" : \"Jane\",\n",
    "    \"surname\" : \"Doe\",\n",
    "    \"dateofbirth\" : datetime(1974, 4, 12),\n",
    "    \"email\" : \"janedoe74@example.com\",\n",
    "    \"score\" : 0\n",
    "}"
   ]
  },
  {
   "cell_type": "code",
   "execution_count": 2,
   "id": "1ec62c5d",
   "metadata": {},
   "outputs": [
    {
     "data": {
      "text/plain": [
       "{'username': 'janedoe',\n",
       " 'firstname': 'Jane',\n",
       " 'surname': 'Doe',\n",
       " 'dateofbirth': datetime.datetime(1974, 4, 12, 0, 0),\n",
       " 'email': 'janedoe74@example.com',\n",
       " 'score': 0}"
      ]
     },
     "execution_count": 2,
     "metadata": {},
     "output_type": "execute_result"
    }
   ],
   "source": [
    "user_doc"
   ]
  },
  {
   "cell_type": "code",
   "execution_count": 7,
   "id": "d8ed429b",
   "metadata": {},
   "outputs": [],
   "source": [
    "import pymongo\n",
    "from pymongo import MongoClient"
   ]
  },
  {
   "cell_type": "code",
   "execution_count": null,
   "id": "663f489b",
   "metadata": {},
   "outputs": [],
   "source": []
  },
  {
   "cell_type": "code",
   "execution_count": 13,
   "id": "9da77b10",
   "metadata": {},
   "outputs": [
    {
     "name": "stdout",
     "output_type": "stream",
     "text": [
      "Connected successfully\n"
     ]
    }
   ],
   "source": [
    "try:\n",
    "    con_md = MongoClient(host=\"localhost\", port=27017)\n",
    "    print(\"Connected successfully\")\n",
    "except ConnectionFailure:\n",
    "    sys.stderr.write(\"Could not connect to MongoDB: %s\" % ConnectionFailure)"
   ]
  },
  {
   "cell_type": "code",
   "execution_count": 14,
   "id": "2065cafc",
   "metadata": {},
   "outputs": [
    {
     "data": {
      "text/plain": [
       "MongoClient(host=['localhost:27017'], document_class=dict, tz_aware=False, connect=True)"
      ]
     },
     "execution_count": 14,
     "metadata": {},
     "output_type": "execute_result"
    }
   ],
   "source": [
    "con_md"
   ]
  },
  {
   "cell_type": "code",
   "execution_count": 16,
   "id": "bd6e3a9b",
   "metadata": {},
   "outputs": [
    {
     "data": {
      "text/plain": [
       "['admin', 'config', 'local', 'school']"
      ]
     },
     "execution_count": 16,
     "metadata": {},
     "output_type": "execute_result"
    }
   ],
   "source": [
    "con_md.list_database_names()"
   ]
  },
  {
   "cell_type": "code",
   "execution_count": 17,
   "id": "116c50b0",
   "metadata": {},
   "outputs": [],
   "source": [
    "# school"
   ]
  },
  {
   "cell_type": "code",
   "execution_count": null,
   "id": "e329ed21",
   "metadata": {},
   "outputs": [],
   "source": []
  }
 ],
 "metadata": {
  "kernelspec": {
   "display_name": "Python 3 (ipykernel)",
   "language": "python",
   "name": "python3"
  },
  "language_info": {
   "codemirror_mode": {
    "name": "ipython",
    "version": 3
   },
   "file_extension": ".py",
   "mimetype": "text/x-python",
   "name": "python",
   "nbconvert_exporter": "python",
   "pygments_lexer": "ipython3",
   "version": "3.11.5"
  }
 },
 "nbformat": 4,
 "nbformat_minor": 5
}
