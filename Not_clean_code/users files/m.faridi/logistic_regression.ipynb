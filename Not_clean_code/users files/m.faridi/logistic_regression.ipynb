{
 "cells": [
  {
   "cell_type": "code",
   "execution_count": 22,
   "id": "ec9e9220",
   "metadata": {},
   "outputs": [],
   "source": [
    "import numpy as np\n",
    "import pandas as pd\n",
    "from matplotlib.pyplot import subplots\n",
    "import statsmodels.api as sm\n",
    "from ISLP import load_data\n",
    "from ISLP.models import (ModelSpec as MS,\n",
    "summarize)"
   ]
  },
  {
   "cell_type": "code",
   "execution_count": 23,
   "id": "6745bc54",
   "metadata": {},
   "outputs": [],
   "source": [
    "from ISLP import confusion_table\n",
    "from ISLP.models import contrast\n",
    "from sklearn.discriminant_analysis import \\\n",
    "(LinearDiscriminantAnalysis as LDA,\n",
    "QuadraticDiscriminantAnalysis as QDA)\n",
    "from sklearn.naive_bayes import GaussianNB\n",
    "from sklearn.neighbors import KNeighborsClassifier\n",
    "from sklearn.preprocessing import StandardScaler"
   ]
  },
  {
   "cell_type": "code",
   "execution_count": 24,
   "id": "90350420",
   "metadata": {},
   "outputs": [],
   "source": [
    "from sklearn.model_selection import train_test_split\n",
    "from sklearn.linear_model import LogisticRegression"
   ]
  },
  {
   "cell_type": "code",
   "execution_count": 25,
   "id": "91014e2f",
   "metadata": {},
   "outputs": [
    {
     "data": {
      "text/plain": [
       "(252, 9)"
      ]
     },
     "execution_count": 25,
     "metadata": {},
     "output_type": "execute_result"
    }
   ],
   "source": [
    "Smarket = load_data('Smarket')\n",
    "train = (Smarket.Year < 2005)\n",
    "Smarket_train = Smarket.loc[train]\n",
    "Smarket_test = Smarket.loc[~train]\n",
    "Smarket_test.shape"
   ]
  },
  {
   "cell_type": "code",
   "execution_count": 28,
   "id": "ee0d29b1",
   "metadata": {},
   "outputs": [
    {
     "name": "stdout",
     "output_type": "stream",
     "text": [
      "998     0.528220\n",
      "999     0.515669\n",
      "1000    0.522652\n",
      "1001    0.513854\n",
      "1002    0.498334\n",
      "          ...   \n",
      "1245    0.483637\n",
      "1246    0.506048\n",
      "1247    0.516658\n",
      "1248    0.516124\n",
      "1249    0.508072\n",
      "Length: 252, dtype: float64\n"
     ]
    }
   ],
   "source": [
    "X_train, X_test = X.loc[train], X.loc[~train]\n",
    "y_train, y_test = y.loc[train], y.loc[~train]\n",
    "glm_train = sm.GLM(y_train,\n",
    "X_train,\n",
    "family=sm.families.Binomial())\n",
    "results = glm_train.fit()\n",
    "probs = results.predict(exog=X_test)\n",
    "print(probs)"
   ]
  },
  {
   "cell_type": "code",
   "execution_count": 33,
   "id": "488d939a",
   "metadata": {},
   "outputs": [],
   "source": [
    "labels = np.array(['Down']*len(probs))\n",
    "labels[probs >0.5] = \"Up\""
   ]
  },
  {
   "cell_type": "code",
   "execution_count": 34,
   "id": "7d4c4477",
   "metadata": {},
   "outputs": [],
   "source": [
    "D = Smarket.Direction\n",
    "L_train, L_test = D.loc[train], D.loc[~train]"
   ]
  },
  {
   "cell_type": "code",
   "execution_count": 41,
   "id": "43f4f327",
   "metadata": {},
   "outputs": [
    {
     "name": "stdout",
     "output_type": "stream",
     "text": [
      "Truth      Down  Up\n",
      "Predicted          \n",
      "Down         77  97\n",
      "Up           34  44\n"
     ]
    }
   ],
   "source": [
    "\n",
    "ct =confusion_table(labels, L_test)\n",
    "print(ct)"
   ]
  },
  {
   "cell_type": "code",
   "execution_count": 56,
   "id": "25a0c652",
   "metadata": {
    "scrolled": true
   },
   "outputs": [
    {
     "data": {
      "text/html": [
       "<div>\n",
       "<style scoped>\n",
       "    .dataframe tbody tr th:only-of-type {\n",
       "        vertical-align: middle;\n",
       "    }\n",
       "\n",
       "    .dataframe tbody tr th {\n",
       "        vertical-align: top;\n",
       "    }\n",
       "\n",
       "    .dataframe thead th {\n",
       "        text-align: right;\n",
       "    }\n",
       "</style>\n",
       "<table border=\"1\" class=\"dataframe\">\n",
       "  <thead>\n",
       "    <tr style=\"text-align: right;\">\n",
       "      <th></th>\n",
       "      <th>Accuracy</th>\n",
       "      <th>Precision</th>\n",
       "      <th>Recall</th>\n",
       "      <th>F_score</th>\n",
       "    </tr>\n",
       "  </thead>\n",
       "  <tbody>\n",
       "    <tr>\n",
       "      <th>0</th>\n",
       "      <td>0.480159</td>\n",
       "      <td>0.564103</td>\n",
       "      <td>0.312057</td>\n",
       "      <td>0.200913</td>\n",
       "    </tr>\n",
       "  </tbody>\n",
       "</table>\n",
       "</div>"
      ],
      "text/plain": [
       "   Accuracy  Precision    Recall   F_score\n",
       "0  0.480159   0.564103  0.312057  0.200913"
      ]
     },
     "execution_count": 56,
     "metadata": {},
     "output_type": "execute_result"
    }
   ],
   "source": [
    "TN = ct.iloc[0,0]\n",
    "TP = ct.iloc[1,1]\n",
    "FN = ct.iloc[0,1]\n",
    "FP = ct.iloc[1,0]\n",
    "Accuracy = (TP + TN) /(TN+TP+FN+FP)\n",
    "Recall = TP /(TP+FN)\n",
    "Precision = TP/(TP+FP)\n",
    "F_score = Recall*Precision/(Recall +Precision)\n",
    "df_r = pd.DataFrame(\n",
    " {'Accuracy': [Accuracy]\n",
    "  ,  'Precision':[Precision],   'Recall':[Recall],    'F_score':[F_score]\n",
    " }\n",
    ")\n",
    "df_r"
   ]
  },
  {
   "cell_type": "code",
   "execution_count": 60,
   "id": "b8734d3b",
   "metadata": {},
   "outputs": [],
   "source": [
    "from siuba import *"
   ]
  },
  {
   "cell_type": "code",
   "execution_count": 86,
   "id": "44a6ff27",
   "metadata": {},
   "outputs": [
    {
     "data": {
      "text/html": [
       "<div>\n",
       "<style scoped>\n",
       "    .dataframe tbody tr th:only-of-type {\n",
       "        vertical-align: middle;\n",
       "    }\n",
       "\n",
       "    .dataframe tbody tr th {\n",
       "        vertical-align: top;\n",
       "    }\n",
       "\n",
       "    .dataframe thead th {\n",
       "        text-align: right;\n",
       "    }\n",
       "</style>\n",
       "<table border=\"1\" class=\"dataframe\">\n",
       "  <thead>\n",
       "    <tr style=\"text-align: right;\">\n",
       "      <th></th>\n",
       "      <th>intercept</th>\n",
       "      <th>Lag1</th>\n",
       "      <th>Lag2</th>\n",
       "      <th>Lag3</th>\n",
       "      <th>Lag4</th>\n",
       "      <th>Lag5</th>\n",
       "      <th>Volume</th>\n",
       "      <th>y</th>\n",
       "    </tr>\n",
       "  </thead>\n",
       "  <tbody>\n",
       "    <tr>\n",
       "      <th>0</th>\n",
       "      <td>1.0</td>\n",
       "      <td>0.381</td>\n",
       "      <td>-0.192</td>\n",
       "      <td>-2.624</td>\n",
       "      <td>-1.055</td>\n",
       "      <td>5.010</td>\n",
       "      <td>1.1913</td>\n",
       "      <td>1</td>\n",
       "    </tr>\n",
       "    <tr>\n",
       "      <th>1</th>\n",
       "      <td>1.0</td>\n",
       "      <td>0.959</td>\n",
       "      <td>0.381</td>\n",
       "      <td>-0.192</td>\n",
       "      <td>-2.624</td>\n",
       "      <td>-1.055</td>\n",
       "      <td>1.2965</td>\n",
       "      <td>1</td>\n",
       "    </tr>\n",
       "    <tr>\n",
       "      <th>2</th>\n",
       "      <td>1.0</td>\n",
       "      <td>1.032</td>\n",
       "      <td>0.959</td>\n",
       "      <td>0.381</td>\n",
       "      <td>-0.192</td>\n",
       "      <td>-2.624</td>\n",
       "      <td>1.4112</td>\n",
       "      <td>0</td>\n",
       "    </tr>\n",
       "    <tr>\n",
       "      <th>3</th>\n",
       "      <td>1.0</td>\n",
       "      <td>-0.623</td>\n",
       "      <td>1.032</td>\n",
       "      <td>0.959</td>\n",
       "      <td>0.381</td>\n",
       "      <td>-0.192</td>\n",
       "      <td>1.2760</td>\n",
       "      <td>1</td>\n",
       "    </tr>\n",
       "    <tr>\n",
       "      <th>4</th>\n",
       "      <td>1.0</td>\n",
       "      <td>0.614</td>\n",
       "      <td>-0.623</td>\n",
       "      <td>1.032</td>\n",
       "      <td>0.959</td>\n",
       "      <td>0.381</td>\n",
       "      <td>1.2057</td>\n",
       "      <td>1</td>\n",
       "    </tr>\n",
       "  </tbody>\n",
       "</table>\n",
       "</div>"
      ],
      "text/plain": [
       "   intercept   Lag1   Lag2   Lag3   Lag4   Lag5  Volume  y\n",
       "0        1.0  0.381 -0.192 -2.624 -1.055  5.010  1.1913  1\n",
       "1        1.0  0.959  0.381 -0.192 -2.624 -1.055  1.2965  1\n",
       "2        1.0  1.032  0.959  0.381 -0.192 -2.624  1.4112  0\n",
       "3        1.0 -0.623  1.032  0.959  0.381 -0.192  1.2760  1\n",
       "4        1.0  0.614 -0.623  1.032  0.959  0.381  1.2057  1"
      ]
     },
     "execution_count": 86,
     "metadata": {},
     "output_type": "execute_result"
    }
   ],
   "source": [
    "dt_1 =(\n",
    "    X_train >>\n",
    "    mutate(y=y_train)>>\n",
    "    mutate(y=if_else(y,1,0))\n",
    "    \n",
    ")\n",
    "data.columns\n",
    "dt_1.head()"
   ]
  },
  {
   "cell_type": "code",
   "execution_count": 152,
   "id": "1f44758b",
   "metadata": {},
   "outputs": [],
   "source": [
    "formula= \"y ~ intercept + Volume + Lag1 + Lag2 + Lag3 + Lag4 + Lag5\"\n",
    "formula= \"y ~ intercept + Volume + Lag1 + Lag2 + Lag3 + Lag4 + Lag5 + I(intercept**2) + I(Volume**2)\\\n",
    "+I(Lag1**2) +I(Lag2**2)+I(Lag3**2)+I(Lag4**2)+I(Lag5**2)\"\n",
    "formula= \"y ~ Lag1 + Lag2 + I(Lag1**2)*I(Lag2**2) + I(Lag1**3)*I(Lag2**3)\""
   ]
  },
  {
   "cell_type": "code",
   "execution_count": 153,
   "id": "38fe4523",
   "metadata": {},
   "outputs": [
    {
     "name": "stdout",
     "output_type": "stream",
     "text": [
      "                 Generalized Linear Model Regression Results                  \n",
      "==============================================================================\n",
      "Dep. Variable:                      y   No. Observations:                  998\n",
      "Model:                            GLM   Df Residuals:                      989\n",
      "Model Family:                Binomial   Df Model:                            8\n",
      "Link Function:                  Logit   Scale:                          1.0000\n",
      "Method:                          IRLS   Log-Likelihood:                -685.23\n",
      "Date:                Mon, 06 Nov 2023   Deviance:                       1370.5\n",
      "Time:                        15:29:50   Pearson chi2:                     995.\n",
      "No. Iterations:                     4   Pseudo R-squ. (CS):            0.01275\n",
      "Covariance Type:            nonrobust                                         \n",
      "=============================================================================================\n",
      "                                coef    std err          z      P>|z|      [0.025      0.975]\n",
      "---------------------------------------------------------------------------------------------\n",
      "Intercept                     0.0916      0.084      1.089      0.276      -0.073       0.257\n",
      "Lag1                         -0.1135      0.076     -1.503      0.133      -0.262       0.035\n",
      "Lag2                         -0.2072      0.078     -2.660      0.008      -0.360      -0.055\n",
      "I(Lag1 ** 2)                 -0.0178      0.030     -0.591      0.554      -0.077       0.041\n",
      "I(Lag2 ** 2)                 -0.0432      0.033     -1.329      0.184      -0.107       0.021\n",
      "I(Lag1 ** 2):I(Lag2 ** 2)     0.0056      0.007      0.805      0.421      -0.008       0.019\n",
      "I(Lag1 ** 3)                  0.0091      0.008      1.118      0.263      -0.007       0.025\n",
      "I(Lag2 ** 3)                  0.0252      0.009      2.665      0.008       0.007       0.044\n",
      "I(Lag1 ** 3):I(Lag2 ** 3)     0.0004      0.000      1.014      0.311      -0.000       0.001\n",
      "=============================================================================================\n"
     ]
    }
   ],
   "source": [
    "import statsmodels.formula.api as smf\n",
    "glm_train = smf.glm(formula=formula, data=dt_1,family=sm.families.Binomial())\n",
    "mod2=glm_train.fit()\n",
    "print(mod2.summary())"
   ]
  },
  {
   "cell_type": "code",
   "execution_count": 154,
   "id": "cbcc40b0",
   "metadata": {},
   "outputs": [
    {
     "name": "stdout",
     "output_type": "stream",
     "text": [
      "Truth      Down   Up\n",
      "Predicted           \n",
      "Down         26   18\n",
      "Up           85  123\n"
     ]
    },
    {
     "data": {
      "text/html": [
       "<div>\n",
       "<style scoped>\n",
       "    .dataframe tbody tr th:only-of-type {\n",
       "        vertical-align: middle;\n",
       "    }\n",
       "\n",
       "    .dataframe tbody tr th {\n",
       "        vertical-align: top;\n",
       "    }\n",
       "\n",
       "    .dataframe thead th {\n",
       "        text-align: right;\n",
       "    }\n",
       "</style>\n",
       "<table border=\"1\" class=\"dataframe\">\n",
       "  <thead>\n",
       "    <tr style=\"text-align: right;\">\n",
       "      <th></th>\n",
       "      <th>Accuracy</th>\n",
       "      <th>Precision</th>\n",
       "      <th>Recall</th>\n",
       "      <th>F_score</th>\n",
       "    </tr>\n",
       "  </thead>\n",
       "  <tbody>\n",
       "    <tr>\n",
       "      <th>0</th>\n",
       "      <td>0.59127</td>\n",
       "      <td>0.591346</td>\n",
       "      <td>0.87234</td>\n",
       "      <td>0.352436</td>\n",
       "    </tr>\n",
       "  </tbody>\n",
       "</table>\n",
       "</div>"
      ],
      "text/plain": [
       "   Accuracy  Precision   Recall   F_score\n",
       "0   0.59127   0.591346  0.87234  0.352436"
      ]
     },
     "execution_count": 154,
     "metadata": {},
     "output_type": "execute_result"
    }
   ],
   "source": [
    "probs = mod2.predict(exog=X_test)\n",
    "# print(probs)\n",
    "labels = np.array(['Down']*len(probs))\n",
    "labels[probs >0.485] = \"Up\"\n",
    "D = Smarket.Direction\n",
    "L_train, L_test = D.loc[train], D.loc[~train]\n",
    "ct =confusion_table(labels, L_test)\n",
    "print(ct)\n",
    "TN = ct.iloc[0,0]\n",
    "TP = ct.iloc[1,1]\n",
    "FN = ct.iloc[0,1]\n",
    "FP = ct.iloc[1,0]\n",
    "Accuracy = (TP + TN) /(TN+TP+FN+FP)\n",
    "Recall = TP /(TP+FN)\n",
    "Precision = TP/(TP+FP)\n",
    "F_score = Recall*Precision/(Recall +Precision)\n",
    "df_r = pd.DataFrame(\n",
    " {'Accuracy': [Accuracy]\n",
    "  ,  'Precision':[Precision],   'Recall':[Recall],    'F_score':[F_score]\n",
    " }\n",
    ")\n",
    "df_r"
   ]
  },
  {
   "cell_type": "code",
   "execution_count": null,
   "id": "f6260cda",
   "metadata": {},
   "outputs": [],
   "source": []
  }
 ],
 "metadata": {
  "kernelspec": {
   "display_name": "Python 3 (ipykernel)",
   "language": "python",
   "name": "python3"
  },
  "language_info": {
   "codemirror_mode": {
    "name": "ipython",
    "version": 3
   },
   "file_extension": ".py",
   "mimetype": "text/x-python",
   "name": "python",
   "nbconvert_exporter": "python",
   "pygments_lexer": "ipython3",
   "version": "3.11.5"
  }
 },
 "nbformat": 4,
 "nbformat_minor": 5
}
