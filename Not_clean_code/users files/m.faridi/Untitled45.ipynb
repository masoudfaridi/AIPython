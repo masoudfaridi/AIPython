{
 "cells": [
  {
   "cell_type": "markdown",
   "id": "2a2e144a",
   "metadata": {},
   "source": [
    "# 01 Getting Started"
   ]
  },
  {
   "cell_type": "markdown",
   "id": "f16ddc22",
   "metadata": {},
   "source": [
    "## View all Settings"
   ]
  },
  {
   "cell_type": "markdown",
   "id": "9aa61d19",
   "metadata": {},
   "source": [
    "You can view all of your settings and where they are coming from using:"
   ]
  },
  {
   "cell_type": "raw",
   "id": "3e66bd2d",
   "metadata": {},
   "source": [
    "$ git config --list --show-origin"
   ]
  },
  {
   "cell_type": "markdown",
   "id": "7051702e",
   "metadata": {},
   "source": [
    "## Your Identity"
   ]
  },
  {
   "cell_type": "markdown",
   "id": "4778b034",
   "metadata": {},
   "source": [
    "The first thing you should do when you install Git is to set your user name and email address. This\n",
    "is important because every Git commit uses this information, and it’s immutably baked into the\n",
    "commits you start creating:"
   ]
  },
  {
   "cell_type": "markdown",
   "id": "acddd90d",
   "metadata": {},
   "source": [
    "$ git config --global user.name \"John Doe\"\n",
    "$ git config --global user.email johndoe@example.com"
   ]
  },
  {
   "cell_type": "markdown",
   "id": "98b53244",
   "metadata": {},
   "source": []
  },
  {
   "cell_type": "markdown",
   "id": "40c6580d",
   "metadata": {},
   "source": []
  },
  {
   "cell_type": "markdown",
   "id": "b65b63ce",
   "metadata": {},
   "source": []
  },
  {
   "cell_type": "code",
   "execution_count": 5,
   "id": "38a39c4c",
   "metadata": {},
   "outputs": [
    {
     "name": "stderr",
     "output_type": "stream",
     "text": [
      "UsageError: Line magic function `%git` not found.\n"
     ]
    }
   ],
   "source": [
    "%git\n",
    "git --version"
   ]
  },
  {
   "cell_type": "raw",
   "id": "28780ba6",
   "metadata": {},
   "source": [
    "git --version"
   ]
  },
  {
   "cell_type": "code",
   "execution_count": null,
   "id": "f9849992",
   "metadata": {},
   "outputs": [],
   "source": []
  }
 ],
 "metadata": {
  "kernelspec": {
   "display_name": "Python 3 (ipykernel)",
   "language": "python",
   "name": "python3"
  },
  "language_info": {
   "codemirror_mode": {
    "name": "ipython",
    "version": 3
   },
   "file_extension": ".py",
   "mimetype": "text/x-python",
   "name": "python",
   "nbconvert_exporter": "python",
   "pygments_lexer": "ipython3",
   "version": "3.11.5"
  }
 },
 "nbformat": 4,
 "nbformat_minor": 5
}
