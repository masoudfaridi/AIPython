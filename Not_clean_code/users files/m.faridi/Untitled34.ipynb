{
 "cells": [
  {
   "cell_type": "code",
   "execution_count": 60,
   "id": "adddfcbf",
   "metadata": {},
   "outputs": [],
   "source": [
    "class Precision:\n",
    "    import numpy as np\n",
    "    \n",
    "    def __init__(self,prec):\n",
    "        self.prec = prec\n",
    "        self.default_prec = np.get_printoptions()['precision']\n",
    "    \n",
    "    def __enter__(self):\n",
    "        np.set_printoptions(precision=self.prec)\n",
    "    \n",
    "    def __exit__(self, exc_type, exc_value, exc_tb):\n",
    "        np.set_printoptions(precision=self.default_prec) "
   ]
  },
  {
   "cell_type": "code",
   "execution_count": 61,
   "id": "c65c4948",
   "metadata": {},
   "outputs": [
    {
     "name": "stdout",
     "output_type": "stream",
     "text": [
      "[3.14159265]\n",
      "-----------------\n",
      "[3.14]\n",
      "-----------------\n",
      "[3.14159265]\n"
     ]
    }
   ],
   "source": [
    "import numpy as np\n",
    "print(np.array([np.pi]))\n",
    "print('-----------------')\n",
    "##########\n",
    "with Precision(2):\n",
    "    print(np.array([np.pi]))\n",
    "##############\n",
    "print('-----------------')\n",
    "print(np.array([np.pi]))"
   ]
  },
  {
   "cell_type": "code",
   "execution_count": 17,
   "id": "c1e042e9",
   "metadata": {},
   "outputs": [
    {
     "name": "stdout",
     "output_type": "stream",
     "text": [
      "[3.14159265 6.28318531 9.42477796]\n",
      "-----------------\n",
      "[3.14 6.28 9.42]\n",
      "-----------------\n",
      "[3.14159265 6.28318531 9.42477796]\n"
     ]
    }
   ],
   "source": [
    "import numpy as np\n",
    "print(np.pi * np.arange(1,4))\n",
    "print('-----------------')\n",
    "##########\n",
    "with Precision(2):\n",
    "    print(np.pi * np.arange(1,4))\n",
    "##############\n",
    "print('-----------------')\n",
    "print(np.pi * np.arange(1,4))"
   ]
  },
  {
   "cell_type": "code",
   "execution_count": 28,
   "id": "672061c1",
   "metadata": {},
   "outputs": [
    {
     "name": "stdout",
     "output_type": "stream",
     "text": [
      "[3.14159265]\n",
      "-----------------\n",
      "[3.14]\n",
      "-----------------\n",
      "[3.14159265]\n"
     ]
    }
   ],
   "source": [
    "import numpy as np\n",
    "print(np.array([np.pi]))\n",
    "print('-----------------')\n",
    "##########\n",
    "with Precision(2):\n",
    "    print(np.array([np.pi]))\n",
    "##############\n",
    "print('-----------------')\n",
    "print(np.array([np.pi]))"
   ]
  },
  {
   "cell_type": "code",
   "execution_count": 20,
   "id": "7625d465",
   "metadata": {},
   "outputs": [
    {
     "data": {
      "text/plain": [
       "numpy.ndarray"
      ]
     },
     "execution_count": 20,
     "metadata": {},
     "output_type": "execute_result"
    }
   ],
   "source": [
    "p1 = np.pi * np.arange(1,4)\n",
    "type(p1)"
   ]
  },
  {
   "cell_type": "code",
   "execution_count": 27,
   "id": "5f1643ea",
   "metadata": {},
   "outputs": [
    {
     "name": "stdout",
     "output_type": "stream",
     "text": [
      "3.141592653589793\n",
      "-----------------\n",
      "3.141592653589793\n",
      "-----------------\n",
      "3.141592653589793\n"
     ]
    }
   ],
   "source": [
    "p1 = np.array(3.141592653589793)\n",
    "import numpy as np\n",
    "print(p1)\n",
    "print('-----------------')\n",
    "##########\n",
    "with Precision(2):\n",
    "    print(p1)\n",
    "##############\n",
    "print('-----------------')\n",
    "print(p1)"
   ]
  },
  {
   "cell_type": "code",
   "execution_count": 29,
   "id": "c1332b95",
   "metadata": {},
   "outputs": [],
   "source": [
    "class Tag:    \n",
    "    def __init__(self,tag):\n",
    "        self.tag = tag\n",
    "    \n",
    "    def __enter__(self):\n",
    "        print(f'<{self.tag}>',end='')\n",
    "        \n",
    "    def __exit__(self,a,b,c):\n",
    "        print(f'</{self.tag}>',end='')"
   ]
  },
  {
   "cell_type": "code",
   "execution_count": 30,
   "id": "55087b9c",
   "metadata": {},
   "outputs": [
    {
     "name": "stdout",
     "output_type": "stream",
     "text": [
      "<P>hello</P>"
     ]
    }
   ],
   "source": [
    "with Tag('P'):\n",
    "    print('hello',end='')"
   ]
  },
  {
   "cell_type": "code",
   "execution_count": 41,
   "id": "a0b652f7",
   "metadata": {},
   "outputs": [
    {
     "name": "stdout",
     "output_type": "stream",
     "text": [
      "<P></P>"
     ]
    },
    {
     "ename": "AttributeError",
     "evalue": "'NoneType' object has no attribute 'tag'",
     "output_type": "error",
     "traceback": [
      "\u001b[1;31m---------------------------------------------------------------------------\u001b[0m",
      "\u001b[1;31mAttributeError\u001b[0m                            Traceback (most recent call last)",
      "Cell \u001b[1;32mIn[41], line 2\u001b[0m\n\u001b[0;32m      1\u001b[0m \u001b[38;5;28;01mwith\u001b[39;00m Tag(\u001b[38;5;124m'\u001b[39m\u001b[38;5;124mP\u001b[39m\u001b[38;5;124m'\u001b[39m) \u001b[38;5;28;01mas\u001b[39;00m tg1:\n\u001b[1;32m----> 2\u001b[0m     tg1\u001b[38;5;241m.\u001b[39mtag\u001b[38;5;241m=\u001b[39m\u001b[38;5;124m'\u001b[39m\u001b[38;5;124mA\u001b[39m\u001b[38;5;124m'\u001b[39m\n\u001b[0;32m      3\u001b[0m     \u001b[38;5;28mprint\u001b[39m(\u001b[38;5;124m'\u001b[39m\u001b[38;5;124mhello\u001b[39m\u001b[38;5;124m'\u001b[39m,end\u001b[38;5;241m=\u001b[39m\u001b[38;5;124m'\u001b[39m\u001b[38;5;124m'\u001b[39m)\n",
      "\u001b[1;31mAttributeError\u001b[0m: 'NoneType' object has no attribute 'tag'"
     ]
    }
   ],
   "source": [
    "with Tag('P') as tg1:\n",
    "    tg1.tag='A'\n",
    "    print('hello',end='')"
   ]
  },
  {
   "cell_type": "code",
   "execution_count": 58,
   "id": "6a6b0573",
   "metadata": {},
   "outputs": [],
   "source": [
    "class Tag:    \n",
    "    def __init__(self,tag):\n",
    "        self.tag = tag\n",
    "    \n",
    "    def __enter__(self):\n",
    "        print(f'<{self.tag}>',end='')\n",
    "        \n",
    "    def __exit__(self,a,b,c):\n",
    "        print(f'</{self.tag}>',end='')"
   ]
  },
  {
   "cell_type": "code",
   "execution_count": 59,
   "id": "1ecfe7ab",
   "metadata": {},
   "outputs": [
    {
     "name": "stdout",
     "output_type": "stream",
     "text": [
      "<p>inside p tag</p>"
     ]
    }
   ],
   "source": [
    "with Tag('p'):\n",
    "    print('inside p tag',end='')"
   ]
  },
  {
   "cell_type": "code",
   "execution_count": null,
   "id": "6180257b",
   "metadata": {},
   "outputs": [],
   "source": []
  }
 ],
 "metadata": {
  "kernelspec": {
   "display_name": "Python 3 (ipykernel)",
   "language": "python",
   "name": "python3"
  },
  "language_info": {
   "codemirror_mode": {
    "name": "ipython",
    "version": 3
   },
   "file_extension": ".py",
   "mimetype": "text/x-python",
   "name": "python",
   "nbconvert_exporter": "python",
   "pygments_lexer": "ipython3",
   "version": "3.11.5"
  }
 },
 "nbformat": 4,
 "nbformat_minor": 5
}
