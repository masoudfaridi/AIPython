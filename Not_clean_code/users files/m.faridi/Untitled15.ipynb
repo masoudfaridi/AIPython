{
 "cells": [
  {
   "cell_type": "code",
   "execution_count": 3,
   "id": "5c020cba",
   "metadata": {
    "kernel": "R"
   },
   "outputs": [
    {
     "ename": "ContextualVersionConflict",
     "evalue": "(jupyter-client 7.3.4 (c:\\programdata\\anaconda3\\lib\\site-packages), Requirement.parse('jupyter-client>=8.0.0'), {'sos-notebook'})",
     "output_type": "error",
     "traceback": [
      "\u001b[91m(jupyter-client 7.3.4 (c:\\programdata\\anaconda3\\lib\\site-packages), Requirement.parse('jupyter-client>=8.0.0'), {'sos-notebook'})\u001b[0m"
     ]
    }
   ],
   "source": [
    "x=1"
   ]
  },
  {
   "cell_type": "code",
   "execution_count": 1,
   "id": "d666b471",
   "metadata": {
    "kernel": "R"
   },
   "outputs": [
    {
     "ename": "ContextualVersionConflict",
     "evalue": "(jupyter-client 7.3.4 (c:\\programdata\\anaconda3\\lib\\site-packages), Requirement.parse('jupyter-client>=8.0.0'), {'sos-notebook'})",
     "output_type": "error",
     "traceback": [
      "\u001b[91m(jupyter-client 7.3.4 (c:\\programdata\\anaconda3\\lib\\site-packages), Requirement.parse('jupyter-client>=8.0.0'), {'sos-notebook'})\u001b[0m"
     ]
    }
   ],
   "source": [
    "print(x)"
   ]
  },
  {
   "cell_type": "code",
   "execution_count": null,
   "id": "29daf291",
   "metadata": {
    "kernel": "R"
   },
   "outputs": [],
   "source": []
  }
 ],
 "metadata": {
  "kernelspec": {
   "display_name": "SoS",
   "language": "sos",
   "name": "sos"
  },
  "language_info": {
   "codemirror_mode": "sos",
   "file_extension": ".sos",
   "mimetype": "text/x-sos",
   "name": "sos",
   "nbconvert_exporter": "sos_notebook.converter.SoS_Exporter",
   "pygments_lexer": "sos"
  },
  "sos": {
   "kernels": [
    [
     "R",
     "ir",
     "R",
     "",
     ""
    ]
   ],
   "panel": {
    "displayed": true,
    "height": 0
   },
   "version": "0.24.3"
  }
 },
 "nbformat": 4,
 "nbformat_minor": 5
}
