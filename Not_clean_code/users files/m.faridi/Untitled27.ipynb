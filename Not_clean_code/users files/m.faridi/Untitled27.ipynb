{
 "cells": [
  {
   "cell_type": "markdown",
   "id": "88f16119",
   "metadata": {
    "kernel": "SoS"
   },
   "source": [
    "%%latex\n",
    "\\begin{verbtaim}\n",
    "from rest_framework import serializers\n",
    "class MovieSerializers(serializers.Serializer):\n",
    "    id = serializers.IntegerField(read_only=True)\n",
    "    name = serializers.CharField(max_length=50)\n",
    "    description = serializers.CharField(max_length=200)\n",
    "    active = serializers.BooleanField(default=True)\n",
    "\\end{verbtaim}"
   ]
  },
  {
   "cell_type": "markdown",
   "id": "709af59d",
   "metadata": {
    "kernel": "SoS"
   },
   "source": [
    "from .models import Movie\n",
    "from .serializers import MovieSerializers\n",
    "from rest_framework.response import Response\n",
    "\n",
    "\n",
    "from rest_framework import status\n",
    "from rest_framework.views import APIView\n",
    "# Create your views here.\n",
    "class movie_list(APIView):\n",
    "    serializer_class = MovieSerializers\n",
    "    def get(self, request, format=None):\n",
    "        print('================')\n",
    "        print(\"movie_list\")\n",
    "        print('method:', request.method)\n",
    "        print('================')\n",
    "        movies = Movie.objects.all()\n",
    "        serializer = self.serializer_class(movies, many=True)\n",
    "        return Response(serializer.data)\n",
    "        # without using serializer\n",
    "        # data = {\n",
    "        #     'movies': list(movies.values())\n",
    "        #     }\n",
    "        # return JsonResponse(data)\n",
    "    def post(self, request, format=None):\n",
    "        serializer = self.serializer_class(data=request.data)\n",
    "        if serializer.is_valid():\n",
    "            serializer.save()\n",
    "            return Response(serializer.data)\n",
    "        else:\n",
    "            return Response(serializer.errors, status=status.HTTP_400_BAD_REQUEST)       \n",
    "\n",
    "\n",
    "class movie_details(APIView):\n",
    "    serializer_class = MovieSerializers\n",
    "    def get(self, request, pk):\n",
    "        try:\n",
    "            movie = Movie.objects.get(pk=pk)\n",
    "        except Movie.DoesNotExist:\n",
    "            return Response({'Error': 'Does Not Exist'}, status=status.HTTP_404_NOT_FOUND)\n",
    "        serializer = self.serializer_class(movie)\n",
    "        return Response(serializer.data)\n",
    "        # data = {\n",
    "        #     'name': movie.name,\n",
    "        #     'description': movie.description,\n",
    "        #     'active': movie.active\n",
    "        #     }\n",
    "        # return JsonResponse(data)\n",
    "    def put(self, request, pk):\n",
    "        movie = Movie.objects.get(pk=pk)\n",
    "        serializer = self.serializer_class(movie, data=request.data, partial=True)\n",
    "        if serializer.is_valid():\n",
    "            serializer.save()\n",
    "            return Response(serializer.data)\n",
    "        else:\n",
    "            return Response(serializer.errors)\n",
    "    def delete(self, request, pk):\n",
    "        movie = Movie.objects.get(pk=pk)\n",
    "        movie.delete()\n",
    "        return Response(status=status.HTTP_204_NO_CONTENT)"
   ]
  },
  {
   "cell_type": "code",
   "execution_count": null,
   "id": "d9f211bc",
   "metadata": {
    "kernel": "SoS"
   },
   "outputs": [],
   "source": []
  }
 ],
 "metadata": {
  "kernelspec": {
   "display_name": "SoS",
   "language": "sos",
   "name": "sos"
  },
  "language_info": {
   "codemirror_mode": "sos",
   "file_extension": ".sos",
   "mimetype": "text/x-sos",
   "name": "sos",
   "nbconvert_exporter": "sos_notebook.converter.SoS_Exporter",
   "pygments_lexer": "sos"
  },
  "sos": {
   "kernels": [],
   "panel": {
    "displayed": true,
    "height": 0
   },
   "version": "0.24.4"
  }
 },
 "nbformat": 4,
 "nbformat_minor": 5
}
