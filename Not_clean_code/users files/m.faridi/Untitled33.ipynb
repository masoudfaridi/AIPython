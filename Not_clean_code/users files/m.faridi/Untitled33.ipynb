{
 "cells": [
  {
   "cell_type": "code",
   "execution_count": 6,
   "id": "3d48ddfc",
   "metadata": {},
   "outputs": [],
   "source": [
    "def add(a, b) :\n",
    "    return a+b"
   ]
  },
  {
   "cell_type": "code",
   "execution_count": 7,
   "id": "62965d0d",
   "metadata": {},
   "outputs": [
    {
     "ename": "TypeError",
     "evalue": "can only concatenate str (not \"int\") to str",
     "output_type": "error",
     "traceback": [
      "\u001b[1;31m---------------------------------------------------------------------------\u001b[0m",
      "\u001b[1;31mTypeError\u001b[0m                                 Traceback (most recent call last)",
      "Cell \u001b[1;32mIn[7], line 1\u001b[0m\n\u001b[1;32m----> 1\u001b[0m add(\u001b[38;5;124m'\u001b[39m\u001b[38;5;124ma\u001b[39m\u001b[38;5;124m'\u001b[39m,\u001b[38;5;241m2\u001b[39m)\n",
      "Cell \u001b[1;32mIn[6], line 2\u001b[0m, in \u001b[0;36madd\u001b[1;34m(a, b)\u001b[0m\n\u001b[0;32m      1\u001b[0m \u001b[38;5;28;01mdef\u001b[39;00m \u001b[38;5;21madd\u001b[39m(a, b) :\n\u001b[1;32m----> 2\u001b[0m     \u001b[38;5;28;01mreturn\u001b[39;00m a\u001b[38;5;241m+\u001b[39mb\n",
      "\u001b[1;31mTypeError\u001b[0m: can only concatenate str (not \"int\") to str"
     ]
    }
   ],
   "source": [
    "add('a',2)"
   ]
  },
  {
   "cell_type": "code",
   "execution_count": 9,
   "id": "69b63344",
   "metadata": {},
   "outputs": [],
   "source": [
    "from functools import wraps\n",
    "from time import perf_counter\n",
    "from datetime import datetime, timezone"
   ]
  },
  {
   "cell_type": "code",
   "execution_count": 14,
   "id": "44f2b1ac",
   "metadata": {},
   "outputs": [],
   "source": [
    "start = perf_counter()"
   ]
  },
  {
   "cell_type": "code",
   "execution_count": 15,
   "id": "3249147b",
   "metadata": {},
   "outputs": [],
   "source": [
    "end = perf_counter()"
   ]
  },
  {
   "cell_type": "code",
   "execution_count": 16,
   "id": "e92742e2",
   "metadata": {},
   "outputs": [
    {
     "data": {
      "text/plain": [
       "2.6152794000008726"
      ]
     },
     "execution_count": 16,
     "metadata": {},
     "output_type": "execute_result"
    }
   ],
   "source": [
    "end-start"
   ]
  },
  {
   "cell_type": "code",
   "execution_count": 17,
   "id": "8f828edb",
   "metadata": {},
   "outputs": [
    {
     "data": {
      "text/plain": [
       "datetime.datetime(2024, 1, 21, 14, 5, 50, 196925)"
      ]
     },
     "execution_count": 17,
     "metadata": {},
     "output_type": "execute_result"
    }
   ],
   "source": [
    "datetime.now()"
   ]
  },
  {
   "cell_type": "code",
   "execution_count": 19,
   "id": "e08ee5a6",
   "metadata": {},
   "outputs": [],
   "source": [
    "start = datetime.now()"
   ]
  },
  {
   "cell_type": "code",
   "execution_count": 20,
   "id": "e42a8ff5",
   "metadata": {},
   "outputs": [],
   "source": [
    "end = datetime.now()"
   ]
  },
  {
   "cell_type": "code",
   "execution_count": 21,
   "id": "e24d967d",
   "metadata": {},
   "outputs": [
    {
     "data": {
      "text/plain": [
       "datetime.timedelta(seconds=2, microseconds=567946)"
      ]
     },
     "execution_count": 21,
     "metadata": {},
     "output_type": "execute_result"
    }
   ],
   "source": [
    "end-start"
   ]
  },
  {
   "cell_type": "code",
   "execution_count": 27,
   "id": "fb0889d5",
   "metadata": {},
   "outputs": [
    {
     "data": {
      "text/plain": [
       "6"
      ]
     },
     "execution_count": 27,
     "metadata": {},
     "output_type": "execute_result"
    }
   ],
   "source": [
    "start.weekday()"
   ]
  },
  {
   "cell_type": "code",
   "execution_count": 67,
   "id": "31a71a78",
   "metadata": {},
   "outputs": [],
   "source": [
    "class Tag:\n",
    "    def __init__(self, tag):\n",
    "        self._tag = None \n",
    "        self.tag = tag\n",
    "    \n",
    "    @property\n",
    "    def tag(self):\n",
    "        return self._tag\n",
    "    \n",
    "    @tag.setter\n",
    "    def tag(self,tag):\n",
    "        self._tag = tag\n",
    "        \n",
    "    def __enter__(self):\n",
    "        print(f'<{self._tag}>',end='')\n",
    "    \n",
    "    def __exit__(self,exc_type,exc_value,tbl):\n",
    "        print(f'</{self._tag}>',end='')\n",
    "        \n",
    "        "
   ]
  },
  {
   "cell_type": "code",
   "execution_count": 82,
   "id": "977e2ac9",
   "metadata": {},
   "outputs": [],
   "source": [
    "class Tag:\n",
    "    def __init__(self, tag):\n",
    "        self._tag = None \n",
    "        self.tag = tag\n",
    "    \n",
    "    @property\n",
    "    def tag(self):\n",
    "        return self._tag\n",
    "    \n",
    "    @tag.setter\n",
    "    def tag(self,tag):\n",
    "        self._tag = tag\n",
    "        \n",
    "    def __enter__(self):\n",
    "        print(f'<{self._tag}>',end='')\n",
    "    \n",
    "    def __exit__(self,a,b,c):\n",
    "        print(f'</{self._tag}>',end='')\n",
    "        \n",
    "        "
   ]
  },
  {
   "cell_type": "code",
   "execution_count": 83,
   "id": "b04d5ace",
   "metadata": {},
   "outputs": [],
   "source": [
    "t1 = Tag('p')"
   ]
  },
  {
   "cell_type": "code",
   "execution_count": 84,
   "id": "722ca4f8",
   "metadata": {},
   "outputs": [
    {
     "data": {
      "text/plain": [
       "'p'"
      ]
     },
     "execution_count": 84,
     "metadata": {},
     "output_type": "execute_result"
    }
   ],
   "source": [
    "t1.tag"
   ]
  },
  {
   "cell_type": "code",
   "execution_count": 85,
   "id": "1923136c",
   "metadata": {},
   "outputs": [
    {
     "name": "stdout",
     "output_type": "stream",
     "text": [
      "<p>"
     ]
    }
   ],
   "source": [
    "t1.__enter__()"
   ]
  },
  {
   "cell_type": "code",
   "execution_count": 86,
   "id": "2e30e628",
   "metadata": {},
   "outputs": [
    {
     "name": "stdout",
     "output_type": "stream",
     "text": [
      "<p>hello</p>"
     ]
    }
   ],
   "source": [
    "with Tag('p'):\n",
    "    print('hello',end='')"
   ]
  },
  {
   "cell_type": "code",
   "execution_count": 87,
   "id": "a7460221",
   "metadata": {},
   "outputs": [],
   "source": [
    "import decimal"
   ]
  },
  {
   "cell_type": "code",
   "execution_count": 92,
   "id": "d833f86b",
   "metadata": {},
   "outputs": [],
   "source": [
    "class Precision:\n",
    "    import decimal\n",
    "    \n",
    "    def __init__(self,prec):\n",
    "        self.prec = prec\n",
    "        self.default_prec = decimal.getcontext().prec\n",
    "    \n",
    "    def __enter__(self):\n",
    "        decimal.getcontext().prec = self.prec\n",
    "    \n",
    "    def __exit__(self,a,b,c):\n",
    "        decimal.getcontext().prec = self.default_prec"
   ]
  },
  {
   "cell_type": "code",
   "execution_count": 98,
   "id": "233260f1",
   "metadata": {},
   "outputs": [
    {
     "name": "stdout",
     "output_type": "stream",
     "text": [
      "0.33333333\n",
      "0.33\n"
     ]
    }
   ],
   "source": [
    "a=decimal.Decimal(1)\n",
    "b = decimal.Decimal(3)\n",
    "with Precision(8):\n",
    "    print(a/b)\n",
    "print(a/b)"
   ]
  },
  {
   "cell_type": "code",
   "execution_count": 1,
   "id": "cf94d292",
   "metadata": {},
   "outputs": [
    {
     "name": "stdout",
     "output_type": "stream",
     "text": [
      "[ 0.          3.14159265  6.28318531  9.42477796 12.56637061 15.70796327\n",
      " 18.84955592 21.99114858]\n"
     ]
    }
   ],
   "source": [
    "import numpy as np\n",
    "#np.set_printoptions(precision=8)\n",
    "print(np.pi * np.arange(8))"
   ]
  },
  {
   "cell_type": "code",
   "execution_count": 109,
   "id": "8529e3ab",
   "metadata": {},
   "outputs": [
    {
     "data": {
      "text/plain": [
       "8"
      ]
     },
     "execution_count": 109,
     "metadata": {},
     "output_type": "execute_result"
    }
   ],
   "source": [
    "np.get_printoptions()['precision']"
   ]
  },
  {
   "cell_type": "code",
   "execution_count": 36,
   "id": "80caac6d",
   "metadata": {},
   "outputs": [],
   "source": [
    "class Precision:\n",
    "    import numpy as np\n",
    "    \n",
    "    def __init__(self,prec):\n",
    "        self.prec = prec\n",
    "        self.default_prec = np.get_printoptions()['precision']\n",
    "    \n",
    "    def __enter__(self):\n",
    "        np.set_printoptions(precision=self.prec)\n",
    "    \n",
    "    def __exit__(self,a,b,c):\n",
    "        np.set_printoptions(precision=self.default_prec) "
   ]
  },
  {
   "cell_type": "code",
   "execution_count": 40,
   "id": "62852a48",
   "metadata": {},
   "outputs": [
    {
     "name": "stdout",
     "output_type": "stream",
     "text": [
      "[0.         3.14159265 6.28318531 9.42477796]\n",
      "-----------------\n",
      "[0.   3.14 6.28 9.42]\n",
      "-----------------\n",
      "[0.         3.14159265 6.28318531 9.42477796]\n"
     ]
    }
   ],
   "source": [
    "print(np.pi * np.arange(4))\n",
    "print('-----------------')\n",
    "##########\n",
    "with Precision(2):\n",
    "    print(np.pi * np.arange(4))\n",
    "##############\n",
    "print('-----------------')\n",
    "print(np.pi * np.arange(4))"
   ]
  },
  {
   "cell_type": "code",
   "execution_count": 124,
   "id": "3ffcadf9",
   "metadata": {},
   "outputs": [],
   "source": [
    "def dv(a, b) :\n",
    "    try:\n",
    "        return a/b\n",
    "    except ZeroDivisionError:\n",
    "        return ZeroDivisionError.message\n",
    "    "
   ]
  },
  {
   "cell_type": "code",
   "execution_count": 125,
   "id": "a62af3f8",
   "metadata": {},
   "outputs": [
    {
     "name": "stdout",
     "output_type": "stream",
     "text": [
      "Examples\n"
     ]
    }
   ],
   "source": [
    "print(\"Examples\")\n",
    "assert dv(4,2)==2"
   ]
  },
  {
   "cell_type": "code",
   "execution_count": 11,
   "id": "324e0283",
   "metadata": {},
   "outputs": [],
   "source": [
    "class Percision:\n",
    "    import numpy as np\n",
    "    \n",
    "    def __init__(self,precision):\n",
    "        self._precision = None\n",
    "        self.precision = precision\n",
    "    \n",
    "    @property\n",
    "    def precision(self):\n",
    "        return self._precision\n",
    "    \n",
    "    @precision.setter\n",
    "    def precision(self,precision):\n",
    "        self._precision = precision\n",
    "        \n",
    "    def __enter__(self):\n",
    "        \n",
    "    "
   ]
  },
  {
   "cell_type": "code",
   "execution_count": 12,
   "id": "8278c252",
   "metadata": {},
   "outputs": [],
   "source": [
    "pr1 = Percision(5)"
   ]
  },
  {
   "cell_type": "code",
   "execution_count": 13,
   "id": "baa23069",
   "metadata": {},
   "outputs": [
    {
     "name": "stdout",
     "output_type": "stream",
     "text": [
      "5\n"
     ]
    }
   ],
   "source": [
    "print(pr1.precision)"
   ]
  },
  {
   "cell_type": "code",
   "execution_count": 32,
   "id": "dff18ffa",
   "metadata": {},
   "outputs": [],
   "source": [
    "class Tag:\n",
    "    \n",
    "    def __init__(self,tag):\n",
    "        self.tag = tag\n",
    "    \n",
    "    def __enter__(self):\n",
    "        print(f'<{self.tag}>',end='')\n",
    "        \n",
    "    def __exit__(self,a,b,c):\n",
    "        print(f'</{self.tag}>',end='')\n",
    "    \n",
    "    "
   ]
  },
  {
   "cell_type": "code",
   "execution_count": 34,
   "id": "30e8d77b",
   "metadata": {},
   "outputs": [
    {
     "name": "stdout",
     "output_type": "stream",
     "text": [
      "<P>hello</P>"
     ]
    }
   ],
   "source": [
    "with Tag('P'):\n",
    "    print('hello',end='')"
   ]
  },
  {
   "cell_type": "code",
   "execution_count": 20,
   "id": "5444331a",
   "metadata": {},
   "outputs": [
    {
     "data": {
      "text/plain": [
       "5"
      ]
     },
     "execution_count": 20,
     "metadata": {},
     "output_type": "execute_result"
    }
   ],
   "source": [
    "with Tag"
   ]
  },
  {
   "cell_type": "code",
   "execution_count": 21,
   "id": "6204cc9d",
   "metadata": {},
   "outputs": [
    {
     "data": {
      "text/plain": [
       "51"
      ]
     },
     "execution_count": 21,
     "metadata": {},
     "output_type": "execute_result"
    }
   ],
   "source": [
    "sm1.a=51\n",
    "sm1.a"
   ]
  },
  {
   "cell_type": "code",
   "execution_count": null,
   "id": "6a0593d0",
   "metadata": {},
   "outputs": [],
   "source": []
  }
 ],
 "metadata": {
  "kernelspec": {
   "display_name": "Python 3 (ipykernel)",
   "language": "python",
   "name": "python3"
  },
  "language_info": {
   "codemirror_mode": {
    "name": "ipython",
    "version": 3
   },
   "file_extension": ".py",
   "mimetype": "text/x-python",
   "name": "python",
   "nbconvert_exporter": "python",
   "pygments_lexer": "ipython3",
   "version": "3.11.5"
  }
 },
 "nbformat": 4,
 "nbformat_minor": 5
}
