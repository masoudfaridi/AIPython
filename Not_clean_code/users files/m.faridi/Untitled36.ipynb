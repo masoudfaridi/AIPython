{
 "cells": [
  {
   "cell_type": "code",
   "execution_count": 10,
   "id": "e27d7aae",
   "metadata": {},
   "outputs": [
    {
     "name": "stdout",
     "output_type": "stream",
     "text": [
      "The content of the File_1\n"
     ]
    }
   ],
   "source": [
    "file_path = \"File_1.txt\"\n",
    "mode='r'\n",
    "file = open(file_path, mode)\n",
    "content = file.read()\n",
    "print(content)    "
   ]
  },
  {
   "cell_type": "code",
   "execution_count": 47,
   "id": "0c9c5025",
   "metadata": {},
   "outputs": [],
   "source": [
    "class FileHandler:\n",
    "\n",
    "    def __init__(self, file_path, mode):\n",
    "        self.file_path = file_path\n",
    "        self.mode = mode\n",
    "        self.file = None\n",
    "\n",
    "    def __enter__(self):\n",
    "        try:\n",
    "            self.file = open(self.file_path, self.mode)\n",
    "            return self.file\n",
    "        except (FileNotFoundError, PermissionError) as e:\n",
    "            print(f'Error exception: {e}')\n",
    "            return None\n",
    "\n",
    "    def __exit__(self, exc_type, exc_value, exc_tb):\n",
    "        if self.file:\n",
    "            self.file.close()\n",
    "        if exc_type is None:\n",
    "            print('exited normally\\n')\n",
    "        else:\n",
    "            print('exception type! ' + str(exc_type))\n",
    "            print(f'exception value:{str(exc_value)}')\n",
    "            print(f'exception traceback:{str(exc_tb)}')\n",
    "            return False  "
   ]
  },
  {
   "cell_type": "code",
   "execution_count": 49,
   "id": "f0bd52d4",
   "metadata": {},
   "outputs": [
    {
     "name": "stdout",
     "output_type": "stream",
     "text": [
      "The content of the File_1\n",
      "exited normally\n",
      "\n"
     ]
    }
   ],
   "source": [
    "file_path = \"File_1.txt\"\n",
    "with FileHandler(file_path, 'r') as file:\n",
    "    if file:\n",
    "        content = file.read()\n",
    "        print(content)\n",
    "        "
   ]
  },
  {
   "cell_type": "code",
   "execution_count": 53,
   "id": "1266dd4f",
   "metadata": {},
   "outputs": [
    {
     "name": "stdout",
     "output_type": "stream",
     "text": [
      "Error exception: [Errno 2] No such file or directory: 'File_does_not_exist.txt'\n",
      "exited normally\n",
      "\n"
     ]
    }
   ],
   "source": [
    "file_path = \"File_does_not_exist.txt\"\n",
    "with FileHandler(file_path, 'r') as file:\n",
    "    if file:\n",
    "        content = file.read()\n",
    "        print(content)"
   ]
  },
  {
   "cell_type": "code",
   "execution_count": null,
   "id": "029b7e2e",
   "metadata": {},
   "outputs": [],
   "source": [
    "file_path = \"File_does_not_exist.txt\"\n",
    "FH = FileHandler(file_path, 'r')\n",
    "with FH:\n",
    "    if FH.file:\n",
    "        content = FH.file.read()\n",
    "        print(content)"
   ]
  },
  {
   "cell_type": "code",
   "execution_count": 22,
   "id": "6dbed839",
   "metadata": {},
   "outputs": [
    {
     "name": "stdout",
     "output_type": "stream",
     "text": [
      "The content of the File_1\n",
      "exited normally\n",
      "\n"
     ]
    }
   ],
   "source": [
    "file_path = \"File_1.txt\"\n",
    "FH = FileHandler(file_path, 'r')\n",
    "with FH:\n",
    "    if FH.file:\n",
    "        content = FH.file.read()\n",
    "        print(content)"
   ]
  },
  {
   "cell_type": "code",
   "execution_count": 26,
   "id": "07e6f670",
   "metadata": {},
   "outputs": [],
   "source": [
    "class File(object):\n",
    "    def __init__(self, file_name, method):\n",
    "        self.file_obj = open(file_name, method)\n",
    "    def __enter__(self):\n",
    "        return self\n",
    "    def __exit__(self, type, value, traceback):\n",
    "        print(\"Exception has been handled\")\n",
    "        self.file_obj.close()\n",
    "        return True\n",
    "\n",
    "\n"
   ]
  },
  {
   "cell_type": "code",
   "execution_count": 37,
   "id": "8fd10a8b",
   "metadata": {},
   "outputs": [
    {
     "ename": "FileNotFoundError",
     "evalue": "[Errno 2] No such file or directory: 'File_10.txt'",
     "output_type": "error",
     "traceback": [
      "\u001b[1;31m---------------------------------------------------------------------------\u001b[0m",
      "\u001b[1;31mFileNotFoundError\u001b[0m                         Traceback (most recent call last)",
      "Cell \u001b[1;32mIn[37], line 1\u001b[0m\n\u001b[1;32m----> 1\u001b[0m \u001b[38;5;28;01mwith\u001b[39;00m File(\u001b[38;5;124m'\u001b[39m\u001b[38;5;124mFile_10.txt\u001b[39m\u001b[38;5;124m'\u001b[39m, \u001b[38;5;124m'\u001b[39m\u001b[38;5;124mr\u001b[39m\u001b[38;5;124m'\u001b[39m) \u001b[38;5;28;01mas\u001b[39;00m file:\n\u001b[0;32m      2\u001b[0m     \u001b[38;5;28;01mif\u001b[39;00m file:\n\u001b[0;32m      3\u001b[0m         content\u001b[38;5;241m=\u001b[39mfile\u001b[38;5;241m.\u001b[39mfile_obj\u001b[38;5;241m.\u001b[39mread()\n",
      "Cell \u001b[1;32mIn[26], line 3\u001b[0m, in \u001b[0;36mFile.__init__\u001b[1;34m(self, file_name, method)\u001b[0m\n\u001b[0;32m      2\u001b[0m \u001b[38;5;28;01mdef\u001b[39;00m \u001b[38;5;21m__init__\u001b[39m(\u001b[38;5;28mself\u001b[39m, file_name, method):\n\u001b[1;32m----> 3\u001b[0m     \u001b[38;5;28mself\u001b[39m\u001b[38;5;241m.\u001b[39mfile_obj \u001b[38;5;241m=\u001b[39m \u001b[38;5;28mopen\u001b[39m(file_name, method)\n",
      "File \u001b[1;32mC:\\ProgramData\\anaconda3\\Lib\\site-packages\\IPython\\core\\interactiveshell.py:286\u001b[0m, in \u001b[0;36m_modified_open\u001b[1;34m(file, *args, **kwargs)\u001b[0m\n\u001b[0;32m    279\u001b[0m \u001b[38;5;28;01mif\u001b[39;00m file \u001b[38;5;129;01min\u001b[39;00m {\u001b[38;5;241m0\u001b[39m, \u001b[38;5;241m1\u001b[39m, \u001b[38;5;241m2\u001b[39m}:\n\u001b[0;32m    280\u001b[0m     \u001b[38;5;28;01mraise\u001b[39;00m \u001b[38;5;167;01mValueError\u001b[39;00m(\n\u001b[0;32m    281\u001b[0m         \u001b[38;5;124mf\u001b[39m\u001b[38;5;124m\"\u001b[39m\u001b[38;5;124mIPython won\u001b[39m\u001b[38;5;124m'\u001b[39m\u001b[38;5;124mt let you open fd=\u001b[39m\u001b[38;5;132;01m{\u001b[39;00mfile\u001b[38;5;132;01m}\u001b[39;00m\u001b[38;5;124m by default \u001b[39m\u001b[38;5;124m\"\u001b[39m\n\u001b[0;32m    282\u001b[0m         \u001b[38;5;124m\"\u001b[39m\u001b[38;5;124mas it is likely to crash IPython. If you know what you are doing, \u001b[39m\u001b[38;5;124m\"\u001b[39m\n\u001b[0;32m    283\u001b[0m         \u001b[38;5;124m\"\u001b[39m\u001b[38;5;124myou can use builtins\u001b[39m\u001b[38;5;124m'\u001b[39m\u001b[38;5;124m open.\u001b[39m\u001b[38;5;124m\"\u001b[39m\n\u001b[0;32m    284\u001b[0m     )\n\u001b[1;32m--> 286\u001b[0m \u001b[38;5;28;01mreturn\u001b[39;00m io_open(file, \u001b[38;5;241m*\u001b[39margs, \u001b[38;5;241m*\u001b[39m\u001b[38;5;241m*\u001b[39mkwargs)\n",
      "\u001b[1;31mFileNotFoundError\u001b[0m: [Errno 2] No such file or directory: 'File_10.txt'"
     ]
    }
   ],
   "source": [
    "with File('File_10.txt', 'r') as file:\n",
    "    if file:\n",
    "        content=file.file_obj.read()\n",
    "        print(content)"
   ]
  },
  {
   "cell_type": "code",
   "execution_count": null,
   "id": "c2084fa3",
   "metadata": {},
   "outputs": [],
   "source": []
  }
 ],
 "metadata": {
  "kernelspec": {
   "display_name": "Python 3 (ipykernel)",
   "language": "python",
   "name": "python3"
  },
  "language_info": {
   "codemirror_mode": {
    "name": "ipython",
    "version": 3
   },
   "file_extension": ".py",
   "mimetype": "text/x-python",
   "name": "python",
   "nbconvert_exporter": "python",
   "pygments_lexer": "ipython3",
   "version": "3.11.5"
  }
 },
 "nbformat": 4,
 "nbformat_minor": 5
}
