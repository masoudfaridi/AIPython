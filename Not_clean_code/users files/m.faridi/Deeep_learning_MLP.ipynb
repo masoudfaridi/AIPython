{
 "cells": [
  {
   "cell_type": "code",
   "execution_count": 22,
   "id": "1cbfa49c",
   "metadata": {},
   "outputs": [],
   "source": [
    "import tensorflow\n",
    "from tensorflow.keras.datasets import mnist\n",
    "from tensorflow.keras.models import Sequential\n",
    "from tensorflow.keras.layers import Dense\n",
    "from tensorflow.keras.utils import to_categorical\n",
    "from tensorflow.keras.layers import Dense, Activation, Dropout"
   ]
  },
  {
   "cell_type": "code",
   "execution_count": 23,
   "id": "1c81de54",
   "metadata": {},
   "outputs": [],
   "source": [
    "from ISLP import load_data\n",
    "import numpy as np\n",
    "import siuba\n",
    "from siuba import _, if_else, select, mutate\n",
    "from ISLP.models import (ModelSpec as MS,summarize)\n",
    "from ISLP import confusion_table\n",
    "import pandas as pd"
   ]
  },
  {
   "cell_type": "code",
   "execution_count": 24,
   "id": "abeb8782",
   "metadata": {},
   "outputs": [],
   "source": [
    "smarket = load_data('Smarket')"
   ]
  },
  {
   "cell_type": "code",
   "execution_count": 25,
   "id": "80de5de5",
   "metadata": {},
   "outputs": [],
   "source": [
    "smarket2=(\n",
    "    smarket >>\n",
    "    #mutate(Direction = if_else(_.Direction == 'Up',1,0)) >>\n",
    "    mutate(train = if_else(_.Year < 2005,1,0) ) >>\n",
    "    select(~_.Year,~_.Today)\n",
    "\n",
    ")\n",
    "train = (smarket2.train == 1)\n",
    "# print(smarket2.head())\n",
    "\n",
    "# print(design)\n",
    "\n",
    "X = (\n",
    "    smarket2 >>\n",
    "    select(~_.train,~_.Direction)\n",
    ")\n",
    "y = smarket2['Direction']  == 'Up'\n",
    "\n",
    "X_train, X_test = X.loc[train], X.loc[~train]\n",
    "Y_train, Y_test = y.loc[train], y.loc[~train]\n",
    "Y_test_raw =Y_test"
   ]
  },
  {
   "cell_type": "code",
   "execution_count": 26,
   "id": "8057d281",
   "metadata": {},
   "outputs": [
    {
     "data": {
      "text/plain": [
       "Index(['Lag1', 'Lag2', 'Lag3', 'Lag4', 'Lag5', 'Volume'], dtype='object')"
      ]
     },
     "execution_count": 26,
     "metadata": {},
     "output_type": "execute_result"
    }
   ],
   "source": [
    "X_train = (\n",
    "    X_train# >>    select(_.Lag1,_.Lag2)\n",
    "\n",
    ")\n",
    "X_test = (\n",
    "    X_test #>>    select(_.Lag1,_.Lag2)\n",
    "\n",
    ")\n",
    "X_train.columns"
   ]
  },
  {
   "cell_type": "code",
   "execution_count": 27,
   "id": "5b88b96c",
   "metadata": {},
   "outputs": [
    {
     "data": {
      "text/plain": [
       "998     False\n",
       "999     False\n",
       "1000    False\n",
       "1001     True\n",
       "1002    False\n",
       "        ...  \n",
       "1245     True\n",
       "1246    False\n",
       "1247     True\n",
       "1248    False\n",
       "1249    False\n",
       "Name: Direction, Length: 252, dtype: bool"
      ]
     },
     "execution_count": 27,
     "metadata": {},
     "output_type": "execute_result"
    }
   ],
   "source": [
    "Y_test"
   ]
  },
  {
   "cell_type": "code",
   "execution_count": 28,
   "id": "4dffd74f",
   "metadata": {},
   "outputs": [],
   "source": [
    "# X_train\n",
    "feature_vector_length = 6\n",
    "num_classes = 2"
   ]
  },
  {
   "cell_type": "code",
   "execution_count": 46,
   "id": "025dd474",
   "metadata": {},
   "outputs": [
    {
     "data": {
      "text/plain": [
       "array([[0., 1.],\n",
       "       [1., 0.],\n",
       "       [0., 1.]], dtype=float32)"
      ]
     },
     "execution_count": 46,
     "metadata": {},
     "output_type": "execute_result"
    }
   ],
   "source": [
    "to_categorical([1,0,1], 2)"
   ]
  },
  {
   "cell_type": "code",
   "execution_count": 29,
   "id": "21bd0232",
   "metadata": {},
   "outputs": [
    {
     "name": "stdout",
     "output_type": "stream",
     "text": [
      "Feature shape: (6,)\n"
     ]
    }
   ],
   "source": [
    "Y_train = to_categorical(Y_train, num_classes)\n",
    "Y_test = to_categorical(Y_test, num_classes)\n",
    "\n",
    "# Set the input shape\n",
    "input_shape = (feature_vector_length,)\n",
    "print(f'Feature shape: {input_shape}')\n",
    "\n",
    "# Create the model\n"
   ]
  },
  {
   "cell_type": "code",
   "execution_count": 51,
   "id": "a374984f",
   "metadata": {},
   "outputs": [
    {
     "name": "stdout",
     "output_type": "stream",
     "text": [
      "[1. 0.]\n"
     ]
    },
    {
     "data": {
      "text/plain": [
       "998     False\n",
       "999     False\n",
       "1000    False\n",
       "1001     True\n",
       "1002    False\n",
       "        ...  \n",
       "1245     True\n",
       "1246    False\n",
       "1247     True\n",
       "1248    False\n",
       "1249    False\n",
       "Name: Direction, Length: 252, dtype: bool"
      ]
     },
     "execution_count": 51,
     "metadata": {},
     "output_type": "execute_result"
    }
   ],
   "source": [
    "print(Y_test[:])\n",
    "y.loc[~train]"
   ]
  },
  {
   "cell_type": "code",
   "execution_count": 31,
   "id": "90fd1c69",
   "metadata": {},
   "outputs": [],
   "source": [
    "batch_size = 250\n",
    "hidden_units = 2\n",
    "dropout = 0.45"
   ]
  },
  {
   "cell_type": "code",
   "execution_count": 32,
   "id": "aaab1f98",
   "metadata": {},
   "outputs": [],
   "source": [
    "# best model\n",
    "model = Sequential()\n",
    "model.add(Dense(256, input_shape=input_shape, activation='relu'))\n",
    "model.add(Dropout(dropout))\n",
    "model.add(Dense(64, activation='relu'))\n",
    "model.add(Dropout(dropout))\n",
    "model.add(Dense(num_classes, activation='softmax'))\n",
    "#Test results - Loss: 0.6916869282722473 - Accuracy: 0.5357142686843872%"
   ]
  },
  {
   "cell_type": "code",
   "execution_count": 33,
   "id": "44d66ac3",
   "metadata": {},
   "outputs": [],
   "source": [
    "# best model\n",
    "model = Sequential()\n",
    "model.add(Dense(64, input_shape=input_shape, activation='relu'))\n",
    "model.add(Dense(256, input_shape=input_shape, activation='relu'))\n",
    "model.add(Dense(64, input_shape=input_shape, activation='relu'))\n",
    "model.add(Dense(16, activation='relu'))\n",
    "\n",
    "model.add(Dense(num_classes, activation='softmax'))\n",
    "#Test results - Loss: 0.7014935612678528 - Accuracy: 0.5595238208770752%"
   ]
  },
  {
   "cell_type": "code",
   "execution_count": 34,
   "id": "121e6501",
   "metadata": {},
   "outputs": [
    {
     "name": "stdout",
     "output_type": "stream",
     "text": [
      "Epoch 1/15\n",
      "4/4 [==============================] - 1s 94ms/step - loss: 0.6970 - accuracy: 0.4699 - val_loss: 0.6930 - val_accuracy: 0.5200\n",
      "Epoch 2/15\n",
      "4/4 [==============================] - 0s 13ms/step - loss: 0.6907 - accuracy: 0.5401 - val_loss: 0.7000 - val_accuracy: 0.4450\n",
      "Epoch 3/15\n",
      "4/4 [==============================] - 0s 11ms/step - loss: 0.6887 - accuracy: 0.5363 - val_loss: 0.6991 - val_accuracy: 0.4700\n",
      "Epoch 4/15\n",
      "4/4 [==============================] - 0s 12ms/step - loss: 0.6839 - accuracy: 0.5664 - val_loss: 0.6963 - val_accuracy: 0.4500\n",
      "Epoch 5/15\n",
      "4/4 [==============================] - 0s 11ms/step - loss: 0.6805 - accuracy: 0.5877 - val_loss: 0.6948 - val_accuracy: 0.4800\n",
      "Epoch 6/15\n",
      "4/4 [==============================] - 0s 12ms/step - loss: 0.6780 - accuracy: 0.5627 - val_loss: 0.6961 - val_accuracy: 0.4850\n",
      "Epoch 7/15\n",
      "4/4 [==============================] - 0s 11ms/step - loss: 0.6751 - accuracy: 0.5739 - val_loss: 0.7013 - val_accuracy: 0.4850\n",
      "Epoch 8/15\n",
      "4/4 [==============================] - 0s 15ms/step - loss: 0.6721 - accuracy: 0.5802 - val_loss: 0.7000 - val_accuracy: 0.4850\n",
      "Epoch 9/15\n",
      "4/4 [==============================] - 0s 11ms/step - loss: 0.6693 - accuracy: 0.5802 - val_loss: 0.6997 - val_accuracy: 0.4750\n",
      "Epoch 10/15\n",
      "4/4 [==============================] - 0s 12ms/step - loss: 0.6671 - accuracy: 0.5815 - val_loss: 0.7026 - val_accuracy: 0.4800\n",
      "Epoch 11/15\n",
      "4/4 [==============================] - 0s 11ms/step - loss: 0.6630 - accuracy: 0.6003 - val_loss: 0.6997 - val_accuracy: 0.4850\n",
      "Epoch 12/15\n",
      "4/4 [==============================] - 0s 15ms/step - loss: 0.6605 - accuracy: 0.6228 - val_loss: 0.7031 - val_accuracy: 0.5000\n",
      "Epoch 13/15\n",
      "4/4 [==============================] - 0s 10ms/step - loss: 0.6571 - accuracy: 0.6266 - val_loss: 0.7051 - val_accuracy: 0.5100\n",
      "Epoch 14/15\n",
      "4/4 [==============================] - 0s 16ms/step - loss: 0.6546 - accuracy: 0.6366 - val_loss: 0.7010 - val_accuracy: 0.5050\n",
      "Epoch 15/15\n",
      "4/4 [==============================] - 0s 12ms/step - loss: 0.6549 - accuracy: 0.6153 - val_loss: 0.6976 - val_accuracy: 0.5050\n",
      "8/8 [==============================] - 0s 3ms/step - loss: 0.6899 - accuracy: 0.5397\n",
      "Test results - Loss: 0.6898758411407471 - Accuracy: 0.5396825671195984%\n"
     ]
    }
   ],
   "source": [
    "model.compile(loss='categorical_crossentropy', optimizer='adam', metrics=['accuracy'])\n",
    "model.fit(X_train, Y_train, epochs=15, batch_size=batch_size, verbose=1, validation_split=0.2)\n",
    "\n",
    "# Test the model after training\n",
    "test_results = model.evaluate(X_test, Y_test, verbose=1)\n",
    "print(f'Test results - Loss: {test_results[0]} - Accuracy: {test_results[1]}%')"
   ]
  },
  {
   "cell_type": "code",
   "execution_count": 35,
   "id": "64e8118c",
   "metadata": {},
   "outputs": [
    {
     "data": {
      "text/plain": [
       "[0.6898758411407471, 0.5396825671195984]"
      ]
     },
     "execution_count": 35,
     "metadata": {},
     "output_type": "execute_result"
    }
   ],
   "source": [
    "test_results"
   ]
  },
  {
   "cell_type": "code",
   "execution_count": 36,
   "id": "5ff3e5f8",
   "metadata": {},
   "outputs": [
    {
     "name": "stdout",
     "output_type": "stream",
     "text": [
      "8/8 [==============================] - 0s 3ms/step\n"
     ]
    },
    {
     "data": {
      "text/plain": [
       "array([1, 1, 1, 1, 0, 1, 1, 1, 1, 1, 1, 0, 1, 1, 1, 1, 1, 1, 1, 1, 0, 0,\n",
       "       0, 1, 0, 0, 1, 1, 0, 0, 0, 0, 1, 1, 1, 1, 1, 1, 1, 0, 0, 1, 1, 0,\n",
       "       0, 1, 1, 0, 1, 1, 0, 1, 1, 1, 1, 1, 1, 1, 1, 1, 0, 0, 1, 0, 0, 0,\n",
       "       0, 1, 1, 0, 1, 1, 1, 1, 1, 1, 1, 0, 1, 0, 1, 1, 1, 0, 1, 0, 1, 1,\n",
       "       0, 1, 0, 1, 1, 1, 0, 0, 0, 1, 0, 1, 1, 0, 0, 1, 0, 0, 1, 0, 1, 1,\n",
       "       0, 1, 1, 0, 0, 0, 0, 1, 1, 1, 1, 1, 1, 0, 1, 1, 0, 0, 1, 0, 0, 0,\n",
       "       0, 1, 1, 1, 1, 0, 0, 1, 0, 1, 1, 0, 0, 1, 0, 0, 0, 1, 1, 1, 0, 1,\n",
       "       0, 1, 1, 1, 1, 1, 1, 1, 1, 1, 0, 1, 1, 0, 0, 0, 1, 0, 0, 1, 0, 1,\n",
       "       1, 1, 1, 0, 1, 1, 1, 1, 1, 1, 0, 0, 0, 0, 1, 1, 1, 1, 1, 1, 1, 1,\n",
       "       1, 0, 0, 1, 0, 1, 1, 1, 0, 0, 1, 0, 0, 1, 0, 0, 1, 0, 1, 0, 0, 0,\n",
       "       1, 1, 1, 0, 0, 0, 0, 0, 0, 1, 1, 1, 0, 0, 1, 0, 1, 1, 0, 0, 0, 0,\n",
       "       1, 1, 1, 1, 0, 0, 0, 1, 0, 1], dtype=int64)"
      ]
     },
     "execution_count": 36,
     "metadata": {},
     "output_type": "execute_result"
    }
   ],
   "source": [
    "test_pred_raw = model.predict(X_test)\n",
    "test_pred = np.argmax(test_pred_raw, axis=1)\n",
    "test_pred\n"
   ]
  },
  {
   "cell_type": "code",
   "execution_count": 41,
   "id": "7c7cac97",
   "metadata": {},
   "outputs": [
    {
     "data": {
      "text/html": [
       "<div>\n",
       "<style scoped>\n",
       "    .dataframe tbody tr th:only-of-type {\n",
       "        vertical-align: middle;\n",
       "    }\n",
       "\n",
       "    .dataframe tbody tr th {\n",
       "        vertical-align: top;\n",
       "    }\n",
       "\n",
       "    .dataframe thead th {\n",
       "        text-align: right;\n",
       "    }\n",
       "</style>\n",
       "<table border=\"1\" class=\"dataframe\">\n",
       "  <thead>\n",
       "    <tr style=\"text-align: right;\">\n",
       "      <th></th>\n",
       "      <th>pred</th>\n",
       "      <th>y</th>\n",
       "    </tr>\n",
       "  </thead>\n",
       "  <tbody>\n",
       "    <tr>\n",
       "      <th>0</th>\n",
       "      <td>1</td>\n",
       "      <td>1</td>\n",
       "    </tr>\n",
       "    <tr>\n",
       "      <th>1</th>\n",
       "      <td>1</td>\n",
       "      <td>1</td>\n",
       "    </tr>\n",
       "    <tr>\n",
       "      <th>2</th>\n",
       "      <td>1</td>\n",
       "      <td>0</td>\n",
       "    </tr>\n",
       "    <tr>\n",
       "      <th>3</th>\n",
       "      <td>1</td>\n",
       "      <td>1</td>\n",
       "    </tr>\n",
       "    <tr>\n",
       "      <th>4</th>\n",
       "      <td>0</td>\n",
       "      <td>1</td>\n",
       "    </tr>\n",
       "  </tbody>\n",
       "</table>\n",
       "</div>"
      ],
      "text/plain": [
       "   pred  y\n",
       "0     1  1\n",
       "1     1  1\n",
       "2     1  0\n",
       "3     1  1\n",
       "4     0  1"
      ]
     },
     "execution_count": 41,
     "metadata": {},
     "output_type": "execute_result"
    }
   ],
   "source": [
    "# print(np.array(Y_test))\n",
    "# print(test_pred)\n",
    "# print(len(np.array(Y_test)))\n",
    "# print(len(test_pred))\n",
    "df1 = pd.DataFrame(\n",
    "   \n",
    "    {'pred':  test_pred}\n",
    "    \n",
    ")\n",
    "\n",
    "df2 = (df1 >>\n",
    "       mutate(y=np.array(y.loc[~train])) >>\n",
    "       mutate(y=if_else(y,1,0))\n",
    ")\n",
    "\n",
    "df2.head()\n"
   ]
  },
  {
   "cell_type": "code",
   "execution_count": 42,
   "id": "72605c13",
   "metadata": {},
   "outputs": [
    {
     "name": "stdout",
     "output_type": "stream",
     "text": [
      "Truth       0   1\n",
      "Predicted        \n",
      "0          49  54\n",
      "1          62  87\n"
     ]
    }
   ],
   "source": [
    "ct = confusion_table(test_pred, Y_test_raw)\n",
    "print(ct)"
   ]
  },
  {
   "cell_type": "code",
   "execution_count": 43,
   "id": "ff3c7944",
   "metadata": {},
   "outputs": [
    {
     "data": {
      "text/plain": [
       "pandas.core.frame.DataFrame"
      ]
     },
     "execution_count": 43,
     "metadata": {},
     "output_type": "execute_result"
    }
   ],
   "source": [
    "type(ct)"
   ]
  },
  {
   "cell_type": "code",
   "execution_count": 44,
   "id": "6a5ecfa7",
   "metadata": {},
   "outputs": [
    {
     "data": {
      "text/html": [
       "<div>\n",
       "<style scoped>\n",
       "    .dataframe tbody tr th:only-of-type {\n",
       "        vertical-align: middle;\n",
       "    }\n",
       "\n",
       "    .dataframe tbody tr th {\n",
       "        vertical-align: top;\n",
       "    }\n",
       "\n",
       "    .dataframe thead th {\n",
       "        text-align: right;\n",
       "    }\n",
       "</style>\n",
       "<table border=\"1\" class=\"dataframe\">\n",
       "  <thead>\n",
       "    <tr style=\"text-align: right;\">\n",
       "      <th></th>\n",
       "      <th>Accuracy</th>\n",
       "      <th>Precision</th>\n",
       "      <th>Recall</th>\n",
       "      <th>F_score</th>\n",
       "    </tr>\n",
       "  </thead>\n",
       "  <tbody>\n",
       "    <tr>\n",
       "      <th>0</th>\n",
       "      <td>0.539683</td>\n",
       "      <td>0.583893</td>\n",
       "      <td>0.617021</td>\n",
       "      <td>0.3</td>\n",
       "    </tr>\n",
       "  </tbody>\n",
       "</table>\n",
       "</div>"
      ],
      "text/plain": [
       "   Accuracy  Precision    Recall  F_score\n",
       "0  0.539683   0.583893  0.617021      0.3"
      ]
     },
     "execution_count": 44,
     "metadata": {},
     "output_type": "execute_result"
    }
   ],
   "source": [
    "TN = ct.iloc[0,0]\n",
    "TP = ct.iloc[1,1]\n",
    "FN = ct.iloc[0,1]\n",
    "FP = ct.iloc[1,0]\n",
    "Accuracy = (TP + TN) /(TN+TP+FN+FP)\n",
    "Recall = TP /(TP+FN)\n",
    "Precision = TP/(TP+FP)\n",
    "F_score = Recall*Precision/(Recall +Precision)\n",
    "df_r = pd.DataFrame(\n",
    " {'Accuracy': [Accuracy]\n",
    "  ,  'Precision':[Precision],   'Recall':[Recall],    'F_score':[F_score]\n",
    " }\n",
    ")\n",
    "df_r"
   ]
  },
  {
   "cell_type": "code",
   "execution_count": null,
   "id": "e20dfd01",
   "metadata": {},
   "outputs": [],
   "source": []
  }
 ],
 "metadata": {
  "kernelspec": {
   "display_name": "Python 3 (ipykernel)",
   "language": "python",
   "name": "python3"
  },
  "language_info": {
   "codemirror_mode": {
    "name": "ipython",
    "version": 3
   },
   "file_extension": ".py",
   "mimetype": "text/x-python",
   "name": "python",
   "nbconvert_exporter": "python",
   "pygments_lexer": "ipython3",
   "version": "3.10.9"
  }
 },
 "nbformat": 4,
 "nbformat_minor": 5
}
