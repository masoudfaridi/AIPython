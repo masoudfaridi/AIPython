{
 "cells": [
  {
   "cell_type": "code",
   "execution_count": 1,
   "id": "c11b1fa4",
   "metadata": {},
   "outputs": [],
   "source": [
    "import collections\n",
    "Card = collections.namedtuple('Card', ['rank', 'suit'])\n",
    "class FrenchDeck:\n",
    "    ranks = [str(n) for n in range(2, 11)] + list('JQKA')\n",
    "    suits = 'spades diamonds clubs hearts'.split()\n",
    "    def __init__(self):\n",
    "        self._cards = [Card(rank, suit) for suit in self.suits for rank in self.ranks]\n",
    "    def __len__(self):\n",
    "        return len(self._cards)\n",
    "    def __getitem__(self, position):\n",
    "        return self._cards[position]"
   ]
  },
  {
   "cell_type": "code",
   "execution_count": 7,
   "id": "6998df11",
   "metadata": {},
   "outputs": [
    {
     "data": {
      "text/plain": [
       "Card(rank='3', suit='spades')"
      ]
     },
     "execution_count": 7,
     "metadata": {},
     "output_type": "execute_result"
    }
   ],
   "source": [
    "frd = FrenchDeck()\n",
    "frd.__getitem__(1)"
   ]
  },
  {
   "cell_type": "code",
   "execution_count": 4,
   "id": "5f9c8572",
   "metadata": {},
   "outputs": [
    {
     "data": {
      "text/plain": [
       "52"
      ]
     },
     "execution_count": 4,
     "metadata": {},
     "output_type": "execute_result"
    }
   ],
   "source": [
    "frd.__len__()"
   ]
  },
  {
   "cell_type": "code",
   "execution_count": 16,
   "id": "b262eb7c",
   "metadata": {},
   "outputs": [
    {
     "data": {
      "text/plain": [
       "['spades', 'diamonds', 'clubs', 'hearts']"
      ]
     },
     "execution_count": 16,
     "metadata": {},
     "output_type": "execute_result"
    }
   ],
   "source": [
    "'spades diamonds clubs hearts'.split()"
   ]
  },
  {
   "cell_type": "code",
   "execution_count": 15,
   "id": "3e5b43ad",
   "metadata": {},
   "outputs": [
    {
     "data": {
      "text/plain": [
       "__main__.FrenchDeck"
      ]
     },
     "execution_count": 15,
     "metadata": {},
     "output_type": "execute_result"
    }
   ],
   "source": [
    "type(frd)"
   ]
  },
  {
   "cell_type": "code",
   "execution_count": 26,
   "id": "b35329c8",
   "metadata": {},
   "outputs": [],
   "source": [
    "import collections\n",
    "Card = collections.namedtuple('Card', ['rank', 'suit'])\n",
    "class FrenchDeck:\n",
    "    ranks = [str(n) for n in range(2, 11)] + list('JQKA')\n",
    "    suits = 'spades diamonds clubs hearts'.split()\n",
    "    def __init__(self):\n",
    "        self.cards = [Card(rank, suit) for suit in self.suits for rank in self.ranks]\n",
    "    def __len__(self):\n",
    "        return len(self.cards)\n",
    "    def __getitem__(self, position):\n",
    "        return self.cards[position]"
   ]
  },
  {
   "cell_type": "code",
   "execution_count": 27,
   "id": "bb36e5c6",
   "metadata": {},
   "outputs": [
    {
     "data": {
      "text/plain": [
       "Card(rank='2', suit='spades')"
      ]
     },
     "execution_count": 27,
     "metadata": {},
     "output_type": "execute_result"
    }
   ],
   "source": [
    "frd = FrenchDeck()\n",
    "frd.__getitem__(0)"
   ]
  },
  {
   "cell_type": "code",
   "execution_count": 28,
   "id": "c197cee3",
   "metadata": {},
   "outputs": [],
   "source": [
    "import collections"
   ]
  },
  {
   "cell_type": "code",
   "execution_count": 30,
   "id": "e7138c80",
   "metadata": {},
   "outputs": [],
   "source": [
    "from collections import namedtuple"
   ]
  },
  {
   "cell_type": "code",
   "execution_count": 31,
   "id": "9448ba84",
   "metadata": {},
   "outputs": [],
   "source": [
    "vector = namedtuple('vector',['x','y'])"
   ]
  },
  {
   "cell_type": "code",
   "execution_count": 52,
   "id": "64d82233",
   "metadata": {},
   "outputs": [],
   "source": [
    "v1 = vector(10,20)"
   ]
  },
  {
   "cell_type": "code",
   "execution_count": 53,
   "id": "5b67f317",
   "metadata": {},
   "outputs": [
    {
     "data": {
      "text/plain": [
       "vector(x=10, y=20)"
      ]
     },
     "execution_count": 53,
     "metadata": {},
     "output_type": "execute_result"
    }
   ],
   "source": [
    "v1"
   ]
  },
  {
   "cell_type": "code",
   "execution_count": 56,
   "id": "7b1645e6",
   "metadata": {},
   "outputs": [
    {
     "data": {
      "text/plain": [
       "1"
      ]
     },
     "execution_count": 56,
     "metadata": {},
     "output_type": "execute_result"
    }
   ],
   "source": [
    "v1.index(20)"
   ]
  },
  {
   "cell_type": "code",
   "execution_count": 57,
   "id": "3f68ae19",
   "metadata": {},
   "outputs": [
    {
     "data": {
      "text/plain": [
       "10"
      ]
     },
     "execution_count": 57,
     "metadata": {},
     "output_type": "execute_result"
    }
   ],
   "source": [
    "v1.x"
   ]
  },
  {
   "cell_type": "code",
   "execution_count": 63,
   "id": "a21679a5",
   "metadata": {},
   "outputs": [],
   "source": [
    "v1 = vector(v1.x,99)"
   ]
  },
  {
   "cell_type": "code",
   "execution_count": 64,
   "id": "e61802ff",
   "metadata": {},
   "outputs": [
    {
     "data": {
      "text/plain": [
       "vector(x=10, y=99)"
      ]
     },
     "execution_count": 64,
     "metadata": {},
     "output_type": "execute_result"
    }
   ],
   "source": [
    "v1"
   ]
  },
  {
   "cell_type": "code",
   "execution_count": 67,
   "id": "147f5123",
   "metadata": {},
   "outputs": [],
   "source": [
    "import math"
   ]
  },
  {
   "cell_type": "code",
   "execution_count": 74,
   "id": "0323904a",
   "metadata": {},
   "outputs": [],
   "source": [
    "vector = namedtuple('vector',['x','y'])\n",
    "vector.abs = lambda vector: math.sqrt(vector.x**2+vector.y**2)"
   ]
  },
  {
   "cell_type": "code",
   "execution_count": 75,
   "id": "0825013c",
   "metadata": {},
   "outputs": [],
   "source": [
    "v1 = vector(3,4)"
   ]
  },
  {
   "cell_type": "code",
   "execution_count": 77,
   "id": "f2b92e3a",
   "metadata": {},
   "outputs": [
    {
     "data": {
      "text/plain": [
       "5.0"
      ]
     },
     "execution_count": 77,
     "metadata": {},
     "output_type": "execute_result"
    }
   ],
   "source": [
    "v1.abs()"
   ]
  },
  {
   "cell_type": "code",
   "execution_count": null,
   "id": "d002da54",
   "metadata": {},
   "outputs": [],
   "source": []
  },
  {
   "cell_type": "code",
   "execution_count": null,
   "id": "dd1efb83",
   "metadata": {},
   "outputs": [],
   "source": []
  },
  {
   "cell_type": "code",
   "execution_count": null,
   "id": "23d230a9",
   "metadata": {},
   "outputs": [],
   "source": []
  },
  {
   "cell_type": "code",
   "execution_count": null,
   "id": "6dac947d",
   "metadata": {},
   "outputs": [],
   "source": []
  },
  {
   "cell_type": "code",
   "execution_count": null,
   "id": "d63abce3",
   "metadata": {},
   "outputs": [],
   "source": []
  },
  {
   "cell_type": "code",
   "execution_count": 78,
   "id": "39507f79",
   "metadata": {},
   "outputs": [],
   "source": [
    "from collections import namedtuple"
   ]
  },
  {
   "cell_type": "code",
   "execution_count": 97,
   "id": "8b2476fd",
   "metadata": {},
   "outputs": [
    {
     "data": {
      "text/plain": [
       "'vactor(x=9,y=12)'"
      ]
     },
     "execution_count": 97,
     "metadata": {},
     "output_type": "execute_result"
    }
   ],
   "source": [
    "vector_base = namedtuple('vector', ['x','y'])\n",
    "v1 = vector_base(3,4)\n",
    "v2 = vector_base(6,8)\n",
    "v1+v2"
   ]
  },
  {
   "cell_type": "code",
   "execution_count": 100,
   "id": "520cf629",
   "metadata": {},
   "outputs": [],
   "source": [
    "class vector():    \n",
    "    \n",
    "    def __init__(self,x=0,y=0):\n",
    "        self.x = x\n",
    "        self.y = y\n",
    "    def __str__(self):\n",
    "        return f'vactor(x={self.x}, y={self.y})'\n",
    "    def __repr__(self):\n",
    "        return f'vactor(x={self.x},y={self.y})'\n",
    "    def __add__(self,other):\n",
    "        x = self.x + other.x\n",
    "        y = self.y + other.y\n",
    "        return f'vactor(x={x},y={y})'\n",
    "        \n",
    "        \n",
    "        "
   ]
  },
  {
   "cell_type": "code",
   "execution_count": 105,
   "id": "844bc995",
   "metadata": {},
   "outputs": [],
   "source": [
    "class vector(vector_base):    \n",
    "    \n",
    "    \n",
    "    def __add__(self,other):\n",
    "        x = self.x + other.x\n",
    "        y = self.y + other.y\n",
    "        #return f'vactor(x={x},y={y})'\n",
    "        return vector_base(x,y)\n",
    "\n",
    "\n",
    "v1 = vector(3,4)"
   ]
  },
  {
   "cell_type": "code",
   "execution_count": 106,
   "id": "497b2b5a",
   "metadata": {},
   "outputs": [
    {
     "data": {
      "text/plain": [
       "vector(x=3, y=4)"
      ]
     },
     "execution_count": 106,
     "metadata": {},
     "output_type": "execute_result"
    }
   ],
   "source": [
    "v1"
   ]
  },
  {
   "cell_type": "code",
   "execution_count": 107,
   "id": "96703427",
   "metadata": {},
   "outputs": [],
   "source": [
    "v2 = vector(6,8)"
   ]
  },
  {
   "cell_type": "code",
   "execution_count": 108,
   "id": "e0d6aa84",
   "metadata": {},
   "outputs": [
    {
     "data": {
      "text/plain": [
       "vector(x=9, y=12)"
      ]
     },
     "execution_count": 108,
     "metadata": {},
     "output_type": "execute_result"
    }
   ],
   "source": [
    "v1+v2"
   ]
  },
  {
   "cell_type": "code",
   "execution_count": null,
   "id": "eb105570",
   "metadata": {},
   "outputs": [],
   "source": []
  },
  {
   "cell_type": "code",
   "execution_count": null,
   "id": "931082b7",
   "metadata": {},
   "outputs": [],
   "source": []
  },
  {
   "cell_type": "code",
   "execution_count": null,
   "id": "0d2f1116",
   "metadata": {},
   "outputs": [],
   "source": []
  },
  {
   "cell_type": "code",
   "execution_count": null,
   "id": "6660b650",
   "metadata": {},
   "outputs": [],
   "source": []
  },
  {
   "cell_type": "code",
   "execution_count": 109,
   "id": "517f7054",
   "metadata": {},
   "outputs": [],
   "source": [
    "from collections import namedtuple"
   ]
  },
  {
   "cell_type": "code",
   "execution_count": 110,
   "id": "7ff2cbf0",
   "metadata": {},
   "outputs": [],
   "source": [
    "vector_default = namedtuple('vector', ['x','y'])"
   ]
  },
  {
   "cell_type": "code",
   "execution_count": 115,
   "id": "7d3c2ac0",
   "metadata": {},
   "outputs": [
    {
     "data": {
      "text/plain": [
       "(3, 4, 6, 8)"
      ]
     },
     "execution_count": 115,
     "metadata": {},
     "output_type": "execute_result"
    }
   ],
   "source": [
    "v1 =  vector_default(3,4)\n",
    "v2 = vector_default(6,8)\n",
    "v1+v2"
   ]
  },
  {
   "cell_type": "code",
   "execution_count": 114,
   "id": "8d7b7159",
   "metadata": {},
   "outputs": [],
   "source": [
    "class vector(vector_default):\n",
    "    \n",
    "    def __add__(self,other):\n",
    "        return vector_default(self.x+other.x,self.y+other.y)\n",
    "    "
   ]
  },
  {
   "cell_type": "code",
   "execution_count": 116,
   "id": "67fa5411",
   "metadata": {},
   "outputs": [
    {
     "data": {
      "text/plain": [
       "vector(x=9, y=12)"
      ]
     },
     "execution_count": 116,
     "metadata": {},
     "output_type": "execute_result"
    }
   ],
   "source": [
    "v1 =  vector(3,4)\n",
    "v2 = vector(6,8)\n",
    "v1+v2"
   ]
  },
  {
   "cell_type": "code",
   "execution_count": 117,
   "id": "8d976c28",
   "metadata": {},
   "outputs": [],
   "source": [
    "import math "
   ]
  },
  {
   "cell_type": "code",
   "execution_count": 118,
   "id": "9b637de2",
   "metadata": {},
   "outputs": [],
   "source": [
    "vector.abs = lambda vector: math.sqrt(vector.x**2 + vector.y**2)"
   ]
  },
  {
   "cell_type": "code",
   "execution_count": 119,
   "id": "3dce6958",
   "metadata": {},
   "outputs": [
    {
     "name": "stdout",
     "output_type": "stream",
     "text": [
      "vector(x=9, y=12)\n"
     ]
    },
    {
     "data": {
      "text/plain": [
       "5.0"
      ]
     },
     "execution_count": 119,
     "metadata": {},
     "output_type": "execute_result"
    }
   ],
   "source": [
    "v1 =  vector(3,4)\n",
    "v2 = vector(6,8)\n",
    "print(v1+v2)\n",
    "v1.abs()"
   ]
  },
  {
   "cell_type": "code",
   "execution_count": null,
   "id": "6a81037d",
   "metadata": {},
   "outputs": [],
   "source": []
  },
  {
   "cell_type": "code",
   "execution_count": 120,
   "id": "d1bf2540",
   "metadata": {},
   "outputs": [],
   "source": [
    "from collections import namedtuple"
   ]
  },
  {
   "cell_type": "code",
   "execution_count": 123,
   "id": "198ca4da",
   "metadata": {},
   "outputs": [],
   "source": [
    "vector_default = namedtuple('vector',['x','y','z'])"
   ]
  },
  {
   "cell_type": "code",
   "execution_count": 126,
   "id": "214f8e51",
   "metadata": {},
   "outputs": [
    {
     "data": {
      "text/plain": [
       "(1, 1, 1, 2, 4, 6)"
      ]
     },
     "execution_count": 126,
     "metadata": {},
     "output_type": "execute_result"
    }
   ],
   "source": [
    "v1 = vector_default(1,1,1)\n",
    "v2 = vector_default(2,4,6)\n",
    "v1+v2"
   ]
  },
  {
   "cell_type": "code",
   "execution_count": 156,
   "id": "5be6d0f7",
   "metadata": {},
   "outputs": [],
   "source": [
    "class vector(vector_default):\n",
    "    def __add__(self,other):\n",
    "        return vector_default(self.x+other.x,self.y+other.y,self.z+other.z)\n",
    "    def __mul__(self,other):\n",
    "        if isinstance(other,vector) and isinstance(self,vector):\n",
    "            return vector_default(self.x*other.x,self.y*other.y,self.z*other.z)\n",
    "        else:\n",
    "            return 'not valid operation'"
   ]
  },
  {
   "cell_type": "code",
   "execution_count": 157,
   "id": "914d091a",
   "metadata": {},
   "outputs": [
    {
     "data": {
      "text/plain": [
       "vector(x=3, y=5, z=8)"
      ]
     },
     "execution_count": 157,
     "metadata": {},
     "output_type": "execute_result"
    }
   ],
   "source": [
    "v1 = vector(1,1,2)\n",
    "v2 = vector(2,4,6)\n",
    "v1+v2"
   ]
  },
  {
   "cell_type": "code",
   "execution_count": 158,
   "id": "4578295c",
   "metadata": {},
   "outputs": [
    {
     "data": {
      "text/plain": [
       "vector(x=2, y=4, z=12)"
      ]
     },
     "execution_count": 158,
     "metadata": {},
     "output_type": "execute_result"
    }
   ],
   "source": [
    "v1*v2"
   ]
  },
  {
   "cell_type": "code",
   "execution_count": 159,
   "id": "ac63a259",
   "metadata": {},
   "outputs": [
    {
     "data": {
      "text/plain": [
       "'not valid operation'"
      ]
     },
     "execution_count": 159,
     "metadata": {},
     "output_type": "execute_result"
    }
   ],
   "source": [
    "v1*2"
   ]
  },
  {
   "cell_type": "code",
   "execution_count": 160,
   "id": "62e382c0",
   "metadata": {},
   "outputs": [
    {
     "data": {
      "text/plain": [
       "(1, 1, 2, 1, 1, 2)"
      ]
     },
     "execution_count": 160,
     "metadata": {},
     "output_type": "execute_result"
    }
   ],
   "source": [
    "2*v1"
   ]
  },
  {
   "cell_type": "code",
   "execution_count": null,
   "id": "2058ff4f",
   "metadata": {},
   "outputs": [],
   "source": []
  }
 ],
 "metadata": {
  "kernelspec": {
   "display_name": "Python 3 (ipykernel)",
   "language": "python",
   "name": "python3"
  },
  "language_info": {
   "codemirror_mode": {
    "name": "ipython",
    "version": 3
   },
   "file_extension": ".py",
   "mimetype": "text/x-python",
   "name": "python",
   "nbconvert_exporter": "python",
   "pygments_lexer": "ipython3",
   "version": "3.10.9"
  }
 },
 "nbformat": 4,
 "nbformat_minor": 5
}
