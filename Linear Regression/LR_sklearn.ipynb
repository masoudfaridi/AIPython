{
 "cells": [
  {
   "cell_type": "markdown",
   "metadata": {},
   "source": [
    "# 3.6 Lab: Linear Regression"
   ]
  },
  {
   "cell_type": "markdown",
   "metadata": {},
   "source": [
    "source\n",
    "https://www.statsmodels.org/dev/generated/statsmodels.stats.stattools.durbin_watson.html\n",
    "\n",
    "https://www.accelebrate.com/blog/interpreting-results-from-linear-regression-is-the-data-appropriate#:~:text=Omnibus%2FProb(Omnibus)%20%E2%80%93,the%20residuals%20are%20normally%20distributed.\n",
    "\n",
    "https://www.accelebrate.com/blog/interpreting-results-from-linear-regression-is-the-data-appropriate#:~:text=Omnibus%2FProb(Omnibus)%20%E2%80%93,the%20residuals%20are%20normally%20distributed.\n",
    "\n",
    "https://www.statsmodels.org/dev/generated/statsmodels.stats.stattools.durbin_watson.html\n",
    "\n",
    "https://www.statsmodels.org/stable/examples/notebooks/generated/ols.html#Condition-number\n",
    "\n",
    "https://www.statsmodels.org/dev/examples/notebooks/generated/regression_plots.html\n",
    "\n",
    "https://docs.tigergraph.com/graph-ml/current/similarity-algorithms/#:~:text=Similarity%20algorithms%20assign%20a%20score,is%20the%20inverse%20of%20similarity.\n"
   ]
  },
  {
   "cell_type": "markdown",
   "metadata": {},
   "source": [
    "## 3.6.1 Libraries"
   ]
  },
  {
   "cell_type": "code",
   "execution_count": 33,
   "metadata": {},
   "outputs": [],
   "source": [
    "# in Python, module can be imported by a command similar to 'import numpy as np'. \n",
    "# it is a good practice to maintain a section at the beginning of the notebook to import all necessary modules.\n",
    "# for new module, could use pip to install it. \n",
    "# for example 'pip install numpy'\n",
    "# \\stackrel{}{}\n",
    "import numpy as np\n",
    "import matplotlib.pyplot as plt\n",
    "import pandas as pd \n",
    "import math\n",
    "import statsmodels\n",
    "import statsmodels.api as sm\n",
    "import statsmodels.formula.api as smf\n",
    "import statsmodels.stats.api as sms\n",
    "from statsmodels.stats.outliers_influence import variance_inflation_factor\n",
    "from statsmodels.graphics.regressionplots import *\n",
    "from sklearn import datasets, linear_model\n",
    "from patsy import dmatrices"
   ]
  },
  {
   "cell_type": "code",
   "execution_count": 34,
   "metadata": {},
   "outputs": [
    {
     "data": {
      "text/plain": [
       "pandas.core.frame.DataFrame"
      ]
     },
     "execution_count": 34,
     "metadata": {},
     "output_type": "execute_result"
    }
   ],
   "source": [
    "# since in Python, there is no default MASS module and Boston dataset, I will read in the Boston dataset from CSV. The data is in the ./data folder.\n",
    "Boston = pd.read_csv('data/Boston.csv', header=0)\n",
    "type(Boston)"
   ]
  },
  {
   "cell_type": "markdown",
   "metadata": {},
   "source": [
    "## 3.6.2 Simple Linear Regression\n",
    "\n",
    "$Y = \\beta_0 + \\beta_1 X + \\varepsilon$\n",
    "\n",
    "$\\varepsilon \\stackrel{i.i.d}{\\sim} \\mathrm{N}(0,1)$\n",
    "\n",
    "Here $\\beta_0$ is the intercept (mean of $Y$ when $X=0$) and $\\beta_1$ is the slope (the change in the mean of $Y$ when\n",
    "$X$ increases by 1 unit). Of primary concern is whether $\\beta_1 = 0$, which implies the mean of Y is constant ($\\beta_0$),\n",
    "and thus $Y$ and $X$ are not associated. It is convenient to view the regressor $X$ as controlled by the data analyst and\n",
    "measured with negligible error, while the response $Y$ is a random variable. That is,\n",
    "there is a probability distribution for $Y$ at each possible value for $X$. The mean of\n",
    "this distribution is\n",
    "\n",
    "$E(Y|X)=\\mu_{Y|X}=\\beta_0 + \\beta_1 X$\n",
    "\n",
    "and the variance is\n",
    "\n",
    "$\\mathrel{Var}(Y|X)=\\sigma^2_{Y|X}=\\sigma^2$"
   ]
  },
  {
   "cell_type": "markdown",
   "metadata": {},
   "source": [
    "![alt text](images_SL/conditional_mu.PNG \"Title\")"
   ]
  },
  {
   "cell_type": "markdown",
   "metadata": {},
   "source": [
    "## The major assumptions\n",
    "\n",
    "1. The relationship between the response y and the regressors x is linear, at least\n",
    "approximately.\n",
    "2. The error term $\\varepsilon$ has zero mean.\n",
    "3. The error term $\\varepsilon$ has constant variance $\\sigma^2$.\n",
    "4. The errors are uncorrelated.\n",
    "5. The errors are normally distributed."
   ]
  },
  {
   "cell_type": "markdown",
   "metadata": {},
   "source": [
    "Generally regression equations are valid only over the region of the regressor\n",
    "variables contained in the observed data.  Suppose\n",
    "that data on $y$ and $x$ were collected in the interval $x_1 \\leq x \\leq x_2$. Over this interval the linear regression equation shown in Figure 1.5 is a good approximation of the true\n",
    "relationship. However, suppose this equation were used to predict values of y for\n",
    "values of the regressor variable in the region $x_2 \\leq x \\leq x_3$ . Clearly the linear regression model is not going to perform well over this range of x because of model error\n",
    "or equation error. "
   ]
  },
  {
   "cell_type": "markdown",
   "metadata": {},
   "source": [
    "## Definition of Residuals\n",
    "\n",
    "$e_i = y_i -\\hat{y_i}= y_i - \\hat\\beta_0 -\\hat\\beta_1 x_i$"
   ]
  },
  {
   "cell_type": "code",
   "execution_count": 35,
   "metadata": {},
   "outputs": [],
   "source": [
    "# use the commands we learned in the previous chapeter to exame the data.\n",
    "#list(Boston) # or Boston.columns"
   ]
  },
  {
   "cell_type": "code",
   "execution_count": 36,
   "metadata": {},
   "outputs": [
    {
     "data": {
      "text/html": [
       "<div>\n",
       "<style scoped>\n",
       "    .dataframe tbody tr th:only-of-type {\n",
       "        vertical-align: middle;\n",
       "    }\n",
       "\n",
       "    .dataframe tbody tr th {\n",
       "        vertical-align: top;\n",
       "    }\n",
       "\n",
       "    .dataframe thead th {\n",
       "        text-align: right;\n",
       "    }\n",
       "</style>\n",
       "<table border=\"1\" class=\"dataframe\">\n",
       "  <thead>\n",
       "    <tr style=\"text-align: right;\">\n",
       "      <th></th>\n",
       "      <th>crim</th>\n",
       "      <th>zn</th>\n",
       "      <th>indus</th>\n",
       "      <th>chas</th>\n",
       "      <th>nox</th>\n",
       "      <th>rm</th>\n",
       "      <th>age</th>\n",
       "      <th>dis</th>\n",
       "      <th>rad</th>\n",
       "      <th>tax</th>\n",
       "      <th>ptratio</th>\n",
       "      <th>black</th>\n",
       "      <th>lstat</th>\n",
       "      <th>medv</th>\n",
       "    </tr>\n",
       "  </thead>\n",
       "  <tbody>\n",
       "    <tr>\n",
       "      <th>0</th>\n",
       "      <td>0.00632</td>\n",
       "      <td>18.0</td>\n",
       "      <td>2.31</td>\n",
       "      <td>0</td>\n",
       "      <td>0.538</td>\n",
       "      <td>6.575</td>\n",
       "      <td>65.2</td>\n",
       "      <td>4.0900</td>\n",
       "      <td>1</td>\n",
       "      <td>296</td>\n",
       "      <td>15.3</td>\n",
       "      <td>396.90</td>\n",
       "      <td>4.98</td>\n",
       "      <td>24.0</td>\n",
       "    </tr>\n",
       "    <tr>\n",
       "      <th>1</th>\n",
       "      <td>0.02731</td>\n",
       "      <td>0.0</td>\n",
       "      <td>7.07</td>\n",
       "      <td>0</td>\n",
       "      <td>0.469</td>\n",
       "      <td>6.421</td>\n",
       "      <td>78.9</td>\n",
       "      <td>4.9671</td>\n",
       "      <td>2</td>\n",
       "      <td>242</td>\n",
       "      <td>17.8</td>\n",
       "      <td>396.90</td>\n",
       "      <td>9.14</td>\n",
       "      <td>21.6</td>\n",
       "    </tr>\n",
       "    <tr>\n",
       "      <th>2</th>\n",
       "      <td>0.02729</td>\n",
       "      <td>0.0</td>\n",
       "      <td>7.07</td>\n",
       "      <td>0</td>\n",
       "      <td>0.469</td>\n",
       "      <td>7.185</td>\n",
       "      <td>61.1</td>\n",
       "      <td>4.9671</td>\n",
       "      <td>2</td>\n",
       "      <td>242</td>\n",
       "      <td>17.8</td>\n",
       "      <td>392.83</td>\n",
       "      <td>4.03</td>\n",
       "      <td>34.7</td>\n",
       "    </tr>\n",
       "  </tbody>\n",
       "</table>\n",
       "</div>"
      ],
      "text/plain": [
       "      crim    zn  indus  chas    nox     rm   age     dis  rad  tax  ptratio  \\\n",
       "0  0.00632  18.0   2.31     0  0.538  6.575  65.2  4.0900    1  296     15.3   \n",
       "1  0.02731   0.0   7.07     0  0.469  6.421  78.9  4.9671    2  242     17.8   \n",
       "2  0.02729   0.0   7.07     0  0.469  7.185  61.1  4.9671    2  242     17.8   \n",
       "\n",
       "    black  lstat  medv  \n",
       "0  396.90   4.98  24.0  \n",
       "1  396.90   9.14  21.6  \n",
       "2  392.83   4.03  34.7  "
      ]
     },
     "execution_count": 36,
     "metadata": {},
     "output_type": "execute_result"
    }
   ],
   "source": [
    "Boston.head(3)"
   ]
  },
  {
   "cell_type": "code",
   "execution_count": 37,
   "metadata": {},
   "outputs": [
    {
     "data": {
      "text/plain": [
       "(506, 14)"
      ]
     },
     "execution_count": 37,
     "metadata": {},
     "output_type": "execute_result"
    }
   ],
   "source": [
    "Boston.shape"
   ]
  },
  {
   "cell_type": "code",
   "execution_count": 38,
   "metadata": {},
   "outputs": [],
   "source": [
    "# to have similar formula notation as R, use the following import. \n",
    "# One thing to note is that the ' ' for the formula part in fitting step and the '.fit()' at the end.\n",
    "# import statsmodels.formula.api as smf, we would use smf to call the model. Of course, there are other ways to run linear regression in pythin, such as sklearn.\n",
    "lm = smf.ols ('medv~lstat', data = Boston).fit()"
   ]
  },
  {
   "cell_type": "markdown",
   "metadata": {},
   "source": [
    "lemma 1: a regression y ~ x is equivalent to y - mean(y) ~ x - mean(x)\n",
    "\n",
    "$y - \\bar{y} \\sim x - \\bar{x}$"
   ]
  },
  {
   "cell_type": "markdown",
   "metadata": {},
   "source": [
    "$\\sum e_i = \\sum \\hat{y_i}e_i =\\sum x_ie_i =0$\n",
    "\n",
    "$\\sum y_i = \\sum \\hat{y_i}$\n",
    "\n",
    "$\\bar{y} =  \\beta_0 + \\beta_1 \\bar{x}$\n",
    "\n",
    "$\\sum e_i^2 = \\sum (y_i - \\hat{y_i})^2=\\sum (y_i - \\beta_0 - \\beta_1 x_i)^2=\\sum (y_i - \\beta_0 - \\beta_1 x_i -(\\bar{y} -\\beta_0 - \\beta_1 \\bar{x} ))^2\n",
    "=\\sum ((y_i - \\bar{y}) - \\beta_1 (x_i - \\bar{x}))^2\n",
    "$\n",
    "\n",
    "The least - squares regression line always passes through the centroid [the point\n",
    "$(\\bar{x},\\bar{y})$] of the data. "
   ]
  },
  {
   "cell_type": "code",
   "execution_count": 39,
   "metadata": {},
   "outputs": [
    {
     "name": "stdout",
     "output_type": "stream",
     "text": [
      "                            OLS Regression Results                            \n",
      "==============================================================================\n",
      "Dep. Variable:                   medv   R-squared:                       0.544\n",
      "Model:                            OLS   Adj. R-squared:                  0.543\n",
      "Method:                 Least Squares   F-statistic:                     601.6\n",
      "Date:                Mon, 13 May 2024   Prob (F-statistic):           5.08e-88\n",
      "Time:                        14:37:33   Log-Likelihood:                -1641.5\n",
      "No. Observations:                 506   AIC:                             3287.\n",
      "Df Residuals:                     504   BIC:                             3295.\n",
      "Df Model:                           1                                         \n",
      "Covariance Type:            nonrobust                                         \n",
      "==============================================================================\n",
      "                 coef    std err          t      P>|t|      [0.025      0.975]\n",
      "------------------------------------------------------------------------------\n",
      "Intercept     34.5538      0.563     61.415      0.000      33.448      35.659\n",
      "lstat         -0.9500      0.039    -24.528      0.000      -1.026      -0.874\n",
      "==============================================================================\n",
      "Omnibus:                      137.043   Durbin-Watson:                   0.892\n",
      "Prob(Omnibus):                  0.000   Jarque-Bera (JB):              291.373\n",
      "Skew:                           1.453   Prob(JB):                     5.36e-64\n",
      "Kurtosis:                       5.319   Cond. No.                         29.7\n",
      "==============================================================================\n",
      "\n",
      "Notes:\n",
      "[1] Standard Errors assume that the covariance matrix of the errors is correctly specified.\n"
     ]
    }
   ],
   "source": [
    "print(lm.summary())"
   ]
  },
  {
   "cell_type": "markdown",
   "metadata": {},
   "source": [
    "$Y = \\beta_0 + \\beta_1 X + \\varepsilon$\n",
    "\n",
    "$\\hat{\\beta_1}=\\frac{\\sum xy- n \\bar{x}\\bar{y}}{\\sum x^2 -n\\bar{x}^2}=lstat=-0.9500$\n",
    "\n",
    "$\\hat{\\beta_0}=\\bar{y}-\\beta_1 \\bar{x}=Intercept=34.5538$"
   ]
  },
  {
   "cell_type": "code",
   "execution_count": 40,
   "metadata": {},
   "outputs": [
    {
     "data": {
      "text/html": [
       "<div>\n",
       "<style scoped>\n",
       "    .dataframe tbody tr th:only-of-type {\n",
       "        vertical-align: middle;\n",
       "    }\n",
       "\n",
       "    .dataframe tbody tr th {\n",
       "        vertical-align: top;\n",
       "    }\n",
       "\n",
       "    .dataframe thead th {\n",
       "        text-align: right;\n",
       "    }\n",
       "</style>\n",
       "<table border=\"1\" class=\"dataframe\">\n",
       "  <thead>\n",
       "    <tr style=\"text-align: right;\">\n",
       "      <th></th>\n",
       "      <th>beta0</th>\n",
       "      <th>beta1</th>\n",
       "    </tr>\n",
       "  </thead>\n",
       "  <tbody>\n",
       "    <tr>\n",
       "      <th>0</th>\n",
       "      <td>34.553841</td>\n",
       "      <td>-0.950049</td>\n",
       "    </tr>\n",
       "  </tbody>\n",
       "</table>\n",
       "</div>"
      ],
      "text/plain": [
       "       beta0     beta1\n",
       "0  34.553841 -0.950049"
      ]
     },
     "execution_count": 40,
     "metadata": {},
     "output_type": "execute_result"
    }
   ],
   "source": [
    "from siuba import *\n",
    "# 'medv~lstat'\n",
    "# beta0=\n",
    "n=Boston.shape[0]\n",
    "\n",
    "result = ( Boston\n",
    "    >> mutate(xy = _.medv * _.lstat)\n",
    "    >> summarize(xy_sum = _.xy.sum(),\n",
    "                 y_mean = _.medv.mean(),\n",
    "                 y_sum = _.medv.sum(),\n",
    "                 y_2_sum = (_.medv ** 2).sum(),\n",
    "                 x_mean = _.lstat.mean(),\n",
    "                 x_sum = _.lstat.sum(),\n",
    "                 x_2_sum = (_.lstat ** 2).sum())\n",
    ")\n",
    "\n",
    "result = ( result\n",
    "    >> mutate(\n",
    "        Sxx =  (_.x_2_sum - n * _.x_mean ** 2),\n",
    "        Sxy = (_.xy_sum - n * _.y_mean * _.x_mean),\n",
    "        beta1 =  _.Sxy/_.Sxx,\n",
    "        beta0 = _.y_mean - _.beta1 * _.x_mean,\n",
    "        SST = _.y_2_sum - n * _.y_mean ** 2,\n",
    "        SSE = _.SST - _.beta1*_.Sxy,\n",
    "        SSR  = _.SST - _.SSE,\n",
    "        MSR = _.SSR,        \n",
    "        MSE = _.SSE/(n-2),\n",
    "        MST = _.SST/(n-1),\n",
    "        F= _.MSR / _.MSE\n",
    "        \n",
    "    )\n",
    ")\n",
    "\n",
    "(result \n",
    "   >> select(_.beta0,_.beta1)\n",
    ")"
   ]
  },
  {
   "cell_type": "markdown",
   "metadata": {},
   "source": [
    "## R-squared: \n",
    "$R^2=\\frac{SSR}{SST}=1-\\frac{SSE}{SST}$\n",
    "$=1-\\frac{\\sum \\left(y_i-\\hat{y_i}\\right)^2}{\\sum \\left(y_i-\\bar{y}\\right)^2}$\n",
    "$=1-\\frac{\\sum e_i^2}{\\sum \\left(y_i-\\bar{y}\\right)^2}$\n",
    "$\\newline$\n",
    "$R^2=1-\\frac{\\text{Unexplained Variation}}{\\text{Total variation}}$"
   ]
  },
  {
   "cell_type": "markdown",
   "metadata": {},
   "source": [
    "## Adjusted R-squared: \n",
    "$\\bar{R}^2=1-\\frac{MSE}{MST}=1-\\frac{\\frac{SSE}{df_{sse}}}{\\frac{SST}{df_{sse}}}$\n",
    "$=1-\\frac{\\frac{\\sum \\left(y_i-\\hat{y_i}\\right)^2}{(n-p)}}{\\frac{\\sum \\left(y_i-\\bar{y}\\right)^2}{n-1}}$\n",
    "$\\newline$\n",
    "Where $p=K+1$ and $K$ is the number of independent regressors."
   ]
  },
  {
   "cell_type": "code",
   "execution_count": 41,
   "metadata": {},
   "outputs": [
    {
     "data": {
      "text/html": [
       "<div>\n",
       "<style scoped>\n",
       "    .dataframe tbody tr th:only-of-type {\n",
       "        vertical-align: middle;\n",
       "    }\n",
       "\n",
       "    .dataframe tbody tr th {\n",
       "        vertical-align: top;\n",
       "    }\n",
       "\n",
       "    .dataframe thead th {\n",
       "        text-align: right;\n",
       "    }\n",
       "</style>\n",
       "<table border=\"1\" class=\"dataframe\">\n",
       "  <thead>\n",
       "    <tr style=\"text-align: right;\">\n",
       "      <th></th>\n",
       "      <th>R2</th>\n",
       "      <th>Adjusted_R2</th>\n",
       "    </tr>\n",
       "  </thead>\n",
       "  <tbody>\n",
       "    <tr>\n",
       "      <th>0</th>\n",
       "      <td>0.544146</td>\n",
       "      <td>0.543242</td>\n",
       "    </tr>\n",
       "  </tbody>\n",
       "</table>\n",
       "</div>"
      ],
      "text/plain": [
       "         R2  Adjusted_R2\n",
       "0  0.544146     0.543242"
      ]
     },
     "execution_count": 41,
     "metadata": {},
     "output_type": "execute_result"
    }
   ],
   "source": [
    "(result \n",
    "  >> mutate(R2=_.SSR/_.SST,#Adjusted_R2=_.MSR/_.MST\n",
    "          Adjusted_R2 = 1-(_.SSE*(n-1))/(_.SST*(n-2)) \n",
    "           )\n",
    "  >> select(_.R2,_.Adjusted_R2)\n",
    ")"
   ]
  },
  {
   "cell_type": "markdown",
   "metadata": {},
   "source": [
    "## ANOVA\n",
    "\\begin{array}{ccccccc}\n",
    "\\hline\n",
    "\\text{Source of Variation} & \\text{SS} & \\text{df} & \\text{MS} & F  & \\text{Rejection Region} & \\text{P-value}  \\\\\n",
    "\\hline\n",
    "\\text{Regression} & \\text{SSR}=\\sum \\left(\\hat{y}_i-\\bar{y}\\right)^2 & \\text{df}=p-1 & \\text{MSR} &  F^{*}=\\frac{MSR}{MSE} &\n",
    "F^* > F_{(\\alpha,p,n-p)} & P(F_{(\\alpha,p,n-p)} \\geq F^*)\n",
    "\\\\ \\text{Residual error} & \\text{SSE}=\\sum \\left(y_i-\\hat{y_i}\\right)^2 & \\text{df}=n-p & \\text{MSE} &   & &\n",
    "\\\\ \\text{Total} & \\text{SST}=\\sum \\left(y_i-\\bar{y}\\right)^2 & \\text{df}=n-1 &  &   & &\n",
    "\\end{array}\n",
    "\n",
    "$$p=k+1$$"
   ]
  },
  {
   "cell_type": "markdown",
   "metadata": {},
   "source": [
    "$$\\begin{eqnarray}\n",
    "\\text{SSE}&=&\\sum \\left(y_i-\\hat{y_i}\\right)^2 =\\hat{\\beta_1} S_{xy}  \\\\\n",
    "\\text{SSR}&=&\\sum \\left(\\hat{y}_i-\\bar{y}\\right)^2=\\text{SST}-\\hat{\\beta_1} S_{xy} \\\\\n",
    "\\text{SSE}&=&\\sum \\left(y_i-\\hat{y_i}\\right)^2 \n",
    "\\end{eqnarray}$$"
   ]
  },
  {
   "cell_type": "markdown",
   "metadata": {},
   "source": [
    "<div>\n",
    "<img src=\"images_SL/LR.jpg\" width=\"700\"/>\n",
    "</div>"
   ]
  },
  {
   "cell_type": "code",
   "execution_count": 42,
   "metadata": {},
   "outputs": [
    {
     "data": {
      "text/html": [
       "<div>\n",
       "<style scoped>\n",
       "    .dataframe tbody tr th:only-of-type {\n",
       "        vertical-align: middle;\n",
       "    }\n",
       "\n",
       "    .dataframe tbody tr th {\n",
       "        vertical-align: top;\n",
       "    }\n",
       "\n",
       "    .dataframe thead th {\n",
       "        text-align: right;\n",
       "    }\n",
       "</style>\n",
       "<table border=\"1\" class=\"dataframe\">\n",
       "  <thead>\n",
       "    <tr style=\"text-align: right;\">\n",
       "      <th></th>\n",
       "      <th>df</th>\n",
       "      <th>sum_sq</th>\n",
       "      <th>mean_sq</th>\n",
       "      <th>F</th>\n",
       "      <th>PR(&gt;F)</th>\n",
       "    </tr>\n",
       "  </thead>\n",
       "  <tbody>\n",
       "    <tr>\n",
       "      <th>lstat</th>\n",
       "      <td>1.0</td>\n",
       "      <td>23243.913997</td>\n",
       "      <td>23243.913997</td>\n",
       "      <td>601.617871</td>\n",
       "      <td>5.081103e-88</td>\n",
       "    </tr>\n",
       "    <tr>\n",
       "      <th>Residual</th>\n",
       "      <td>504.0</td>\n",
       "      <td>19472.381418</td>\n",
       "      <td>38.635677</td>\n",
       "      <td>NaN</td>\n",
       "      <td>NaN</td>\n",
       "    </tr>\n",
       "  </tbody>\n",
       "</table>\n",
       "</div>"
      ],
      "text/plain": [
       "             df        sum_sq       mean_sq           F        PR(>F)\n",
       "lstat       1.0  23243.913997  23243.913997  601.617871  5.081103e-88\n",
       "Residual  504.0  19472.381418     38.635677         NaN           NaN"
      ]
     },
     "execution_count": 42,
     "metadata": {},
     "output_type": "execute_result"
    }
   ],
   "source": [
    "anova_results2 = sm.stats.anova_lm(lm, typ=1)\n",
    "(anova_results2)"
   ]
  },
  {
   "cell_type": "code",
   "execution_count": 124,
   "metadata": {},
   "outputs": [
    {
     "data": {
      "text/html": [
       "<div>\n",
       "<style scoped>\n",
       "    .dataframe tbody tr th:only-of-type {\n",
       "        vertical-align: middle;\n",
       "    }\n",
       "\n",
       "    .dataframe tbody tr th {\n",
       "        vertical-align: top;\n",
       "    }\n",
       "\n",
       "    .dataframe thead th {\n",
       "        text-align: right;\n",
       "    }\n",
       "</style>\n",
       "<table border=\"1\" class=\"dataframe\">\n",
       "  <thead>\n",
       "    <tr style=\"text-align: right;\">\n",
       "      <th></th>\n",
       "      <th>SSR</th>\n",
       "      <th>SSE</th>\n",
       "      <th>MSR</th>\n",
       "      <th>MSE</th>\n",
       "      <th>F</th>\n",
       "      <th>PF</th>\n",
       "    </tr>\n",
       "  </thead>\n",
       "  <tbody>\n",
       "    <tr>\n",
       "      <th>0</th>\n",
       "      <td>23243.913997</td>\n",
       "      <td>19472.381418</td>\n",
       "      <td>23243.913997</td>\n",
       "      <td>38.635677</td>\n",
       "      <td>601.617871</td>\n",
       "      <td>1.110223e-16</td>\n",
       "    </tr>\n",
       "  </tbody>\n",
       "</table>\n",
       "</div>"
      ],
      "text/plain": [
       "            SSR           SSE           MSR        MSE           F  \\\n",
       "0  23243.913997  19472.381418  23243.913997  38.635677  601.617871   \n",
       "\n",
       "             PF  \n",
       "0  1.110223e-16  "
      ]
     },
     "execution_count": 124,
     "metadata": {},
     "output_type": "execute_result"
    }
   ],
   "source": [
    "import scipy.stats as stats\n",
    "from siuba import *\n",
    "\n",
    "from siuba.siu import symbolic_dispatch\n",
    "@symbolic_dispatch\n",
    "def pr_f(df,a,b):    \n",
    "    return 1-stats.f.cdf(df, a,b)\n",
    "\n",
    "(result\n",
    " >> select(_.SSR ,_.SSE,_.MSR,_.MSE,_.F)\n",
    " >> mutate(PF=pr_f(_.F,1,504))\n",
    ")"
   ]
  },
  {
   "cell_type": "markdown",
   "metadata": {},
   "source": [
    "## ??\n",
    "\n",
    "$E(MSE)=\\sigma^2$ \n",
    "\n",
    "$E(MSR)=\\sigma^2 +\\beta_1^2 \\sum (x_i-\\bar{x})^2$\n",
    "\n",
    "Note that when β1 = 0, then $E(MSR) = E(MSE)$, otherwise $E(MSR) > E(MSE)$. A second way\n",
    "of testing whether β1 = 0 is by the F-test:\n",
    "\n",
    "\\begin{array}{ccc}\n",
    "H0 : \\beta_1 = 0 & HA : \\beta_1 \\neq 0 & \\text{Test\n",
    "Statistic:} F^{*}=\\frac{MSR}{MSE}   & \\text{Rejection Region:} F^* > F_{(\\alpha,p,n-p)} & \\text{P-value:}P(F_{(\\alpha,p,n-p)} \\geq F^*)\n",
    "\\end{array}"
   ]
  },
  {
   "cell_type": "markdown",
   "metadata": {},
   "source": [
    "## AIC\n",
    "Let p be the number of estimated parameters in the model. Let \n",
    "$\\hat{L}$ be the maximized value of the likelihood function for the model. Then the AIC \n",
    "value of the model is the following:\n",
    "$\\newline$\n",
    "$\\mathrm{AIC} = 2p-2\\ln\\left(\\hat{L}\\right)$"
   ]
  },
  {
   "cell_type": "markdown",
   "metadata": {},
   "source": [
    "## BIC\n",
    "The Bayesian information criterion (BIC):\n",
    "$\\newline$\n",
    "The BIC is formally defined as:\n",
    "$\\newline$\n",
    "$\\mathrm{BIC} = p \\log n-2\\ln\\left(\\hat{L}\\right)$"
   ]
  },
  {
   "cell_type": "code",
   "execution_count": 44,
   "metadata": {},
   "outputs": [
    {
     "name": "stdout",
     "output_type": "stream",
     "text": [
      "                            OLS Regression Results                            \n",
      "==============================================================================\n",
      "Dep. Variable:                   medv   R-squared:                       0.544\n",
      "Model:                            OLS   Adj. R-squared:                  0.543\n",
      "Method:                 Least Squares   F-statistic:                     601.6\n",
      "Date:                Mon, 13 May 2024   Prob (F-statistic):           5.08e-88\n",
      "Time:                        14:37:39   Log-Likelihood:                -1641.5\n",
      "No. Observations:                 506   AIC:                             3287.\n",
      "Df Residuals:                     504   BIC:                             3295.\n",
      "Df Model:                           1                                         \n",
      "Covariance Type:            nonrobust                                         \n",
      "==============================================================================\n",
      "                 coef    std err          t      P>|t|      [0.025      0.975]\n",
      "------------------------------------------------------------------------------\n",
      "Intercept     34.5538      0.563     61.415      0.000      33.448      35.659\n",
      "lstat         -0.9500      0.039    -24.528      0.000      -1.026      -0.874\n",
      "==============================================================================\n",
      "Omnibus:                      137.043   Durbin-Watson:                   0.892\n",
      "Prob(Omnibus):                  0.000   Jarque-Bera (JB):              291.373\n",
      "Skew:                           1.453   Prob(JB):                     5.36e-64\n",
      "Kurtosis:                       5.319   Cond. No.                         29.7\n",
      "==============================================================================\n",
      "\n",
      "Notes:\n",
      "[1] Standard Errors assume that the covariance matrix of the errors is correctly specified.\n"
     ]
    }
   ],
   "source": [
    "print(lm.summary())"
   ]
  },
  {
   "cell_type": "code",
   "execution_count": 45,
   "metadata": {},
   "outputs": [
    {
     "name": "stdout",
     "output_type": "stream",
     "text": [
      "AIC: 3286.974956900157 \n",
      " BIC: 3294.974956900157\n"
     ]
    }
   ],
   "source": [
    "AIC = 2 * len(lm.params) - 2 * lm.llf\n",
    "BIC = 2 * len(lm.params) * 3 - 2 * lm.llf\n",
    "print(\"AIC:\", AIC,\"\\n BIC:\",BIC)"
   ]
  },
  {
   "cell_type": "code",
   "execution_count": 46,
   "metadata": {},
   "outputs": [
    {
     "name": "stdout",
     "output_type": "stream",
     "text": [
      "-1641.4874784500785\n"
     ]
    }
   ],
   "source": [
    "print(lm.llf)"
   ]
  },
  {
   "cell_type": "code",
   "execution_count": 47,
   "metadata": {},
   "outputs": [
    {
     "name": "stdout",
     "output_type": "stream",
     "text": [
      "-1641.489459957751\n"
     ]
    }
   ],
   "source": [
    "lm = smf.ols('medv ~ lstat', data=Boston).fit()\n",
    "\n",
    "# Calculate the log-likelihood manually\n",
    "n = len(lm.model.endog)\n",
    "sigma2 = np.sum(lm.resid**2) / (n - 2)  # Residual variance\n",
    "ll = -n/2 * np.log(2 * np.pi * sigma2) - np.sum(lm.resid**2) / (2 * sigma2)\n",
    "print(ll)"
   ]
  },
  {
   "cell_type": "code",
   "execution_count": 48,
   "metadata": {},
   "outputs": [
    {
     "name": "stdout",
     "output_type": "stream",
     "text": [
      "38.63567741731437 38.63567741731437\n"
     ]
    }
   ],
   "source": [
    "print(sigma2,lm.scale)"
   ]
  },
  {
   "cell_type": "code",
   "execution_count": 49,
   "metadata": {},
   "outputs": [
    {
     "data": {
      "text/html": [
       "<div>\n",
       "<style scoped>\n",
       "    .dataframe tbody tr th:only-of-type {\n",
       "        vertical-align: middle;\n",
       "    }\n",
       "\n",
       "    .dataframe tbody tr th {\n",
       "        vertical-align: top;\n",
       "    }\n",
       "\n",
       "    .dataframe thead th {\n",
       "        text-align: right;\n",
       "    }\n",
       "</style>\n",
       "<table border=\"1\" class=\"dataframe\">\n",
       "  <thead>\n",
       "    <tr style=\"text-align: right;\">\n",
       "      <th></th>\n",
       "      <th>L</th>\n",
       "    </tr>\n",
       "  </thead>\n",
       "  <tbody>\n",
       "    <tr>\n",
       "      <th>0</th>\n",
       "      <td>-1641.48946</td>\n",
       "    </tr>\n",
       "  </tbody>\n",
       "</table>\n",
       "</div>"
      ],
      "text/plain": [
       "            L\n",
       "0 -1641.48946"
      ]
     },
     "execution_count": 49,
     "metadata": {},
     "output_type": "execute_result"
    }
   ],
   "source": [
    "#lm = smf.ols ('medv~lstat', data = Boston).fit()\n",
    "@symbolic_dispatch\n",
    "def log_norm_pdf(x,m,sd):    \n",
    "    return stats.norm.logpdf(x,m,sd)\n",
    "(Boston \n",
    " >>mutate(ei=_.medv-lm.params.Intercept-lm.params.lstat*_.lstat)\n",
    " >>select(_.ei)\n",
    " >>mutate(log_pdf=log_norm_pdf(_.ei,0,lm.scale**0.5))\n",
    " >> summarize(L=np.sum(_.log_pdf))\n",
    ")"
   ]
  },
  {
   "cell_type": "markdown",
   "metadata": {},
   "source": [
    "## Omnibus/Prob(Omnibus)\n",
    "\n",
    "This function tests the null hypothesis that a sample comes from a normal distribution. It is based on D’Agostino and Pearson’s  test that combines skew and kurtosis to produce an omnibus test of normality.\n",
    "\n",
    "### statistic\n",
    "\n",
    "s^2 + k^2, where s is the z-score returned by skewtest and k is the z-score returned by kurtosistest.\n",
    "\n",
    "### pvalue\n",
    "\n",
    "A 2-sided chi squared probability for the hypothesis test."
   ]
  },
  {
   "cell_type": "code",
   "execution_count": 50,
   "metadata": {},
   "outputs": [
    {
     "data": {
      "text/plain": [
       "NormaltestResult(statistic=137.04343416552663, pvalue=1.7433973456105287e-30)"
      ]
     },
     "execution_count": 50,
     "metadata": {},
     "output_type": "execute_result"
    }
   ],
   "source": [
    "name = [\"Chi^2\", \"Two-tail probability\"]\n",
    "test = sms.omni_normtest(lm.resid)\n",
    "test"
   ]
  },
  {
   "cell_type": "code",
   "execution_count": 51,
   "metadata": {},
   "outputs": [
    {
     "data": {
      "text/plain": [
       "[('Chi^2', 137.04343416552663),\n",
       " ('Two-tail probability', 1.7433973456105287e-30)]"
      ]
     },
     "execution_count": 51,
     "metadata": {},
     "output_type": "execute_result"
    }
   ],
   "source": [
    "list(zip(name, test))"
   ]
  },
  {
   "cell_type": "code",
   "execution_count": 52,
   "metadata": {},
   "outputs": [
    {
     "name": "stdout",
     "output_type": "stream",
     "text": [
      "def omni_normtest(resids, axis=0):\n",
      "    \"\"\"\n",
      "    Omnibus test for normality\n",
      "\n",
      "    Parameters\n",
      "    ----------\n",
      "    resid : array_like\n",
      "    axis : int, optional\n",
      "        Default is 0\n",
      "\n",
      "    Returns\n",
      "    -------\n",
      "    Chi^2 score, two-tail probability\n",
      "    \"\"\"\n",
      "    # TODO: change to exception in summary branch and catch in summary()\n",
      "    #   behavior changed between scipy 0.9 and 0.10\n",
      "    resids = np.asarray(resids)\n",
      "    n = resids.shape[axis]\n",
      "    if n < 8:\n",
      "        from warnings import warn\n",
      "        warn(\"omni_normtest is not valid with less than 8 observations; %i \"\n",
      "             \"samples were given.\" % int(n), ValueWarning)\n",
      "        return np.nan, np.nan\n",
      "\n",
      "    return stats.normaltest(resids, axis=axis)\n",
      "\n"
     ]
    }
   ],
   "source": [
    "import inspect\n",
    "txt=inspect. getsource(sms.omni_normtest)\n",
    "print(txt)"
   ]
  },
  {
   "cell_type": "code",
   "execution_count": 53,
   "metadata": {},
   "outputs": [
    {
     "name": "stdout",
     "output_type": "stream",
     "text": [
      "def normaltest(a, axis=0, nan_policy='propagate'):\n",
      "    r\"\"\"Test whether a sample differs from a normal distribution.\n",
      "\n",
      "    This function tests the null hypothesis that a sample comes\n",
      "    from a normal distribution.  It is based on D'Agostino and\n",
      "    Pearson's [1]_, [2]_ test that combines skew and kurtosis to\n",
      "    produce an omnibus test of normality.\n",
      "\n",
      "    Parameters\n",
      "    ----------\n",
      "    a : array_like\n",
      "        The array containing the sample to be tested.\n",
      "    axis : int or None, optional\n",
      "        Axis along which to compute test. Default is 0. If None,\n",
      "        compute over the whole array `a`.\n",
      "    nan_policy : {'propagate', 'raise', 'omit'}, optional\n",
      "        Defines how to handle when input contains nan.\n",
      "        The following options are available (default is 'propagate'):\n",
      "\n",
      "          * 'propagate': returns nan\n",
      "          * 'raise': throws an error\n",
      "          * 'omit': performs the calculations ignoring nan values\n",
      "\n",
      "    Returns\n",
      "    -------\n",
      "    statistic : float or array\n",
      "        ``s^2 + k^2``, where ``s`` is the z-score returned by `skewtest` and\n",
      "        ``k`` is the z-score returned by `kurtosistest`.\n",
      "    pvalue : float or array\n",
      "       A 2-sided chi squared probability for the hypothesis test.\n",
      "\n",
      "    References\n",
      "    ----------\n",
      "    .. [1] D'Agostino, R. B. (1971), \"An omnibus test of normality for\n",
      "           moderate and large sample size\", Biometrika, 58, 341-348\n",
      "    .. [2] D'Agostino, R. and Pearson, E. S. (1973), \"Tests for departure from\n",
      "           normality\", Biometrika, 60, 613-622\n",
      "    .. [3] Shapiro, S. S., & Wilk, M. B. (1965). An analysis of variance test\n",
      "           for normality (complete samples). Biometrika, 52(3/4), 591-611.\n",
      "    .. [4] B. Phipson and G. K. Smyth. \"Permutation P-values Should Never Be\n",
      "           Zero: Calculating Exact P-values When Permutations Are Randomly\n",
      "           Drawn.\" Statistical Applications in Genetics and Molecular Biology\n",
      "           9.1 (2010).\n",
      "    .. [5] Panagiotakos, D. B. (2008). The value of p-value in biomedical\n",
      "           research. The open cardiovascular medicine journal, 2, 97.\n",
      "\n",
      "    Examples\n",
      "    --------\n",
      "    Suppose we wish to infer from measurements whether the weights of adult\n",
      "    human males in a medical study are not normally distributed [3]_.\n",
      "    The weights (lbs) are recorded in the array ``x`` below.\n",
      "\n",
      "    >>> import numpy as np\n",
      "    >>> x = np.array([148, 154, 158, 160, 161, 162, 166, 170, 182, 195, 236])\n",
      "\n",
      "    The normality test of [1]_ and [2]_ begins by computing a statistic based\n",
      "    on the sample skewness and kurtosis.\n",
      "\n",
      "    >>> from scipy import stats\n",
      "    >>> res = stats.normaltest(x)\n",
      "    >>> res.statistic\n",
      "    13.034263121192582\n",
      "\n",
      "    (The test warns that our sample has too few observations to perform the\n",
      "    test. We'll return to this at the end of the example.)\n",
      "    Because the normal distribution has zero skewness and zero\n",
      "    (\"excess\" or \"Fisher\") kurtosis, the value of this statistic tends to be\n",
      "    low for samples drawn from a normal distribution.\n",
      "\n",
      "    The test is performed by comparing the observed value of the statistic\n",
      "    against the null distribution: the distribution of statistic values derived\n",
      "    under the null hypothesis that the weights were drawn from a normal\n",
      "    distribution.\n",
      "    For this normality test, the null distribution for very large samples is\n",
      "    the chi-squared distribution with two degrees of freedom.\n",
      "\n",
      "    >>> import matplotlib.pyplot as plt\n",
      "    >>> dist = stats.chi2(df=2)\n",
      "    >>> stat_vals = np.linspace(0, 16, 100)\n",
      "    >>> pdf = dist.pdf(stat_vals)\n",
      "    >>> fig, ax = plt.subplots(figsize=(8, 5))\n",
      "    >>> def plot(ax):  # we'll re-use this\n",
      "    ...     ax.plot(stat_vals, pdf)\n",
      "    ...     ax.set_title(\"Normality Test Null Distribution\")\n",
      "    ...     ax.set_xlabel(\"statistic\")\n",
      "    ...     ax.set_ylabel(\"probability density\")\n",
      "    >>> plot(ax)\n",
      "    >>> plt.show()\n",
      "\n",
      "    The comparison is quantified by the p-value: the proportion of values in\n",
      "    the null distribution greater than or equal to the observed value of the\n",
      "    statistic.\n",
      "\n",
      "    >>> fig, ax = plt.subplots(figsize=(8, 5))\n",
      "    >>> plot(ax)\n",
      "    >>> pvalue = dist.sf(res.statistic)\n",
      "    >>> annotation = (f'p-value={pvalue:.6f}\\n(shaded area)')\n",
      "    >>> props = dict(facecolor='black', width=1, headwidth=5, headlength=8)\n",
      "    >>> _ = ax.annotate(annotation, (13.5, 5e-4), (14, 5e-3), arrowprops=props)\n",
      "    >>> i = stat_vals >= res.statistic  # index more extreme statistic values\n",
      "    >>> ax.fill_between(stat_vals[i], y1=0, y2=pdf[i])\n",
      "    >>> ax.set_xlim(8, 16)\n",
      "    >>> ax.set_ylim(0, 0.01)\n",
      "    >>> plt.show()\n",
      "    >>> res.pvalue\n",
      "    0.0014779023013100172\n",
      "\n",
      "    If the p-value is \"small\" - that is, if there is a low probability of\n",
      "    sampling data from a normally distributed population that produces such an\n",
      "    extreme value of the statistic - this may be taken as evidence against\n",
      "    the null hypothesis in favor of the alternative: the weights were not\n",
      "    drawn from a normal distribution. Note that:\n",
      "\n",
      "    - The inverse is not true; that is, the test is not used to provide\n",
      "      evidence for the null hypothesis.\n",
      "    - The threshold for values that will be considered \"small\" is a choice that\n",
      "      should be made before the data is analyzed [4]_ with consideration of the\n",
      "      risks of both false positives (incorrectly rejecting the null hypothesis)\n",
      "      and false negatives (failure to reject a false null hypothesis).\n",
      "\n",
      "    Note that the chi-squared distribution provides an asymptotic\n",
      "    approximation of the null distribution; it is only accurate for samples\n",
      "    with many observations. This is the reason we received a warning at the\n",
      "    beginning of the example; our sample is quite small. In this case,\n",
      "    `scipy.stats.monte_carlo_test` may provide a more accurate, albeit\n",
      "    stochastic, approximation of the exact p-value.\n",
      "\n",
      "    >>> def statistic(x, axis):\n",
      "    ...     # Get only the `normaltest` statistic; ignore approximate p-value\n",
      "    ...     return stats.normaltest(x, axis=axis).statistic\n",
      "    >>> res = stats.monte_carlo_test(x, stats.norm.rvs, statistic,\n",
      "    ...                              alternative='greater')\n",
      "    >>> fig, ax = plt.subplots(figsize=(8, 5))\n",
      "    >>> plot(ax)\n",
      "    >>> ax.hist(res.null_distribution, np.linspace(0, 25, 50),\n",
      "    ...         density=True)\n",
      "    >>> ax.legend(['aymptotic approximation (many observations)',\n",
      "    ...            'Monte Carlo approximation (11 observations)'])\n",
      "    >>> ax.set_xlim(0, 14)\n",
      "    >>> plt.show()\n",
      "    >>> res.pvalue\n",
      "    0.0082  # may vary\n",
      "\n",
      "    Furthermore, despite their stochastic nature, p-values computed in this way\n",
      "    can be used to exactly control the rate of false rejections of the null\n",
      "    hypothesis [5]_.\n",
      "\n",
      "    \"\"\"\n",
      "    a, axis = _chk_asarray(a, axis)\n",
      "\n",
      "    contains_nan, nan_policy = _contains_nan(a, nan_policy)\n",
      "\n",
      "    if contains_nan and nan_policy == 'omit':\n",
      "        a = ma.masked_invalid(a)\n",
      "        return mstats_basic.normaltest(a, axis)\n",
      "\n",
      "    s, _ = skewtest(a, axis)\n",
      "    k, _ = kurtosistest(a, axis)\n",
      "    k2 = s*s + k*k\n",
      "\n",
      "    return NormaltestResult(k2, distributions.chi2.sf(k2, 2))\n",
      "\n"
     ]
    }
   ],
   "source": [
    "txt=inspect. getsource(stats.normaltest)\n",
    "print(txt)"
   ]
  },
  {
   "cell_type": "code",
   "execution_count": 54,
   "metadata": {},
   "outputs": [],
   "source": [
    "import scipy\n"
   ]
  },
  {
   "cell_type": "code",
   "execution_count": 55,
   "metadata": {},
   "outputs": [
    {
     "data": {
      "text/plain": [
       "[('statistic', 137.04343416552663), ('p_value', 1.7433973456105287e-30)]"
      ]
     },
     "execution_count": 55,
     "metadata": {},
     "output_type": "execute_result"
    }
   ],
   "source": [
    "s, _ = scipy.stats.skewtest(lm.resid)\n",
    "k, _ = scipy.stats.kurtosistest(lm.resid)\n",
    "k2 = s**2 + k**2\n",
    "p_value=scipy.stats.distributions.chi2.sf(k2,2)\n",
    "p_value\n",
    "list(zip([\"statistic\",\"p_value\"],[k2,p_value]))\n",
    "# distributions.chi2.sf(k2, 2)"
   ]
  },
  {
   "cell_type": "code",
   "execution_count": 56,
   "metadata": {},
   "outputs": [
    {
     "name": "stdout",
     "output_type": "stream",
     "text": [
      "10.271426557000973 5.616157997213199\n"
     ]
    }
   ],
   "source": [
    "print(s,k)"
   ]
  },
  {
   "cell_type": "markdown",
   "metadata": {},
   "source": [
    "## Durbin-Watson\n",
    "\n",
    "Durbin-Watson tests for homoscedasticity. We hope to have a value between 1 and 2. In statistics, the Durbin–Watson statistic is a test statistic used to detect the presence of autocorrelation at lag 1 in the residuals (prediction errors) from a regression analysis. \n",
    "\n",
    "The null hypothesis of the test is that there is no serial correlation in the residuals. The Durbin-Watson test statistic is defined as:\n",
    "\n",
    "$\\frac{\\sum \\left( e_t - e_{t-1}\\right)^2}{\\sum e_i^2}$\n",
    "\n",
    "The test statistic is approximately equal to $2\\times(1-r)$ where $r$ is the sample autocorrelation of the residuals. Thus, for $r == 0$, indicating no serial correlation, the test statistic equals $2$. This statistic will always be between 0 and 4. The closer to 0 the statistic, the more evidence for positive serial correlation. The closer to 4, the more evidence for negative serial correlation."
   ]
  },
  {
   "cell_type": "code",
   "execution_count": 57,
   "metadata": {},
   "outputs": [
    {
     "name": "stdout",
     "output_type": "stream",
     "text": [
      "                            OLS Regression Results                            \n",
      "==============================================================================\n",
      "Dep. Variable:                   medv   R-squared:                       0.544\n",
      "Model:                            OLS   Adj. R-squared:                  0.543\n",
      "Method:                 Least Squares   F-statistic:                     601.6\n",
      "Date:                Mon, 13 May 2024   Prob (F-statistic):           5.08e-88\n",
      "Time:                        14:37:55   Log-Likelihood:                -1641.5\n",
      "No. Observations:                 506   AIC:                             3287.\n",
      "Df Residuals:                     504   BIC:                             3295.\n",
      "Df Model:                           1                                         \n",
      "Covariance Type:            nonrobust                                         \n",
      "==============================================================================\n",
      "                 coef    std err          t      P>|t|      [0.025      0.975]\n",
      "------------------------------------------------------------------------------\n",
      "Intercept     34.5538      0.563     61.415      0.000      33.448      35.659\n",
      "lstat         -0.9500      0.039    -24.528      0.000      -1.026      -0.874\n",
      "==============================================================================\n",
      "Omnibus:                      137.043   Durbin-Watson:                   0.892\n",
      "Prob(Omnibus):                  0.000   Jarque-Bera (JB):              291.373\n",
      "Skew:                           1.453   Prob(JB):                     5.36e-64\n",
      "Kurtosis:                       5.319   Cond. No.                         29.7\n",
      "==============================================================================\n",
      "\n",
      "Notes:\n",
      "[1] Standard Errors assume that the covariance matrix of the errors is correctly specified.\n"
     ]
    }
   ],
   "source": [
    "print(lm.summary())"
   ]
  },
  {
   "cell_type": "code",
   "execution_count": 58,
   "metadata": {},
   "outputs": [
    {
     "data": {
      "text/plain": [
       "0.8915025625733242"
      ]
     },
     "execution_count": 58,
     "metadata": {},
     "output_type": "execute_result"
    }
   ],
   "source": [
    "diff_resids = np.diff(lm.resid, 1)\n",
    "dw = np.sum(diff_resids**2) / np.sum(lm.resid**2)\n",
    "dw"
   ]
  },
  {
   "cell_type": "code",
   "execution_count": 59,
   "metadata": {},
   "outputs": [],
   "source": [
    "df=pd.DataFrame(  data=pd.Series(lm.resid),columns=['rs'])\n"
   ]
  },
  {
   "cell_type": "code",
   "execution_count": 76,
   "metadata": {},
   "outputs": [
    {
     "data": {
      "text/html": [
       "<div>\n",
       "<style scoped>\n",
       "    .dataframe tbody tr th:only-of-type {\n",
       "        vertical-align: middle;\n",
       "    }\n",
       "\n",
       "    .dataframe tbody tr th {\n",
       "        vertical-align: top;\n",
       "    }\n",
       "\n",
       "    .dataframe thead th {\n",
       "        text-align: right;\n",
       "    }\n",
       "</style>\n",
       "<table border=\"1\" class=\"dataframe\">\n",
       "  <thead>\n",
       "    <tr style=\"text-align: right;\">\n",
       "      <th></th>\n",
       "      <th>dw</th>\n",
       "    </tr>\n",
       "  </thead>\n",
       "  <tbody>\n",
       "    <tr>\n",
       "      <th>0</th>\n",
       "      <td>0.891503</td>\n",
       "    </tr>\n",
       "  </tbody>\n",
       "</table>\n",
       "</div>"
      ],
      "text/plain": [
       "         dw\n",
       "0  0.891503"
      ]
     },
     "execution_count": 76,
     "metadata": {},
     "output_type": "execute_result"
    }
   ],
   "source": [
    "from siuba import _\n",
    "\n",
    "(\n",
    "    df\n",
    "    >> mutate( dw = ((_.rs.diff())**2)/((_.rs**2).sum()))\n",
    "    >> summarize(dw=_.dw.sum())\n",
    ")"
   ]
  },
  {
   "cell_type": "code",
   "execution_count": 152,
   "metadata": {},
   "outputs": [
    {
     "data": {
      "text/plain": [
       "0.9117074048270406"
      ]
     },
     "execution_count": 152,
     "metadata": {},
     "output_type": "execute_result"
    }
   ],
   "source": [
    "2*(1-lm.rsquared)"
   ]
  },
  {
   "cell_type": "code",
   "execution_count": 78,
   "metadata": {},
   "outputs": [
    {
     "data": {
      "text/plain": [
       "{'jb': 291.37338151161583,\n",
       " 'jbpv': 5.3588810599134365e-64,\n",
       " 'skew': 1.4527390716142377,\n",
       " 'kurtosis': 5.319111488424164,\n",
       " 'omni': 137.04343416552663,\n",
       " 'omnipv': 1.7433973456105287e-30,\n",
       " 'condno': 29.682309352388266,\n",
       " 'mineigval': 121.61468925108068}"
      ]
     },
     "execution_count": 78,
     "metadata": {},
     "output_type": "execute_result"
    }
   ],
   "source": [
    "lm.diagn"
   ]
  },
  {
   "cell_type": "markdown",
   "metadata": {},
   "source": [
    "## Jarque-Bera (JB)/Prob(JB) The Jarque-Bera test of normality.\n",
    "\n",
    "Jarque-Bera (JB)/Prob(JB) – like the Omnibus test in that it tests both skew and kurtosis. We hope to see in this test a confirmation of the Omnibus test. In this case we do. \n",
    "\n",
    "Each output returned has 1 dimension fewer than data\n",
    "\n",
    "The Jarque-Bera test statistic tests the null that the data is normally distributed against an alternative that the data follow some other distribution. The test statistic is based on two moments of the data, the skewness, and the kurtosis, and has an asymptotic  distribution.\n",
    "\n",
    "The test statistic is defined\n",
    "\n",
    "$$n\\left(\\frac{s^2}{6}+\\frac{(k-3)^2}{24}\\right)$$\n",
    "\n",
    "where n is the number of data points, S is the sample skewness, and K is the sample kurtosis of the data."
   ]
  },
  {
   "cell_type": "code",
   "execution_count": 93,
   "metadata": {},
   "outputs": [
    {
     "data": {
      "text/plain": [
       "[('jb', 291.37338151161583), ('jbpv', 5.3588810599134365e-64)]"
      ]
     },
     "execution_count": 93,
     "metadata": {},
     "output_type": "execute_result"
    }
   ],
   "source": [
    "[(key,value) for key, value in lm.diagn.items() if key in ['jb','jbpv']]"
   ]
  },
  {
   "cell_type": "code",
   "execution_count": 104,
   "metadata": {},
   "outputs": [
    {
     "data": {
      "text/plain": [
       "291.37338151161583"
      ]
     },
     "execution_count": 104,
     "metadata": {},
     "output_type": "execute_result"
    }
   ],
   "source": [
    "n = len(lm.model.endog)\n",
    "s = lm.diagn['skew']\n",
    "k = lm.diagn['kurtosis']\n",
    "k2 = n*(s**2/6 + (k-3)**2/24)\n",
    "k2"
   ]
  },
  {
   "cell_type": "code",
   "execution_count": 105,
   "metadata": {},
   "outputs": [
    {
     "data": {
      "text/plain": [
       "5.3588810599134365e-64"
      ]
     },
     "execution_count": 105,
     "metadata": {},
     "output_type": "execute_result"
    }
   ],
   "source": [
    "p_value=scipy.stats.distributions.chi2.sf(k2,2)\n",
    "p_value"
   ]
  },
  {
   "cell_type": "markdown",
   "metadata": {},
   "source": [
    "## Condition Number\n",
    "\n",
    "This test measures the sensitivity of a function's output as compared to its input. When we have multicollinearity\n",
    ", we can expect much higher fluctuations to small changes in the data, hence, we hope to see a relatively small number, something below 30. In this case we are well below 30, which we would expect given our model only has two variables and one is a constant. One way to assess multicollinearity is to compute the condition number. Values over 20 are worrisome (see Greene 4.9). The first step is to normalize the independent variables to have unit length. Then, we take the square root of the ratio of the biggest to the smallest eigen values.\n",
    "\n",
    "\n",
    "The condition number (abbreviated “Cond. No.” in the summary) is a measure of “how close to singular” a matrix is; the higher, the “more singular” (and infinite means singular — i.e. noninvertible), and the more “error” a best fit approximation is. A condition number of $2.03 \\times 10^{17}$ is “practically” infinite, numerically. In truth, it should be infinity.\n",
    "Warning 2 states that the smallest eigenvalue (of the moment matrix) is $1.02 \\times 10^{-21}$, which is “practically” 0. An eigenvalue of $X^T X$ being 0 means the determinant $det(X^T X) = 0$, and so $X^T X$ is not invertible.\n",
    "\n",
    "The condition number measures how numerically stable the matrix is. A large condition number indicates that the matrix is ill-conditioned. This means that it is sensitive to small changes in its elements and can lead to large changes in the solution when solving linear systems.\n",
    "\n",
    "### OLSResults.condition_number\n",
    "\n",
    "Return condition number of exogenous matrix.\n",
    "\n",
    "Calculated as ratio of largest to smallest singular value of the exogenous variables. This value is the same as the square root of the ratio of the largest to smallest eigenvalue of the inner-product of the exogenous variables."
   ]
  },
  {
   "cell_type": "code",
   "execution_count": 125,
   "metadata": {},
   "outputs": [
    {
     "name": "stdout",
     "output_type": "stream",
     "text": [
      "                            OLS Regression Results                            \n",
      "==============================================================================\n",
      "Dep. Variable:                   medv   R-squared:                       0.544\n",
      "Model:                            OLS   Adj. R-squared:                  0.543\n",
      "Method:                 Least Squares   F-statistic:                     601.6\n",
      "Date:                Mon, 13 May 2024   Prob (F-statistic):           5.08e-88\n",
      "Time:                        16:08:13   Log-Likelihood:                -1641.5\n",
      "No. Observations:                 506   AIC:                             3287.\n",
      "Df Residuals:                     504   BIC:                             3295.\n",
      "Df Model:                           1                                         \n",
      "Covariance Type:            nonrobust                                         \n",
      "==============================================================================\n",
      "                 coef    std err          t      P>|t|      [0.025      0.975]\n",
      "------------------------------------------------------------------------------\n",
      "Intercept     34.5538      0.563     61.415      0.000      33.448      35.659\n",
      "lstat         -0.9500      0.039    -24.528      0.000      -1.026      -0.874\n",
      "==============================================================================\n",
      "Omnibus:                      137.043   Durbin-Watson:                   0.892\n",
      "Prob(Omnibus):                  0.000   Jarque-Bera (JB):              291.373\n",
      "Skew:                           1.453   Prob(JB):                     5.36e-64\n",
      "Kurtosis:                       5.319   Cond. No.                         29.7\n",
      "==============================================================================\n",
      "\n",
      "Notes:\n",
      "[1] Standard Errors assume that the covariance matrix of the errors is correctly specified.\n"
     ]
    }
   ],
   "source": [
    "print(lm.summary())"
   ]
  },
  {
   "cell_type": "code",
   "execution_count": 12,
   "metadata": {},
   "outputs": [
    {
     "data": {
      "text/plain": [
       "29.68230935238826"
      ]
     },
     "execution_count": 12,
     "metadata": {},
     "output_type": "execute_result"
    }
   ],
   "source": [
    "lm.condition_number"
   ]
  },
  {
   "cell_type": "code",
   "execution_count": 128,
   "metadata": {},
   "outputs": [
    {
     "data": {
      "text/plain": [
       "0      4.98\n",
       "1      9.14\n",
       "2      4.03\n",
       "3      2.94\n",
       "4      5.33\n",
       "       ... \n",
       "501    9.67\n",
       "502    9.08\n",
       "503    5.64\n",
       "504    6.48\n",
       "505    7.88\n",
       "Name: lstat, Length: 506, dtype: float64"
      ]
     },
     "execution_count": 128,
     "metadata": {},
     "output_type": "execute_result"
    }
   ],
   "source": [
    "x = Boston['lstat']\n",
    "x"
   ]
  },
  {
   "cell_type": "code",
   "execution_count": 17,
   "metadata": {},
   "outputs": [
    {
     "name": "stdout",
     "output_type": "stream",
     "text": [
      "condition_number: 170.34646753562933\n"
     ]
    }
   ],
   "source": [
    "lm = smf.ols ('medv~lstat+nox', data = Boston).fit()\n",
    "print('condition_number:',lm.condition_number)"
   ]
  },
  {
   "cell_type": "code",
   "execution_count": 11,
   "metadata": {},
   "outputs": [
    {
     "name": "stdout",
     "output_type": "stream",
     "text": [
      "eigenvalues: [1.06898127e+05 2.73021072e+01]\n",
      "ratio: 3915.380074730728\n",
      "cond: 62.572997968218914\n"
     ]
    }
   ],
   "source": [
    "from numpy import linalg as LA\n",
    "\n",
    "eigenvalues, eigenvectors = LA.eig(x.T @ x)\n",
    "print(\"eigenvalues:\",eigenvalues)\n",
    "ratio = eigenvalues.max()/eigenvalues.min()\n",
    "print('ratio:',ratio)\n",
    "print('cond:',ratio **0.5)"
   ]
  },
  {
   "cell_type": "code",
   "execution_count": 15,
   "metadata": {},
   "outputs": [
    {
     "data": {
      "text/plain": [
       "3915.380074730726"
      ]
     },
     "execution_count": 15,
     "metadata": {},
     "output_type": "execute_result"
    }
   ],
   "source": [
    "LA.cond(x.T @ x)"
   ]
  },
  {
   "cell_type": "code",
   "execution_count": 16,
   "metadata": {},
   "outputs": [
    {
     "data": {
      "text/plain": [
       "9.393273727784711"
      ]
     },
     "execution_count": 16,
     "metadata": {},
     "output_type": "execute_result"
    }
   ],
   "source": [
    "x_z = Boston[['lstat' , 'nox']]\n",
    "x_z += np.average(x_z)\n",
    "LA.cond(x_z.T @ x_z)**0.5"
   ]
  },
  {
   "cell_type": "code",
   "execution_count": 40,
   "metadata": {},
   "outputs": [],
   "source": [
    "# use dir() to get a list of all the attributes an object has\n",
    "# dir(lm)"
   ]
  },
  {
   "cell_type": "code",
   "execution_count": 83,
   "metadata": {},
   "outputs": [
    {
     "name": "stdout",
     "output_type": "stream",
     "text": [
      "                            OLS Regression Results                            \n",
      "==============================================================================\n",
      "Dep. Variable:                   medv   R-squared:                       0.544\n",
      "Model:                            OLS   Adj. R-squared:                  0.543\n",
      "Method:                 Least Squares   F-statistic:                     601.6\n",
      "Date:                Mon, 13 Nov 2023   Prob (F-statistic):           5.08e-88\n",
      "Time:                        09:01:56   Log-Likelihood:                -1641.5\n",
      "No. Observations:                 506   AIC:                             3287.\n",
      "Df Residuals:                     504   BIC:                             3295.\n",
      "Df Model:                           1                                         \n",
      "Covariance Type:            nonrobust                                         \n",
      "==============================================================================\n",
      "                 coef    std err          t      P>|t|      [0.025      0.975]\n",
      "------------------------------------------------------------------------------\n",
      "Intercept     34.5538      0.563     61.415      0.000      33.448      35.659\n",
      "lstat         -0.9500      0.039    -24.528      0.000      -1.026      -0.874\n",
      "==============================================================================\n",
      "Omnibus:                      137.043   Durbin-Watson:                   0.892\n",
      "Prob(Omnibus):                  0.000   Jarque-Bera (JB):              291.373\n",
      "Skew:                           1.453   Prob(JB):                     5.36e-64\n",
      "Kurtosis:                       5.319   Cond. No.                         29.7\n",
      "==============================================================================\n",
      "\n",
      "Notes:\n",
      "[1] Standard Errors assume that the covariance matrix of the errors is correctly specified.\n",
      "Intercept    34.553841\n",
      "lstat        -0.950049\n",
      "dtype: float64\n",
      "                   0          1\n",
      "Intercept  33.448457  35.659225\n",
      "lstat      -1.026148  -0.873951\n"
     ]
    }
   ],
   "source": [
    "# we can try a few \n",
    "lm = smf.ols ('medv~lstat', data = Boston).fit()\n",
    "print(lm.summary())\n",
    "print(lm.params)\n",
    "print(lm.conf_int())"
   ]
  },
  {
   "cell_type": "markdown",
   "metadata": {},
   "source": [
    "## Situations where the hypothesis $H0 : \\beta_1 = 0$ is rejected.\n",
    "\n",
    "![image](images_SL/beta1_h0_rejected.PNG \"Title\")"
   ]
  },
  {
   "cell_type": "markdown",
   "metadata": {},
   "source": [
    "## Estimation of Model Parameters\n",
    "\n",
    "$\\hat\\beta_0 = \\bar{y} - \\hat{\\beta_1} \\bar{x}=\\sum d_i y_i$\n",
    "\n",
    "$\\hat\\beta_1=\\frac{\\sum (x_i-\\bar{x})(y_i-\\bar{y})}{\\sum (x_i-\\bar{x})^2}=\\sum c_i y_i$\n",
    "\n",
    "The estimators $\\hat\\beta_1$ and $\\hat\\beta_0$ are linear functions of $Y_1, \\cdots, Y_n$ and thus using basic rules of mathematical\n",
    "statistics, their sampling distributions are:\n",
    "\n",
    "$\\hat\\beta_0 \\sim \\mathrel{N}\\left(\\beta_0, \\sigma^2(\\frac{1}{n} + \\frac{\\bar{x}^2}{\\sum (x_i-\\bar{x})^2})\\right)$\n",
    "\n",
    "$\\hat\\beta_1 \\sim \\mathrel{N}\\left(\\beta_1,  \\frac{\\sigma^2}{\\sum (x_i-\\bar{x})^2}\\right)$\n"
   ]
  },
  {
   "cell_type": "code",
   "execution_count": 76,
   "metadata": {},
   "outputs": [
    {
     "data": {
      "text/plain": [
       "0    29.803594\n",
       "1    25.053347\n",
       "2    20.303101\n",
       "dtype: float64"
      ]
     },
     "execution_count": 76,
     "metadata": {},
     "output_type": "execute_result"
    }
   ],
   "source": [
    "# provide prediction for 3 observations\n",
    "lm = smf.ols ('medv~lstat', data = Boston).fit()\n",
    "lm.predict(pd.DataFrame({'lstat':[5, 10, 15]}))"
   ]
  },
  {
   "cell_type": "code",
   "execution_count": 77,
   "metadata": {},
   "outputs": [
    {
     "data": {
      "image/png": "[encoded data removed]",
      "text/plain": [
       "<Figure size 640x480 with 1 Axes>"
      ]
     },
     "metadata": {},
     "output_type": "display_data"
    }
   ],
   "source": [
    "# plot the fitted line, we only take two extreme points to make the plot\n",
    "X_new = pd.DataFrame({'lstat': [Boston.lstat.min(), Boston.lstat.max()]})\n",
    "preds = lm.predict(X_new)\n",
    "Boston.plot(kind='scatter', x='lstat', y='medv')\n",
    "plt.plot(X_new, preds, c='red', linewidth=2)\n",
    "plt.show()"
   ]
  },
  {
   "cell_type": "code",
   "execution_count": 78,
   "metadata": {},
   "outputs": [
    {
     "data": {
      "image/png": "[encoded data removed]",
      "text/plain": [
       "<Figure size 640x480 with 4 Axes>"
      ]
     },
     "metadata": {},
     "output_type": "display_data"
    }
   ],
   "source": [
    "fig, ((ax1, ax2), (ax3, ax4))= plt.subplots(2, 2)\n",
    "ax1.plot(Boston.lstat, lm.predict(),'ro')\n",
    "ax2.plot(lm.predict(), lm.resid, 'go')\n",
    "ax3.plot(lm.predict(), lm.resid_pearson, 'bo')\n",
    "plt.show()"
   ]
  },
  {
   "cell_type": "markdown",
   "metadata": {},
   "source": [
    "## OLSResults.get_influence()\n",
    "\n",
    "Calculate influence and outlier measures.\n",
    "\n",
    "The instance containing methods to calculate the main influence and outlier measures for the OLS regression."
   ]
  },
  {
   "cell_type": "code",
   "execution_count": 84,
   "metadata": {},
   "outputs": [
    {
     "name": "stdout",
     "output_type": "stream",
     "text": [
      "<statsmodels.stats.outliers_influence.OLSInfluence object at 0x00000245FAB13070>\n"
     ]
    },
    {
     "data": {
      "text/plain": [
       "374"
      ]
     },
     "execution_count": 84,
     "metadata": {},
     "output_type": "execute_result"
    }
   ],
   "source": [
    "# the statistics of the linear regression mostly stored in lm.get_influence(), for example, the cookdistances, leverage.\n",
    "print(lm.get_influence())\n",
    "dir(lm.get_influence())\n",
    "# for example, the following identifies the observation with the largest leverage \n",
    "np.argmax(lm.get_influence().hat_matrix_diag)"
   ]
  },
  {
   "cell_type": "code",
   "execution_count": 86,
   "metadata": {},
   "outputs": [
    {
     "data": {
      "image/png": "[encoded data removed]",
      "text/plain": [
       "<Figure size 640x480 with 1 Axes>"
      ]
     },
     "execution_count": 86,
     "metadata": {},
     "output_type": "execute_result"
    },
    {
     "data": {
      "image/png": "[encoded data removed]",
      "text/plain": [
       "<Figure size 640x480 with 1 Axes>"
      ]
     },
     "metadata": {},
     "output_type": "display_data"
    }
   ],
   "source": [
    "# from statsmodels.graphics.regressionplots import * just as a reference\n",
    "plot_leverage_r esid2(lm)"
   ]
  },
  {
   "cell_type": "code",
   "execution_count": 90,
   "metadata": {},
   "outputs": [
    {
     "data": {
      "image/png": "[encoded data removed]",
      "text/plain": [
       "<Figure size 640x480 with 1 Axes>"
      ]
     },
     "metadata": {},
     "output_type": "display_data"
    }
   ],
   "source": [
    "fig = sm.graphics.influence_plot(lm, criterion=\"cooks\")\n",
    "fig.tight_layout(pad=1.0)"
   ]
  },
  {
   "cell_type": "code",
   "execution_count": 7,
   "metadata": {},
   "outputs": [
    {
     "name": "stdout",
     "output_type": "stream",
     "text": [
      "(506, 1)\n",
      "34.55384087938311\n",
      "[-0.95004935]\n"
     ]
    }
   ],
   "source": [
    "# as mentioned above. For machine learning models, sklearn is the most common used module, \n",
    "# but sklearn is a little bit less on statistics.\n",
    "x = pd.DataFrame(Boston.lstat)\n",
    "y = Boston.medv\n",
    "print(x.shape)\n",
    "\n",
    "model = linear_model.LinearRegression()\n",
    "model.fit(x, y)\n",
    "print(model.intercept_)\n",
    "print(model.coef_)"
   ]
  },
  {
   "cell_type": "markdown",
   "metadata": {},
   "source": [
    "## 3.6.3 Multiple Linear Regression\n",
    "\n",
    "\n"
   ]
  },
  {
   "cell_type": "code",
   "execution_count": 92,
   "metadata": {},
   "outputs": [],
   "source": [
    "# we can still use smg.ols to run multiple linear regression.\n",
    "lm = smf.ols ('medv~lstat+age', data = Boston).fit()"
   ]
  },
  {
   "cell_type": "code",
   "execution_count": 93,
   "metadata": {},
   "outputs": [
    {
     "name": "stdout",
     "output_type": "stream",
     "text": [
      "                            OLS Regression Results                            \n",
      "==============================================================================\n",
      "Dep. Variable:                   medv   R-squared:                       0.551\n",
      "Model:                            OLS   Adj. R-squared:                  0.549\n",
      "Method:                 Least Squares   F-statistic:                     309.0\n",
      "Date:                Mon, 13 Nov 2023   Prob (F-statistic):           2.98e-88\n",
      "Time:                        15:35:08   Log-Likelihood:                -1637.5\n",
      "No. Observations:                 506   AIC:                             3281.\n",
      "Df Residuals:                     503   BIC:                             3294.\n",
      "Df Model:                           2                                         \n",
      "Covariance Type:            nonrobust                                         \n",
      "==============================================================================\n",
      "                 coef    std err          t      P>|t|      [0.025      0.975]\n",
      "------------------------------------------------------------------------------\n",
      "Intercept     33.2228      0.731     45.458      0.000      31.787      34.659\n",
      "lstat         -1.0321      0.048    -21.416      0.000      -1.127      -0.937\n",
      "age            0.0345      0.012      2.826      0.005       0.011       0.059\n",
      "==============================================================================\n",
      "Omnibus:                      124.288   Durbin-Watson:                   0.945\n",
      "Prob(Omnibus):                  0.000   Jarque-Bera (JB):              244.026\n",
      "Skew:                           1.362   Prob(JB):                     1.02e-53\n",
      "Kurtosis:                       5.038   Cond. No.                         201.\n",
      "==============================================================================\n",
      "\n",
      "Notes:\n",
      "[1] Standard Errors assume that the covariance matrix of the errors is correctly specified.\n"
     ]
    }
   ],
   "source": [
    "print(lm.summary())"
   ]
  },
  {
   "cell_type": "code",
   "execution_count": 94,
   "metadata": {},
   "outputs": [
    {
     "name": "stdout",
     "output_type": "stream",
     "text": [
      "                            OLS Regression Results                            \n",
      "==============================================================================\n",
      "Dep. Variable:                   medv   R-squared:                       0.741\n",
      "Model:                            OLS   Adj. R-squared:                  0.734\n",
      "Method:                 Least Squares   F-statistic:                     108.1\n",
      "Date:                Mon, 13 Nov 2023   Prob (F-statistic):          6.72e-135\n",
      "Time:                        15:35:11   Log-Likelihood:                -1498.8\n",
      "No. Observations:                 506   AIC:                             3026.\n",
      "Df Residuals:                     492   BIC:                             3085.\n",
      "Df Model:                          13                                         \n",
      "Covariance Type:            nonrobust                                         \n",
      "==============================================================================\n",
      "                 coef    std err          t      P>|t|      [0.025      0.975]\n",
      "------------------------------------------------------------------------------\n",
      "Intercept     36.4595      5.103      7.144      0.000      26.432      46.487\n",
      "age            0.0007      0.013      0.052      0.958      -0.025       0.027\n",
      "black          0.0093      0.003      3.467      0.001       0.004       0.015\n",
      "chas           2.6867      0.862      3.118      0.002       0.994       4.380\n",
      "crim          -0.1080      0.033     -3.287      0.001      -0.173      -0.043\n",
      "dis           -1.4756      0.199     -7.398      0.000      -1.867      -1.084\n",
      "indus          0.0206      0.061      0.334      0.738      -0.100       0.141\n",
      "lstat         -0.5248      0.051    -10.347      0.000      -0.624      -0.425\n",
      "nox          -17.7666      3.820     -4.651      0.000     -25.272     -10.262\n",
      "ptratio       -0.9527      0.131     -7.283      0.000      -1.210      -0.696\n",
      "rad            0.3060      0.066      4.613      0.000       0.176       0.436\n",
      "rm             3.8099      0.418      9.116      0.000       2.989       4.631\n",
      "tax           -0.0123      0.004     -3.280      0.001      -0.020      -0.005\n",
      "zn             0.0464      0.014      3.382      0.001       0.019       0.073\n",
      "==============================================================================\n",
      "Omnibus:                      178.041   Durbin-Watson:                   1.078\n",
      "Prob(Omnibus):                  0.000   Jarque-Bera (JB):              783.126\n",
      "Skew:                           1.521   Prob(JB):                    8.84e-171\n",
      "Kurtosis:                       8.281   Cond. No.                     1.51e+04\n",
      "==============================================================================\n",
      "\n",
      "Notes:\n",
      "[1] Standard Errors assume that the covariance matrix of the errors is correctly specified.\n",
      "[2] The condition number is large, 1.51e+04. This might indicate that there are\n",
      "strong multicollinearity or other numerical problems.\n"
     ]
    }
   ],
   "source": [
    "# if we want to use all the variable. We can use the following trick to manually construct the list. In Python, most of time, you have to manully construct the variable list.\n",
    "all_columns = \"+\".join(Boston.columns.difference([\"medv\"]))\n",
    "my_formula = \"medv~\" + all_columns\n",
    "lm = smf.ols(my_formula, data=Boston).fit()\n",
    "print(lm.summary())"
   ]
  },
  {
   "cell_type": "code",
   "execution_count": null,
   "metadata": {
    "collapsed": true
   },
   "outputs": [],
   "source": [
    "# unlike R, Python is not fully up speeded to all the statistics. If you want to have the VIF of the variables in LM, you have to code a little bit.\n",
    "# from patsy import dmatrices\n",
    "# from statsmodels.stats.outliers_influence import variance_inflation_factor"
   ]
  },
  {
   "cell_type": "code",
   "execution_count": 95,
   "metadata": {},
   "outputs": [
    {
     "name": "stdout",
     "output_type": "stream",
     "text": [
      "{'Intercept': 585.2652379423121, 'age': 3.1008255128153372, 'black': 1.3485210764063758, 'chas': 1.0739953275537883, 'crim': 1.7921915474332413, 'dis': 3.955944906372728, 'indus': 3.9915964183460315, 'lstat': 2.9414910780919366, 'nox': 4.393719847577493, 'ptratio': 1.7990840492488984, 'rad': 7.484496335274478, 'rm': 1.933744435783257, 'tax': 9.00855394759707, 'zn': 2.298758178749441}\n"
     ]
    }
   ],
   "source": [
    "y, X = dmatrices(my_formula, data=Boston, return_type='dataframe')\n",
    "vif_coeff = {}\n",
    "for i in range(X.shape[1]):\n",
    "    vif_coeff[X.columns[i]] = variance_inflation_factor(np.array(X.dropna()),i)\n",
    "    \n",
    "print(vif_coeff)"
   ]
  },
  {
   "cell_type": "markdown",
   "metadata": {},
   "source": [
    "## 3.6.4 Interaction Terms"
   ]
  },
  {
   "cell_type": "code",
   "execution_count": null,
   "metadata": {},
   "outputs": [],
   "source": [
    "# we use * to add interaction terms\n",
    "lm = smf.ols('medv~lstat * age', data=Boston).fit()\n",
    "print(lm.summary())"
   ]
  },
  {
   "cell_type": "markdown",
   "metadata": {},
   "source": [
    "## 3.6.5 Non-linear Transformations of the Predictors "
   ]
  },
  {
   "cell_type": "code",
   "execution_count": null,
   "metadata": {},
   "outputs": [],
   "source": [
    "lm_order1 = smf.ols('medv~ lstat', data=Boston).fit()\n",
    "lm_order2 = smf.ols('medv~ lstat+ I(lstat ** 2.0)', data=Boston).fit()\n",
    "print(lm_order2.summary())"
   ]
  },
  {
   "cell_type": "code",
   "execution_count": null,
   "metadata": {},
   "outputs": [],
   "source": [
    "fig, ((ax1, ax2), (ax3, ax4))= plt.subplots(2, 2)\n",
    "ax1.plot(Boston.lstat, lm_order1.predict(),'ro')\n",
    "ax3.plot(lm_order1.predict(), lm_order1.resid, 'go')\n",
    "ax4.plot(lm_order1.predict(), lm_order1.resid_pearson, 'bo')\n",
    "plt.show()"
   ]
  },
  {
   "cell_type": "markdown",
   "metadata": {},
   "source": [
    "### if we added in the second order, we can see the residues are more random"
   ]
  },
  {
   "cell_type": "code",
   "execution_count": null,
   "metadata": {},
   "outputs": [],
   "source": [
    "fig, ((ax1, ax2), (ax3, ax4))= plt.subplots(2, 2)\n",
    "ax1.plot(Boston.lstat,  lm_order2.predict(),'ro')\n",
    "ax2.plot(Boston.lstat ** 2.0,  lm_order2.predict(),'ro')\n",
    "ax3.plot(lm_order2.predict(), lm_order2.resid, 'go')\n",
    "ax4.plot(lm_order2.predict(), lm_order2.resid_pearson, 'bo')\n",
    "plt.show()"
   ]
  },
  {
   "cell_type": "code",
   "execution_count": null,
   "metadata": {},
   "outputs": [],
   "source": [
    "# there is anova function built in already in statsmodels.  \n",
    "# if you know what to do, use the key words to google it and likely you will find a very good answer. \n",
    "# here we compare the models with one order of stat and two orders of stats. \n",
    "# by looking at the p value that will reject the null hypothesis that the coefficent of lstat**2 equals 0.\n",
    "table = sm.stats.anova_lm(lm_order1, lm_order2)\n",
    "print(table)"
   ]
  },
  {
   "cell_type": "code",
   "execution_count": null,
   "metadata": {},
   "outputs": [],
   "source": [
    "lm_log = smf.ols('medv~ np.log(rm)', data=Boston).fit()\n",
    "lm_log.summary()"
   ]
  },
  {
   "cell_type": "markdown",
   "metadata": {},
   "source": [
    "## 3.6.6 Qualitative Predictors \n",
    "\n",
    "I prepared the Carseats file from .Rdata. And it is saved under the data folder.  Let us load them in and explore this dataset."
   ]
  },
  {
   "cell_type": "code",
   "execution_count": null,
   "metadata": {
    "collapsed": true
   },
   "outputs": [],
   "source": [
    "Carseats = pd.read_csv('data/Carseats.csv', header=0)"
   ]
  },
  {
   "cell_type": "code",
   "execution_count": null,
   "metadata": {},
   "outputs": [],
   "source": [
    "list(Carseats)"
   ]
  },
  {
   "cell_type": "code",
   "execution_count": null,
   "metadata": {},
   "outputs": [],
   "source": [
    "Carseats.dtypes"
   ]
  },
  {
   "cell_type": "code",
   "execution_count": null,
   "metadata": {},
   "outputs": [],
   "source": [
    "Carseats.head()"
   ]
  },
  {
   "cell_type": "code",
   "execution_count": null,
   "metadata": {},
   "outputs": [],
   "source": [
    "lm_carseats = smf.ols('Sales ~ Income + Advertising + Price + Age', data = Carseats).fit()"
   ]
  },
  {
   "cell_type": "code",
   "execution_count": null,
   "metadata": {},
   "outputs": [],
   "source": [
    "lm_carseats.summary()"
   ]
  },
  {
   "cell_type": "code",
   "execution_count": null,
   "metadata": {
    "collapsed": true
   },
   "outputs": [],
   "source": [
    "# let us create dummy variables using get_dummies, then exclude the first dummy column\n",
    "ShelveLoc_dummies = pd.get_dummies(Carseats.ShelveLoc, prefix='ShelveLoc').iloc[:,1:]"
   ]
  },
  {
   "cell_type": "code",
   "execution_count": null,
   "metadata": {},
   "outputs": [],
   "source": [
    "Carseats_dummy = pd.concat([Carseats, ShelveLoc_dummies], axis=1)\n",
    "Carseats_dummy.head()"
   ]
  },
  {
   "cell_type": "code",
   "execution_count": null,
   "metadata": {},
   "outputs": [],
   "source": [
    "# then the model buliding will be the same with all numerrical variables.\n",
    "lm_carseats_dummy = smf.ols('Sales ~ Income + Advertising + Price + Age + ShelveLoc_Good + ShelveLoc_Medium', \n",
    "                            data = Carseats_dummy).fit()"
   ]
  },
  {
   "cell_type": "code",
   "execution_count": null,
   "metadata": {},
   "outputs": [],
   "source": [
    "# the interpretation of the coefficients are holding everything fixed, Medium shelve location is associated with an average\n",
    "# increase of sale around 2.0046. \n",
    "lm_carseats_dummy.summary() "
   ]
  },
  {
   "cell_type": "code",
   "execution_count": null,
   "metadata": {
    "collapsed": true
   },
   "outputs": [],
   "source": [
    "# Compapre the summary of two models, one with explicit encoding of dummy varible, while the other used the built-in function.\n",
    "lm_carseats_wo_dummy = smf.ols('Sales ~ Income + Advertising + Price + Age + C(ShelveLoc)', \n",
    "                            data = Carseats).fit()\n",
    "lm_carseats_wo_dummy.summary()"
   ]
  },
  {
   "cell_type": "markdown",
   "metadata": {},
   "source": [
    "## 3.6.7 Writing Functions"
   ]
  },
  {
   "cell_type": "code",
   "execution_count": null,
   "metadata": {},
   "outputs": [],
   "source": [
    "# let us write a simple function to print current time. \n",
    "# yhe key word in Python for user defined function is 'def'. \n",
    "# pay attention to the ':'. The difference betwwen R (others) and Python is that Python \n",
    "# forces you to obey its indentation rules. For example, the following function won't work because of the extra space in front of 'print'.\n",
    "def print_current_time_wrong():\n",
    "    from datetime import datetime # this is very bad practice !!! \n",
    "    print(str(datetime.now()))  "
   ]
  },
  {
   "cell_type": "code",
   "execution_count": null,
   "metadata": {
    "collapsed": true
   },
   "outputs": [],
   "source": [
    "def print_current_time():\n",
    "    from datetime import datetime\n",
    "    print (str(datetime.now())) "
   ]
  },
  {
   "cell_type": "code",
   "execution_count": null,
   "metadata": {},
   "outputs": [],
   "source": [
    "print_current_time()"
   ]
  },
  {
   "cell_type": "code",
   "execution_count": 122,
   "metadata": {},
   "outputs": [
    {
     "data": {
      "text/plain": [
       "506"
      ]
     },
     "execution_count": 122,
     "metadata": {},
     "output_type": "execute_result"
    }
   ],
   "source": [
    "n\n"
   ]
  },
  {
   "cell_type": "code",
   "execution_count": null,
   "metadata": {},
   "outputs": [],
   "source": []
  }
 ],
 "metadata": {
  "anaconda-cloud": {},
  "interpreter": {
   "hash": "4548a0e672c5b3a287feee7b2962606840aa548749d1830ef724408652b0c250"
  },
  "kernelspec": {
   "display_name": "Python 3 (ipykernel)",
   "language": "python",
   "name": "python3"
  },
  "language_info": {
   "codemirror_mode": {
    "name": "ipython",
    "version": 3
   },
   "file_extension": ".py",
   "mimetype": "text/x-python",
   "name": "python",
   "nbconvert_exporter": "python",
   "pygments_lexer": "ipython3",
   "version": "3.11.5"
  }
 },
 "nbformat": 4,
 "nbformat_minor": 1
}
